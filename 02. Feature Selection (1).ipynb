{
 "cells": [
  {
   "cell_type": "markdown",
   "id": "b3196285",
   "metadata": {},
   "source": [
    "### 필수과제 \n",
    "- sklean에서 제공하는 california housing 데이터 존재 코드 공유 예정\n",
    "- 집값 다른 여러 피처들이 존재\n",
    "- 전체 피처를 학습하고 MSE 계산한 것과, 여러분들이 직접 filter 방식으로 상관계수를 통해 피처를 선택해서 학습한 후 mse 비교\n",
    "- 어떤 피처를 선택했는지, 그리고 추가로 집값에 대한 데이터라 도메인을 좀 더 추가해서 어떤 식으로 선택하면 더 좋을지 추가!"
   ]
  },
  {
   "cell_type": "markdown",
   "id": "a530ff08",
   "metadata": {},
   "source": [
    "#### 1. 데이터 확인"
   ]
  },
  {
   "cell_type": "code",
   "execution_count": 15,
   "id": "00f483c5",
   "metadata": {},
   "outputs": [],
   "source": [
    "# 필요한 라이브러리 불러오기\n",
    "import numpy as np\n",
    "import pandas as pd\n",
    "from sklearn.datasets import fetch_california_housing\n",
    "from sklearn.model_selection import train_test_split\n",
    "from sklearn.linear_model import LinearRegression\n",
    "from sklearn.metrics import mean_squared_error\n",
    "import matplotlib.pyplot as plt\n",
    "import seaborn as sns\n",
    "\n",
    "# 캘리포니아 주택 데이터셋 불러오기\n",
    "california = fetch_california_housing()\n",
    "x = pd.DataFrame(california.data, columns=california.feature_names)\n",
    "y = california.target"
   ]
  },
  {
   "cell_type": "code",
   "execution_count": 99,
   "id": "2570403a",
   "metadata": {},
   "outputs": [
    {
     "name": "stdout",
     "output_type": "stream",
     "text": [
      ".. _california_housing_dataset:\n",
      "\n",
      "California Housing dataset\n",
      "--------------------------\n",
      "\n",
      "**Data Set Characteristics:**\n",
      "\n",
      ":Number of Instances: 20640\n",
      "\n",
      ":Number of Attributes: 8 numeric, predictive attributes and the target\n",
      "\n",
      ":Attribute Information:\n",
      "    - MedInc        median income in block group\n",
      "    - HouseAge      median house age in block group\n",
      "    - AveRooms      average number of rooms per household\n",
      "    - AveBedrms     average number of bedrooms per household\n",
      "    - Population    block group population\n",
      "    - AveOccup      average number of household members\n",
      "    - Latitude      block group latitude\n",
      "    - Longitude     block group longitude\n",
      "\n",
      ":Missing Attribute Values: None\n",
      "\n",
      "This dataset was obtained from the StatLib repository.\n",
      "https://www.dcc.fc.up.pt/~ltorgo/Regression/cal_housing.html\n",
      "\n",
      "The target variable is the median house value for California districts,\n",
      "expressed in hundreds of thousands of dollars ($100,000).\n",
      "\n",
      "This dataset was derived from the 1990 U.S. census, using one row per census\n",
      "block group. A block group is the smallest geographical unit for which the U.S.\n",
      "Census Bureau publishes sample data (a block group typically has a population\n",
      "of 600 to 3,000 people).\n",
      "\n",
      "A household is a group of people residing within a home. Since the average\n",
      "number of rooms and bedrooms in this dataset are provided per household, these\n",
      "columns may take surprisingly large values for block groups with few households\n",
      "and many empty houses, such as vacation resorts.\n",
      "\n",
      "It can be downloaded/loaded using the\n",
      ":func:`sklearn.datasets.fetch_california_housing` function.\n",
      "\n",
      ".. topic:: References\n",
      "\n",
      "    - Pace, R. Kelley and Ronald Barry, Sparse Spatial Autoregressions,\n",
      "      Statistics and Probability Letters, 33 (1997) 291-297\n",
      "\n"
     ]
    },
    {
     "data": {
      "text/html": [
       "<div>\n",
       "<style scoped>\n",
       "    .dataframe tbody tr th:only-of-type {\n",
       "        vertical-align: middle;\n",
       "    }\n",
       "\n",
       "    .dataframe tbody tr th {\n",
       "        vertical-align: top;\n",
       "    }\n",
       "\n",
       "    .dataframe thead th {\n",
       "        text-align: right;\n",
       "    }\n",
       "</style>\n",
       "<table border=\"1\" class=\"dataframe\">\n",
       "  <thead>\n",
       "    <tr style=\"text-align: right;\">\n",
       "      <th></th>\n",
       "      <th>MedInc</th>\n",
       "      <th>HouseAge</th>\n",
       "      <th>AveRooms</th>\n",
       "      <th>AveBedrms</th>\n",
       "      <th>Population</th>\n",
       "      <th>AveOccup</th>\n",
       "      <th>Latitude</th>\n",
       "      <th>Longitude</th>\n",
       "    </tr>\n",
       "  </thead>\n",
       "  <tbody>\n",
       "    <tr>\n",
       "      <th>0</th>\n",
       "      <td>8.3252</td>\n",
       "      <td>41.0</td>\n",
       "      <td>6.984127</td>\n",
       "      <td>1.023810</td>\n",
       "      <td>322.0</td>\n",
       "      <td>2.555556</td>\n",
       "      <td>37.88</td>\n",
       "      <td>-122.23</td>\n",
       "    </tr>\n",
       "    <tr>\n",
       "      <th>1</th>\n",
       "      <td>8.3014</td>\n",
       "      <td>21.0</td>\n",
       "      <td>6.238137</td>\n",
       "      <td>0.971880</td>\n",
       "      <td>2401.0</td>\n",
       "      <td>2.109842</td>\n",
       "      <td>37.86</td>\n",
       "      <td>-122.22</td>\n",
       "    </tr>\n",
       "    <tr>\n",
       "      <th>2</th>\n",
       "      <td>7.2574</td>\n",
       "      <td>52.0</td>\n",
       "      <td>8.288136</td>\n",
       "      <td>1.073446</td>\n",
       "      <td>496.0</td>\n",
       "      <td>2.802260</td>\n",
       "      <td>37.85</td>\n",
       "      <td>-122.24</td>\n",
       "    </tr>\n",
       "    <tr>\n",
       "      <th>3</th>\n",
       "      <td>5.6431</td>\n",
       "      <td>52.0</td>\n",
       "      <td>5.817352</td>\n",
       "      <td>1.073059</td>\n",
       "      <td>558.0</td>\n",
       "      <td>2.547945</td>\n",
       "      <td>37.85</td>\n",
       "      <td>-122.25</td>\n",
       "    </tr>\n",
       "    <tr>\n",
       "      <th>4</th>\n",
       "      <td>3.8462</td>\n",
       "      <td>52.0</td>\n",
       "      <td>6.281853</td>\n",
       "      <td>1.081081</td>\n",
       "      <td>565.0</td>\n",
       "      <td>2.181467</td>\n",
       "      <td>37.85</td>\n",
       "      <td>-122.25</td>\n",
       "    </tr>\n",
       "    <tr>\n",
       "      <th>...</th>\n",
       "      <td>...</td>\n",
       "      <td>...</td>\n",
       "      <td>...</td>\n",
       "      <td>...</td>\n",
       "      <td>...</td>\n",
       "      <td>...</td>\n",
       "      <td>...</td>\n",
       "      <td>...</td>\n",
       "    </tr>\n",
       "    <tr>\n",
       "      <th>20635</th>\n",
       "      <td>1.5603</td>\n",
       "      <td>25.0</td>\n",
       "      <td>5.045455</td>\n",
       "      <td>1.133333</td>\n",
       "      <td>845.0</td>\n",
       "      <td>2.560606</td>\n",
       "      <td>39.48</td>\n",
       "      <td>-121.09</td>\n",
       "    </tr>\n",
       "    <tr>\n",
       "      <th>20636</th>\n",
       "      <td>2.5568</td>\n",
       "      <td>18.0</td>\n",
       "      <td>6.114035</td>\n",
       "      <td>1.315789</td>\n",
       "      <td>356.0</td>\n",
       "      <td>3.122807</td>\n",
       "      <td>39.49</td>\n",
       "      <td>-121.21</td>\n",
       "    </tr>\n",
       "    <tr>\n",
       "      <th>20637</th>\n",
       "      <td>1.7000</td>\n",
       "      <td>17.0</td>\n",
       "      <td>5.205543</td>\n",
       "      <td>1.120092</td>\n",
       "      <td>1007.0</td>\n",
       "      <td>2.325635</td>\n",
       "      <td>39.43</td>\n",
       "      <td>-121.22</td>\n",
       "    </tr>\n",
       "    <tr>\n",
       "      <th>20638</th>\n",
       "      <td>1.8672</td>\n",
       "      <td>18.0</td>\n",
       "      <td>5.329513</td>\n",
       "      <td>1.171920</td>\n",
       "      <td>741.0</td>\n",
       "      <td>2.123209</td>\n",
       "      <td>39.43</td>\n",
       "      <td>-121.32</td>\n",
       "    </tr>\n",
       "    <tr>\n",
       "      <th>20639</th>\n",
       "      <td>2.3886</td>\n",
       "      <td>16.0</td>\n",
       "      <td>5.254717</td>\n",
       "      <td>1.162264</td>\n",
       "      <td>1387.0</td>\n",
       "      <td>2.616981</td>\n",
       "      <td>39.37</td>\n",
       "      <td>-121.24</td>\n",
       "    </tr>\n",
       "  </tbody>\n",
       "</table>\n",
       "<p>20640 rows × 8 columns</p>\n",
       "</div>"
      ],
      "text/plain": [
       "       MedInc  HouseAge  AveRooms  AveBedrms  Population  AveOccup  Latitude  \\\n",
       "0      8.3252      41.0  6.984127   1.023810       322.0  2.555556     37.88   \n",
       "1      8.3014      21.0  6.238137   0.971880      2401.0  2.109842     37.86   \n",
       "2      7.2574      52.0  8.288136   1.073446       496.0  2.802260     37.85   \n",
       "3      5.6431      52.0  5.817352   1.073059       558.0  2.547945     37.85   \n",
       "4      3.8462      52.0  6.281853   1.081081       565.0  2.181467     37.85   \n",
       "...       ...       ...       ...        ...         ...       ...       ...   \n",
       "20635  1.5603      25.0  5.045455   1.133333       845.0  2.560606     39.48   \n",
       "20636  2.5568      18.0  6.114035   1.315789       356.0  3.122807     39.49   \n",
       "20637  1.7000      17.0  5.205543   1.120092      1007.0  2.325635     39.43   \n",
       "20638  1.8672      18.0  5.329513   1.171920       741.0  2.123209     39.43   \n",
       "20639  2.3886      16.0  5.254717   1.162264      1387.0  2.616981     39.37   \n",
       "\n",
       "       Longitude  \n",
       "0        -122.23  \n",
       "1        -122.22  \n",
       "2        -122.24  \n",
       "3        -122.25  \n",
       "4        -122.25  \n",
       "...          ...  \n",
       "20635    -121.09  \n",
       "20636    -121.21  \n",
       "20637    -121.22  \n",
       "20638    -121.32  \n",
       "20639    -121.24  \n",
       "\n",
       "[20640 rows x 8 columns]"
      ]
     },
     "execution_count": 99,
     "metadata": {},
     "output_type": "execute_result"
    }
   ],
   "source": [
    "# 데이터 정보\n",
    "print(california.DESCR)\n",
    "x"
   ]
  },
  {
   "cell_type": "code",
   "execution_count": 63,
   "id": "01af4e5b",
   "metadata": {},
   "outputs": [
    {
     "name": "stdout",
     "output_type": "stream",
     "text": [
      "              MedInc  HouseAge  AveRooms  AveBedrms  Population  AveOccup  \\\n",
      "MedInc      1.000000 -0.119034  0.326895  -0.062040    0.004834  0.018766   \n",
      "HouseAge   -0.119034  1.000000 -0.153277  -0.077747   -0.296244  0.013191   \n",
      "AveRooms    0.326895 -0.153277  1.000000   0.847621   -0.072213 -0.004852   \n",
      "AveBedrms  -0.062040 -0.077747  0.847621   1.000000   -0.066197 -0.006181   \n",
      "Population  0.004834 -0.296244 -0.072213  -0.066197    1.000000  0.069863   \n",
      "AveOccup    0.018766  0.013191 -0.004852  -0.006181    0.069863  1.000000   \n",
      "Latitude   -0.079809  0.011173  0.106389   0.069721   -0.108785  0.002366   \n",
      "Longitude  -0.015176 -0.108197 -0.027540   0.013344    0.099773  0.002476   \n",
      "\n",
      "            Latitude  Longitude  \n",
      "MedInc     -0.079809  -0.015176  \n",
      "HouseAge    0.011173  -0.108197  \n",
      "AveRooms    0.106389  -0.027540  \n",
      "AveBedrms   0.069721   0.013344  \n",
      "Population -0.108785   0.099773  \n",
      "AveOccup    0.002366   0.002476  \n",
      "Latitude    1.000000  -0.924664  \n",
      "Longitude  -0.924664   1.000000  \n"
     ]
    },
    {
     "data": {
      "image/png": "[encoded data removed]",
      "text/plain": [
       "<Figure size 1000x600 with 2 Axes>"
      ]
     },
     "metadata": {},
     "output_type": "display_data"
    }
   ],
   "source": [
    "# 피쳐 상관관계\n",
    "corr_matrix = x.corr()\n",
    "print(corr_matrix)\n",
    "\n",
    "plt.figure(figsize=(10,6))\n",
    "sns.heatmap(corr_matrix, annot=True,cmap='Blues')\n",
    "plt.title('Correlation Matrix')\n",
    "plt.show()"
   ]
  },
  {
   "cell_type": "code",
   "execution_count": 38,
   "id": "18e93466",
   "metadata": {},
   "outputs": [
    {
     "name": "stdout",
     "output_type": "stream",
     "text": [
      "{'AveBedrms', 'Longitude'}\n"
     ]
    }
   ],
   "source": [
    "threshold = 0.8\n",
    "to_drop = set()\n",
    "\n",
    "# 상관계수 높은 피쳐 선택\n",
    "for i in range(len(corr_matrix.columns)):\n",
    "    for j in range(i):\n",
    "        if abs(corr_matrix.iloc[i,j]) > threshold:\n",
    "            to_drop.add(corr_matrix.columns[i])\n",
    "print(to_drop)"
   ]
  },
  {
   "cell_type": "markdown",
   "id": "6dce03bf",
   "metadata": {},
   "source": [
    "### 2. 피쳐 학습 및 MSE 비교"
   ]
  },
  {
   "cell_type": "code",
   "execution_count": 102,
   "id": "b06762bf",
   "metadata": {},
   "outputs": [],
   "source": [
    "# 선형회귀 (전체 피쳐)\n",
    "\n",
    "x_train_full, x_test_full, y_train_full, y_test_full = train_test_split(x, y, test_size = 0.2, random_state = 111)\n",
    "\n",
    "model_full = LinearRegression()\n",
    "model_full.fit(x_train_full, y_train_full)\n",
    "\n",
    "y_pred_full = model_full.predict(x_test_full)\n",
    "mse_full = mean_squared_error(y_test_full, y_pred_full)"
   ]
  },
  {
   "cell_type": "code",
   "execution_count": 103,
   "id": "f0966352",
   "metadata": {},
   "outputs": [],
   "source": [
    "# 선형회귀 (선택된 피쳐)\n",
    "\n",
    "x_selected = x.drop(['AveBedrms', 'Longitude'], axis=1)\n",
    "x_train_selected, x_test_selected, y_train_selected, y_test_selected = train_test_split(x_selected, y, test_size = 0.2, random_state = 111)\n",
    "\n",
    "model_selected = LinearRegression()\n",
    "model_selected.fit(x_train_selected, y_train_selected)\n",
    "\n",
    "y_pred_selected = model_selected.predict(x_test_selected)\n",
    "mse_selected = mean_squared_error(y_test_selected, y_pred_selected)"
   ]
  },
  {
   "cell_type": "code",
   "execution_count": 104,
   "id": "1a742827",
   "metadata": {},
   "outputs": [
    {
     "name": "stdout",
     "output_type": "stream",
     "text": [
      "MSE_Full : 0.5405661575783067\n",
      "MSE_Selected : 0.6648951891632684\n"
     ]
    }
   ],
   "source": [
    "print('MSE_Full :', mse_full)\n",
    "print('MSE_Selected :', mse_selected)"
   ]
  },
  {
   "cell_type": "markdown",
   "id": "c92897d9",
   "metadata": {},
   "source": [
    "### 3. 피쳐 학습 재시도 (도메인 영역 고려)"
   ]
  },
  {
   "cell_type": "code",
   "execution_count": 150,
   "id": "d89db32f",
   "metadata": {},
   "outputs": [
    {
     "data": {
      "text/plain": [
       "1.1703257355220413"
      ]
     },
     "execution_count": 150,
     "metadata": {},
     "output_type": "execute_result"
    }
   ],
   "source": [
    "# 선형회귀 (선택된 피쳐)\n",
    "# 거주 인원 수, 방 개수, 침실 개수는 관련 있다 \n",
    "\n",
    "x_selected_t1 = x[['AveOccup', 'AveRooms', 'AveBedrms']]\n",
    "x_train_selected_t1, x_test_selected_t1, y_train_selected_t1, y_test_selected_t1 = train_test_split(x_selected_t1, y, test_size = 0.2, random_state = 111)\n",
    "\n",
    "model_selected_t1 = LinearRegression()\n",
    "model_selected_t1.fit(x_train_selected_t1, y_train_selected_t1)\n",
    "\n",
    "y_pred_selected_t1 = model_selected_t1.predict(x_test_selected_t1)\n",
    "mse_selected_t1 = mean_squared_error(y_test_selected_t1, y_pred_selected_t1)\n",
    "mse_selected_t1 \n"
   ]
  },
  {
   "cell_type": "code",
   "execution_count": 184,
   "id": "a84796a6",
   "metadata": {},
   "outputs": [
    {
     "data": {
      "text/plain": [
       "0.7265902481882893"
      ]
     },
     "execution_count": 184,
     "metadata": {},
     "output_type": "execute_result"
    }
   ],
   "source": [
    "# 선형회귀 (선택된 피쳐)\n",
    "# 중위 소득, 거주 인원 수, 인구 수는 관련 있다\n",
    "\n",
    "x_selected_t2 = x[['MedInc', 'AveOccup', 'Population']]\n",
    "x_train_selected_t2, x_test_selected_t2, y_train_selected_t2, y_test_selected_t2 = train_test_split(x_selected_t2, y, test_size = 0.2, random_state = 111)\n",
    "\n",
    "model_selected_t2 = LinearRegression()\n",
    "model_selected_t2.fit(x_train_selected_t2, y_train_selected_t2)\n",
    "\n",
    "y_pred_selected_t2 = model_selected_t2.predict(x_test_selected_t2)\n",
    "mse_selected_t2 = mean_squared_error(y_test_selected_t2, y_pred_selected_t2)\n",
    "mse_selected_t2"
   ]
  },
  {
   "cell_type": "code",
   "execution_count": 160,
   "id": "e17d2d14",
   "metadata": {},
   "outputs": [
    {
     "data": {
      "text/plain": [
       "0.5597193697866916"
      ]
     },
     "execution_count": 160,
     "metadata": {},
     "output_type": "execute_result"
    }
   ],
   "source": [
    "# 선형회귀 (선택된 피쳐)\n",
    "# 건축연도, 중위 소득, 위도, 경도는 관련 있다\n",
    "\n",
    "x_selected_t3 = x[['HouseAge','MedInc', 'Latitude', 'Longitude']]\n",
    "x_train_selected_t3, x_test_selected_t3, y_train_selected_t3, y_test_selected_t3 = train_test_split(x_selected_t3, y, test_size = 0.2, random_state = 111)\n",
    "\n",
    "model_selected_t3 = LinearRegression()\n",
    "model_selected_t3.fit(x_train_selected_t3, y_train_selected_t3)\n",
    "\n",
    "y_pred_selected_t3 = model_selected_t3.predict(x_test_selected_t3)\n",
    "mse_selected_t3 = mean_squared_error(y_test_selected_t3, y_pred_selected_t3)\n",
    "mse_selected_t3"
   ]
  },
  {
   "cell_type": "code",
   "execution_count": 186,
   "id": "71628e40",
   "metadata": {},
   "outputs": [
    {
     "name": "stdout",
     "output_type": "stream",
     "text": [
      "Full      : 0.5405661575783067\n",
      "Selected1 : 0.6648951891632684\n",
      "Selected2 : 1.1703257355220413\n",
      "Selected3 : 0.7265902481882893\n",
      "Selected4 : 0.5597193697866916\n"
     ]
    }
   ],
   "source": [
    "# MSE 비교 결과\n",
    "\n",
    "print('Full      :', mse_full)        # 전체 피쳐 선택\n",
    "print('Selected1 :', mse_selected)    # 피쳐 간 다중공선성 제거\n",
    "print('Selected2 :', mse_selected_t1) # 피쳐 중 거주 인원, 방, 침실 수 선택\n",
    "print('Selected3 :', mse_selected_t2) # 피쳐 중 거주 인원, 중위 소득, 거주 인원, 인구 수 선택\n",
    "print('Selected4 :', mse_selected_t3) # 피쳐 중 거주 인원, 중위 소득, 위도, 경도 선택"
   ]
  }
 ],
 "metadata": {
  "kernelspec": {
   "display_name": "Python 3 (ipykernel)",
   "language": "python",
   "name": "python3"
  },
  "language_info": {
   "codemirror_mode": {
    "name": "ipython",
    "version": 3
   },
   "file_extension": ".py",
   "mimetype": "text/x-python",
   "name": "python",
   "nbconvert_exporter": "python",
   "pygments_lexer": "ipython3",
   "version": "3.12.4"
  }
 },
 "nbformat": 4,
 "nbformat_minor": 5
}
