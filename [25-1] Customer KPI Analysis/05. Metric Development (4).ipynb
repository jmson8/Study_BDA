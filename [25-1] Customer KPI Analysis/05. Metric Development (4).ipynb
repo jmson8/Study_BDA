{
 "cells": [
  {
   "cell_type": "markdown",
   "id": "1354cd0e-4c10-430c-89ef-f2e074d53e49",
   "metadata": {},
   "source": [
    "### 필수과제1\n",
    "- medium, source에 대한 예산 집행한다고 할 때, 크게 medium, source 예산 가정해서 만듬 (예산 금액 임의 선정, 10억 미만 선)\n",
    "- 해당 예산 스프레드해서 비중, 가중치에 따라 예산 컬럼 만들고, 컬럼 기준으로 효율성 분석 (수치 계산)\n",
    "- 예산, pageviews, hits, visits 에 따른 효율성 측정하는 지표 제작\n",
    "- plotly 통해 해당 효율성 지표 시각화 보여주기\n",
    "    - line, sunburst 등 가장 효율적으로 잘 보여주는 시각화 사용\n",
    "    - 어떤 traffic 가장 효율적인지, 비효율적인지 확인\n",
    "    - 두 개를 계산해서 시각화"
   ]
  },
  {
   "cell_type": "code",
   "execution_count": 1,
   "id": "8f78fbea-aa29-44bb-a133-4b70ee82262d",
   "metadata": {},
   "outputs": [],
   "source": [
    "import pandas as pd\n",
    "import os\n",
    "\n",
    "os.chdir(r'..')"
   ]
  },
  {
   "cell_type": "code",
   "execution_count": 63,
   "id": "5cffcc3e-536f-4cdb-9c28-2b97c580663b",
   "metadata": {},
   "outputs": [],
   "source": [
    "import json\n",
    "\n",
    "df = pd.read_csv('ga.csv') "
   ]
  },
  {
   "cell_type": "code",
   "execution_count": 64,
   "id": "6a9f25d1-4f3f-426a-bca6-a32fafaccd35",
   "metadata": {},
   "outputs": [],
   "source": [
    "df['totals'] = df['totals'].apply(json.loads)\n",
    "df['pageviews'] = df['totals'].apply(lambda x:int(x.get('pageviews'),0))\n",
    "df['hits'] = df['totals'].apply(lambda x:int(x.get('hits'),0))\n",
    "df['visits'] = df['totals'].apply(lambda x:int(x.get('visits'),0))"
   ]
  },
  {
   "cell_type": "code",
   "execution_count": 65,
   "id": "bcb3ebdb",
   "metadata": {},
   "outputs": [],
   "source": [
    "df['trafficSource'] = df['trafficSource'].apply(json.loads)\n",
    "df['campaign'] = df['trafficSource'].apply(lambda x: x.get('campaign','(not set)'))\n",
    "df['source'] = df['trafficSource'].apply(lambda x: x.get('source','(not set)'))\n",
    "df['medium'] = df['trafficSource'].apply(lambda x: x.get('medium','(not set)'))"
   ]
  },
  {
   "cell_type": "code",
   "execution_count": 66,
   "id": "f656b33c",
   "metadata": {},
   "outputs": [
    {
     "data": {
      "text/html": [
       "<div>\n",
       "<style scoped>\n",
       "    .dataframe tbody tr th:only-of-type {\n",
       "        vertical-align: middle;\n",
       "    }\n",
       "\n",
       "    .dataframe tbody tr th {\n",
       "        vertical-align: top;\n",
       "    }\n",
       "\n",
       "    .dataframe thead th {\n",
       "        text-align: right;\n",
       "    }\n",
       "</style>\n",
       "<table border=\"1\" class=\"dataframe\">\n",
       "  <thead>\n",
       "    <tr style=\"text-align: right;\">\n",
       "      <th></th>\n",
       "      <th>channelGrouping</th>\n",
       "      <th>date</th>\n",
       "      <th>device</th>\n",
       "      <th>fullVisitorId</th>\n",
       "      <th>geoNetwork</th>\n",
       "      <th>sessionId</th>\n",
       "      <th>socialEngagementType</th>\n",
       "      <th>totals</th>\n",
       "      <th>trafficSource</th>\n",
       "      <th>visitId</th>\n",
       "      <th>visitNumber</th>\n",
       "      <th>visitStartTime</th>\n",
       "      <th>pageviews</th>\n",
       "      <th>hits</th>\n",
       "      <th>visits</th>\n",
       "      <th>campaign</th>\n",
       "      <th>source</th>\n",
       "      <th>medium</th>\n",
       "    </tr>\n",
       "  </thead>\n",
       "  <tbody>\n",
       "    <tr>\n",
       "      <th>0</th>\n",
       "      <td>Direct</td>\n",
       "      <td>20160902</td>\n",
       "      <td>{\"browser\": \"Chrome\", \"browserVersion\": \"not a...</td>\n",
       "      <td>6.194190e+18</td>\n",
       "      <td>{\"continent\": \"Americas\", \"subContinent\": \"Nor...</td>\n",
       "      <td>6194193421514403509_1472843572</td>\n",
       "      <td>Not Socially Engaged</td>\n",
       "      <td>{'visits': '1', 'hits': '11', 'pageviews': '11...</td>\n",
       "      <td>{'campaign': '(not set)', 'source': '(direct)'...</td>\n",
       "      <td>1472843572</td>\n",
       "      <td>1</td>\n",
       "      <td>1472843572</td>\n",
       "      <td>11</td>\n",
       "      <td>11</td>\n",
       "      <td>1</td>\n",
       "      <td>(not set)</td>\n",
       "      <td>(direct)</td>\n",
       "      <td>(none)</td>\n",
       "    </tr>\n",
       "    <tr>\n",
       "      <th>1</th>\n",
       "      <td>Organic Search</td>\n",
       "      <td>20160902</td>\n",
       "      <td>{\"browser\": \"Chrome\", \"browserVersion\": \"not a...</td>\n",
       "      <td>5.327170e+18</td>\n",
       "      <td>{\"continent\": \"Americas\", \"subContinent\": \"Nor...</td>\n",
       "      <td>5327166854580374902_1472844906</td>\n",
       "      <td>Not Socially Engaged</td>\n",
       "      <td>{'visits': '1', 'hits': '11', 'pageviews': '10...</td>\n",
       "      <td>{'campaign': '(not set)', 'source': 'google', ...</td>\n",
       "      <td>1472844906</td>\n",
       "      <td>3</td>\n",
       "      <td>1472844906</td>\n",
       "      <td>10</td>\n",
       "      <td>11</td>\n",
       "      <td>1</td>\n",
       "      <td>(not set)</td>\n",
       "      <td>google</td>\n",
       "      <td>organic</td>\n",
       "    </tr>\n",
       "    <tr>\n",
       "      <th>2</th>\n",
       "      <td>Referral</td>\n",
       "      <td>20160902</td>\n",
       "      <td>{\"browser\": \"Chrome\", \"browserVersion\": \"not a...</td>\n",
       "      <td>8.885050e+18</td>\n",
       "      <td>{\"continent\": \"Americas\", \"subContinent\": \"Nor...</td>\n",
       "      <td>8885051388942907862_1472827393</td>\n",
       "      <td>Not Socially Engaged</td>\n",
       "      <td>{'visits': '1', 'hits': '13', 'pageviews': '11...</td>\n",
       "      <td>{'referralPath': '/', 'campaign': '(not set)',...</td>\n",
       "      <td>1472827393</td>\n",
       "      <td>7</td>\n",
       "      <td>1472827393</td>\n",
       "      <td>11</td>\n",
       "      <td>13</td>\n",
       "      <td>1</td>\n",
       "      <td>(not set)</td>\n",
       "      <td>mall.googleplex.com</td>\n",
       "      <td>referral</td>\n",
       "    </tr>\n",
       "  </tbody>\n",
       "</table>\n",
       "</div>"
      ],
      "text/plain": [
       "  channelGrouping      date  \\\n",
       "0          Direct  20160902   \n",
       "1  Organic Search  20160902   \n",
       "2        Referral  20160902   \n",
       "\n",
       "                                              device  fullVisitorId  \\\n",
       "0  {\"browser\": \"Chrome\", \"browserVersion\": \"not a...   6.194190e+18   \n",
       "1  {\"browser\": \"Chrome\", \"browserVersion\": \"not a...   5.327170e+18   \n",
       "2  {\"browser\": \"Chrome\", \"browserVersion\": \"not a...   8.885050e+18   \n",
       "\n",
       "                                          geoNetwork  \\\n",
       "0  {\"continent\": \"Americas\", \"subContinent\": \"Nor...   \n",
       "1  {\"continent\": \"Americas\", \"subContinent\": \"Nor...   \n",
       "2  {\"continent\": \"Americas\", \"subContinent\": \"Nor...   \n",
       "\n",
       "                        sessionId  socialEngagementType  \\\n",
       "0  6194193421514403509_1472843572  Not Socially Engaged   \n",
       "1  5327166854580374902_1472844906  Not Socially Engaged   \n",
       "2  8885051388942907862_1472827393  Not Socially Engaged   \n",
       "\n",
       "                                              totals  \\\n",
       "0  {'visits': '1', 'hits': '11', 'pageviews': '11...   \n",
       "1  {'visits': '1', 'hits': '11', 'pageviews': '10...   \n",
       "2  {'visits': '1', 'hits': '13', 'pageviews': '11...   \n",
       "\n",
       "                                       trafficSource     visitId  visitNumber  \\\n",
       "0  {'campaign': '(not set)', 'source': '(direct)'...  1472843572            1   \n",
       "1  {'campaign': '(not set)', 'source': 'google', ...  1472844906            3   \n",
       "2  {'referralPath': '/', 'campaign': '(not set)',...  1472827393            7   \n",
       "\n",
       "   visitStartTime  pageviews  hits  visits   campaign               source  \\\n",
       "0      1472843572         11    11       1  (not set)             (direct)   \n",
       "1      1472844906         10    11       1  (not set)               google   \n",
       "2      1472827393         11    13       1  (not set)  mall.googleplex.com   \n",
       "\n",
       "     medium  \n",
       "0    (none)  \n",
       "1   organic  \n",
       "2  referral  "
      ]
     },
     "execution_count": 66,
     "metadata": {},
     "output_type": "execute_result"
    }
   ],
   "source": [
    "df.head(3)"
   ]
  },
  {
   "cell_type": "code",
   "execution_count": 67,
   "id": "8af44c2d",
   "metadata": {},
   "outputs": [
    {
     "data": {
      "text/html": [
       "<div>\n",
       "<style scoped>\n",
       "    .dataframe tbody tr th:only-of-type {\n",
       "        vertical-align: middle;\n",
       "    }\n",
       "\n",
       "    .dataframe tbody tr th {\n",
       "        vertical-align: top;\n",
       "    }\n",
       "\n",
       "    .dataframe thead th {\n",
       "        text-align: right;\n",
       "    }\n",
       "</style>\n",
       "<table border=\"1\" class=\"dataframe\">\n",
       "  <thead>\n",
       "    <tr style=\"text-align: right;\">\n",
       "      <th></th>\n",
       "      <th>date</th>\n",
       "      <th>source</th>\n",
       "      <th>medium</th>\n",
       "      <th>pageviews</th>\n",
       "      <th>hits</th>\n",
       "      <th>visits</th>\n",
       "    </tr>\n",
       "  </thead>\n",
       "  <tbody>\n",
       "    <tr>\n",
       "      <th>0</th>\n",
       "      <td>20160801</td>\n",
       "      <td>(direct)</td>\n",
       "      <td>(none)</td>\n",
       "      <td>341</td>\n",
       "      <td>441</td>\n",
       "      <td>8</td>\n",
       "    </tr>\n",
       "    <tr>\n",
       "      <th>1</th>\n",
       "      <td>20160801</td>\n",
       "      <td>basecamp.com</td>\n",
       "      <td>referral</td>\n",
       "      <td>49</td>\n",
       "      <td>69</td>\n",
       "      <td>1</td>\n",
       "    </tr>\n",
       "    <tr>\n",
       "      <th>2</th>\n",
       "      <td>20160801</td>\n",
       "      <td>gatewaycdi.com</td>\n",
       "      <td>referral</td>\n",
       "      <td>14</td>\n",
       "      <td>18</td>\n",
       "      <td>1</td>\n",
       "    </tr>\n",
       "    <tr>\n",
       "      <th>3</th>\n",
       "      <td>20160801</td>\n",
       "      <td>google</td>\n",
       "      <td>organic</td>\n",
       "      <td>216</td>\n",
       "      <td>372</td>\n",
       "      <td>7</td>\n",
       "    </tr>\n",
       "    <tr>\n",
       "      <th>4</th>\n",
       "      <td>20160801</td>\n",
       "      <td>mall.googleplex.com</td>\n",
       "      <td>referral</td>\n",
       "      <td>428</td>\n",
       "      <td>568</td>\n",
       "      <td>16</td>\n",
       "    </tr>\n",
       "    <tr>\n",
       "      <th>...</th>\n",
       "      <td>...</td>\n",
       "      <td>...</td>\n",
       "      <td>...</td>\n",
       "      <td>...</td>\n",
       "      <td>...</td>\n",
       "      <td>...</td>\n",
       "    </tr>\n",
       "    <tr>\n",
       "      <th>1753</th>\n",
       "      <td>20170801</td>\n",
       "      <td>google</td>\n",
       "      <td>cpc</td>\n",
       "      <td>20</td>\n",
       "      <td>28</td>\n",
       "      <td>1</td>\n",
       "    </tr>\n",
       "    <tr>\n",
       "      <th>1754</th>\n",
       "      <td>20170801</td>\n",
       "      <td>google</td>\n",
       "      <td>cpm</td>\n",
       "      <td>5</td>\n",
       "      <td>5</td>\n",
       "      <td>1</td>\n",
       "    </tr>\n",
       "    <tr>\n",
       "      <th>1755</th>\n",
       "      <td>20170801</td>\n",
       "      <td>google</td>\n",
       "      <td>organic</td>\n",
       "      <td>244</td>\n",
       "      <td>319</td>\n",
       "      <td>6</td>\n",
       "    </tr>\n",
       "    <tr>\n",
       "      <th>1756</th>\n",
       "      <td>20170801</td>\n",
       "      <td>mail.google.com</td>\n",
       "      <td>referral</td>\n",
       "      <td>16</td>\n",
       "      <td>16</td>\n",
       "      <td>1</td>\n",
       "    </tr>\n",
       "    <tr>\n",
       "      <th>1757</th>\n",
       "      <td>20170801</td>\n",
       "      <td>mall.googleplex.com</td>\n",
       "      <td>referral</td>\n",
       "      <td>780</td>\n",
       "      <td>1083</td>\n",
       "      <td>26</td>\n",
       "    </tr>\n",
       "  </tbody>\n",
       "</table>\n",
       "<p>1758 rows × 6 columns</p>\n",
       "</div>"
      ],
      "text/plain": [
       "          date               source    medium  pageviews  hits  visits\n",
       "0     20160801             (direct)    (none)        341   441       8\n",
       "1     20160801         basecamp.com  referral         49    69       1\n",
       "2     20160801       gatewaycdi.com  referral         14    18       1\n",
       "3     20160801               google   organic        216   372       7\n",
       "4     20160801  mall.googleplex.com  referral        428   568      16\n",
       "...        ...                  ...       ...        ...   ...     ...\n",
       "1753  20170801               google       cpc         20    28       1\n",
       "1754  20170801               google       cpm          5     5       1\n",
       "1755  20170801               google   organic        244   319       6\n",
       "1756  20170801      mail.google.com  referral         16    16       1\n",
       "1757  20170801  mall.googleplex.com  referral        780  1083      26\n",
       "\n",
       "[1758 rows x 6 columns]"
      ]
     },
     "execution_count": 67,
     "metadata": {},
     "output_type": "execute_result"
    }
   ],
   "source": [
    "agg_df_sm = df.groupby(['date','source','medium'])[['pageviews','hits','visits']].sum().reset_index()\n",
    "agg_df_sm"
   ]
  },
  {
   "cell_type": "code",
   "execution_count": 68,
   "id": "0779ae10",
   "metadata": {},
   "outputs": [
    {
     "name": "stdout",
     "output_type": "stream",
     "text": [
      "org_sum : \n",
      "pageviews    49\n",
      "hits         69\n",
      "visits        1\n",
      "dtype: int64 \n",
      "\n",
      "agg_sum : \n",
      "pageviews    49\n",
      "hits         69\n",
      "visits        1\n",
      "dtype: int64\n"
     ]
    }
   ],
   "source": [
    "val_date = '20160801'\n",
    "val_source = 'basecamp.com'\n",
    "val_medium = 'referral'\n",
    "\n",
    "# 기존 데이터 확인 \n",
    "\n",
    "df['date'] = df['date'].astype('str')\n",
    "df['source'] = df['source'].str.strip()\n",
    "df['medium'] = df['medium'].str.strip()\n",
    "\n",
    "org_sum = df[(df['date']==val_date) & (df['source']==val_source) & (df['medium']==val_medium)][['pageviews','hits','visits']].sum()\n",
    "print(f'org_sum : \\n{org_sum} \\n')\n",
    "\n",
    "# 집계 데이터 확인\n",
    "\n",
    "agg_df_sm['date'] = agg_df_sm['date'].astype('str')\n",
    "agg_df_sm['source'] = agg_df_sm['source'].str.strip()\n",
    "agg_df_sm['medium'] = agg_df_sm['medium'].str.strip()\n",
    "\n",
    "agg_sum = agg_df_sm[(agg_df_sm['date']==val_date) & (agg_df_sm['source']==val_source) & (agg_df_sm['medium']==val_medium)][['pageviews','hits','visits']].sum()\n",
    "print(f'agg_sum : \\n{org_sum}')"
   ]
  },
  {
   "cell_type": "code",
   "execution_count": 69,
   "id": "976364c1",
   "metadata": {},
   "outputs": [
    {
     "data": {
      "text/html": [
       "<div>\n",
       "<style scoped>\n",
       "    .dataframe tbody tr th:only-of-type {\n",
       "        vertical-align: middle;\n",
       "    }\n",
       "\n",
       "    .dataframe tbody tr th {\n",
       "        vertical-align: top;\n",
       "    }\n",
       "\n",
       "    .dataframe thead th {\n",
       "        text-align: right;\n",
       "    }\n",
       "</style>\n",
       "<table border=\"1\" class=\"dataframe\">\n",
       "  <thead>\n",
       "    <tr style=\"text-align: right;\">\n",
       "      <th></th>\n",
       "      <th>date</th>\n",
       "      <th>source</th>\n",
       "      <th>medium</th>\n",
       "      <th>pageviews</th>\n",
       "      <th>hits</th>\n",
       "      <th>visits</th>\n",
       "    </tr>\n",
       "  </thead>\n",
       "  <tbody>\n",
       "    <tr>\n",
       "      <th>0</th>\n",
       "      <td>20160801</td>\n",
       "      <td>(direct)</td>\n",
       "      <td>(none)</td>\n",
       "      <td>341</td>\n",
       "      <td>441</td>\n",
       "      <td>8</td>\n",
       "    </tr>\n",
       "    <tr>\n",
       "      <th>1</th>\n",
       "      <td>20160801</td>\n",
       "      <td>basecamp.com</td>\n",
       "      <td>referral</td>\n",
       "      <td>49</td>\n",
       "      <td>69</td>\n",
       "      <td>1</td>\n",
       "    </tr>\n",
       "    <tr>\n",
       "      <th>2</th>\n",
       "      <td>20160801</td>\n",
       "      <td>gatewaycdi.com</td>\n",
       "      <td>referral</td>\n",
       "      <td>14</td>\n",
       "      <td>18</td>\n",
       "      <td>1</td>\n",
       "    </tr>\n",
       "    <tr>\n",
       "      <th>3</th>\n",
       "      <td>20160801</td>\n",
       "      <td>google</td>\n",
       "      <td>organic</td>\n",
       "      <td>216</td>\n",
       "      <td>372</td>\n",
       "      <td>7</td>\n",
       "    </tr>\n",
       "    <tr>\n",
       "      <th>4</th>\n",
       "      <td>20160801</td>\n",
       "      <td>mall.googleplex.com</td>\n",
       "      <td>referral</td>\n",
       "      <td>428</td>\n",
       "      <td>568</td>\n",
       "      <td>16</td>\n",
       "    </tr>\n",
       "    <tr>\n",
       "      <th>...</th>\n",
       "      <td>...</td>\n",
       "      <td>...</td>\n",
       "      <td>...</td>\n",
       "      <td>...</td>\n",
       "      <td>...</td>\n",
       "      <td>...</td>\n",
       "    </tr>\n",
       "    <tr>\n",
       "      <th>1753</th>\n",
       "      <td>20170801</td>\n",
       "      <td>google</td>\n",
       "      <td>cpc</td>\n",
       "      <td>20</td>\n",
       "      <td>28</td>\n",
       "      <td>1</td>\n",
       "    </tr>\n",
       "    <tr>\n",
       "      <th>1754</th>\n",
       "      <td>20170801</td>\n",
       "      <td>google</td>\n",
       "      <td>cpm</td>\n",
       "      <td>5</td>\n",
       "      <td>5</td>\n",
       "      <td>1</td>\n",
       "    </tr>\n",
       "    <tr>\n",
       "      <th>1755</th>\n",
       "      <td>20170801</td>\n",
       "      <td>google</td>\n",
       "      <td>organic</td>\n",
       "      <td>244</td>\n",
       "      <td>319</td>\n",
       "      <td>6</td>\n",
       "    </tr>\n",
       "    <tr>\n",
       "      <th>1756</th>\n",
       "      <td>20170801</td>\n",
       "      <td>mail.google.com</td>\n",
       "      <td>referral</td>\n",
       "      <td>16</td>\n",
       "      <td>16</td>\n",
       "      <td>1</td>\n",
       "    </tr>\n",
       "    <tr>\n",
       "      <th>1757</th>\n",
       "      <td>20170801</td>\n",
       "      <td>mall.googleplex.com</td>\n",
       "      <td>referral</td>\n",
       "      <td>780</td>\n",
       "      <td>1083</td>\n",
       "      <td>26</td>\n",
       "    </tr>\n",
       "  </tbody>\n",
       "</table>\n",
       "<p>1758 rows × 6 columns</p>\n",
       "</div>"
      ],
      "text/plain": [
       "          date               source    medium  pageviews  hits  visits\n",
       "0     20160801             (direct)    (none)        341   441       8\n",
       "1     20160801         basecamp.com  referral         49    69       1\n",
       "2     20160801       gatewaycdi.com  referral         14    18       1\n",
       "3     20160801               google   organic        216   372       7\n",
       "4     20160801  mall.googleplex.com  referral        428   568      16\n",
       "...        ...                  ...       ...        ...   ...     ...\n",
       "1753  20170801               google       cpc         20    28       1\n",
       "1754  20170801               google       cpm          5     5       1\n",
       "1755  20170801               google   organic        244   319       6\n",
       "1756  20170801      mail.google.com  referral         16    16       1\n",
       "1757  20170801  mall.googleplex.com  referral        780  1083      26\n",
       "\n",
       "[1758 rows x 6 columns]"
      ]
     },
     "execution_count": 69,
     "metadata": {},
     "output_type": "execute_result"
    }
   ],
   "source": [
    "agg_df_sm"
   ]
  },
  {
   "cell_type": "markdown",
   "id": "7300b303",
   "metadata": {},
   "source": [
    "### 예산 및 가중치 설정\n",
    "광고 예산을 100,000,000 원으로 가정함\n",
    "- (w1) Pageviews : 콘텐츠 조회수는 브랜드 인지도 확산과 관련 있으므로 가중치를 2순위로 설정 \n",
    "- (w2) Hits : 서버 요청 수는 한 번의 방문에 따라 높게 측정될 수 있어 가중치를 3순위로 설정 \n",
    "- (w3) Visits :  방문수는 실질적인 잠재 고객과 관련 있으므로 가중치를 1순위로 설정 "
   ]
  },
  {
   "cell_type": "code",
   "execution_count": 70,
   "id": "555eaf66",
   "metadata": {},
   "outputs": [
    {
     "data": {
      "text/html": [
       "<div>\n",
       "<style scoped>\n",
       "    .dataframe tbody tr th:only-of-type {\n",
       "        vertical-align: middle;\n",
       "    }\n",
       "\n",
       "    .dataframe tbody tr th {\n",
       "        vertical-align: top;\n",
       "    }\n",
       "\n",
       "    .dataframe thead th {\n",
       "        text-align: right;\n",
       "    }\n",
       "</style>\n",
       "<table border=\"1\" class=\"dataframe\">\n",
       "  <thead>\n",
       "    <tr style=\"text-align: right;\">\n",
       "      <th></th>\n",
       "      <th>pageviews</th>\n",
       "      <th>hits</th>\n",
       "      <th>visits</th>\n",
       "    </tr>\n",
       "  </thead>\n",
       "  <tbody>\n",
       "    <tr>\n",
       "      <th>count</th>\n",
       "      <td>1758.000000</td>\n",
       "      <td>1758.000000</td>\n",
       "      <td>1758.000000</td>\n",
       "    </tr>\n",
       "    <tr>\n",
       "      <th>mean</th>\n",
       "      <td>185.565984</td>\n",
       "      <td>237.598407</td>\n",
       "      <td>6.550057</td>\n",
       "    </tr>\n",
       "    <tr>\n",
       "      <th>std</th>\n",
       "      <td>202.979903</td>\n",
       "      <td>263.923322</td>\n",
       "      <td>6.782795</td>\n",
       "    </tr>\n",
       "    <tr>\n",
       "      <th>min</th>\n",
       "      <td>4.000000</td>\n",
       "      <td>4.000000</td>\n",
       "      <td>1.000000</td>\n",
       "    </tr>\n",
       "    <tr>\n",
       "      <th>25%</th>\n",
       "      <td>36.000000</td>\n",
       "      <td>45.000000</td>\n",
       "      <td>1.000000</td>\n",
       "    </tr>\n",
       "    <tr>\n",
       "      <th>50%</th>\n",
       "      <td>118.000000</td>\n",
       "      <td>149.000000</td>\n",
       "      <td>4.000000</td>\n",
       "    </tr>\n",
       "    <tr>\n",
       "      <th>75%</th>\n",
       "      <td>278.000000</td>\n",
       "      <td>356.000000</td>\n",
       "      <td>10.000000</td>\n",
       "    </tr>\n",
       "    <tr>\n",
       "      <th>max</th>\n",
       "      <td>1972.000000</td>\n",
       "      <td>2504.000000</td>\n",
       "      <td>42.000000</td>\n",
       "    </tr>\n",
       "  </tbody>\n",
       "</table>\n",
       "</div>"
      ],
      "text/plain": [
       "         pageviews         hits       visits\n",
       "count  1758.000000  1758.000000  1758.000000\n",
       "mean    185.565984   237.598407     6.550057\n",
       "std     202.979903   263.923322     6.782795\n",
       "min       4.000000     4.000000     1.000000\n",
       "25%      36.000000    45.000000     1.000000\n",
       "50%     118.000000   149.000000     4.000000\n",
       "75%     278.000000   356.000000    10.000000\n",
       "max    1972.000000  2504.000000    42.000000"
      ]
     },
     "execution_count": 70,
     "metadata": {},
     "output_type": "execute_result"
    }
   ],
   "source": [
    "agg_df_sm.describe() # pageview : hits: visits = 185 : 237 : 6"
   ]
  },
  {
   "cell_type": "code",
   "execution_count": 71,
   "id": "ecb70112",
   "metadata": {},
   "outputs": [],
   "source": [
    "total_budget = 100000000\n",
    "w1 = 2\n",
    "w2 = 1\n",
    "w3 = 70"
   ]
  },
  {
   "cell_type": "code",
   "execution_count": 72,
   "id": "5822c096",
   "metadata": {},
   "outputs": [],
   "source": [
    "agg_df_sm['total_w'] = (agg_df_sm['pageviews']*w1 + agg_df_sm['hits']*w2 + agg_df_sm['visits']*w3)\n",
    "total_wegiht = agg_df_sm['total_w'].sum()\n",
    "agg_df_sm['budget'] = (agg_df_sm['total_w']/total_wegiht)*total_budget"
   ]
  },
  {
   "cell_type": "code",
   "execution_count": 74,
   "id": "f6b79306",
   "metadata": {},
   "outputs": [
    {
     "data": {
      "text/html": [
       "<div>\n",
       "<style scoped>\n",
       "    .dataframe tbody tr th:only-of-type {\n",
       "        vertical-align: middle;\n",
       "    }\n",
       "\n",
       "    .dataframe tbody tr th {\n",
       "        vertical-align: top;\n",
       "    }\n",
       "\n",
       "    .dataframe thead th {\n",
       "        text-align: right;\n",
       "    }\n",
       "</style>\n",
       "<table border=\"1\" class=\"dataframe\">\n",
       "  <thead>\n",
       "    <tr style=\"text-align: right;\">\n",
       "      <th></th>\n",
       "      <th>date</th>\n",
       "      <th>source</th>\n",
       "      <th>medium</th>\n",
       "      <th>pageviews</th>\n",
       "      <th>hits</th>\n",
       "      <th>visits</th>\n",
       "      <th>total_w</th>\n",
       "      <th>budget</th>\n",
       "    </tr>\n",
       "  </thead>\n",
       "  <tbody>\n",
       "    <tr>\n",
       "      <th>0</th>\n",
       "      <td>20160801</td>\n",
       "      <td>(direct)</td>\n",
       "      <td>(none)</td>\n",
       "      <td>341</td>\n",
       "      <td>441</td>\n",
       "      <td>8</td>\n",
       "      <td>1683</td>\n",
       "      <td>89702.685964</td>\n",
       "    </tr>\n",
       "    <tr>\n",
       "      <th>1</th>\n",
       "      <td>20160801</td>\n",
       "      <td>basecamp.com</td>\n",
       "      <td>referral</td>\n",
       "      <td>49</td>\n",
       "      <td>69</td>\n",
       "      <td>1</td>\n",
       "      <td>237</td>\n",
       "      <td>12631.929039</td>\n",
       "    </tr>\n",
       "    <tr>\n",
       "      <th>2</th>\n",
       "      <td>20160801</td>\n",
       "      <td>gatewaycdi.com</td>\n",
       "      <td>referral</td>\n",
       "      <td>14</td>\n",
       "      <td>18</td>\n",
       "      <td>1</td>\n",
       "      <td>116</td>\n",
       "      <td>6182.716323</td>\n",
       "    </tr>\n",
       "    <tr>\n",
       "      <th>3</th>\n",
       "      <td>20160801</td>\n",
       "      <td>google</td>\n",
       "      <td>organic</td>\n",
       "      <td>216</td>\n",
       "      <td>372</td>\n",
       "      <td>7</td>\n",
       "      <td>1294</td>\n",
       "      <td>68969.266570</td>\n",
       "    </tr>\n",
       "    <tr>\n",
       "      <th>4</th>\n",
       "      <td>20160801</td>\n",
       "      <td>mall.googleplex.com</td>\n",
       "      <td>referral</td>\n",
       "      <td>428</td>\n",
       "      <td>568</td>\n",
       "      <td>16</td>\n",
       "      <td>2544</td>\n",
       "      <td>135593.364879</td>\n",
       "    </tr>\n",
       "    <tr>\n",
       "      <th>...</th>\n",
       "      <td>...</td>\n",
       "      <td>...</td>\n",
       "      <td>...</td>\n",
       "      <td>...</td>\n",
       "      <td>...</td>\n",
       "      <td>...</td>\n",
       "      <td>...</td>\n",
       "      <td>...</td>\n",
       "    </tr>\n",
       "    <tr>\n",
       "      <th>1753</th>\n",
       "      <td>20170801</td>\n",
       "      <td>google</td>\n",
       "      <td>cpc</td>\n",
       "      <td>20</td>\n",
       "      <td>28</td>\n",
       "      <td>1</td>\n",
       "      <td>138</td>\n",
       "      <td>7355.300453</td>\n",
       "    </tr>\n",
       "    <tr>\n",
       "      <th>1754</th>\n",
       "      <td>20170801</td>\n",
       "      <td>google</td>\n",
       "      <td>cpm</td>\n",
       "      <td>5</td>\n",
       "      <td>5</td>\n",
       "      <td>1</td>\n",
       "      <td>85</td>\n",
       "      <td>4530.438685</td>\n",
       "    </tr>\n",
       "    <tr>\n",
       "      <th>1755</th>\n",
       "      <td>20170801</td>\n",
       "      <td>google</td>\n",
       "      <td>organic</td>\n",
       "      <td>244</td>\n",
       "      <td>319</td>\n",
       "      <td>6</td>\n",
       "      <td>1227</td>\n",
       "      <td>65398.214901</td>\n",
       "    </tr>\n",
       "    <tr>\n",
       "      <th>1756</th>\n",
       "      <td>20170801</td>\n",
       "      <td>mail.google.com</td>\n",
       "      <td>referral</td>\n",
       "      <td>16</td>\n",
       "      <td>16</td>\n",
       "      <td>1</td>\n",
       "      <td>118</td>\n",
       "      <td>6289.314880</td>\n",
       "    </tr>\n",
       "    <tr>\n",
       "      <th>1757</th>\n",
       "      <td>20170801</td>\n",
       "      <td>mall.googleplex.com</td>\n",
       "      <td>referral</td>\n",
       "      <td>780</td>\n",
       "      <td>1083</td>\n",
       "      <td>26</td>\n",
       "      <td>4463</td>\n",
       "      <td>237874.680604</td>\n",
       "    </tr>\n",
       "  </tbody>\n",
       "</table>\n",
       "<p>1758 rows × 8 columns</p>\n",
       "</div>"
      ],
      "text/plain": [
       "          date               source    medium  pageviews  hits  visits  \\\n",
       "0     20160801             (direct)    (none)        341   441       8   \n",
       "1     20160801         basecamp.com  referral         49    69       1   \n",
       "2     20160801       gatewaycdi.com  referral         14    18       1   \n",
       "3     20160801               google   organic        216   372       7   \n",
       "4     20160801  mall.googleplex.com  referral        428   568      16   \n",
       "...        ...                  ...       ...        ...   ...     ...   \n",
       "1753  20170801               google       cpc         20    28       1   \n",
       "1754  20170801               google       cpm          5     5       1   \n",
       "1755  20170801               google   organic        244   319       6   \n",
       "1756  20170801      mail.google.com  referral         16    16       1   \n",
       "1757  20170801  mall.googleplex.com  referral        780  1083      26   \n",
       "\n",
       "      total_w         budget  \n",
       "0        1683   89702.685964  \n",
       "1         237   12631.929039  \n",
       "2         116    6182.716323  \n",
       "3        1294   68969.266570  \n",
       "4        2544  135593.364879  \n",
       "...       ...            ...  \n",
       "1753      138    7355.300453  \n",
       "1754       85    4530.438685  \n",
       "1755     1227   65398.214901  \n",
       "1756      118    6289.314880  \n",
       "1757     4463  237874.680604  \n",
       "\n",
       "[1758 rows x 8 columns]"
      ]
     },
     "execution_count": 74,
     "metadata": {},
     "output_type": "execute_result"
    }
   ],
   "source": [
    "agg_df_sm"
   ]
  },
  {
   "cell_type": "markdown",
   "id": "08fd3ca0",
   "metadata": {},
   "source": [
    "### 효과성 지표\n",
    "각 효과는 지표 1단위를 높이는데 사용된 예산으로 계산하여 지표 달성에 대한 비용으로 인식"
   ]
  },
  {
   "cell_type": "code",
   "execution_count": 108,
   "id": "46568f78",
   "metadata": {},
   "outputs": [],
   "source": [
    "agg_df_sm['pageviews_efficiency'] = agg_df_sm['budget']/agg_df_sm['pageviews']\n",
    "agg_df_sm['hits_efficiency'] = agg_df_sm['budget']/agg_df_sm['hits']\n",
    "agg_df_sm['visits_efficiency'] = agg_df_sm['budget']/agg_df_sm['visits']"
   ]
  },
  {
   "cell_type": "code",
   "execution_count": 109,
   "id": "ebeec677",
   "metadata": {},
   "outputs": [
    {
     "data": {
      "text/html": [
       "<div>\n",
       "<style scoped>\n",
       "    .dataframe tbody tr th:only-of-type {\n",
       "        vertical-align: middle;\n",
       "    }\n",
       "\n",
       "    .dataframe tbody tr th {\n",
       "        vertical-align: top;\n",
       "    }\n",
       "\n",
       "    .dataframe thead th {\n",
       "        text-align: right;\n",
       "    }\n",
       "</style>\n",
       "<table border=\"1\" class=\"dataframe\">\n",
       "  <thead>\n",
       "    <tr style=\"text-align: right;\">\n",
       "      <th></th>\n",
       "      <th>date</th>\n",
       "      <th>source</th>\n",
       "      <th>medium</th>\n",
       "      <th>pageviews</th>\n",
       "      <th>hits</th>\n",
       "      <th>visits</th>\n",
       "      <th>total_w</th>\n",
       "      <th>budget</th>\n",
       "      <th>pageviews_efficiency</th>\n",
       "      <th>hits_efficiency</th>\n",
       "      <th>visits_efficiency</th>\n",
       "    </tr>\n",
       "  </thead>\n",
       "  <tbody>\n",
       "    <tr>\n",
       "      <th>0</th>\n",
       "      <td>20160801</td>\n",
       "      <td>(direct)</td>\n",
       "      <td>(none)</td>\n",
       "      <td>341</td>\n",
       "      <td>441</td>\n",
       "      <td>8</td>\n",
       "      <td>1683</td>\n",
       "      <td>89702.685964</td>\n",
       "      <td>263.057730</td>\n",
       "      <td>203.407451</td>\n",
       "      <td>11212.835745</td>\n",
       "    </tr>\n",
       "    <tr>\n",
       "      <th>1</th>\n",
       "      <td>20160801</td>\n",
       "      <td>basecamp.com</td>\n",
       "      <td>referral</td>\n",
       "      <td>49</td>\n",
       "      <td>69</td>\n",
       "      <td>1</td>\n",
       "      <td>237</td>\n",
       "      <td>12631.929039</td>\n",
       "      <td>257.794470</td>\n",
       "      <td>183.071435</td>\n",
       "      <td>12631.929039</td>\n",
       "    </tr>\n",
       "    <tr>\n",
       "      <th>2</th>\n",
       "      <td>20160801</td>\n",
       "      <td>gatewaycdi.com</td>\n",
       "      <td>referral</td>\n",
       "      <td>14</td>\n",
       "      <td>18</td>\n",
       "      <td>1</td>\n",
       "      <td>116</td>\n",
       "      <td>6182.716323</td>\n",
       "      <td>441.622595</td>\n",
       "      <td>343.484240</td>\n",
       "      <td>6182.716323</td>\n",
       "    </tr>\n",
       "    <tr>\n",
       "      <th>3</th>\n",
       "      <td>20160801</td>\n",
       "      <td>google</td>\n",
       "      <td>organic</td>\n",
       "      <td>216</td>\n",
       "      <td>372</td>\n",
       "      <td>7</td>\n",
       "      <td>1294</td>\n",
       "      <td>68969.266570</td>\n",
       "      <td>319.302160</td>\n",
       "      <td>185.401254</td>\n",
       "      <td>9852.752367</td>\n",
       "    </tr>\n",
       "    <tr>\n",
       "      <th>4</th>\n",
       "      <td>20160801</td>\n",
       "      <td>mall.googleplex.com</td>\n",
       "      <td>referral</td>\n",
       "      <td>428</td>\n",
       "      <td>568</td>\n",
       "      <td>16</td>\n",
       "      <td>2544</td>\n",
       "      <td>135593.364879</td>\n",
       "      <td>316.806927</td>\n",
       "      <td>238.720713</td>\n",
       "      <td>8474.585305</td>\n",
       "    </tr>\n",
       "    <tr>\n",
       "      <th>...</th>\n",
       "      <td>...</td>\n",
       "      <td>...</td>\n",
       "      <td>...</td>\n",
       "      <td>...</td>\n",
       "      <td>...</td>\n",
       "      <td>...</td>\n",
       "      <td>...</td>\n",
       "      <td>...</td>\n",
       "      <td>...</td>\n",
       "      <td>...</td>\n",
       "      <td>...</td>\n",
       "    </tr>\n",
       "    <tr>\n",
       "      <th>1753</th>\n",
       "      <td>20170801</td>\n",
       "      <td>google</td>\n",
       "      <td>cpc</td>\n",
       "      <td>20</td>\n",
       "      <td>28</td>\n",
       "      <td>1</td>\n",
       "      <td>138</td>\n",
       "      <td>7355.300453</td>\n",
       "      <td>367.765023</td>\n",
       "      <td>262.689302</td>\n",
       "      <td>7355.300453</td>\n",
       "    </tr>\n",
       "    <tr>\n",
       "      <th>1754</th>\n",
       "      <td>20170801</td>\n",
       "      <td>google</td>\n",
       "      <td>cpm</td>\n",
       "      <td>5</td>\n",
       "      <td>5</td>\n",
       "      <td>1</td>\n",
       "      <td>85</td>\n",
       "      <td>4530.438685</td>\n",
       "      <td>906.087737</td>\n",
       "      <td>906.087737</td>\n",
       "      <td>4530.438685</td>\n",
       "    </tr>\n",
       "    <tr>\n",
       "      <th>1755</th>\n",
       "      <td>20170801</td>\n",
       "      <td>google</td>\n",
       "      <td>organic</td>\n",
       "      <td>244</td>\n",
       "      <td>319</td>\n",
       "      <td>6</td>\n",
       "      <td>1227</td>\n",
       "      <td>65398.214901</td>\n",
       "      <td>268.025471</td>\n",
       "      <td>205.010078</td>\n",
       "      <td>10899.702483</td>\n",
       "    </tr>\n",
       "    <tr>\n",
       "      <th>1756</th>\n",
       "      <td>20170801</td>\n",
       "      <td>mail.google.com</td>\n",
       "      <td>referral</td>\n",
       "      <td>16</td>\n",
       "      <td>16</td>\n",
       "      <td>1</td>\n",
       "      <td>118</td>\n",
       "      <td>6289.314880</td>\n",
       "      <td>393.082180</td>\n",
       "      <td>393.082180</td>\n",
       "      <td>6289.314880</td>\n",
       "    </tr>\n",
       "    <tr>\n",
       "      <th>1757</th>\n",
       "      <td>20170801</td>\n",
       "      <td>mall.googleplex.com</td>\n",
       "      <td>referral</td>\n",
       "      <td>780</td>\n",
       "      <td>1083</td>\n",
       "      <td>26</td>\n",
       "      <td>4463</td>\n",
       "      <td>237874.680604</td>\n",
       "      <td>304.967539</td>\n",
       "      <td>219.644211</td>\n",
       "      <td>9149.026177</td>\n",
       "    </tr>\n",
       "  </tbody>\n",
       "</table>\n",
       "<p>1758 rows × 11 columns</p>\n",
       "</div>"
      ],
      "text/plain": [
       "          date               source    medium  pageviews  hits  visits  \\\n",
       "0     20160801             (direct)    (none)        341   441       8   \n",
       "1     20160801         basecamp.com  referral         49    69       1   \n",
       "2     20160801       gatewaycdi.com  referral         14    18       1   \n",
       "3     20160801               google   organic        216   372       7   \n",
       "4     20160801  mall.googleplex.com  referral        428   568      16   \n",
       "...        ...                  ...       ...        ...   ...     ...   \n",
       "1753  20170801               google       cpc         20    28       1   \n",
       "1754  20170801               google       cpm          5     5       1   \n",
       "1755  20170801               google   organic        244   319       6   \n",
       "1756  20170801      mail.google.com  referral         16    16       1   \n",
       "1757  20170801  mall.googleplex.com  referral        780  1083      26   \n",
       "\n",
       "      total_w         budget  pageviews_efficiency  hits_efficiency  \\\n",
       "0        1683   89702.685964            263.057730       203.407451   \n",
       "1         237   12631.929039            257.794470       183.071435   \n",
       "2         116    6182.716323            441.622595       343.484240   \n",
       "3        1294   68969.266570            319.302160       185.401254   \n",
       "4        2544  135593.364879            316.806927       238.720713   \n",
       "...       ...            ...                   ...              ...   \n",
       "1753      138    7355.300453            367.765023       262.689302   \n",
       "1754       85    4530.438685            906.087737       906.087737   \n",
       "1755     1227   65398.214901            268.025471       205.010078   \n",
       "1756      118    6289.314880            393.082180       393.082180   \n",
       "1757     4463  237874.680604            304.967539       219.644211   \n",
       "\n",
       "      visits_efficiency  \n",
       "0          11212.835745  \n",
       "1          12631.929039  \n",
       "2           6182.716323  \n",
       "3           9852.752367  \n",
       "4           8474.585305  \n",
       "...                 ...  \n",
       "1753        7355.300453  \n",
       "1754        4530.438685  \n",
       "1755       10899.702483  \n",
       "1756        6289.314880  \n",
       "1757        9149.026177  \n",
       "\n",
       "[1758 rows x 11 columns]"
      ]
     },
     "execution_count": 109,
     "metadata": {},
     "output_type": "execute_result"
    }
   ],
   "source": [
    "agg_df_sm"
   ]
  },
  {
   "cell_type": "markdown",
   "id": "72145202",
   "metadata": {},
   "source": [
    "### 시각화\n",
    "해당 지표는 값이 작을수록 효율적임을 의미한다는 것을 유의하여 해석해야 함 "
   ]
  },
  {
   "cell_type": "code",
   "execution_count": 111,
   "id": "f3979d34",
   "metadata": {},
   "outputs": [
    {
     "data": {
      "text/html": [
       "<div>\n",
       "<style scoped>\n",
       "    .dataframe tbody tr th:only-of-type {\n",
       "        vertical-align: middle;\n",
       "    }\n",
       "\n",
       "    .dataframe tbody tr th {\n",
       "        vertical-align: top;\n",
       "    }\n",
       "\n",
       "    .dataframe thead th {\n",
       "        text-align: right;\n",
       "    }\n",
       "</style>\n",
       "<table border=\"1\" class=\"dataframe\">\n",
       "  <thead>\n",
       "    <tr style=\"text-align: right;\">\n",
       "      <th></th>\n",
       "      <th>date</th>\n",
       "      <th>source</th>\n",
       "      <th>medium</th>\n",
       "      <th>metric</th>\n",
       "      <th>value</th>\n",
       "    </tr>\n",
       "  </thead>\n",
       "  <tbody>\n",
       "    <tr>\n",
       "      <th>0</th>\n",
       "      <td>20160801</td>\n",
       "      <td>(direct)</td>\n",
       "      <td>(none)</td>\n",
       "      <td>pageviews_efficiency</td>\n",
       "      <td>263.057730</td>\n",
       "    </tr>\n",
       "    <tr>\n",
       "      <th>1</th>\n",
       "      <td>20160801</td>\n",
       "      <td>basecamp.com</td>\n",
       "      <td>referral</td>\n",
       "      <td>pageviews_efficiency</td>\n",
       "      <td>257.794470</td>\n",
       "    </tr>\n",
       "    <tr>\n",
       "      <th>2</th>\n",
       "      <td>20160801</td>\n",
       "      <td>gatewaycdi.com</td>\n",
       "      <td>referral</td>\n",
       "      <td>pageviews_efficiency</td>\n",
       "      <td>441.622595</td>\n",
       "    </tr>\n",
       "    <tr>\n",
       "      <th>3</th>\n",
       "      <td>20160801</td>\n",
       "      <td>google</td>\n",
       "      <td>organic</td>\n",
       "      <td>pageviews_efficiency</td>\n",
       "      <td>319.302160</td>\n",
       "    </tr>\n",
       "    <tr>\n",
       "      <th>4</th>\n",
       "      <td>20160801</td>\n",
       "      <td>mall.googleplex.com</td>\n",
       "      <td>referral</td>\n",
       "      <td>pageviews_efficiency</td>\n",
       "      <td>316.806927</td>\n",
       "    </tr>\n",
       "    <tr>\n",
       "      <th>...</th>\n",
       "      <td>...</td>\n",
       "      <td>...</td>\n",
       "      <td>...</td>\n",
       "      <td>...</td>\n",
       "      <td>...</td>\n",
       "    </tr>\n",
       "    <tr>\n",
       "      <th>5269</th>\n",
       "      <td>20170801</td>\n",
       "      <td>google</td>\n",
       "      <td>cpc</td>\n",
       "      <td>visits_efficiency</td>\n",
       "      <td>7355.300453</td>\n",
       "    </tr>\n",
       "    <tr>\n",
       "      <th>5270</th>\n",
       "      <td>20170801</td>\n",
       "      <td>google</td>\n",
       "      <td>cpm</td>\n",
       "      <td>visits_efficiency</td>\n",
       "      <td>4530.438685</td>\n",
       "    </tr>\n",
       "    <tr>\n",
       "      <th>5271</th>\n",
       "      <td>20170801</td>\n",
       "      <td>google</td>\n",
       "      <td>organic</td>\n",
       "      <td>visits_efficiency</td>\n",
       "      <td>10899.702483</td>\n",
       "    </tr>\n",
       "    <tr>\n",
       "      <th>5272</th>\n",
       "      <td>20170801</td>\n",
       "      <td>mail.google.com</td>\n",
       "      <td>referral</td>\n",
       "      <td>visits_efficiency</td>\n",
       "      <td>6289.314880</td>\n",
       "    </tr>\n",
       "    <tr>\n",
       "      <th>5273</th>\n",
       "      <td>20170801</td>\n",
       "      <td>mall.googleplex.com</td>\n",
       "      <td>referral</td>\n",
       "      <td>visits_efficiency</td>\n",
       "      <td>9149.026177</td>\n",
       "    </tr>\n",
       "  </tbody>\n",
       "</table>\n",
       "<p>5274 rows × 5 columns</p>\n",
       "</div>"
      ],
      "text/plain": [
       "          date               source    medium                metric  \\\n",
       "0     20160801             (direct)    (none)  pageviews_efficiency   \n",
       "1     20160801         basecamp.com  referral  pageviews_efficiency   \n",
       "2     20160801       gatewaycdi.com  referral  pageviews_efficiency   \n",
       "3     20160801               google   organic  pageviews_efficiency   \n",
       "4     20160801  mall.googleplex.com  referral  pageviews_efficiency   \n",
       "...        ...                  ...       ...                   ...   \n",
       "5269  20170801               google       cpc     visits_efficiency   \n",
       "5270  20170801               google       cpm     visits_efficiency   \n",
       "5271  20170801               google   organic     visits_efficiency   \n",
       "5272  20170801      mail.google.com  referral     visits_efficiency   \n",
       "5273  20170801  mall.googleplex.com  referral     visits_efficiency   \n",
       "\n",
       "             value  \n",
       "0       263.057730  \n",
       "1       257.794470  \n",
       "2       441.622595  \n",
       "3       319.302160  \n",
       "4       316.806927  \n",
       "...            ...  \n",
       "5269   7355.300453  \n",
       "5270   4530.438685  \n",
       "5271  10899.702483  \n",
       "5272   6289.314880  \n",
       "5273   9149.026177  \n",
       "\n",
       "[5274 rows x 5 columns]"
      ]
     },
     "execution_count": 111,
     "metadata": {},
     "output_type": "execute_result"
    }
   ],
   "source": [
    "melted_agg_df = agg_df_sm.melt(id_vars=['date','source','medium'],\n",
    "               value_vars=['pageviews_efficiency','hits_efficiency','visits_efficiency'],\n",
    "               var_name = 'metric',\n",
    "               value_name = 'value')\n",
    "melted_agg_df"
   ]
  },
  {
   "cell_type": "code",
   "execution_count": 112,
   "id": "68a56b49",
   "metadata": {},
   "outputs": [
    {
     "data": {
      "application/vnd.plotly.v1+json": {
       "config": {
        "plotlyServerURL": "https://plot.ly"
       },
       "data": [
        {
         "hovertemplate": "source=(direct)<br>medium=(none)<br>metric=pageviews_efficiency<br>Date=%{x}<br>Metric Value=%{y}<extra></extra>",
         "legendgroup": "(direct), (none)",
         "line": {
          "color": "#636efa",
          "dash": "solid"
         },
         "marker": {
          "symbol": "circle"
         },
         "mode": "lines",
         "name": "(direct), (none)",
         "showlegend": true,
         "type": "scattergl",
         "x": [
          "20160801",
          "20160802",
          "20160804",
          "20160805",
          "20160806",
          "20160807",
          "20160808",
          "20160809",
          "20160810",
          "20160811",
          "20160812",
          "20160813",
          "20160814",
          "20160815",
          "20160816",
          "20160817",
          "20160818",
          "20160819",
          "20160820",
          "20160821",
          "20160822",
          "20160823",
          "20160824",
          "20160825",
          "20160826",
          "20160827",
          "20160828",
          "20160829",
          "20160830",
          "20160831",
          "20160901",
          "20160902",
          "20160903",
          "20160904",
          "20160905",
          "20160906",
          "20160907",
          "20160908",
          "20160909",
          "20160910",
          "20160911",
          "20160912",
          "20160913",
          "20160914",
          "20160915",
          "20160916",
          "20160918",
          "20160919",
          "20160920",
          "20160921",
          "20160922",
          "20160923",
          "20160925",
          "20160926",
          "20160927",
          "20160928",
          "20160929",
          "20160930",
          "20161002",
          "20161003",
          "20161004",
          "20161005",
          "20161006",
          "20161007",
          "20161008",
          "20161009",
          "20161010",
          "20161011",
          "20161012",
          "20161013",
          "20161014",
          "20161015",
          "20161016",
          "20161017",
          "20161018",
          "20161019",
          "20161020",
          "20161021",
          "20161022",
          "20161023",
          "20161024",
          "20161025",
          "20161026",
          "20161027",
          "20161028",
          "20161029",
          "20161030",
          "20161031",
          "20161101",
          "20161102",
          "20161103",
          "20161104",
          "20161105",
          "20161106",
          "20161107",
          "20161108",
          "20161109",
          "20161110",
          "20161111",
          "20161112",
          "20161113",
          "20161114",
          "20161115",
          "20161116",
          "20161117",
          "20161118",
          "20161119",
          "20161120",
          "20161121",
          "20161122",
          "20161123",
          "20161124",
          "20161125",
          "20161126",
          "20161127",
          "20161128",
          "20161129",
          "20161130",
          "20161201",
          "20161202",
          "20161203",
          "20161204",
          "20161205",
          "20161206",
          "20161207",
          "20161208",
          "20161209",
          "20161210",
          "20161211",
          "20161212",
          "20161213",
          "20161214",
          "20161215",
          "20161216",
          "20161217",
          "20161218",
          "20161219",
          "20161220",
          "20161221",
          "20161222",
          "20161223",
          "20161224",
          "20161226",
          "20161227",
          "20161228",
          "20161229",
          "20161230",
          "20161231",
          "20170102",
          "20170103",
          "20170104",
          "20170105",
          "20170106",
          "20170108",
          "20170109",
          "20170110",
          "20170111",
          "20170112",
          "20170113",
          "20170116",
          "20170117",
          "20170118",
          "20170119",
          "20170120",
          "20170122",
          "20170123",
          "20170124",
          "20170125",
          "20170126",
          "20170127",
          "20170128",
          "20170129",
          "20170130",
          "20170131",
          "20170201",
          "20170202",
          "20170203",
          "20170204",
          "20170205",
          "20170206",
          "20170207",
          "20170208",
          "20170209",
          "20170210",
          "20170211",
          "20170212",
          "20170213",
          "20170214",
          "20170215",
          "20170216",
          "20170217",
          "20170218",
          "20170219",
          "20170220",
          "20170221",
          "20170222",
          "20170223",
          "20170224",
          "20170225",
          "20170227",
          "20170228",
          "20170301",
          "20170302",
          "20170303",
          "20170304",
          "20170305",
          "20170306",
          "20170307",
          "20170308",
          "20170309",
          "20170310",
          "20170311",
          "20170312",
          "20170313",
          "20170314",
          "20170315",
          "20170316",
          "20170317",
          "20170318",
          "20170319",
          "20170320",
          "20170321",
          "20170322",
          "20170323",
          "20170324",
          "20170325",
          "20170326",
          "20170327",
          "20170328",
          "20170329",
          "20170330",
          "20170331",
          "20170401",
          "20170402",
          "20170403",
          "20170404",
          "20170405",
          "20170406",
          "20170407",
          "20170408",
          "20170409",
          "20170410",
          "20170411",
          "20170412",
          "20170413",
          "20170414",
          "20170415",
          "20170416",
          "20170417",
          "20170418",
          "20170419",
          "20170420",
          "20170421",
          "20170422",
          "20170423",
          "20170424",
          "20170425",
          "20170426",
          "20170427",
          "20170428",
          "20170429",
          "20170430",
          "20170501",
          "20170502",
          "20170503",
          "20170504",
          "20170505",
          "20170506",
          "20170507",
          "20170508",
          "20170509",
          "20170510",
          "20170511",
          "20170512",
          "20170513",
          "20170514",
          "20170515",
          "20170516",
          "20170517",
          "20170518",
          "20170519",
          "20170520",
          "20170521",
          "20170522",
          "20170523",
          "20170524",
          "20170525",
          "20170526",
          "20170527",
          "20170528",
          "20170529",
          "20170530",
          "20170531",
          "20170601",
          "20170602",
          "20170603",
          "20170604",
          "20170605",
          "20170606",
          "20170607",
          "20170608",
          "20170609",
          "20170610",
          "20170611",
          "20170612",
          "20170613",
          "20170614",
          "20170615",
          "20170616",
          "20170618",
          "20170619",
          "20170620",
          "20170621",
          "20170622",
          "20170623",
          "20170624",
          "20170625",
          "20170626",
          "20170627",
          "20170628",
          "20170629",
          "20170630",
          "20170703",
          "20170704",
          "20170705",
          "20170706",
          "20170707",
          "20170708",
          "20170709",
          "20170710",
          "20170711",
          "20170712",
          "20170713",
          "20170714",
          "20170715",
          "20170717",
          "20170718",
          "20170719",
          "20170720",
          "20170721",
          "20170722",
          "20170723",
          "20170724",
          "20170725",
          "20170726",
          "20170727",
          "20170728",
          "20170729",
          "20170730",
          "20170731",
          "20170801"
         ],
         "xaxis": "x3",
         "y": [
          263.0577300992615,
          298.41573525273856,
          358.60582624039813,
          309.70245300527347,
          238.84488777404076,
          270.0896030342788,
          285.73613284717806,
          396.1310794399369,
          278.97448522888214,
          294.3047125321945,
          321.46780611745714,
          379.0170926048909,
          391.90646064384396,
          316.0973545914642,
          262.94310799464307,
          287.7777598920566,
          315.7982259868095,
          326.6729981624815,
          281.3017484176924,
          255.04691856537445,
          245.8408977133025,
          292.3218169124062,
          279.9676394893957,
          290.2301687170085,
          328.17982807712815,
          330.67307569100177,
          254.14225580294837,
          295.21878228677826,
          316.77873158457123,
          307.74540019114517,
          300.88302462333826,
          391.90646064384396,
          378.8570347110544,
          259.99648120762333,
          250.29943930251213,
          330.45552761488926,
          356.845170457463,
          281.97669843324576,
          294.5486451575838,
          254.86254053809213,
          249.07162906457222,
          273.2081542526922,
          275.8026164937376,
          324.6410608533369,
          271.0649028361765,
          259.9056222222551,
          322.01647516235846,
          294.11707205112583,
          309.1065308379259,
          337.3689847727978,
          463.2937297826611,
          614.0076900199233,
          273.15880306875925,
          290.9252292846135,
          254.55381627943888,
          291.36938994000985,
          332.01008990877654,
          331.13594393804965,
          290.567035207681,
          297.4200313210697,
          284.4140230810371,
          296.3228107591322,
          272.41853530976533,
          224.30784035061922,
          261.29646361366144,
          269.16135717019205,
          316.5654125734032,
          288.0590643715858,
          277.2141829658565,
          280.7827978237586,
          276.9158010937284,
          393.08218002577553,
          246.96435944771326,
          300.3452242272614,
          295.0495782275797,
          264.57322338970596,
          334.69654548577057,
          304.00329302683963,
          276.86014186372887,
          304.8344708614994,
          308.60940352724623,
          270.1304349637841,
          284.34782627766754,
          295.52075289737786,
          264.1790332966155,
          384.9392346768424,
          484.13511438202863,
          271.7164256826783,
          329.7892866317947,
          276.5568996492012,
          344.022616725178,
          297.04217866156336,
          321.1800687333653,
          337.56209810123096,
          448.1087501109908,
          271.1513520716622,
          374.87159315452493,
          300.1590955415378,
          356.03918136571934,
          262.77783891356535,
          215.01708995870447,
          290.60797167361613,
          274.28764991719186,
          346.4453112091581,
          287.7073306587828,
          316.520297219884,
          294.43553123855247,
          333.93629683268927,
          325.1794374053325,
          384.1989669178484,
          345.23396396716805,
          258.72358176837764,
          344.8053334046177,
          238.53611591450232,
          364.21173742501236,
          303.5388112957062,
          280.3337059636235,
          352.83348141025823,
          331.26982214978256,
          307.7845668380386,
          332.7167091332707,
          375.03310612012365,
          271.628052451146,
          303.1558970880888,
          323.29511947334805,
          356.4033614902864,
          287.3665927082451,
          270.0932770729255,
          362.05438567023003,
          295.56872704557543,
          334.56257159725556,
          298.71822987474957,
          384.2706057332349,
          315.598109647565,
          290.0358915878817,
          307.4458390280146,
          315.70555937525194,
          328.7535338429503,
          338.6071819962812,
          295.61867950916263,
          415.7343734509897,
          402.2429935433254,
          337.0395561537058,
          284.8053057503355,
          281.4401162231119,
          265.1771041623792,
          347.77779317534714,
          311.89948245610816,
          356.26359938107754,
          266.22855766672063,
          210.93343866313452,
          313.1332620544313,
          324.395102022476,
          351.7752390739144,
          321.0956542914148,
          348.0507111684221,
          320.80131865231186,
          297.2014124586925,
          379.75736036388486,
          256.39758254669675,
          287.88862072220985,
          281.4461909072523,
          239.1105760321601,
          290.861777762414,
          340.8674797227853,
          346.1242312173053,
          378.3498089911499,
          323.420022833411,
          340.5493733056666,
          298.74469628507876,
          367.7650226681832,
          306.9303287635512,
          277.6994263293399,
          324.0596141771817,
          270.7809011676823,
          303.9192910116346,
          337.6946833714985,
          284.2628194536682,
          422.8409439373315,
          330.45552761488926,
          354.4660764425292,
          346.4453112091581,
          359.6014622677337,
          276.82012739026976,
          360.6584521818415,
          234.34063008680496,
          277.8248113475746,
          331.2343298599678,
          297.2078734994207,
          359.7701308710488,
          386.5921800610653,
          438.2385133244051,
          242.3848148020117,
          299.3231012790281,
          319.7956718853767,
          302.0292456695225,
          358.3917012508532,
          278.0404766315257,
          384.06833143096713,
          363.5488110736745,
          321.96010959695286,
          297.4443614847859,
          286.8755291912938,
          291.81355059540624,
          180.96819405131552,
          364.0611744909797,
          343.1515355623986,
          377.8858969282261,
          318.5911684131154,
          312.18148922143916,
          288.63278719224525,
          543.6526422051404,
          343.19535519406287,
          292.1874124420348,
          374.5552047424618,
          303.2870457556006,
          347.7143416531477,
          361.39510887859643,
          416.91880186538003,
          248.40694109076233,
          211.75138370469338,
          255.2443233011062,
          327.55284389511587,
          292.8170246687091,
          362.16176516933683,
          311.89948245610816,
          313.32361662102977,
          328.4622212589642,
          325.64139922091584,
          330.6796086662604,
          369.3871746270221,
          309.925435098791,
          397.02523890531467,
          296.7928253111654,
          303.1396473080133,
          476.7324367920894,
          366.699037095232,
          314.9242324390941,
          371.44651923456126,
          377.53655708690303,
          385.2776427952396,
          256.978664907892,
          341.81059132676137,
          347.27811243802626,
          360.928810841648,
          383.49480978124444,
          426.3942291805023,
          692.8906224183162,
          378.47377681847337,
          418.10323027977023,
          330.6730756910017,
          356.64455588863,
          351.5109451302074,
          318.75058799032644,
          316.95304369084005,
          300.07074199218414,
          340.21552539320925,
          329.74915163281315,
          323.3308281222048,
          362.0409200738791,
          382.23196972966457,
          350.57814297594774,
          362.5391659193357,
          349.193555264423,
          419.65343805742816,
          388.0365893169843,
          308.8989304729861,
          388.77120895869325,
          408.0726021454026,
          396.5466331378671,
          464.05905275811335,
          386.96142953067937,
          311.5078483959433,
          376.2013502087177,
          343.64008601718115,
          396.41338494124824,
          338.17473348798455,
          364.17361204686677,
          292.85947730004926,
          359.21026449870044,
          301.67032796819205,
          381.85233909259574,
          420.01653771840074,
          345.233963967168,
          316.62652558741354,
          392.9169963109587,
          359.66179900387897,
          301.7472389041914,
          408.627802964648,
          296.9531238935641,
          388.77120895869325,
          353.85674936429257,
          320.05440624774354,
          381.47910672469095,
          311.35981483324446,
          339.2814296705072,
          319.79567188537663,
          397.7946162476637,
          386.9991101801297,
          345.69249653899476,
          335.2843511504804,
          412.2136871550039,
          245.5261852453302,
          282.23237074328483,
          368.0188287569811,
          330.0248263732928,
          342.986961067904,
          352.2225057478799,
          413.6487495039112,
          351.29070017711837,
          301.2764309993591,
          275.0732886523642,
          379.69390884168536,
          310.7448509829604,
          349.54410647936527,
          281.3017484176924,
          329.4864498212972,
          403.0757947721936,
          321.9419515624598,
          343.6610205335391,
          389.8162928537435,
          274.6393385867471,
          317.66370073947417,
          326.45808171632206,
          275.024277821424,
          374.9651006609242,
          317.19570707330047,
          574.4477809792877,
          241.15739191356275,
          359.304228085668,
          346.86832135715457,
          317.87497715933836,
          308.1628928154721,
          340.63084444760574,
          330.9929993323437,
          303.4975453567831,
          301.8936240953556,
          300.3486377842389,
          381.9781636408666,
          267.0458703372733,
          426.3942291805023,
          385.63595727354243,
          343.9662749929924,
          318.287201734974,
          315.7882073254096,
          336.24606652968623,
          303.4975453567831,
          307.9513877414738,
          271.0911586384659,
          329.17934770360955,
          316.51183007296765
         ],
         "yaxis": "y3"
        },
        {
         "hovertemplate": "source=(direct)<br>medium=(none)<br>metric=hits_efficiency<br>Date=%{x}<br>Metric Value=%{y}<extra></extra>",
         "legendgroup": "(direct), (none)",
         "line": {
          "color": "#636efa",
          "dash": "solid"
         },
         "marker": {
          "symbol": "circle"
         },
         "mode": "lines",
         "name": "(direct), (none)",
         "showlegend": false,
         "type": "scattergl",
         "x": [
          "20160801",
          "20160802",
          "20160804",
          "20160805",
          "20160806",
          "20160807",
          "20160808",
          "20160809",
          "20160810",
          "20160811",
          "20160812",
          "20160813",
          "20160814",
          "20160815",
          "20160816",
          "20160817",
          "20160818",
          "20160819",
          "20160820",
          "20160821",
          "20160822",
          "20160823",
          "20160824",
          "20160825",
          "20160826",
          "20160827",
          "20160828",
          "20160829",
          "20160830",
          "20160831",
          "20160901",
          "20160902",
          "20160903",
          "20160904",
          "20160905",
          "20160906",
          "20160907",
          "20160908",
          "20160909",
          "20160910",
          "20160911",
          "20160912",
          "20160913",
          "20160914",
          "20160915",
          "20160916",
          "20160918",
          "20160919",
          "20160920",
          "20160921",
          "20160922",
          "20160923",
          "20160925",
          "20160926",
          "20160927",
          "20160928",
          "20160929",
          "20160930",
          "20161002",
          "20161003",
          "20161004",
          "20161005",
          "20161006",
          "20161007",
          "20161008",
          "20161009",
          "20161010",
          "20161011",
          "20161012",
          "20161013",
          "20161014",
          "20161015",
          "20161016",
          "20161017",
          "20161018",
          "20161019",
          "20161020",
          "20161021",
          "20161022",
          "20161023",
          "20161024",
          "20161025",
          "20161026",
          "20161027",
          "20161028",
          "20161029",
          "20161030",
          "20161031",
          "20161101",
          "20161102",
          "20161103",
          "20161104",
          "20161105",
          "20161106",
          "20161107",
          "20161108",
          "20161109",
          "20161110",
          "20161111",
          "20161112",
          "20161113",
          "20161114",
          "20161115",
          "20161116",
          "20161117",
          "20161118",
          "20161119",
          "20161120",
          "20161121",
          "20161122",
          "20161123",
          "20161124",
          "20161125",
          "20161126",
          "20161127",
          "20161128",
          "20161129",
          "20161130",
          "20161201",
          "20161202",
          "20161203",
          "20161204",
          "20161205",
          "20161206",
          "20161207",
          "20161208",
          "20161209",
          "20161210",
          "20161211",
          "20161212",
          "20161213",
          "20161214",
          "20161215",
          "20161216",
          "20161217",
          "20161218",
          "20161219",
          "20161220",
          "20161221",
          "20161222",
          "20161223",
          "20161224",
          "20161226",
          "20161227",
          "20161228",
          "20161229",
          "20161230",
          "20161231",
          "20170102",
          "20170103",
          "20170104",
          "20170105",
          "20170106",
          "20170108",
          "20170109",
          "20170110",
          "20170111",
          "20170112",
          "20170113",
          "20170116",
          "20170117",
          "20170118",
          "20170119",
          "20170120",
          "20170122",
          "20170123",
          "20170124",
          "20170125",
          "20170126",
          "20170127",
          "20170128",
          "20170129",
          "20170130",
          "20170131",
          "20170201",
          "20170202",
          "20170203",
          "20170204",
          "20170205",
          "20170206",
          "20170207",
          "20170208",
          "20170209",
          "20170210",
          "20170211",
          "20170212",
          "20170213",
          "20170214",
          "20170215",
          "20170216",
          "20170217",
          "20170218",
          "20170219",
          "20170220",
          "20170221",
          "20170222",
          "20170223",
          "20170224",
          "20170225",
          "20170227",
          "20170228",
          "20170301",
          "20170302",
          "20170303",
          "20170304",
          "20170305",
          "20170306",
          "20170307",
          "20170308",
          "20170309",
          "20170310",
          "20170311",
          "20170312",
          "20170313",
          "20170314",
          "20170315",
          "20170316",
          "20170317",
          "20170318",
          "20170319",
          "20170320",
          "20170321",
          "20170322",
          "20170323",
          "20170324",
          "20170325",
          "20170326",
          "20170327",
          "20170328",
          "20170329",
          "20170330",
          "20170331",
          "20170401",
          "20170402",
          "20170403",
          "20170404",
          "20170405",
          "20170406",
          "20170407",
          "20170408",
          "20170409",
          "20170410",
          "20170411",
          "20170412",
          "20170413",
          "20170414",
          "20170415",
          "20170416",
          "20170417",
          "20170418",
          "20170419",
          "20170420",
          "20170421",
          "20170422",
          "20170423",
          "20170424",
          "20170425",
          "20170426",
          "20170427",
          "20170428",
          "20170429",
          "20170430",
          "20170501",
          "20170502",
          "20170503",
          "20170504",
          "20170505",
          "20170506",
          "20170507",
          "20170508",
          "20170509",
          "20170510",
          "20170511",
          "20170512",
          "20170513",
          "20170514",
          "20170515",
          "20170516",
          "20170517",
          "20170518",
          "20170519",
          "20170520",
          "20170521",
          "20170522",
          "20170523",
          "20170524",
          "20170525",
          "20170526",
          "20170527",
          "20170528",
          "20170529",
          "20170530",
          "20170531",
          "20170601",
          "20170602",
          "20170603",
          "20170604",
          "20170605",
          "20170606",
          "20170607",
          "20170608",
          "20170609",
          "20170610",
          "20170611",
          "20170612",
          "20170613",
          "20170614",
          "20170615",
          "20170616",
          "20170618",
          "20170619",
          "20170620",
          "20170621",
          "20170622",
          "20170623",
          "20170624",
          "20170625",
          "20170626",
          "20170627",
          "20170628",
          "20170629",
          "20170630",
          "20170703",
          "20170704",
          "20170705",
          "20170706",
          "20170707",
          "20170708",
          "20170709",
          "20170710",
          "20170711",
          "20170712",
          "20170713",
          "20170714",
          "20170715",
          "20170717",
          "20170718",
          "20170719",
          "20170720",
          "20170721",
          "20170722",
          "20170723",
          "20170724",
          "20170725",
          "20170726",
          "20170727",
          "20170728",
          "20170729",
          "20170730",
          "20170731",
          "20170801"
         ],
         "xaxis": "x2",
         "y": [
          203.4074511651886,
          243.40822645039043,
          269.60875987416796,
          247.26906725354726,
          167.1914214418285,
          180.7366516545174,
          217.75430198390893,
          309.55938658220236,
          204.94685769885936,
          218.35510929807978,
          249.92161756082794,
          310.1048939494562,
          317.2576109973975,
          232.56411974447064,
          190.8458041896603,
          207.79796688309543,
          242.92171229754575,
          250.04599859350438,
          210.97631131326932,
          207.41767473690092,
          170.4565971500032,
          221.5251268789328,
          223.48294029416678,
          221.90750254043647,
          233.66403759091526,
          245.49970770998615,
          184.49750301079425,
          244.8819392240557,
          243.32279382583008,
          229.80987676611488,
          216.9156689144997,
          317.2576109973975,
          286.07572008793903,
          222.08032769817828,
          171.5126908537795,
          219.17968668334493,
          278.67908550011396,
          228.94824469803834,
          233.93413297081415,
          187.3429868880752,
          187.7061552370689,
          208.3791007012059,
          208.50677806926564,
          248.42098569646652,
          191.01889126039282,
          189.57821856211547,
          286.2368668109853,
          235.10329060397436,
          237.87479328753707,
          262.2925064712456,
          354.28344042203497,
          548.221151803503,
          198.66094768637035,
          228.92477058461392,
          192.3118173145604,
          198.66094768637038,
          252.96006850192498,
          268.3342993980747,
          243.44805652535436,
          234.3979428998765,
          227.3377395375637,
          238.63863693135445,
          233.5016016940846,
          164.62504469191788,
          218.63581649306366,
          207.04719782322465,
          245.80373211581895,
          237.9028978692391,
          213.42012412434138,
          218.76250111569948,
          204.61000858592158,
          393.08218002577553,
          185.80028911720484,
          228.78282423087418,
          229.48300528811754,
          197.41232822154984,
          263.786260425226,
          273.60296372415564,
          221.48811349098312,
          241.3272894320204,
          257.70475964646334,
          182.85752520625385,
          214.54402776907042,
          239.41921959333018,
          200.48104303474122,
          288.70442600763175,
          387.3080915056229,
          210.01189873481908,
          195.43068837439685,
          226.5219342521418,
          270.3034845697827,
          224.7531528810944,
          247.3086529246913,
          238.27912807145714,
          366.63443190899244,
          216.35421471920083,
          327.557702756381,
          237.62595063705075,
          301.72811980145707,
          201.77584059434483,
          159.12817126907734,
          221.9188147325796,
          213.33483882448255,
          275.11833537197845,
          229.2302309313879,
          263.5215497784151,
          232.54780811197776,
          237.14316731596773,
          255.49812938990414,
          291.1823749272114,
          266.49639323781395,
          185.3542078340616,
          278.41424436397705,
          179.63830951585976,
          292.87129401186564,
          241.88249025126586,
          226.005468373774,
          286.8508421701509,
          255.09547801908388,
          234.97531446774988,
          235.27824431566998,
          307.8629975612955,
          215.88525212204124,
          233.6351838460835,
          261.27523941111394,
          297.17906403195985,
          223.95706286182482,
          200.11456437675847,
          280.04206626426634,
          240.02561055378942,
          268.34706263529876,
          216.89112400146834,
          305.4458660956483,
          256.80561530189345,
          241.8810775265349,
          254.65210909391106,
          255.13414391372103,
          267.9566474473362,
          267.73591134589674,
          213.99262621185656,
          366.824447162638,
          343.2473544903043,
          272.84154545776187,
          236.13604464110094,
          213.57512365867356,
          213.4094623139466,
          339.2954079759484,
          247.6848831269094,
          356.26359938107754,
          215.363751933648,
          148.860383143738,
          250.50660964354506,
          260.8401432588889,
          319.79567188537675,
          272.3776929506484,
          300.9188440310316,
          232.91054641880177,
          229.76915921176226,
          307.21943759774956,
          191.7934672593401,
          228.75474187116134,
          245.516889940369,
          180.32922609092074,
          199.61102395459787,
          299.1286046546891,
          308.9065719466273,
          327.5955663216054,
          255.06310949007175,
          263.5758848187694,
          238.59475743573407,
          262.6893019058451,
          228.23024446520472,
          230.6815340407744,
          253.1715735759232,
          211.59010116369146,
          249.14313972465396,
          281.0626557253466,
          234.5168260492763,
          333.8217978452617,
          257.49781372588774,
          283.0233013455853,
          278.4513716260523,
          299.037005464747,
          212.6438348811069,
          284.73035698566434,
          189.03477493668933,
          220.2644222562263,
          281.16402418346104,
          240.80999388959088,
          318.5750777178753,
          311.22971638844695,
          422.58713784853353,
          168.73197052515732,
          230.60096067925124,
          259.3214903429497,
          220.20458947220163,
          324.79247925858573,
          217.03159506849306,
          352.92765590953735,
          312.2791069478999,
          268.7548372483039,
          224.89695624459418,
          216.75039983342197,
          226.65130143332524,
          157.40366827454199,
          286.3947905995707,
          265.56944926133457,
          326.52276530691375,
          263.5076486407543,
          262.2324509460089,
          200.50681015035522,
          453.04386850428364,
          335.0240372132518,
          240.31982443457304,
          314.28195340459433,
          250.15646839695526,
          292.0800469886441,
          264.59284757182957,
          360.79511699888656,
          178.9831671614663,
          174.51343545260124,
          206.95485673062663,
          275.76583300260745,
          219.61276850153186,
          300.5172093958327,
          247.6848831269094,
          227.28137993235322,
          249.38798280773204,
          232.60099944351134,
          262.1816897282493,
          288.9763611027724,
          253.5753559899199,
          341.30239835720033,
          218.56835972527685,
          202.09309820534222,
          429.05919311288045,
          319.7956718853767,
          247.15572672435235,
          272.95691186176094,
          316.0771175611281,
          313.59808134496245,
          194.4703410113777,
          249.57598731795272,
          281.33923032954027,
          267.78589191477107,
          316.5762523697521,
          426.3942291805023,
          692.8906224183162,
          303.33560053833526,
          354.9933087281068,
          245.49970770998613,
          288.8820902697903,
          312.7413555937875,
          258.0361902778833,
          276.4125381024768,
          210.54687421551043,
          283.20643735434714,
          267.0163862002292,
          267.39595912216095,
          303.8993957975071,
          326.2955839155673,
          290.0801448517798,
          304.73690734368546,
          300.78583495185836,
          368.6877750375338,
          328.86788952751505,
          236.40224270891792,
          330.45552761488926,
          318.4956894793386,
          319.7956718853767,
          419.33046935974096,
          303.16086517371696,
          255.93045694204153,
          315.27413924946524,
          280.8241563151158,
          373.0949505329395,
          254.72902002991046,
          296.6868937304894,
          236.83418599047462,
          296.84737135656496,
          231.5144377430311,
          318.6616446801094,
          383.9213665082257,
          266.4963932378139,
          245.08747796515274,
          297.14347846016256,
          269.7463492529092,
          209.66995644445652,
          334.33183878925746,
          234.98029803751595,
          330.45552761488926,
          266.97227965431,
          248.79701013975537,
          311.48294035318804,
          235.21203403163577,
          250.4220076139458,
          251.2680279099388,
          332.8485564521268,
          321.7221518364934,
          261.4853499461627,
          258.08071766188294,
          332.8243844436698,
          168.2819921344398,
          217.89999211797726,
          297.2459770729463,
          242.0182060070814,
          279.0763472043194,
          298.03442794051375,
          345.9607723123621,
          249.30307754505174,
          235.4345619730091,
          214.3108308604987,
          337.86322396929626,
          261.4202714618555,
          268.39993890379833,
          210.97631131326932,
          329.4864498212972,
          339.43224822921565,
          263.5678614439918,
          261.6510042698537,
          325.91198254985113,
          227.2877284855838,
          273.84801787885704,
          270.17220555833546,
          212.64763749079174,
          277.57156802172307,
          228.15831561412838,
          574.4477809792877,
          175.12620127056343,
          273.3005564694177,
          295.3068141283884,
          220.525765404291,
          240.42430027708662,
          281.72475856568894,
          260.84878755330396,
          219.89941909084285,
          239.68524094843386,
          236.44467229823064,
          298.9394324145913,
          170.41743041260204,
          319.7956718853767,
          345.04269861316953,
          287.1951422271587,
          239.2797403113989,
          244.18506729232251,
          261.88395566254405,
          219.89941909084285,
          259.8339834068685,
          212.47685406798678,
          224.72820852842577,
          246.43541013061318
         ],
         "yaxis": "y2"
        },
        {
         "hovertemplate": "source=(direct)<br>medium=(none)<br>metric=visits_efficiency<br>Date=%{x}<br>Metric Value=%{y}<extra></extra>",
         "legendgroup": "(direct), (none)",
         "line": {
          "color": "#636efa",
          "dash": "solid"
         },
         "marker": {
          "symbol": "circle"
         },
         "mode": "lines",
         "name": "(direct), (none)",
         "showlegend": false,
         "type": "scattergl",
         "x": [
          "20160801",
          "20160802",
          "20160804",
          "20160805",
          "20160806",
          "20160807",
          "20160808",
          "20160809",
          "20160810",
          "20160811",
          "20160812",
          "20160813",
          "20160814",
          "20160815",
          "20160816",
          "20160817",
          "20160818",
          "20160819",
          "20160820",
          "20160821",
          "20160822",
          "20160823",
          "20160824",
          "20160825",
          "20160826",
          "20160827",
          "20160828",
          "20160829",
          "20160830",
          "20160831",
          "20160901",
          "20160902",
          "20160903",
          "20160904",
          "20160905",
          "20160906",
          "20160907",
          "20160908",
          "20160909",
          "20160910",
          "20160911",
          "20160912",
          "20160913",
          "20160914",
          "20160915",
          "20160916",
          "20160918",
          "20160919",
          "20160920",
          "20160921",
          "20160922",
          "20160923",
          "20160925",
          "20160926",
          "20160927",
          "20160928",
          "20160929",
          "20160930",
          "20161002",
          "20161003",
          "20161004",
          "20161005",
          "20161006",
          "20161007",
          "20161008",
          "20161009",
          "20161010",
          "20161011",
          "20161012",
          "20161013",
          "20161014",
          "20161015",
          "20161016",
          "20161017",
          "20161018",
          "20161019",
          "20161020",
          "20161021",
          "20161022",
          "20161023",
          "20161024",
          "20161025",
          "20161026",
          "20161027",
          "20161028",
          "20161029",
          "20161030",
          "20161031",
          "20161101",
          "20161102",
          "20161103",
          "20161104",
          "20161105",
          "20161106",
          "20161107",
          "20161108",
          "20161109",
          "20161110",
          "20161111",
          "20161112",
          "20161113",
          "20161114",
          "20161115",
          "20161116",
          "20161117",
          "20161118",
          "20161119",
          "20161120",
          "20161121",
          "20161122",
          "20161123",
          "20161124",
          "20161125",
          "20161126",
          "20161127",
          "20161128",
          "20161129",
          "20161130",
          "20161201",
          "20161202",
          "20161203",
          "20161204",
          "20161205",
          "20161206",
          "20161207",
          "20161208",
          "20161209",
          "20161210",
          "20161211",
          "20161212",
          "20161213",
          "20161214",
          "20161215",
          "20161216",
          "20161217",
          "20161218",
          "20161219",
          "20161220",
          "20161221",
          "20161222",
          "20161223",
          "20161224",
          "20161226",
          "20161227",
          "20161228",
          "20161229",
          "20161230",
          "20161231",
          "20170102",
          "20170103",
          "20170104",
          "20170105",
          "20170106",
          "20170108",
          "20170109",
          "20170110",
          "20170111",
          "20170112",
          "20170113",
          "20170116",
          "20170117",
          "20170118",
          "20170119",
          "20170120",
          "20170122",
          "20170123",
          "20170124",
          "20170125",
          "20170126",
          "20170127",
          "20170128",
          "20170129",
          "20170130",
          "20170131",
          "20170201",
          "20170202",
          "20170203",
          "20170204",
          "20170205",
          "20170206",
          "20170207",
          "20170208",
          "20170209",
          "20170210",
          "20170211",
          "20170212",
          "20170213",
          "20170214",
          "20170215",
          "20170216",
          "20170217",
          "20170218",
          "20170219",
          "20170220",
          "20170221",
          "20170222",
          "20170223",
          "20170224",
          "20170225",
          "20170227",
          "20170228",
          "20170301",
          "20170302",
          "20170303",
          "20170304",
          "20170305",
          "20170306",
          "20170307",
          "20170308",
          "20170309",
          "20170310",
          "20170311",
          "20170312",
          "20170313",
          "20170314",
          "20170315",
          "20170316",
          "20170317",
          "20170318",
          "20170319",
          "20170320",
          "20170321",
          "20170322",
          "20170323",
          "20170324",
          "20170325",
          "20170326",
          "20170327",
          "20170328",
          "20170329",
          "20170330",
          "20170331",
          "20170401",
          "20170402",
          "20170403",
          "20170404",
          "20170405",
          "20170406",
          "20170407",
          "20170408",
          "20170409",
          "20170410",
          "20170411",
          "20170412",
          "20170413",
          "20170414",
          "20170415",
          "20170416",
          "20170417",
          "20170418",
          "20170419",
          "20170420",
          "20170421",
          "20170422",
          "20170423",
          "20170424",
          "20170425",
          "20170426",
          "20170427",
          "20170428",
          "20170429",
          "20170430",
          "20170501",
          "20170502",
          "20170503",
          "20170504",
          "20170505",
          "20170506",
          "20170507",
          "20170508",
          "20170509",
          "20170510",
          "20170511",
          "20170512",
          "20170513",
          "20170514",
          "20170515",
          "20170516",
          "20170517",
          "20170518",
          "20170519",
          "20170520",
          "20170521",
          "20170522",
          "20170523",
          "20170524",
          "20170525",
          "20170526",
          "20170527",
          "20170528",
          "20170529",
          "20170530",
          "20170531",
          "20170601",
          "20170602",
          "20170603",
          "20170604",
          "20170605",
          "20170606",
          "20170607",
          "20170608",
          "20170609",
          "20170610",
          "20170611",
          "20170612",
          "20170613",
          "20170614",
          "20170615",
          "20170616",
          "20170618",
          "20170619",
          "20170620",
          "20170621",
          "20170622",
          "20170623",
          "20170624",
          "20170625",
          "20170626",
          "20170627",
          "20170628",
          "20170629",
          "20170630",
          "20170703",
          "20170704",
          "20170705",
          "20170706",
          "20170707",
          "20170708",
          "20170709",
          "20170710",
          "20170711",
          "20170712",
          "20170713",
          "20170714",
          "20170715",
          "20170717",
          "20170718",
          "20170719",
          "20170720",
          "20170721",
          "20170722",
          "20170723",
          "20170724",
          "20170725",
          "20170726",
          "20170727",
          "20170728",
          "20170729",
          "20170730",
          "20170731",
          "20170801"
         ],
         "xaxis": "x",
         "y": [
          11212.835745481021,
          8803.264189955788,
          7387.280020552202,
          8474.585304962484,
          15883.18503697371,
          12018.987335025407,
          9762.651205611917,
          6677.638196273222,
          10426.67138542947,
          9476.611743536663,
          8197.429055995157,
          6822.307666888036,
          6662.4098309453475,
          8604.872430545414,
          11832.439859758939,
          10000.277156248967,
          8421.28602631492,
          8101.490354429542,
          10126.862943036927,
          11477.11133544185,
          14705.755517759368,
          9451.738746834466,
          9798.86738212885,
          9505.038025482028,
          8345.144199675544,
          8101.490354429543,
          12791.826875415069,
          8856.563468603348,
          8394.636386991138,
          8847.680255495423,
          9327.373763323487,
          6662.4098309453475,
          7008.855142154506,
          10659.855729512557,
          14166.948264522187,
          8591.843717987122,
          7315.325994377991,
          9587.207746730355,
          9094.1894192404,
          12551.980121501038,
          12951.724711357756,
          10538.028806889557,
          10425.338903463282,
          8162.403815741042,
          11384.725919119412,
          12085.611433334861,
          7728.395403896603,
          9080.86459957851,
          8654.982863461926,
          7759.486649774349,
          6022.818487174594,
          5116.730750166027,
          10926.35212275037,
          9309.607337107633,
          12269.493944668953,
          10197.928647900346,
          7968.242157810637,
          7781.694682544166,
          9007.578091438112,
          9007.578091438112,
          9548.185060577674,
          8948.948884925792,
          9807.067271151553,
          18561.47378901374,
          10713.15500816012,
          10766.454286807682,
          8357.326891937844,
          9191.702872220601,
          10201.481933143517,
          9903.975050510759,
          10522.80044156168,
          6289.3148804124085,
          13253.753957027278,
          9053.263187421735,
          9179.320211524702,
          11406.045630578436,
          7781.694682544166,
          8208.08891172467,
          9966.96510709424,
          8687.782419552734,
          8332.453895235649,
          11885.739138406501,
          9904.782615338752,
          8954.278812790548,
          11284.218707955433,
          6928.9062241831625,
          5809.621372584344,
          10542.597316487918,
          9234.100025690252,
          9837.5240018073,
          7568.497567953916,
          9235.311372932243,
          8243.621764156376,
          8101.490354429543,
          6049.468126498376,
          10348.943270735106,
          6747.6886767814485,
          8871.368823783228,
          7120.783627314387,
          11299.44707328331,
          22039.25172076721,
          9493.193741338127,
          10320.072828134344,
          7483.218722117815,
          9398.439468186903,
          8093.876171765606,
          9127.501468395127,
          8181.439272400887,
          8048.1910757819805,
          6915.581404521271,
          7595.147207277697,
          12418.731924882128,
          7470.782223766717,
          14550.70307078464,
          7102.128879787741,
          8707.769649045571,
          9718.235140072282,
          7286.011391121833,
          7950.475731594782,
          8741.081698200296,
          8234.73855104845,
          6875.6069455356,
          10344.501664181143,
          8878.136986151172,
          8001.554206965364,
          7153.524612769319,
          9540.570877913739,
          11006.301040721715,
          7241.087713404601,
          8940.953993128656,
          7728.395403896604,
          9388.287224634987,
          6807.079301560161,
          8205.550850836691,
          9053.263187421735,
          8403.519600099065,
          8228.076141217503,
          7824.334105462217,
          7675.096125249041,
          9558.337304129593,
          6236.015601764846,
          6435.887896693206,
          7639.563272817332,
          9327.373763323487,
          10038.030811957657,
          10713.15500816012,
          6955.555863506943,
          8421.28602631492,
          6769.008388240473,
          10595.89659513548,
          27315.880306875923,
          8350.220321451501,
          7988.229387303471,
          7035.504781478288,
          7898.953095568804,
          7222.052256744758,
          8501.234944286265,
          9114.176648733237,
          6835.632486549927,
          12178.885170968097,
          9404.361610258855,
          9231.435061757875,
          14426.33808727366,
          10180.162221684492,
          7328.650814039884,
          7182.077797759085,
          6715.709109592911,
          8085.500570835275,
          7696.415836708065,
          8887.654714481094,
          7355.300453363664,
          8900.979534142984,
          9688.624429712525,
          8101.490354429542,
          10526.60753289365,
          8570.524006528096,
          7541.8479286301335,
          9380.673041971051,
          6342.614159059972,
          7930.932662757342,
          7302.001174716102,
          7448.574190996899,
          7102.128879787741,
          10242.344713439981,
          7213.16904363683,
          14177.6081202517,
          9966.96510709424,
          7635.822972561363,
          8883.21310792713,
          6955.555863506944,
          6746.657077839882,
          5916.219929879469,
          15270.243332526738,
          9039.557658626649,
          8090.83049870003,
          9211.891992920435,
          6928.9062241831625,
          10055.79723817351,
          6529.161634326441,
          6959.362954838913,
          7928.267698824964,
          9220.775206028362,
          9753.767992503988,
          9338.033619053,
          51575.93530462492,
          7159.869764989267,
          7635.121666263369,
          6726.368965322424,
          8055.805258445917,
          8194.764092062778,
          10225.847317668116,
          5436.526422051404,
          7035.504781478288,
          9025.344517653964,
          6835.632486549927,
          8567.859042595717,
          7302.001174716102,
          7408.599732011227,
          6253.782027980701,
          13662.381759991928,
          19516.419198115906,
          11485.99454854978,
          7752.0839721844095,
          9487.271599266176,
          7062.154420802069,
          8421.28602631492,
          8773.061265388835,
          8080.170642970518,
          8412.402813206993,
          7865.450691847479,
          7079.920847017923,
          8367.986747667357,
          6484.745568786806,
          9398.439468186903,
          9700.468713856426,
          5720.789241505073,
          6875.606945535599,
          8367.986747667357,
          7206.062473150489,
          6795.658027564255,
          6742.358748916693,
          11992.337695701624,
          7861.643600515511,
          7408.5997320112265,
          7378.98902165147,
          6738.551657584723,
          5969.519208527032,
          4850.234356928213,
          6875.6069455356,
          6271.548454196553,
          8101.490354429542,
          7222.052256744758,
          7088.80406012585,
          8128.139993753324,
          7923.826092271001,
          9527.246058251847,
          7484.741558650603,
          7819.765595863855,
          7921.605288994018,
          7037.170383936024,
          6689.05947026913,
          7284.234748500247,
          7025.421134166586,
          7209.157269975186,
          6203.572562588069,
          6624.3389176256605,
          8687.782419552734,
          6609.110552297785,
          6529.161634326441,
          6609.110552297785,
          5800.7381594764165,
          6799.465118896223,
          8299.45910369192,
          6813.42445378011,
          7461.89901065879,
          6342.614159059972,
          7845.653816921242,
          7071.037633909997,
          9078.643796301527,
          7124.336912557559,
          8959.608740655303,
          6739.693784984314,
          6142.741864131611,
          7595.147207277696,
          8367.986747667357,
          6791.850936232287,
          7373.066879579518,
          9505.038025482028,
          6435.887896693206,
          9007.578091438112,
          6609.110552297785,
          7475.2238303206805,
          8241.400960879397,
          6790.328099699499,
          8655.802852364195,
          7888.293239839292,
          8208.088911724668,
          6523.831706461685,
          6675.734650607238,
          7648.446485925259,
          7845.653816921242,
          6418.755985699347,
          14977.097299965142,
          9878.13297601497,
          7025.814003542368,
          8168.114452738997,
          7488.548649982571,
          7195.402617420975,
          6342.614159059972,
          7728.395403896604,
          8887.654714481094,
          10256.304048323867,
          6644.643404729493,
          8234.73855104845,
          7515.198289306353,
          10126.862943036927,
          7248.701896068538,
          6449.212716355098,
          7994.891797134417,
          7675.096125249041,
          6626.876978513639,
          9887.016189122896,
          7941.592518486855,
          7834.993961191729,
          10313.4104183034,
          7124.336912557559,
          8670.01599333688,
          5170.0300288135895,
          14710.600906727328,
          7340.072088035789,
          7284.2347485002465,
          8821.03061617164,
          8628.56099883322,
          7493.878577847327,
          7877.63338410978,
          9180.80074704269,
          8788.458834775907,
          8890.319678413473,
          6875.606945535599,
          12951.724711357756,
          6395.913437707534,
          6555.811273650222,
          7395.274912349337,
          8434.610845976811,
          8399.966314855894,
          7781.694682544167,
          9180.80074704269,
          8314.687469019793,
          10482.191467354014,
          8498.812249802284,
          8347.999518174522
         ],
         "yaxis": "y"
        },
        {
         "hovertemplate": "source=basecamp.com<br>medium=referral<br>metric=pageviews_efficiency<br>Date=%{x}<br>Metric Value=%{y}<extra></extra>",
         "legendgroup": "basecamp.com, referral",
         "line": {
          "color": "#EF553B",
          "dash": "dot"
         },
         "marker": {
          "symbol": "circle"
         },
         "mode": "lines",
         "name": "basecamp.com, referral",
         "showlegend": true,
         "type": "scattergl",
         "x": [
          "20160801"
         ],
         "xaxis": "x3",
         "y": [
          257.7944701933139
         ],
         "yaxis": "y3"
        },
        {
         "hovertemplate": "source=basecamp.com<br>medium=referral<br>metric=hits_efficiency<br>Date=%{x}<br>Metric Value=%{y}<extra></extra>",
         "legendgroup": "basecamp.com, referral",
         "line": {
          "color": "#EF553B",
          "dash": "dot"
         },
         "marker": {
          "symbol": "circle"
         },
         "mode": "lines",
         "name": "basecamp.com, referral",
         "showlegend": false,
         "type": "scattergl",
         "x": [
          "20160801"
         ],
         "xaxis": "x2",
         "y": [
          183.07143535467216
         ],
         "yaxis": "y2"
        },
        {
         "hovertemplate": "source=basecamp.com<br>medium=referral<br>metric=visits_efficiency<br>Date=%{x}<br>Metric Value=%{y}<extra></extra>",
         "legendgroup": "basecamp.com, referral",
         "line": {
          "color": "#EF553B",
          "dash": "dot"
         },
         "marker": {
          "symbol": "circle"
         },
         "mode": "lines",
         "name": "basecamp.com, referral",
         "showlegend": false,
         "type": "scattergl",
         "x": [
          "20160801"
         ],
         "xaxis": "x",
         "y": [
          12631.92903947238
         ],
         "yaxis": "y"
        },
        {
         "hovertemplate": "source=gatewaycdi.com<br>medium=referral<br>metric=pageviews_efficiency<br>Date=%{x}<br>Metric Value=%{y}<extra></extra>",
         "legendgroup": "gatewaycdi.com, referral",
         "line": {
          "color": "#00cc96",
          "dash": "dot"
         },
         "marker": {
          "symbol": "circle"
         },
         "mode": "lines",
         "name": "gatewaycdi.com, referral",
         "showlegend": true,
         "type": "scattergl",
         "x": [
          "20160801"
         ],
         "xaxis": "x3",
         "y": [
          441.62259450837735
         ],
         "yaxis": "y3"
        },
        {
         "hovertemplate": "source=gatewaycdi.com<br>medium=referral<br>metric=hits_efficiency<br>Date=%{x}<br>Metric Value=%{y}<extra></extra>",
         "legendgroup": "gatewaycdi.com, referral",
         "line": {
          "color": "#00cc96",
          "dash": "dot"
         },
         "marker": {
          "symbol": "circle"
         },
         "mode": "lines",
         "name": "gatewaycdi.com, referral",
         "showlegend": false,
         "type": "scattergl",
         "x": [
          "20160801"
         ],
         "xaxis": "x2",
         "y": [
          343.48424017318234
         ],
         "yaxis": "y2"
        },
        {
         "hovertemplate": "source=gatewaycdi.com<br>medium=referral<br>metric=visits_efficiency<br>Date=%{x}<br>Metric Value=%{y}<extra></extra>",
         "legendgroup": "gatewaycdi.com, referral",
         "line": {
          "color": "#00cc96",
          "dash": "dot"
         },
         "marker": {
          "symbol": "circle"
         },
         "mode": "lines",
         "name": "gatewaycdi.com, referral",
         "showlegend": false,
         "type": "scattergl",
         "x": [
          "20160801"
         ],
         "xaxis": "x",
         "y": [
          6182.716323117283
         ],
         "yaxis": "y"
        },
        {
         "hovertemplate": "source=google<br>medium=organic<br>metric=pageviews_efficiency<br>Date=%{x}<br>Metric Value=%{y}<extra></extra>",
         "legendgroup": "google, organic",
         "line": {
          "color": "#ab63fa",
          "dash": "dash"
         },
         "marker": {
          "symbol": "circle"
         },
         "mode": "lines",
         "name": "google, organic",
         "showlegend": true,
         "type": "scattergl",
         "x": [
          "20160801",
          "20160802",
          "20160804",
          "20160805",
          "20160806",
          "20160807",
          "20160808",
          "20160809",
          "20160810",
          "20160811",
          "20160812",
          "20160813",
          "20160814",
          "20160815",
          "20160816",
          "20160817",
          "20160818",
          "20160819",
          "20160820",
          "20160821",
          "20160822",
          "20160823",
          "20160824",
          "20160825",
          "20160826",
          "20160827",
          "20160828",
          "20160829",
          "20160830",
          "20160831",
          "20160901",
          "20160902",
          "20160903",
          "20160904",
          "20160905",
          "20160906",
          "20160907",
          "20160908",
          "20160909",
          "20160910",
          "20160911",
          "20160912",
          "20160913",
          "20160914",
          "20160915",
          "20160916",
          "20160917",
          "20160918",
          "20160919",
          "20160920",
          "20160921",
          "20160922",
          "20160923",
          "20160924",
          "20160925",
          "20160926",
          "20160927",
          "20160928",
          "20160929",
          "20160930",
          "20161001",
          "20161002",
          "20161003",
          "20161004",
          "20161005",
          "20161006",
          "20161007",
          "20161008",
          "20161009",
          "20161010",
          "20161011",
          "20161012",
          "20161013",
          "20161014",
          "20161015",
          "20161016",
          "20161017",
          "20161018",
          "20161019",
          "20161020",
          "20161021",
          "20161022",
          "20161023",
          "20161024",
          "20161025",
          "20161026",
          "20161027",
          "20161028",
          "20161029",
          "20161030",
          "20161031",
          "20161101",
          "20161102",
          "20161103",
          "20161104",
          "20161105",
          "20161106",
          "20161107",
          "20161108",
          "20161109",
          "20161110",
          "20161111",
          "20161112",
          "20161113",
          "20161114",
          "20161115",
          "20161116",
          "20161117",
          "20161118",
          "20161119",
          "20161120",
          "20161121",
          "20161122",
          "20161123",
          "20161124",
          "20161125",
          "20161126",
          "20161127",
          "20161128",
          "20161129",
          "20161130",
          "20161201",
          "20161202",
          "20161203",
          "20161204",
          "20161205",
          "20161206",
          "20161207",
          "20161208",
          "20161209",
          "20161210",
          "20161211",
          "20161212",
          "20161213",
          "20161214",
          "20161215",
          "20161216",
          "20161217",
          "20161218",
          "20161219",
          "20161220",
          "20161221",
          "20161222",
          "20161223",
          "20161224",
          "20161225",
          "20161226",
          "20161227",
          "20161228",
          "20161229",
          "20161230",
          "20161231",
          "20170101",
          "20170102",
          "20170103",
          "20170104",
          "20170105",
          "20170106",
          "20170107",
          "20170108",
          "20170109",
          "20170110",
          "20170111",
          "20170112",
          "20170113",
          "20170114",
          "20170115",
          "20170116",
          "20170117",
          "20170118",
          "20170119",
          "20170120",
          "20170121",
          "20170122",
          "20170123",
          "20170124",
          "20170125",
          "20170126",
          "20170127",
          "20170128",
          "20170129",
          "20170130",
          "20170131",
          "20170201",
          "20170202",
          "20170203",
          "20170204",
          "20170205",
          "20170206",
          "20170207",
          "20170208",
          "20170209",
          "20170210",
          "20170211",
          "20170212",
          "20170213",
          "20170214",
          "20170215",
          "20170216",
          "20170217",
          "20170218",
          "20170219",
          "20170220",
          "20170221",
          "20170222",
          "20170223",
          "20170224",
          "20170225",
          "20170226",
          "20170227",
          "20170228",
          "20170301",
          "20170302",
          "20170303",
          "20170304",
          "20170305",
          "20170306",
          "20170307",
          "20170308",
          "20170309",
          "20170310",
          "20170311",
          "20170312",
          "20170313",
          "20170314",
          "20170315",
          "20170316",
          "20170317",
          "20170318",
          "20170319",
          "20170320",
          "20170321",
          "20170322",
          "20170323",
          "20170324",
          "20170325",
          "20170326",
          "20170327",
          "20170328",
          "20170329",
          "20170330",
          "20170331",
          "20170401",
          "20170402",
          "20170403",
          "20170404",
          "20170405",
          "20170406",
          "20170407",
          "20170408",
          "20170409",
          "20170410",
          "20170411",
          "20170412",
          "20170413",
          "20170414",
          "20170415",
          "20170416",
          "20170417",
          "20170418",
          "20170419",
          "20170420",
          "20170421",
          "20170422",
          "20170423",
          "20170424",
          "20170425",
          "20170426",
          "20170427",
          "20170428",
          "20170429",
          "20170430",
          "20170501",
          "20170502",
          "20170503",
          "20170504",
          "20170505",
          "20170506",
          "20170507",
          "20170508",
          "20170509",
          "20170510",
          "20170511",
          "20170512",
          "20170513",
          "20170514",
          "20170515",
          "20170516",
          "20170517",
          "20170518",
          "20170519",
          "20170520",
          "20170521",
          "20170522",
          "20170523",
          "20170524",
          "20170525",
          "20170526",
          "20170527",
          "20170528",
          "20170529",
          "20170530",
          "20170531",
          "20170601",
          "20170602",
          "20170603",
          "20170604",
          "20170605",
          "20170606",
          "20170607",
          "20170608",
          "20170609",
          "20170610",
          "20170611",
          "20170612",
          "20170613",
          "20170614",
          "20170615",
          "20170616",
          "20170617",
          "20170618",
          "20170619",
          "20170620",
          "20170621",
          "20170622",
          "20170623",
          "20170624",
          "20170625",
          "20170626",
          "20170627",
          "20170628",
          "20170629",
          "20170630",
          "20170701",
          "20170702",
          "20170703",
          "20170704",
          "20170705",
          "20170706",
          "20170707",
          "20170708",
          "20170709",
          "20170710",
          "20170711",
          "20170712",
          "20170713",
          "20170714",
          "20170715",
          "20170716",
          "20170717",
          "20170718",
          "20170719",
          "20170720",
          "20170721",
          "20170722",
          "20170723",
          "20170724",
          "20170725",
          "20170726",
          "20170727",
          "20170728",
          "20170729",
          "20170730",
          "20170731",
          "20170801"
         ],
         "xaxis": "x3",
         "y": [
          319.30216004604745,
          303.80588829110786,
          311.84055566932255,
          254.25647538555526,
          282.43636442213176,
          298.02309073849653,
          264.58373969782957,
          260.85294020454256,
          266.1856102719389,
          280.83206128784803,
          316.0849626124451,
          235.96573847853037,
          239.88351203723775,
          264.7646477221891,
          319.524428737043,
          270.2930541825718,
          242.05732307453053,
          301.2142719898961,
          253.3224205909635,
          268.13953092251717,
          266.89514095836927,
          288.34035989665114,
          269.1480986431653,
          213.14305852671404,
          227.56253921621328,
          284.3954047239357,
          273.89302782563897,
          323.9877499812525,
          310.96695701737553,
          283.8279768539794,
          326.00382650057577,
          333.8385956009022,
          256.28069816369776,
          243.389769546674,
          294.1436126432342,
          299.4165359318968,
          293.9154447205496,
          261.9664364630663,
          324.9102491293347,
          232.60099944351134,
          310.1487436233744,
          272.8923066755214,
          328.7385038732228,
          258.58799949721725,
          232.54833938874026,
          290.55625569940963,
          305.76954592549174,
          319.1209974721164,
          269.22968957871456,
          276.3797031857064,
          292.68496613730844,
          281.7771497308078,
          290.815455738603,
          277.6851731065771,
          310.85514772514034,
          323.47995381954,
          318.86603330431456,
          305.6619973558313,
          282.7360172007432,
          329.78928663179477,
          279.55994192594204,
          282.6642978147095,
          248.22235484436382,
          267.36304817517265,
          298.9997105633508,
          302.4154723263888,
          273.7598266043724,
          285.69559576139835,
          295.7056024401506,
          340.7852108218063,
          317.78782234728357,
          305.2193498243029,
          280.5920702355165,
          297.7563077188739,
          323.27928486887754,
          294.5717334307688,
          272.3260018398911,
          248.6968207043928,
          258.6791657028381,
          285.61903519533644,
          268.7445174689941,
          340.7715170305466,
          296.5318473937151,
          377.45580060410373,
          327.810601005311,
          345.1762807651685,
          308.701704384074,
          293.5110961139759,
          282.9846592942542,
          289.8682694362104,
          275.29810897777844,
          323.5034477912941,
          326.73187938060744,
          325.5853698854314,
          346.55064575193984,
          280.207439556571,
          297.64766082574755,
          308.64711216826475,
          273.3397574098467,
          294.8470733694963,
          295.4837202215761,
          399.2007196664396,
          276.96154840605686,
          325.6769715982112,
          315.57895680249993,
          318.85647754797475,
          331.31373633887546,
          275.6389702321039,
          285.6778445505061,
          291.9873525909961,
          288.2260991479741,
          362.8657960450234,
          273.2331050371341,
          381.57438122686995,
          304.8344708614994,
          281.3871007978869,
          280.86073783786634,
          332.959951551341,
          322.7889284760913,
          307.3076766466965,
          290.36579029117536,
          307.8806454300342,
          283.19106288380226,
          306.955391120282,
          304.24451078371874,
          306.00186271157685,
          310.5208554153832,
          293.6618320323782,
          325.2088798730198,
          297.2078734994207,
          302.0292456695225,
          330.4974955508322,
          303.65848126136933,
          318.2378641587256,
          277.3244518190742,
          313.30235875064824,
          328.49304371489535,
          319.2204998136404,
          291.46425920621107,
          292.24175338294407,
          307.90735694539984,
          338.63075531722217,
          295.0609767046215,
          333.5395110334904,
          351.4770612912706,
          315.35406533141315,
          296.84737135656496,
          279.1280141889704,
          270.4019438283681,
          326.0780963647472,
          313.79950303752594,
          360.9508110942543,
          321.944836346972,
          279.7146143424095,
          288.70442600763175,
          322.35403726045973,
          276.38406860529466,
          315.3823558190181,
          295.9028918019865,
          294.3495646600887,
          302.2491271820949,
          328.2347243379075,
          280.6839710073091,
          308.29974903982395,
          306.1873454221692,
          308.79740803746694,
          364.21173742501236,
          288.7316751275947,
          340.99424862020277,
          312.91200121133727,
          294.1710186894331,
          275.8177917456837,
          366.26170968068783,
          312.48008462002497,
          314.8945887913479,
          322.27470810154244,
          295.88400920444957,
          352.6280275322754,
          278.3406773817168,
          385.63595727354243,
          278.4887309335155,
          321.3061777579797,
          283.87234854782525,
          287.7158552699157,
          297.8652395251816,
          261.76421429246955,
          303.8608360010538,
          328.9852026866806,
          285.7712896040709,
          307.53212104611447,
          326.9286608493628,
          326.42737936687064,
          334.9375124102525,
          318.4022266919764,
          303.2545164430296,
          338.7169158052615,
          311.0221280750783,
          244.9404522889381,
          294.2591624596402,
          333.699831532567,
          333.699831532567,
          275.91947012578083,
          379.0836335270477,
          298.4759604263516,
          339.56014603432095,
          287.52929243505844,
          287.05208773329036,
          311.75049774989554,
          306.470852223486,
          272.27185686835475,
          291.27588243361066,
          315.56557040541145,
          281.67925548204,
          333.78013608498475,
          283.37671340798966,
          276.16206553141336,
          289.4826050534744,
          323.61882689385163,
          304.744380572942,
          258.13250643465796,
          336.35075085924086,
          258.8822105738764,
          313.285836325369,
          281.43276925999226,
          294.2996966015858,
          292.217224756745,
          311.8728061404687,
          298.88076507430776,
          281.4575942616912,
          270.5517731349111,
          313.88953560280896,
          329.60072786299435,
          287.6491095679172,
          315.8181137773496,
          307.4226250564782,
          298.47596042635155,
          282.24390738368476,
          350.38218974562585,
          370.22096982155125,
          281.20397720424046,
          313.2155140276529,
          292.49604135857624,
          348.18874555744287,
          359.2371380845732,
          300.20704810892204,
          340.0644116527597,
          328.47633616022404,
          355.5897952908478,
          344.39533895348256,
          326.9848769122573,
          398.0789873989845,
          275.1670892857428,
          301.534359145404,
          302.30684607914515,
          354.78354191782586,
          325.74535880417443,
          278.9085540187532,
          391.391717829864,
          300.0551983122053,
          324.69675497940545,
          320.30816494929564,
          322.12824425507307,
          357.89804876979144,
          323.8671445598433,
          249.5254786435651,
          309.6179201838321,
          315.5616170395422,
          308.8624865217741,
          299.7424779387689,
          306.8515613566829,
          349.79857708433593,
          302.0292456695224,
          347.3749497902202,
          335.1139685045581,
          365.45538726012217,
          340.601092059206,
          325.2921599959067,
          297.4158642764553,
          324.6013445503209,
          305.89151223818646,
          312.97832229092097,
          321.95229009654975,
          386.5516991023737,
          340.42176259487877,
          309.1963835179636,
          316.4851576836647,
          382.23196972966457,
          338.08245368077485,
          350.06759228229345,
          336.28605643931877,
          328.8601750567309,
          380.4976281228787,
          302.3918257963766,
          383.17859784464054,
          330.45552761488926,
          318.6216789636242,
          322.7677506203709,
          391.3289142807899,
          327.94732626676864,
          313.52516851507517,
          305.82758506739475,
          349.1530285736065,
          337.8396985108537,
          343.6044867127144,
          325.20676616431706,
          356.21684562787794,
          370.1982506064415,
          345.65819106035445,
          399.90416853530644,
          330.32786467202084,
          327.4098545493142,
          319.15092254689813,
          345.1762807651685,
          313.058403517005,
          313.63116456848775,
          349.1102751415362,
          307.49583835132375,
          315.7166454582673,
          340.4668750110475,
          349.22472144538074,
          338.6071819962812,
          315.7730848176361,
          304.75577642542083,
          335.72752148111556,
          320.8834122659392,
          355.9158441919895,
          333.12049154726736,
          322.7334274013841,
          316.789045910386,
          300.8519523660622,
          307.6129796230766,
          312.2449407436386,
          334.58391104770624,
          301.41661028276883,
          343.97775201251164,
          341.31097702751214,
          277.2302757432259,
          349.8774617281299,
          334.69654548577057,
          321.9023627410116,
          332.9067243869162,
          297.5371663138093,
          315.8230548433224,
          347.9594952616457,
          310.987107627096,
          320.753861164434,
          315.21078770064014,
          268.3665433657986,
          320.75601924839583,
          291.70904220590126,
          319.076799148319,
          300.2136984649826,
          333.1874504400407,
          312.54027269775037,
          283.2475950984765,
          292.1403857946602,
          354.7387674302519,
          352.0557615931121,
          351.25868218834324,
          299.55271353034277,
          341.20458715803795,
          312.6165853736642,
          281.87951837593164,
          298.40344440098073,
          268.02547090393256
         ],
         "yaxis": "y3"
        },
        {
         "hovertemplate": "source=google<br>medium=organic<br>metric=hits_efficiency<br>Date=%{x}<br>Metric Value=%{y}<extra></extra>",
         "legendgroup": "google, organic",
         "line": {
          "color": "#ab63fa",
          "dash": "dash"
         },
         "marker": {
          "symbol": "circle"
         },
         "mode": "lines",
         "name": "google, organic",
         "showlegend": false,
         "type": "scattergl",
         "x": [
          "20160801",
          "20160802",
          "20160804",
          "20160805",
          "20160806",
          "20160807",
          "20160808",
          "20160809",
          "20160810",
          "20160811",
          "20160812",
          "20160813",
          "20160814",
          "20160815",
          "20160816",
          "20160817",
          "20160818",
          "20160819",
          "20160820",
          "20160821",
          "20160822",
          "20160823",
          "20160824",
          "20160825",
          "20160826",
          "20160827",
          "20160828",
          "20160829",
          "20160830",
          "20160831",
          "20160901",
          "20160902",
          "20160903",
          "20160904",
          "20160905",
          "20160906",
          "20160907",
          "20160908",
          "20160909",
          "20160910",
          "20160911",
          "20160912",
          "20160913",
          "20160914",
          "20160915",
          "20160916",
          "20160917",
          "20160918",
          "20160919",
          "20160920",
          "20160921",
          "20160922",
          "20160923",
          "20160924",
          "20160925",
          "20160926",
          "20160927",
          "20160928",
          "20160929",
          "20160930",
          "20161001",
          "20161002",
          "20161003",
          "20161004",
          "20161005",
          "20161006",
          "20161007",
          "20161008",
          "20161009",
          "20161010",
          "20161011",
          "20161012",
          "20161013",
          "20161014",
          "20161015",
          "20161016",
          "20161017",
          "20161018",
          "20161019",
          "20161020",
          "20161021",
          "20161022",
          "20161023",
          "20161024",
          "20161025",
          "20161026",
          "20161027",
          "20161028",
          "20161029",
          "20161030",
          "20161031",
          "20161101",
          "20161102",
          "20161103",
          "20161104",
          "20161105",
          "20161106",
          "20161107",
          "20161108",
          "20161109",
          "20161110",
          "20161111",
          "20161112",
          "20161113",
          "20161114",
          "20161115",
          "20161116",
          "20161117",
          "20161118",
          "20161119",
          "20161120",
          "20161121",
          "20161122",
          "20161123",
          "20161124",
          "20161125",
          "20161126",
          "20161127",
          "20161128",
          "20161129",
          "20161130",
          "20161201",
          "20161202",
          "20161203",
          "20161204",
          "20161205",
          "20161206",
          "20161207",
          "20161208",
          "20161209",
          "20161210",
          "20161211",
          "20161212",
          "20161213",
          "20161214",
          "20161215",
          "20161216",
          "20161217",
          "20161218",
          "20161219",
          "20161220",
          "20161221",
          "20161222",
          "20161223",
          "20161224",
          "20161225",
          "20161226",
          "20161227",
          "20161228",
          "20161229",
          "20161230",
          "20161231",
          "20170101",
          "20170102",
          "20170103",
          "20170104",
          "20170105",
          "20170106",
          "20170107",
          "20170108",
          "20170109",
          "20170110",
          "20170111",
          "20170112",
          "20170113",
          "20170114",
          "20170115",
          "20170116",
          "20170117",
          "20170118",
          "20170119",
          "20170120",
          "20170121",
          "20170122",
          "20170123",
          "20170124",
          "20170125",
          "20170126",
          "20170127",
          "20170128",
          "20170129",
          "20170130",
          "20170131",
          "20170201",
          "20170202",
          "20170203",
          "20170204",
          "20170205",
          "20170206",
          "20170207",
          "20170208",
          "20170209",
          "20170210",
          "20170211",
          "20170212",
          "20170213",
          "20170214",
          "20170215",
          "20170216",
          "20170217",
          "20170218",
          "20170219",
          "20170220",
          "20170221",
          "20170222",
          "20170223",
          "20170224",
          "20170225",
          "20170226",
          "20170227",
          "20170228",
          "20170301",
          "20170302",
          "20170303",
          "20170304",
          "20170305",
          "20170306",
          "20170307",
          "20170308",
          "20170309",
          "20170310",
          "20170311",
          "20170312",
          "20170313",
          "20170314",
          "20170315",
          "20170316",
          "20170317",
          "20170318",
          "20170319",
          "20170320",
          "20170321",
          "20170322",
          "20170323",
          "20170324",
          "20170325",
          "20170326",
          "20170327",
          "20170328",
          "20170329",
          "20170330",
          "20170331",
          "20170401",
          "20170402",
          "20170403",
          "20170404",
          "20170405",
          "20170406",
          "20170407",
          "20170408",
          "20170409",
          "20170410",
          "20170411",
          "20170412",
          "20170413",
          "20170414",
          "20170415",
          "20170416",
          "20170417",
          "20170418",
          "20170419",
          "20170420",
          "20170421",
          "20170422",
          "20170423",
          "20170424",
          "20170425",
          "20170426",
          "20170427",
          "20170428",
          "20170429",
          "20170430",
          "20170501",
          "20170502",
          "20170503",
          "20170504",
          "20170505",
          "20170506",
          "20170507",
          "20170508",
          "20170509",
          "20170510",
          "20170511",
          "20170512",
          "20170513",
          "20170514",
          "20170515",
          "20170516",
          "20170517",
          "20170518",
          "20170519",
          "20170520",
          "20170521",
          "20170522",
          "20170523",
          "20170524",
          "20170525",
          "20170526",
          "20170527",
          "20170528",
          "20170529",
          "20170530",
          "20170531",
          "20170601",
          "20170602",
          "20170603",
          "20170604",
          "20170605",
          "20170606",
          "20170607",
          "20170608",
          "20170609",
          "20170610",
          "20170611",
          "20170612",
          "20170613",
          "20170614",
          "20170615",
          "20170616",
          "20170617",
          "20170618",
          "20170619",
          "20170620",
          "20170621",
          "20170622",
          "20170623",
          "20170624",
          "20170625",
          "20170626",
          "20170627",
          "20170628",
          "20170629",
          "20170630",
          "20170701",
          "20170702",
          "20170703",
          "20170704",
          "20170705",
          "20170706",
          "20170707",
          "20170708",
          "20170709",
          "20170710",
          "20170711",
          "20170712",
          "20170713",
          "20170714",
          "20170715",
          "20170716",
          "20170717",
          "20170718",
          "20170719",
          "20170720",
          "20170721",
          "20170722",
          "20170723",
          "20170724",
          "20170725",
          "20170726",
          "20170727",
          "20170728",
          "20170729",
          "20170730",
          "20170731",
          "20170801"
         ],
         "xaxis": "x2",
         "y": [
          185.40125422028564,
          222.29699143251796,
          251.72671361258568,
          194.24059283840666,
          211.33350344872795,
          228.55906207012515,
          205.1873899697454,
          184.77083264488434,
          195.50677585283736,
          209.90025199349466,
          248.46479648142451,
          149.56597577408385,
          178.7415685786201,
          206.3972066202056,
          241.4867317185729,
          200.9306818261481,
          193.46754735607044,
          232.3044031620189,
          194.86340045458732,
          209.90108076740034,
          211.51176190574324,
          217.8788079849695,
          188.93632535719289,
          170.0315984687217,
          189.1850088495835,
          228.19751037728975,
          192.27447512115054,
          244.36364193501245,
          247.2566536284498,
          207.60818767324326,
          244.67664590235114,
          251.1308354295075,
          189.83755419533165,
          179.94200910929317,
          231.1128385053983,
          225.1141523222615,
          224.41239366438757,
          206.3638737379995,
          256.30370250043137,
          166.58223392489094,
          241.34814204494978,
          189.50854630244544,
          243.691726751792,
          178.93736435796745,
          168.8618055334148,
          231.1407620152411,
          238.75156325689082,
          240.10056000283043,
          214.28485497081363,
          207.62853323901322,
          223.1819398777893,
          207.1751050297339,
          219.15319443911918,
          207.2749725182997,
          230.53850668610886,
          217.32244575492317,
          238.45633794931348,
          239.77996283803307,
          217.5764140382473,
          259.50632390698604,
          235.66209980533955,
          213.50759582509127,
          197.4496004443803,
          204.2587262456288,
          252.9435204276757,
          244.05459170199796,
          218.0869566680092,
          193.23411204225488,
          251.63409438416662,
          262.85821722091544,
          239.7778917969168,
          251.68429302140697,
          226.3442699899833,
          243.338775618528,
          244.86005240068445,
          241.01323644335628,
          220.6185331361143,
          182.85527557963584,
          199.3246995997896,
          233.8505850661817,
          203.61601922750683,
          276.54233057452734,
          233.77631910845392,
          298.7060292550461,
          261.0707181659063,
          302.0292456695224,
          245.4067506074833,
          217.52599001340346,
          218.52704245500743,
          243.07339185906437,
          222.27773243391,
          263.2280412452747,
          260.671335462124,
          271.0325020588831,
          293.23516179010295,
          228.13349061242948,
          244.054591701998,
          260.8180197257249,
          222.74165342251086,
          227.17725325190696,
          228.63219980945482,
          331.5395807399245,
          216.62349678902305,
          268.313414100799,
          249.93220638994984,
          264.1621182605484,
          265.05098907110033,
          219.54964489417577,
          220.6031646984546,
          244.20760398519676,
          229.8735760075867,
          285.10883974966123,
          209.40086967233356,
          322.87063026888995,
          241.3272894320204,
          198.60028553966666,
          218.7920664924815,
          257.0760556163842,
          254.90627828154848,
          249.95162697786319,
          221.58010793093575,
          242.8237661130552,
          207.5771226240115,
          252.92204511783535,
          240.63520478160004,
          239.5444079249459,
          252.99525271083206,
          234.6267214691681,
          274.4619997170101,
          240.80999388959088,
          241.06921443347207,
          282.64768979768144,
          242.5736937518148,
          266.4963932378139,
          218.3284116029047,
          258.2450404764757,
          266.13504219613554,
          261.77964291502076,
          231.37432522728122,
          234.26098951176797,
          262.11100955162203,
          283.25717268673304,
          239.78191294244183,
          283.59776606590896,
          300.96538781228566,
          257.5666711607353,
          260.6464724106424,
          229.94831645091372,
          214.10665859447576,
          273.9889435908259,
          248.55406181190173,
          293.9702482107844,
          264.37854110612267,
          217.16973163230548,
          234.87817709095467,
          258.29650421511195,
          229.03862786324564,
          253.92323006967095,
          260.03587461386695,
          232.77644144037623,
          242.7607303808476,
          264.3501135607309,
          224.22455155181586,
          296.66579624586836,
          242.5416612613812,
          257.10444986379406,
          306.70462098948406,
          227.35875867535236,
          280.443868024092,
          242.97751383459138,
          230.60642671131436,
          213.5672484697481,
          285.6841335509365,
          279.5874441337066,
          256.83589898294315,
          269.08373686148207,
          256.37427503768333,
          280.7547989906651,
          217.83183447264793,
          345.04269861316953,
          221.68257188737556,
          269.02585052956266,
          222.69296308493188,
          239.01395268516436,
          244.4022478155336,
          205.19246102047063,
          258.54825519387913,
          284.7931605347385,
          246.27444469944322,
          238.0214361521297,
          257.1456425978906,
          267.300910651362,
          303.8608360010538,
          259.12521640357653,
          237.68597234723944,
          281.092876186939,
          250.25952689484777,
          197.81544357115584,
          228.9932679179227,
          274.1105759017515,
          274.1105759017515,
          221.96188485673923,
          321.31850841816424,
          248.72996702195968,
          287.9260001167309,
          240.14618806373792,
          232.33773951893392,
          258.16838094913226,
          264.7908163210919,
          235.1438763863064,
          240.03940190914417,
          251.6535561460876,
          236.06508556257776,
          291.87700211760574,
          231.90624913592626,
          232.7479416924139,
          248.03243989570208,
          289.42513952393523,
          262.8311133308182,
          193.3019921457692,
          297.97516183503217,
          196.3190096851896,
          259.749649105211,
          231.5672543182946,
          235.64377786816752,
          237.4662850419736,
          259.3099736448841,
          240.1177671952913,
          228.10070435426158,
          208.00080608700685,
          253.02642303494403,
          271.8885381593572,
          238.97962899026527,
          277.20279855566497,
          242.47418314313774,
          245.2512262244497,
          240.3625533848154,
          293.6536447391912,
          316.00450980584293,
          217.1775707369726,
          243.94669842538352,
          226.27052256040804,
          275.9718205529362,
          289.70736942304285,
          216.14907463842385,
          289.15656559695736,
          230.23341370134426,
          286.72062545190886,
          234.26892242765967,
          271.435322533341,
          363.9579313362144,
          208.36928137942118,
          228.8601161378436,
          232.17165778878348,
          290.60159463620914,
          275.7293391452657,
          212.08671295176023,
          336.1954499307806,
          231.4711529837012,
          239.3950651119345,
          243.15364346515872,
          250.3615775928034,
          287.74527509066286,
          279.26268752465535,
          193.6471861287899,
          229.90285864396486,
          242.04367758588546,
          229.2422261554344,
          228.19590657147484,
          244.08646926099775,
          265.4250509534408,
          226.52193425214185,
          275.3386698798059,
          266.83055799422493,
          269.37743532687136,
          257.99684049667434,
          258.29650421511195,
          236.1064536580632,
          265.7809666787862,
          254.295353547408,
          218.83037168308297,
          266.4963932378139,
          353.3187475958348,
          267.93303147629274,
          218.5484477877976,
          238.10331956574774,
          326.2955839155673,
          266.67229844787187,
          299.2279004570641,
          276.6717100705304,
          250.47899343699194,
          304.398102498303,
          233.95578101088086,
          272.64631000484036,
          248.79856326217532,
          264.9345096144421,
          270.4813860338934,
          236.03966258206373,
          258.10669196921606,
          275.6859240391178,
          230.96354080610539,
          295.4371780238209,
          237.60154620543554,
          275.1629426114014,
          258.3295682837519,
          301.028320248911,
          324.36418148373923,
          279.59382689864844,
          304.949754088567,
          261.4443289110307,
          254.65210909391106,
          273.8734560264039,
          302.0292456695224,
          237.63068582527458,
          247.20997824332417,
          268.5463654934894,
          244.74158562656382,
          221.79377243663222,
          285.16811505702384,
          312.76719558020363,
          267.73591134589674,
          246.11725728433404,
          235.86462390013412,
          267.4193244698063,
          275.8471438777372,
          294.97135032349814,
          276.0998668680054,
          248.40694109076233,
          253.17157357592322,
          227.00647314893786,
          241.94279296197038,
          253.1715735759232,
          231.53206644501273,
          242.8078249500082,
          283.584711582834,
          286.1761268922986,
          220.55889340897528,
          253.06205451020904,
          263.786260425226,
          252.9232850107948,
          266.04084384766384,
          213.30566709258832,
          239.84675391403255,
          258.40030027869045,
          241.87886148774135,
          270.33232617078244,
          246.3412038332734,
          224.95430840956647,
          271.7856346303201,
          234.7481049704294,
          247.53491593120714,
          240.52208590469365,
          231.83322600548289,
          240.70641969867063,
          215.5144745314495,
          194.7602571964401,
          303.16327287478975,
          286.6739772972484,
          293.1460325615953,
          220.65266844868998,
          289.1769373431598,
          241.6121874339045,
          217.3741740453893,
          245.05757724549815,
          205.01007805818037
         ],
         "yaxis": "y2"
        },
        {
         "hovertemplate": "source=google<br>medium=organic<br>metric=visits_efficiency<br>Date=%{x}<br>Metric Value=%{y}<extra></extra>",
         "legendgroup": "google, organic",
         "line": {
          "color": "#ab63fa",
          "dash": "dash"
         },
         "marker": {
          "symbol": "circle"
         },
         "mode": "lines",
         "name": "google, organic",
         "showlegend": false,
         "type": "scattergl",
         "x": [
          "20160801",
          "20160802",
          "20160804",
          "20160805",
          "20160806",
          "20160807",
          "20160808",
          "20160809",
          "20160810",
          "20160811",
          "20160812",
          "20160813",
          "20160814",
          "20160815",
          "20160816",
          "20160817",
          "20160818",
          "20160819",
          "20160820",
          "20160821",
          "20160822",
          "20160823",
          "20160824",
          "20160825",
          "20160826",
          "20160827",
          "20160828",
          "20160829",
          "20160830",
          "20160831",
          "20160901",
          "20160902",
          "20160903",
          "20160904",
          "20160905",
          "20160906",
          "20160907",
          "20160908",
          "20160909",
          "20160910",
          "20160911",
          "20160912",
          "20160913",
          "20160914",
          "20160915",
          "20160916",
          "20160917",
          "20160918",
          "20160919",
          "20160920",
          "20160921",
          "20160922",
          "20160923",
          "20160924",
          "20160925",
          "20160926",
          "20160927",
          "20160928",
          "20160929",
          "20160930",
          "20161001",
          "20161002",
          "20161003",
          "20161004",
          "20161005",
          "20161006",
          "20161007",
          "20161008",
          "20161009",
          "20161010",
          "20161011",
          "20161012",
          "20161013",
          "20161014",
          "20161015",
          "20161016",
          "20161017",
          "20161018",
          "20161019",
          "20161020",
          "20161021",
          "20161022",
          "20161023",
          "20161024",
          "20161025",
          "20161026",
          "20161027",
          "20161028",
          "20161029",
          "20161030",
          "20161031",
          "20161101",
          "20161102",
          "20161103",
          "20161104",
          "20161105",
          "20161106",
          "20161107",
          "20161108",
          "20161109",
          "20161110",
          "20161111",
          "20161112",
          "20161113",
          "20161114",
          "20161115",
          "20161116",
          "20161117",
          "20161118",
          "20161119",
          "20161120",
          "20161121",
          "20161122",
          "20161123",
          "20161124",
          "20161125",
          "20161126",
          "20161127",
          "20161128",
          "20161129",
          "20161130",
          "20161201",
          "20161202",
          "20161203",
          "20161204",
          "20161205",
          "20161206",
          "20161207",
          "20161208",
          "20161209",
          "20161210",
          "20161211",
          "20161212",
          "20161213",
          "20161214",
          "20161215",
          "20161216",
          "20161217",
          "20161218",
          "20161219",
          "20161220",
          "20161221",
          "20161222",
          "20161223",
          "20161224",
          "20161225",
          "20161226",
          "20161227",
          "20161228",
          "20161229",
          "20161230",
          "20161231",
          "20170101",
          "20170102",
          "20170103",
          "20170104",
          "20170105",
          "20170106",
          "20170107",
          "20170108",
          "20170109",
          "20170110",
          "20170111",
          "20170112",
          "20170113",
          "20170114",
          "20170115",
          "20170116",
          "20170117",
          "20170118",
          "20170119",
          "20170120",
          "20170121",
          "20170122",
          "20170123",
          "20170124",
          "20170125",
          "20170126",
          "20170127",
          "20170128",
          "20170129",
          "20170130",
          "20170131",
          "20170201",
          "20170202",
          "20170203",
          "20170204",
          "20170205",
          "20170206",
          "20170207",
          "20170208",
          "20170209",
          "20170210",
          "20170211",
          "20170212",
          "20170213",
          "20170214",
          "20170215",
          "20170216",
          "20170217",
          "20170218",
          "20170219",
          "20170220",
          "20170221",
          "20170222",
          "20170223",
          "20170224",
          "20170225",
          "20170226",
          "20170227",
          "20170228",
          "20170301",
          "20170302",
          "20170303",
          "20170304",
          "20170305",
          "20170306",
          "20170307",
          "20170308",
          "20170309",
          "20170310",
          "20170311",
          "20170312",
          "20170313",
          "20170314",
          "20170315",
          "20170316",
          "20170317",
          "20170318",
          "20170319",
          "20170320",
          "20170321",
          "20170322",
          "20170323",
          "20170324",
          "20170325",
          "20170326",
          "20170327",
          "20170328",
          "20170329",
          "20170330",
          "20170331",
          "20170401",
          "20170402",
          "20170403",
          "20170404",
          "20170405",
          "20170406",
          "20170407",
          "20170408",
          "20170409",
          "20170410",
          "20170411",
          "20170412",
          "20170413",
          "20170414",
          "20170415",
          "20170416",
          "20170417",
          "20170418",
          "20170419",
          "20170420",
          "20170421",
          "20170422",
          "20170423",
          "20170424",
          "20170425",
          "20170426",
          "20170427",
          "20170428",
          "20170429",
          "20170430",
          "20170501",
          "20170502",
          "20170503",
          "20170504",
          "20170505",
          "20170506",
          "20170507",
          "20170508",
          "20170509",
          "20170510",
          "20170511",
          "20170512",
          "20170513",
          "20170514",
          "20170515",
          "20170516",
          "20170517",
          "20170518",
          "20170519",
          "20170520",
          "20170521",
          "20170522",
          "20170523",
          "20170524",
          "20170525",
          "20170526",
          "20170527",
          "20170528",
          "20170529",
          "20170530",
          "20170531",
          "20170601",
          "20170602",
          "20170603",
          "20170604",
          "20170605",
          "20170606",
          "20170607",
          "20170608",
          "20170609",
          "20170610",
          "20170611",
          "20170612",
          "20170613",
          "20170614",
          "20170615",
          "20170616",
          "20170617",
          "20170618",
          "20170619",
          "20170620",
          "20170621",
          "20170622",
          "20170623",
          "20170624",
          "20170625",
          "20170626",
          "20170627",
          "20170628",
          "20170629",
          "20170630",
          "20170701",
          "20170702",
          "20170703",
          "20170704",
          "20170705",
          "20170706",
          "20170707",
          "20170708",
          "20170709",
          "20170710",
          "20170711",
          "20170712",
          "20170713",
          "20170714",
          "20170715",
          "20170716",
          "20170717",
          "20170718",
          "20170719",
          "20170720",
          "20170721",
          "20170722",
          "20170723",
          "20170724",
          "20170725",
          "20170726",
          "20170727",
          "20170728",
          "20170729",
          "20170730",
          "20170731",
          "20170801"
         ],
         "xaxis": "x",
         "y": [
          9852.75236713518,
          9114.176648733237,
          8357.326891937844,
          12178.885170968097,
          10073.563664389365,
          9119.506576597993,
          11059.600319369278,
          12318.055509658956,
          11412.708040409381,
          10180.162221684492,
          8323.570682127722,
          19443.576850630903,
          14492.962185583114,
          11000.971112856958,
          8371.540032910527,
          10961.884975182078,
          13131.60977679328,
          8954.278812790546,
          12205.534810291878,
          10704.955119137418,
          10702.495152430607,
          9673.819074532646,
          11592.593105844906,
          20015.148162603815,
          14933.791636063997,
          9527.246058251847,
          11183.965302880257,
          8238.545642380419,
          8447.9356656387,
          10146.850172529765,
          8196.667637728762,
          7964.435066478667,
          12301.473511857492,
          14035.476710524867,
          9167.4759273808,
          9162.145999516044,
          9331.81536987745,
          11143.649181851973,
          8041.528665951035,
          16824.805626413985,
          8567.859042595717,
          11370.512778146725,
          8163.6728461850325,
          12869.725821130736,
          16510.932096600558,
          9268.744556811169,
          8714.432058876515,
          8403.519600099065,
          10499.957893569868,
          10433.333795260414,
          9398.439468186905,
          10237.903106886019,
          9560.558107406574,
          10393.359336274743,
          8760.463254072138,
          8774.393747355023,
          8437.685804360324,
          8697.473197488654,
          9870.057327735036,
          7914.942879163074,
          9505.038025482028,
          9996.037440902,
          12411.117742218192,
          10961.884975182078,
          8621.15832124328,
          8694.444829383678,
          10187.776404348431,
          10627.876162324017,
          8723.315271984442,
          7701.745764572823,
          8435.8221932188,
          8499.184972030589,
          9700.468713856428,
          8821.03061617164,
          8243.621764156376,
          8947.616402959602,
          10166.837402022602,
          13330.149589755452,
          11640.562456627713,
          9354.023402647268,
          10922.545031418402,
          7545.655019962103,
          9044.221345508311,
          6920.0230110752345,
          7927.0563515829745,
          7248.701896068538,
          8527.884583610045,
          9522.804451697884,
          9833.716910475334,
          9034.227730761892,
          10002.49795952595,
          7972.049249142605,
          7950.475731594782,
          7839.093905703079,
          7306.442781270064,
          9667.156664701699,
          8810.370760442127,
          8285.987857440337,
          10063.872886453446,
          9238.541632244216,
          9186.85748325264,
          6520.278421218514,
          10109.096516821075,
          7870.526813623437,
          8310.245862465832,
          8042.268933710029,
          7819.0041775974605,
          10070.010379146195,
          9684.478930262158,
          8954.278812790548,
          9367.348222309158,
          7184.742761691463,
          10499.957893569868,
          6715.709109592911,
          8687.782419552734,
          10575.46520498725,
          9900.341008784788,
          7895.90742250323,
          8099.067659945563,
          8481.691875448823,
          9509.479632035993,
          8591.336105809525,
          10171.279008576565,
          8441.273255807755,
          8714.432058876515,
          8694.052922923036,
          8364.655542751885,
          9103.516793003722,
          7805.013116952475,
          8883.21310792713,
          8758.848124416152,
          7631.487624537398,
          8692.224026106696,
          8022.9440490541865,
          10043.106933733618,
          8229.408623183694,
          7850.983744785999,
          8067.572631653821,
          9237.174984073765,
          9150.819902803436,
          8282.707901831256,
          7506.315076198425,
          8959.124201758508,
          7576.111750617853,
          7180.1742520931,
          8199.205698616743,
          8549.20429506907,
          9657.829290938376,
          10455.541828030233,
          7796.230849448047,
          8367.986747667359,
          7128.778519111522,
          7984.231941404905,
          9989.807655086053,
          9238.541632244216,
          8058.850931511493,
          9777.086426912298,
          8252.504977264305,
          8581.183862257609,
          9124.836504462748,
          8722.046241540453,
          7877.63338410978,
          9753.76799250399,
          7861.643600515511,
          8634.483140905171,
          8337.530017011606,
          6992.865358560237,
          9412.652609159588,
          7501.873469644462,
          8479.91523282724,
          9178.135783110312,
          10251.22792654791,
          7142.103338773412,
          7968.242157810637,
          8218.74876745418,
          7918.749970495043,
          8639.813068769927,
          7346.417240255737,
          10020.264385741804,
          6555.811273650222,
          9901.821544302775,
          7936.262590622098,
          9687.143894194536,
          9178.135783110312,
          8798.48092135921,
          11203.508371717697,
          8421.28602631492,
          7632.456702330991,
          9087.527009409456,
          8687.782419552734,
          7994.891797134417,
          7870.526813623437,
          7368.625273025555,
          8119.256780645398,
          8794.380976847859,
          7527.042573450256,
          8397.597458027114,
          12631.92903947238,
          9212.57531700566,
          7675.096125249041,
          7675.096125249041,
          9988.284818553266,
          6747.6886767814485,
          8705.548845768588,
          7447.685869686106,
          9159.861744716862,
          9345.140189539343,
          8261.388190372232,
          8274.713010034122,
          9771.534418719843,
          9056.031981117712,
          8283.59622314205,
          9426.865750132272,
          7491.509721018547,
          9469.505173050322,
          9690.777935920505,
          8949.837206236583,
          7669.766197384284,
          8338.914413859595,
          11984.72351303769,
          7399.716518903299,
          11779.140581111376,
          8208.088911724668,
          9540.570877913739,
          9064.430655328844,
          9083.085402855491,
          8242.352733712387,
          8854.342665326367,
          9625.84972374984,
          10667.469912176495,
          8295.652012359951,
          7763.928256328311,
          9180.800747042691,
          7934.930108655909,
          8607.83350158139,
          8767.731337524077,
          9314.048943661597,
          7254.9723994388405,
          6865.916167599678,
          9935.873861216496,
          8456.818878746628,
          9327.373763323487,
          7451.239154929278,
          7184.742761691463,
          9366.459900998367,
          7429.099454567981,
          8403.519600099065,
          7254.031823933295,
          8058.8509315114925,
          7811.305392903924,
          6369.263798383752,
          10456.349392858227,
          9020.902911100002,
          8929.679145722443,
          7228.714666575702,
          7781.694682544166,
          10180.162221684492,
          6555.811273650222,
          9001.655949366157,
          8308.416965649492,
          8328.012288681686,
          8178.478201364911,
          7217.610650190793,
          7772.81146943624,
          12538.655301839146,
          8801.995159511798,
          8441.273255807755,
          8833.467114522738,
          9082.197081544698,
          8591.843717987122,
          7545.655019962103,
          9060.877370085673,
          7468.561420489735,
          7738.086181832524,
          7309.107745202444,
          7765.704898949897,
          8007.191630668472,
          8972.045239006402,
          7920.27280702783,
          8442.605737773945,
          8972.045239006402,
          7956.82088381473,
          6506.953601556624,
          7646.396513669585,
          9069.7605831936,
          8492.351731178336,
          6689.05947026913,
          7695.400612352874,
          7211.392401015245,
          7608.472026939587,
          8057.074288889908,
          6848.957306211817,
          8890.319678413473,
          7088.80406012585,
          8054.853485612926,
          8036.346791638078,
          7893.138628807253,
          7435.249371335008,
          7964.435066478667,
          7994.891797134417,
          8868.999966954447,
          7254.62403814049,
          8108.152764260488,
          7521.120431378305,
          8008.216616796308,
          7124.336912557559,
          6811.647811158524,
          7447.362843754909,
          6678.399614539618,
          7880.6790571753545,
          8021.541436458198,
          7914.9428791630735,
          7248.701896068538,
          8572.983973234906,
          8393.367356547149,
          7519.2982338177035,
          8565.955496929733,
          8840.066072831485,
          7461.899010658791,
          7115.453699449632,
          7675.096125249041,
          8367.986747667357,
          8794.380976847859,
          7721.732994065658,
          7861.64360051551,
          7177.636191205122,
          7661.77130558715,
          8197.429055995157,
          8236.515193670035,
          9080.258925957514,
          8613.163429446146,
          8326.531753163696,
          8269.002373036168,
          8741.081698200296,
          7429.919443470251,
          7440.579299199764,
          9980.289926756132,
          7697.304158018858,
          7781.694682544166,
          8144.1297773475935,
          7781.694682544166,
          9521.189322041897,
          8474.585304962484,
          7655.108895756205,
          8540.184417144099,
          7929.748234342952,
          8375.600930331295,
          10197.928647900346,
          7911.981808127097,
          9155.176093846747,
          8280.04293789888,
          8813.416433507704,
          8288.037829696013,
          8527.884583610046,
          9913.665828446678,
          10322.293631411327,
          7124.336912557559,
          7297.155785748141,
          7248.701896068538,
          9267.412074844979,
          7413.445120979188,
          8510.118157394192,
          9906.051645782742,
          8773.061265388833,
          10899.70248342659
         ],
         "yaxis": "y"
        },
        {
         "hovertemplate": "source=google<br>medium=cpm<br>metric=pageviews_efficiency<br>Date=%{x}<br>Metric Value=%{y}<extra></extra>",
         "legendgroup": "google, cpm",
         "line": {
          "color": "#ab63fa",
          "dash": "longdash"
         },
         "marker": {
          "symbol": "circle"
         },
         "mode": "lines",
         "name": "google, cpm",
         "showlegend": true,
         "type": "scattergl",
         "x": [
          "20170511",
          "20170523",
          "20170623",
          "20170711",
          "20170712",
          "20170714",
          "20170718",
          "20170719",
          "20170721",
          "20170725",
          "20170726",
          "20170727",
          "20170728",
          "20170801"
         ],
         "xaxis": "x3",
         "y": [
          375.6330114209187,
          364.67927495700854,
          537.4343930295913,
          403.0757947721935,
          420.88051069971993,
          337.1489253985367,
          317.89212621939225,
          365.1000587358051,
          422.7184168599807,
          256.29014839040826,
          285.6508215017818,
          376.0560215689152,
          376.0560215689152,
          906.0877370085673
         ],
         "yaxis": "y3"
        },
        {
         "hovertemplate": "source=google<br>medium=cpm<br>metric=hits_efficiency<br>Date=%{x}<br>Metric Value=%{y}<extra></extra>",
         "legendgroup": "google, cpm",
         "line": {
          "color": "#ab63fa",
          "dash": "longdash"
         },
         "marker": {
          "symbol": "circle"
         },
         "mode": "lines",
         "name": "google, cpm",
         "showlegend": false,
         "type": "scattergl",
         "x": [
          "20170511",
          "20170523",
          "20170623",
          "20170711",
          "20170712",
          "20170714",
          "20170718",
          "20170719",
          "20170721",
          "20170725",
          "20170726",
          "20170727",
          "20170728",
          "20170801"
         ],
         "xaxis": "x2",
         "y": [
          219.11925666220256,
          314.9502829174165,
          238.85973023537392,
          339.4322482292156,
          393.72692936425415,
          315.1609520029799,
          217.09706180836545,
          270.4444879524482,
          383.0885652793575,
          194.2844673282127,
          243.75536768152048,
          322.33373277335585,
          322.33373277335585,
          906.0877370085673
         ],
         "yaxis": "y2"
        },
        {
         "hovertemplate": "source=google<br>medium=cpm<br>metric=visits_efficiency<br>Date=%{x}<br>Metric Value=%{y}<extra></extra>",
         "legendgroup": "google, cpm",
         "line": {
          "color": "#ab63fa",
          "dash": "longdash"
         },
         "marker": {
          "symbol": "circle"
         },
         "mode": "lines",
         "name": "google, cpm",
         "showlegend": false,
         "type": "scattergl",
         "x": [
          "20170511",
          "20170523",
          "20170623",
          "20170711",
          "20170712",
          "20170714",
          "20170718",
          "20170719",
          "20170721",
          "20170725",
          "20170726",
          "20170727",
          "20170728",
          "20170801"
         ],
         "xaxis": "x",
         "y": [
          7888.293239839292,
          6928.9062241831625,
          6449.212716355096,
          6449.212716355096,
          6102.767405145939,
          7248.701896068538,
          8900.979534142984,
          7302.001174716102,
          6129.41704446972,
          12045.636974349189,
          9140.826288057018,
          6769.008388240473,
          6769.008388240473,
          4530.438685042836
         ],
         "yaxis": "y"
        },
        {
         "hovertemplate": "source=google<br>medium=cpc<br>metric=pageviews_efficiency<br>Date=%{x}<br>Metric Value=%{y}<extra></extra>",
         "legendgroup": "google, cpc",
         "line": {
          "color": "#ab63fa",
          "dash": "dashdot"
         },
         "marker": {
          "symbol": "circle"
         },
         "mode": "lines",
         "name": "google, cpc",
         "showlegend": true,
         "type": "scattergl",
         "x": [
          "20160805",
          "20160809",
          "20160810",
          "20160811",
          "20160812",
          "20160814",
          "20160815",
          "20160816",
          "20160818",
          "20160822",
          "20160823",
          "20160824",
          "20160825",
          "20160827",
          "20160830",
          "20160901",
          "20160903",
          "20160906",
          "20160908",
          "20160909",
          "20160910",
          "20160912",
          "20160914",
          "20160916",
          "20160917",
          "20160920",
          "20160921",
          "20160923",
          "20160924",
          "20160925",
          "20160926",
          "20160928",
          "20160930",
          "20161001",
          "20161002",
          "20161003",
          "20161004",
          "20161005",
          "20161006",
          "20161007",
          "20161008",
          "20161013",
          "20161014",
          "20161017",
          "20161019",
          "20161020",
          "20161022",
          "20161023",
          "20161024",
          "20161026",
          "20161027",
          "20161028",
          "20161029",
          "20161030",
          "20161102",
          "20161103",
          "20161104",
          "20161105",
          "20161106",
          "20161107",
          "20161108",
          "20161109",
          "20161111",
          "20161112",
          "20161113",
          "20161114",
          "20161116",
          "20161118",
          "20161119",
          "20161121",
          "20161122",
          "20161123",
          "20161124",
          "20161125",
          "20161126",
          "20161127",
          "20161128",
          "20161129",
          "20161130",
          "20161201",
          "20161202",
          "20161204",
          "20161205",
          "20161206",
          "20161207",
          "20161208",
          "20161209",
          "20161210",
          "20161211",
          "20161212",
          "20161213",
          "20161214",
          "20161215",
          "20161216",
          "20161217",
          "20161218",
          "20161219",
          "20161220",
          "20161221",
          "20161222",
          "20161223",
          "20161224",
          "20161227",
          "20161228",
          "20161230",
          "20170102",
          "20170103",
          "20170104",
          "20170105",
          "20170106",
          "20170107",
          "20170108",
          "20170111",
          "20170113",
          "20170115",
          "20170116",
          "20170118",
          "20170119",
          "20170120",
          "20170121",
          "20170122",
          "20170123",
          "20170124",
          "20170125",
          "20170127",
          "20170129",
          "20170130",
          "20170202",
          "20170206",
          "20170208",
          "20170210",
          "20170212",
          "20170213",
          "20170214",
          "20170215",
          "20170216",
          "20170217",
          "20170218",
          "20170219",
          "20170220",
          "20170221",
          "20170222",
          "20170223",
          "20170227",
          "20170302",
          "20170304",
          "20170305",
          "20170307",
          "20170315",
          "20170316",
          "20170317",
          "20170318",
          "20170320",
          "20170324",
          "20170329",
          "20170330",
          "20170403",
          "20170404",
          "20170405",
          "20170406",
          "20170412",
          "20170414",
          "20170418",
          "20170420",
          "20170423",
          "20170424",
          "20170426",
          "20170427",
          "20170428",
          "20170429",
          "20170430",
          "20170501",
          "20170502",
          "20170503",
          "20170506",
          "20170507",
          "20170508",
          "20170509",
          "20170510",
          "20170512",
          "20170513",
          "20170517",
          "20170518",
          "20170519",
          "20170520",
          "20170521",
          "20170523",
          "20170524",
          "20170526",
          "20170527",
          "20170529",
          "20170530",
          "20170601",
          "20170602",
          "20170603",
          "20170606",
          "20170607",
          "20170608",
          "20170610",
          "20170612",
          "20170613",
          "20170614",
          "20170615",
          "20170616",
          "20170617",
          "20170618",
          "20170619",
          "20170620",
          "20170621",
          "20170622",
          "20170623",
          "20170624",
          "20170625",
          "20170626",
          "20170627",
          "20170628",
          "20170629",
          "20170630",
          "20170702",
          "20170705",
          "20170707",
          "20170709",
          "20170710",
          "20170711",
          "20170712",
          "20170713",
          "20170714",
          "20170715",
          "20170716",
          "20170717",
          "20170718",
          "20170719",
          "20170720",
          "20170721",
          "20170722",
          "20170724",
          "20170725",
          "20170726",
          "20170727",
          "20170728",
          "20170729",
          "20170730",
          "20170801"
         ],
         "xaxis": "x3",
         "y": [
          220.6854429952806,
          298.4759604263516,
          500.54974729885043,
          233.46585435763419,
          294.94939161358053,
          268.68078990369764,
          348.86800569313823,
          264.4976702885303,
          293.97883379046345,
          384.9392346768424,
          315.8475771707424,
          334.33183878925746,
          252.65908051200438,
          313.87352981342525,
          356.17454461307824,
          363.3234161142197,
          208.5217392702895,
          281.4201912591315,
          226.83181377916256,
          262.94310799464307,
          273.5094562177564,
          353.10772104010346,
          244.0107600583734,
          221.64700022949893,
          358.7951440665202,
          321.9711526465017,
          267.16263422090844,
          390.8613767487937,
          312.68910139903505,
          205.6157516791754,
          342.40748706919123,
          273.2431373704168,
          290.27607140364967,
          399.7445898567209,
          344.022616725178,
          322.01647516235846,
          309.925435098791,
          377.4165136665257,
          299.6915580095416,
          337.56209810123096,
          294.0649856417257,
          368.41957521297786,
          380.709133196877,
          358.4376489048597,
          385.63595727354243,
          378.5152161581153,
          272.28979309080984,
          296.2041878938325,
          295.40447657208523,
          479.69350782806504,
          391.90646064384396,
          313.39975844766917,
          341.5999222411979,
          296.95312389356405,
          322.01647516235846,
          508.76584163582663,
          331.9091443052773,
          335.3412948242492,
          312.18148922143916,
          249.665042085952,
          301.81519234162056,
          354.8951968484059,
          321.9276430312792,
          292.3132313327271,
          283.2475950984765,
          344.8301815531713,
          336.01719147376537,
          298.0811509548882,
          412.18108820781885,
          220.72171863461296,
          318.75058799032644,
          336.01719147376537,
          364.89506151023755,
          415.7343734509897,
          339.493231385563,
          270.5963377491649,
          302.6637608915172,
          387.44475632266796,
          320.49239448207686,
          293.7382467687904,
          267.35605902245203,
          347.0650702631995,
          278.0613310575681,
          328.5571971425103,
          262.878795139563,
          283.2475950984765,
          321.9711526465017,
          288.5416446156017,
          353.3544769597681,
          397.7558108027073,
          277.6004096227228,
          331.0560828672561,
          317.2166745314624,
          343.346515938951,
          345.61250998028993,
          267.79637564385206,
          462.637738660845,
          254.8462776864341,
          345.1762807651685,
          321.9276430312792,
          252.0611719374323,
          251.8118981002201,
          415.7343734509897,
          455.09384075995916,
          338.8879508039067,
          246.08390354300266,
          278.679085500114,
          312.7561445168307,
          391.90646064384396,
          225.55636760997584,
          323.8956163967277,
          309.925435098791,
          284.7931605347385,
          441.62259450837735,
          329.4864498212972,
          271.9629859196153,
          253.75091356122283,
          543.6526422051404,
          300.7602152255328,
          316.37905145925095,
          422.8409439373315,
          301.41661028276883,
          450.99389624860817,
          309.5458106069992,
          235.74680940268155,
          273.79766428542524,
          295.9028918019865,
          277.4697741358416,
          326.74775170897186,
          338.3884435066195,
          412.18108820781885,
          350.25240254112686,
          272.587739368964,
          271.8263211025702,
          295.81099649397345,
          285.4090404998523,
          379.01709260489093,
          402.40955378909905,
          241.65350912242445,
          248.72996702195965,
          287.81610469683903,
          255.07511924190763,
          251.57259521649632,
          240.87174004187025,
          309.5458106069992,
          291.48043010385896,
          457.1438130156347,
          469.03365209855247,
          291.87700211760574,
          371.61441501495165,
          304.5673065575016,
          259.22830978587353,
          230.36735200691567,
          479.69350782806504,
          335.3412948242492,
          389.246247092807,
          294.2337729421578,
          328.6788849933038,
          340.8674797227853,
          256.5027784913959,
          346.8553056602932,
          284.2628194536682,
          373.0949505329395,
          274.01295817529075,
          574.4477809792877,
          373.0949505329395,
          484.13511438202863,
          508.76584163582663,
          351.7752390739144,
          335.5431860312475,
          326.59983511698044,
          426.3942291805023,
          308.051763030829,
          440.6940356469215,
          315.69572737402575,
          437.8155031764086,
          408.627802964648,
          267.1385532215195,
          375.90017572491644,
          351.2907001771183,
          318.7900251184415,
          396.054639796505,
          363.52841333978716,
          406.4069996876662,
          326.3668158282269,
          373.0949505329395,
          287.22389048964385,
          300.7602152255328,
          442.1866080390394,
          365.89234531029587,
          339.7829013782128,
          336.7545332732376,
          351.7752390739144,
          324.49854941310286,
          344.022616725178,
          355.3285243170852,
          404.18619641068443,
          360.471437169043,
          288.9820264172545,
          339.9309549300115,
          400.8549914952118,
          297.5876391155589,
          299.57870412250804,
          313.6457551183502,
          312.315071373438,
          311.3457862461289,
          375.90017572491644,
          361.87404976503154,
          307.6396960534764,
          385.63595727354243,
          413.06940951861156,
          290.0396328858171,
          329.1590586748134,
          395.0417123289948,
          259.3898227514722,
          338.33455141496376,
          298.11460938467326,
          379.1862966640895,
          339.17722775721774,
          422.1302868886973,
          304.32168776189076,
          256.01128924157206,
          342.63821987718933,
          272.22276201813054,
          394.2135326385776,
          399.3345954055858,
          361.87404976503154,
          309.1358161558641,
          415.7343734509897,
          403.0757947721935,
          332.8243844436698,
          324.0940008085672,
          254.60950375526397,
          419.28765869416054,
          317.7456996297012,
          276.8793695977288,
          283.4903661399354,
          281.3017484176924,
          328.0866707861087,
          307.7913298476373,
          354.4402030062925,
          293.1460325615953,
          367.7650226681832
         ],
         "yaxis": "y3"
        },
        {
         "hovertemplate": "source=google<br>medium=cpc<br>metric=hits_efficiency<br>Date=%{x}<br>Metric Value=%{y}<extra></extra>",
         "legendgroup": "google, cpc",
         "line": {
          "color": "#ab63fa",
          "dash": "dashdot"
         },
         "marker": {
          "symbol": "circle"
         },
         "mode": "lines",
         "name": "google, cpc",
         "showlegend": false,
         "type": "scattergl",
         "x": [
          "20160805",
          "20160809",
          "20160810",
          "20160811",
          "20160812",
          "20160814",
          "20160815",
          "20160816",
          "20160818",
          "20160822",
          "20160823",
          "20160824",
          "20160825",
          "20160827",
          "20160830",
          "20160901",
          "20160903",
          "20160906",
          "20160908",
          "20160909",
          "20160910",
          "20160912",
          "20160914",
          "20160916",
          "20160917",
          "20160920",
          "20160921",
          "20160923",
          "20160924",
          "20160925",
          "20160926",
          "20160928",
          "20160930",
          "20161001",
          "20161002",
          "20161003",
          "20161004",
          "20161005",
          "20161006",
          "20161007",
          "20161008",
          "20161013",
          "20161014",
          "20161017",
          "20161019",
          "20161020",
          "20161022",
          "20161023",
          "20161024",
          "20161026",
          "20161027",
          "20161028",
          "20161029",
          "20161030",
          "20161102",
          "20161103",
          "20161104",
          "20161105",
          "20161106",
          "20161107",
          "20161108",
          "20161109",
          "20161111",
          "20161112",
          "20161113",
          "20161114",
          "20161116",
          "20161118",
          "20161119",
          "20161121",
          "20161122",
          "20161123",
          "20161124",
          "20161125",
          "20161126",
          "20161127",
          "20161128",
          "20161129",
          "20161130",
          "20161201",
          "20161202",
          "20161204",
          "20161205",
          "20161206",
          "20161207",
          "20161208",
          "20161209",
          "20161210",
          "20161211",
          "20161212",
          "20161213",
          "20161214",
          "20161215",
          "20161216",
          "20161217",
          "20161218",
          "20161219",
          "20161220",
          "20161221",
          "20161222",
          "20161223",
          "20161224",
          "20161227",
          "20161228",
          "20161230",
          "20170102",
          "20170103",
          "20170104",
          "20170105",
          "20170106",
          "20170107",
          "20170108",
          "20170111",
          "20170113",
          "20170115",
          "20170116",
          "20170118",
          "20170119",
          "20170120",
          "20170121",
          "20170122",
          "20170123",
          "20170124",
          "20170125",
          "20170127",
          "20170129",
          "20170130",
          "20170202",
          "20170206",
          "20170208",
          "20170210",
          "20170212",
          "20170213",
          "20170214",
          "20170215",
          "20170216",
          "20170217",
          "20170218",
          "20170219",
          "20170220",
          "20170221",
          "20170222",
          "20170223",
          "20170227",
          "20170302",
          "20170304",
          "20170305",
          "20170307",
          "20170315",
          "20170316",
          "20170317",
          "20170318",
          "20170320",
          "20170324",
          "20170329",
          "20170330",
          "20170403",
          "20170404",
          "20170405",
          "20170406",
          "20170412",
          "20170414",
          "20170418",
          "20170420",
          "20170423",
          "20170424",
          "20170426",
          "20170427",
          "20170428",
          "20170429",
          "20170430",
          "20170501",
          "20170502",
          "20170503",
          "20170506",
          "20170507",
          "20170508",
          "20170509",
          "20170510",
          "20170512",
          "20170513",
          "20170517",
          "20170518",
          "20170519",
          "20170520",
          "20170521",
          "20170523",
          "20170524",
          "20170526",
          "20170527",
          "20170529",
          "20170530",
          "20170601",
          "20170602",
          "20170603",
          "20170606",
          "20170607",
          "20170608",
          "20170610",
          "20170612",
          "20170613",
          "20170614",
          "20170615",
          "20170616",
          "20170617",
          "20170618",
          "20170619",
          "20170620",
          "20170621",
          "20170622",
          "20170623",
          "20170624",
          "20170625",
          "20170626",
          "20170627",
          "20170628",
          "20170629",
          "20170630",
          "20170702",
          "20170705",
          "20170707",
          "20170709",
          "20170710",
          "20170711",
          "20170712",
          "20170713",
          "20170714",
          "20170715",
          "20170716",
          "20170717",
          "20170718",
          "20170719",
          "20170720",
          "20170721",
          "20170722",
          "20170724",
          "20170725",
          "20170726",
          "20170727",
          "20170728",
          "20170729",
          "20170730",
          "20170801"
         ],
         "xaxis": "x2",
         "y": [
          141.285389430841,
          235.63891612606704,
          383.754806262452,
          167.43510767062654,
          206.46457412950636,
          203.5966234052864,
          255.83653750830135,
          218.1424084853858,
          221.34876897164307,
          288.70442600763175,
          236.8856828780568,
          306.470852223486,
          181.2175474017135,
          242.13100871321376,
          263.98819188969327,
          275.941835023458,
          160.6180964649527,
          199.11805985315908,
          157.31883858877404,
          190.8458041896603,
          212.10937420968864,
          313.87352981342525,
          164.38619624985154,
          169.86031793288703,
          272.41853530976533,
          272.0101117185963,
          211.61396769972947,
          358.28959535306086,
          203.92767482545764,
          132.14087088523183,
          275.5962700800807,
          201.74026030152268,
          224.61838858615747,
          355.3285243170852,
          270.3034845697827,
          286.2368668109853,
          253.5753559899199,
          290.9252292846135,
          256.87847829389284,
          337.56209810123096,
          266.4963932378139,
          299.9987969591391,
          333.12049154726736,
          292.6021623713141,
          345.04269861316953,
          245.41096432229457,
          171.57986961886647,
          234.6552657340751,
          252.5922335906236,
          411.1658638526272,
          317.2576109973975,
          290.1849615256196,
          278.3406773817168,
          277.1562489673264,
          286.2368668109853,
          430.4941736918533,
          317.4783119441783,
          243.8845780539994,
          312.18148922143916,
          171.4567156493887,
          266.4963932378139,
          285.30790334871847,
          259.61906696070906,
          225.39815428065705,
          215.5144745314495,
          267.75049391187423,
          266.4963932378139,
          298.0811509548882,
          386.41977019483016,
          167.5120186066259,
          258.0361902778833,
          266.4963932378139,
          290.42668161018906,
          366.824447162638,
          256.01128924157206,
          211.06514344434862,
          256.8056153018934,
          314.7988645121677,
          252.75946575132866,
          249.40039819991642,
          202.14726413892717,
          276.3666300243996,
          224.99619154276502,
          255.156121185141,
          194.95373733504508,
          215.5144745314495,
          272.0101117185963,
          237.54937121370654,
          301.2811856183286,
          309.87952702071385,
          219.63988453665982,
          264.10092004017065,
          280.9633402992952,
          289.48823892891943,
          287.26234595764356,
          203.32687780366544,
          428.36827653781944,
          203.65444898086218,
          302.0292456695224,
          259.61906696070906,
          198.3432172622418,
          194.3115434159179,
          366.824447162638,
          394.41466199196464,
          276.89625248611884,
          218.2253484249269,
          226.83181377916256,
          255.0165486060312,
          317.2576109973975,
          185.27844482248014,
          233.9246118420811,
          253.5753559899199,
          227.15644947413662,
          343.48424017318234,
          329.4864498212972,
          207.9716951149999,
          204.78143901432017,
          453.04386850428364,
          263.16518832234124,
          254.40789704970692,
          333.8217978452617,
          242.80782495000824,
          418.7800465165647,
          277.52383019937866,
          218.9077515882043,
          224.57561227905666,
          260.03587461386695,
          241.89672616970805,
          300.60793157225413,
          309.58942703797106,
          386.41977019483016,
          282.8961712832178,
          244.63002251060868,
          201.3528304463483,
          243.13232588545765,
          260.2258898675124,
          310.1048939494562,
          196.2973433117556,
          179.3403401034345,
          172.89766000306952,
          230.96354080610539,
          227.93946825872595,
          190.58529940643663,
          205.33328659306972,
          277.52383019937866,
          227.4969210566704,
          383.4109399485968,
          390.86137674879376,
          232.76267257479952,
          343.0286907830323,
          250.82013481206013,
          203.6793862603292,
          166.6249293642254,
          411.1658638526272,
          243.8845780539994,
          367.00360440178946,
          213.5919240617146,
          262.94310799464307,
          299.1286046546891,
          189.4174364244154,
          271.63367310745855,
          234.5168260492763,
          335.7854554796455,
          203.55248321593027,
          574.4477809792877,
          335.7854554796455,
          387.3080915056229,
          430.4941736918533,
          319.79567188537675,
          301.3040854158141,
          284.26281945366816,
          426.3942291805023,
          218.97655444360134,
          384.4352225856124,
          256.50277849139593,
          360.5539437923365,
          408.627802964648,
          201.56818106714653,
          274.6962822605159,
          249.3030775450517,
          237.97001875038595,
          352.65139159962774,
          295.36683583857706,
          325.12559975013295,
          261.81074236769854,
          283.552162405034,
          198.84730880052268,
          263.16518832234124,
          397.96794723513545,
          338.4504194120237,
          232.99398951648877,
          296.3439892804491,
          319.79567188537675,
          214.23205203971838,
          270.3034845697827,
          266.49639323781395,
          334.498921167463,
          334.095478351796,
          234.11202140132008,
          268.3665433657986,
          349.83708348673025,
          238.0701112924471,
          248.22235484436382,
          263.0577300992615,
          222.52448835357458,
          243.14623306840545,
          274.6962822605159,
          327.4098545493142,
          233.80616900064206,
          345.04269861316953,
          300.4141160135357,
          224.059052892835,
          246.03808426198174,
          305.2595049814959,
          197.8396953189195,
          259.3898227514722,
          244.2883604679961,
          340.2953944421316,
          286.9961157945688,
          336.80607996438613,
          209.6438293470803,
          154.62067964094948,
          312.8435920617816,
          198.42743496502288,
          274.9120688137449,
          337.1006324852347,
          327.4098545493142,
          309.1358161558641,
          366.824447162638,
          339.4322482292156,
          293.66857450912045,
          257.61318012988676,
          201.08364217035052,
          349.4063822451338,
          250.34509667794643,
          201.1293533870294,
          219.78466588377015,
          210.97631131326932,
          314.1255358590402,
          245.7901986553075,
          308.2088721793848,
          251.26802790993884,
          262.6893019058451
         ],
         "yaxis": "y2"
        },
        {
         "hovertemplate": "source=google<br>medium=cpc<br>metric=visits_efficiency<br>Date=%{x}<br>Metric Value=%{y}<extra></extra>",
         "legendgroup": "google, cpc",
         "line": {
          "color": "#ab63fa",
          "dash": "dashdot"
         },
         "marker": {
          "symbol": "circle"
         },
         "mode": "lines",
         "name": "google, cpc",
         "showlegend": false,
         "type": "scattergl",
         "x": [
          "20160805",
          "20160809",
          "20160810",
          "20160811",
          "20160812",
          "20160814",
          "20160815",
          "20160816",
          "20160818",
          "20160822",
          "20160823",
          "20160824",
          "20160825",
          "20160827",
          "20160830",
          "20160901",
          "20160903",
          "20160906",
          "20160908",
          "20160909",
          "20160910",
          "20160912",
          "20160914",
          "20160916",
          "20160917",
          "20160920",
          "20160921",
          "20160923",
          "20160924",
          "20160925",
          "20160926",
          "20160928",
          "20160930",
          "20161001",
          "20161002",
          "20161003",
          "20161004",
          "20161005",
          "20161006",
          "20161007",
          "20161008",
          "20161013",
          "20161014",
          "20161017",
          "20161019",
          "20161020",
          "20161022",
          "20161023",
          "20161024",
          "20161026",
          "20161027",
          "20161028",
          "20161029",
          "20161030",
          "20161102",
          "20161103",
          "20161104",
          "20161105",
          "20161106",
          "20161107",
          "20161108",
          "20161109",
          "20161111",
          "20161112",
          "20161113",
          "20161114",
          "20161116",
          "20161118",
          "20161119",
          "20161121",
          "20161122",
          "20161123",
          "20161124",
          "20161125",
          "20161126",
          "20161127",
          "20161128",
          "20161129",
          "20161130",
          "20161201",
          "20161202",
          "20161204",
          "20161205",
          "20161206",
          "20161207",
          "20161208",
          "20161209",
          "20161210",
          "20161211",
          "20161212",
          "20161213",
          "20161214",
          "20161215",
          "20161216",
          "20161217",
          "20161218",
          "20161219",
          "20161220",
          "20161221",
          "20161222",
          "20161223",
          "20161224",
          "20161227",
          "20161228",
          "20161230",
          "20170102",
          "20170103",
          "20170104",
          "20170105",
          "20170106",
          "20170107",
          "20170108",
          "20170111",
          "20170113",
          "20170115",
          "20170116",
          "20170118",
          "20170119",
          "20170120",
          "20170121",
          "20170122",
          "20170123",
          "20170124",
          "20170125",
          "20170127",
          "20170129",
          "20170130",
          "20170202",
          "20170206",
          "20170208",
          "20170210",
          "20170212",
          "20170213",
          "20170214",
          "20170215",
          "20170216",
          "20170217",
          "20170218",
          "20170219",
          "20170220",
          "20170221",
          "20170222",
          "20170223",
          "20170227",
          "20170302",
          "20170304",
          "20170305",
          "20170307",
          "20170315",
          "20170316",
          "20170317",
          "20170318",
          "20170320",
          "20170324",
          "20170329",
          "20170330",
          "20170403",
          "20170404",
          "20170405",
          "20170406",
          "20170412",
          "20170414",
          "20170418",
          "20170420",
          "20170423",
          "20170424",
          "20170426",
          "20170427",
          "20170428",
          "20170429",
          "20170430",
          "20170501",
          "20170502",
          "20170503",
          "20170506",
          "20170507",
          "20170508",
          "20170509",
          "20170510",
          "20170512",
          "20170513",
          "20170517",
          "20170518",
          "20170519",
          "20170520",
          "20170521",
          "20170523",
          "20170524",
          "20170526",
          "20170527",
          "20170529",
          "20170530",
          "20170601",
          "20170602",
          "20170603",
          "20170606",
          "20170607",
          "20170608",
          "20170610",
          "20170612",
          "20170613",
          "20170614",
          "20170615",
          "20170616",
          "20170617",
          "20170618",
          "20170619",
          "20170620",
          "20170621",
          "20170622",
          "20170623",
          "20170624",
          "20170625",
          "20170626",
          "20170627",
          "20170628",
          "20170629",
          "20170630",
          "20170702",
          "20170705",
          "20170707",
          "20170709",
          "20170710",
          "20170711",
          "20170712",
          "20170713",
          "20170714",
          "20170715",
          "20170716",
          "20170717",
          "20170718",
          "20170719",
          "20170720",
          "20170721",
          "20170722",
          "20170724",
          "20170725",
          "20170726",
          "20170727",
          "20170728",
          "20170729",
          "20170730",
          "20170801"
         ],
         "xaxis": "x",
         "y": [
          26702.938602428952,
          8954.278812790548,
          5756.32209393678,
          16576.075659392027,
          9807.067271151553,
          10926.352122750372,
          7675.096125249041,
          10579.906811541212,
          9407.32268129483,
          6928.9062241831625,
          8527.884583610045,
          7355.300453363664,
          13138.272186624228,
          8474.585304962482,
          7479.665436874643,
          7266.468322284393,
          23771.478276813003,
          10553.25717221743,
          19507.53598500798,
          11832.439859758939,
          10393.359336274743,
          7062.154420802069,
          15616.688643735897,
          18175.05401881891,
          7355.300453363664,
          7888.293239839292,
          10686.505368836339,
          6449.212716355096,
          9380.673041971051,
          47702.85438956869,
          7532.964715522207,
          10793.103926131464,
          9433.972320618614,
          6395.913437707534,
          7568.497567953916,
          7728.395403896603,
          8367.986747667357,
          6982.205502830725,
          8541.209403271936,
          7088.80406012585,
          8527.884583610045,
          6999.971929046579,
          6662.4098309453475,
          7168.7529780971945,
          6555.811273650222,
          7444.132584442935,
          12525.330482177253,
          9034.227730761892,
          8714.432058876515,
          5756.32209393678,
          6662.4098309453475,
          7834.993961191729,
          7515.198289306353,
          8314.687469019793,
          7728.395403896603,
          5596.424257994093,
          7302.001174716102,
          8048.1910757819805,
          7648.446485925259,
          14230.907398899264,
          8350.220321451501,
          7275.35153539232,
          8048.1910757819805,
          9354.023402647268,
          9913.665828446678,
          7586.26399416977,
          7728.395403896603,
          8048.1910757819805,
          6182.716323117283,
          18761.346083942102,
          8128.139993753324,
          7728.395403896603,
          7115.453699449632,
          6236.015601764846,
          7808.344321867949,
          10553.25717221743,
          8474.585304962482,
          6715.709109592911,
          8172.5560592929605,
          8812.147403063713,
          11050.71710626135,
          7461.89901065879,
          9824.833697367407,
          7994.891797134417,
          11619.242745168685,
          9913.665828446678,
          7888.293239839292,
          9185.242353596654,
          7155.428158435304,
          6662.4098309453475,
          9993.614746418021,
          7834.993961191729,
          7866.973528380267,
          7381.950092687446,
          7373.066879579518,
          10979.651401397934,
          5782.971733260562,
          11659.21720415436,
          7248.701896068538,
          8048.1910757819805,
          12098.936252996751,
          12338.783006910786,
          6236.015601764846,
          5916.219929879469,
          7568.497567953916,
          11565.943466521125,
          9753.76799250399,
          8288.037829696013,
          6662.4098309453475,
          15563.389365088333,
          8421.28602631492,
          8367.986747667357,
          9540.570877913739,
          6182.716323117283,
          7248.701896068538,
          10606.556450864995,
          11672.54202381625,
          5436.526422051404,
          8421.28602631492,
          8225.855337940524,
          6342.614159059972,
          8741.081698200296,
          5862.920651231906,
          8048.1910757819805,
          12258.83408893944,
          9993.614746418021,
          8581.183862257609,
          9433.972320618614,
          7515.198289306353,
          7275.35153539232,
          6182.716323117283,
          7355.300453363664,
          9540.570877913739,
          10873.052844102807,
          8874.329894819204,
          8847.680255495423,
          6822.307666888037,
          8048.1910757819805,
          14257.557038223043,
          14177.6081202517,
          9354.023402647268,
          10713.15500816012,
          12578.629760824817,
          12525.330482177253,
          8048.1910757819805,
          9327.373763323487,
          5942.869569203251,
          5862.920651231906,
          9194.12556670458,
          6689.05947026913,
          8527.884583610045,
          11406.045630578436,
          17162.367724515218,
          5756.32209393678,
          8048.1910757819805,
          6422.5630770313155,
          9611.636582777157,
          7888.293239839292,
          7328.650814039884,
          12312.133367587001,
          7515.198289306353,
          9380.673041971051,
          6715.709109592911,
          10686.505368836339,
          5170.0300288135895,
          6715.709109592911,
          5809.621372584344,
          5596.424257994093,
          7035.504781478288,
          7381.950092687445,
          7675.096125249041,
          5969.519208527032,
          9087.527009409456,
          6022.818487174594,
          8208.08891172467,
          6129.41704446972,
          6129.41704446972,
          11086.249958693059,
          7142.103338773412,
          7728.395403896603,
          8447.9356656387,
          6435.887896693206,
          7088.80406012585,
          6502.511995002659,
          7941.592518486855,
          7088.80406012585,
          10340.060057627179,
          8421.28602631492,
          5969.519208527032,
          6769.008388240473,
          8154.789633077106,
          7408.599732011227,
          7035.504781478288,
          8826.360544036397,
          7568.497567953916,
          7461.89901065879,
          6466.979142570951,
          6848.957306211817,
          9247.424845352143,
          7648.446485925259,
          6413.679863923388,
          8927.629173466767,
          8687.782419552734,
          8154.789633077106,
          8900.979534142984,
          8510.11815739419,
          7142.103338773412,
          6875.606945535599,
          8767.731337524077,
          6555.811273650222,
          6609.110552297785,
          9455.292032077637,
          8119.256780645398,
          6715.709109592911,
          11672.54202381625,
          7781.694682544166,
          8794.38097684786,
          6635.760191621567,
          7461.89901065879,
          6331.95430333046,
          9433.972320618614,
          15616.688643735897,
          7195.402617420976,
          10979.651401397932,
          6964.439076614871,
          6489.187175340769,
          6875.606945535599,
          7728.395403896603,
          6236.015601764846,
          6449.212716355096,
          7488.548649982571,
          8037.531220052467,
          11796.90700732723,
          6289.3148804124085,
          8261.388190372232,
          10659.855729512557,
          9780.417631827771,
          10126.862943036927,
          7381.950092687445,
          8541.209403271936,
          7088.80406012585,
          8794.380976847859,
          7355.300453363664
         ],
         "yaxis": "y"
        },
        {
         "hovertemplate": "source=google<br>medium=(not set)<br>metric=pageviews_efficiency<br>Date=%{x}<br>Metric Value=%{y}<extra></extra>",
         "legendgroup": "google, (not set)",
         "line": {
          "color": "#ab63fa",
          "dash": "solid"
         },
         "marker": {
          "symbol": "circle"
         },
         "mode": "lines",
         "name": "google, (not set)",
         "showlegend": true,
         "type": "scattergl",
         "x": [
          "20170418"
         ],
         "xaxis": "x3",
         "y": [
          396.41338494124824
         ],
         "yaxis": "y3"
        },
        {
         "hovertemplate": "source=google<br>medium=(not set)<br>metric=hits_efficiency<br>Date=%{x}<br>Metric Value=%{y}<extra></extra>",
         "legendgroup": "google, (not set)",
         "line": {
          "color": "#ab63fa",
          "dash": "solid"
         },
         "marker": {
          "symbol": "circle"
         },
         "mode": "lines",
         "name": "google, (not set)",
         "showlegend": false,
         "type": "scattergl",
         "x": [
          "20170418"
         ],
         "xaxis": "x2",
         "y": [
          373.0949505329395
         ],
         "yaxis": "y2"
        },
        {
         "hovertemplate": "source=google<br>medium=(not set)<br>metric=visits_efficiency<br>Date=%{x}<br>Metric Value=%{y}<extra></extra>",
         "legendgroup": "google, (not set)",
         "line": {
          "color": "#ab63fa",
          "dash": "solid"
         },
         "marker": {
          "symbol": "circle"
         },
         "mode": "lines",
         "name": "google, (not set)",
         "showlegend": false,
         "type": "scattergl",
         "x": [
          "20170418"
         ],
         "xaxis": "x",
         "y": [
          6342.614159059972
         ],
         "yaxis": "y"
        },
        {
         "hovertemplate": "source=mall.googleplex.com<br>medium=referral<br>metric=pageviews_efficiency<br>Date=%{x}<br>Metric Value=%{y}<extra></extra>",
         "legendgroup": "mall.googleplex.com, referral",
         "line": {
          "color": "#FFA15A",
          "dash": "dot"
         },
         "marker": {
          "symbol": "circle"
         },
         "mode": "lines",
         "name": "mall.googleplex.com, referral",
         "showlegend": true,
         "type": "scattergl",
         "x": [
          "20160801",
          "20160802",
          "20160804",
          "20160805",
          "20160806",
          "20160807",
          "20160808",
          "20160809",
          "20160810",
          "20160811",
          "20160812",
          "20160813",
          "20160814",
          "20160815",
          "20160816",
          "20160817",
          "20160818",
          "20160819",
          "20160820",
          "20160821",
          "20160822",
          "20160823",
          "20160824",
          "20160825",
          "20160826",
          "20160827",
          "20160828",
          "20160829",
          "20160830",
          "20160831",
          "20160901",
          "20160902",
          "20160903",
          "20160904",
          "20160905",
          "20160906",
          "20160907",
          "20160908",
          "20160909",
          "20160910",
          "20160911",
          "20160912",
          "20160913",
          "20160914",
          "20160915",
          "20160916",
          "20160917",
          "20160918",
          "20160919",
          "20160920",
          "20160921",
          "20160922",
          "20160923",
          "20160924",
          "20160925",
          "20160926",
          "20160927",
          "20160928",
          "20160929",
          "20160930",
          "20161001",
          "20161002",
          "20161003",
          "20161004",
          "20161005",
          "20161006",
          "20161007",
          "20161008",
          "20161009",
          "20161010",
          "20161011",
          "20161012",
          "20161013",
          "20161014",
          "20161015",
          "20161016",
          "20161017",
          "20161018",
          "20161019",
          "20161020",
          "20161021",
          "20161022",
          "20161023",
          "20161024",
          "20161025",
          "20161026",
          "20161027",
          "20161028",
          "20161029",
          "20161030",
          "20161031",
          "20161101",
          "20161102",
          "20161103",
          "20161104",
          "20161105",
          "20161106",
          "20161107",
          "20161108",
          "20161109",
          "20161110",
          "20161111",
          "20161112",
          "20161113",
          "20161114",
          "20161115",
          "20161116",
          "20161117",
          "20161118",
          "20161119",
          "20161120",
          "20161121",
          "20161122",
          "20161123",
          "20161124",
          "20161125",
          "20161126",
          "20161127",
          "20161128",
          "20161129",
          "20161130",
          "20161201",
          "20161202",
          "20161203",
          "20161204",
          "20161205",
          "20161206",
          "20161207",
          "20161208",
          "20161209",
          "20161210",
          "20161211",
          "20161212",
          "20161213",
          "20161214",
          "20161215",
          "20161216",
          "20161217",
          "20161218",
          "20161219",
          "20161220",
          "20161221",
          "20161222",
          "20161223",
          "20161224",
          "20161225",
          "20161226",
          "20161227",
          "20161228",
          "20161229",
          "20161230",
          "20161231",
          "20170101",
          "20170102",
          "20170103",
          "20170104",
          "20170105",
          "20170106",
          "20170107",
          "20170108",
          "20170109",
          "20170110",
          "20170111",
          "20170112",
          "20170113",
          "20170114",
          "20170116",
          "20170117",
          "20170118",
          "20170119",
          "20170120",
          "20170121",
          "20170122",
          "20170123",
          "20170124",
          "20170125",
          "20170126",
          "20170127",
          "20170128",
          "20170129",
          "20170130",
          "20170131",
          "20170201",
          "20170202",
          "20170203",
          "20170204",
          "20170205",
          "20170206",
          "20170207",
          "20170208",
          "20170209",
          "20170210",
          "20170211",
          "20170212",
          "20170213",
          "20170214",
          "20170215",
          "20170216",
          "20170217",
          "20170218",
          "20170219",
          "20170220",
          "20170221",
          "20170222",
          "20170223",
          "20170224",
          "20170225",
          "20170226",
          "20170227",
          "20170228",
          "20170301",
          "20170302",
          "20170303",
          "20170304",
          "20170305",
          "20170306",
          "20170307",
          "20170308",
          "20170309",
          "20170310",
          "20170311",
          "20170312",
          "20170313",
          "20170314",
          "20170315",
          "20170316",
          "20170317",
          "20170318",
          "20170319",
          "20170320",
          "20170321",
          "20170322",
          "20170323",
          "20170324",
          "20170325",
          "20170326",
          "20170327",
          "20170328",
          "20170329",
          "20170330",
          "20170331",
          "20170401",
          "20170402",
          "20170403",
          "20170404",
          "20170405",
          "20170406",
          "20170407",
          "20170408",
          "20170409",
          "20170410",
          "20170411",
          "20170412",
          "20170413",
          "20170414",
          "20170415",
          "20170416",
          "20170417",
          "20170418",
          "20170419",
          "20170420",
          "20170421",
          "20170422",
          "20170423",
          "20170424",
          "20170425",
          "20170426",
          "20170427",
          "20170428",
          "20170429",
          "20170430",
          "20170501",
          "20170502",
          "20170503",
          "20170504",
          "20170505",
          "20170506",
          "20170507",
          "20170508",
          "20170509",
          "20170510",
          "20170511",
          "20170512",
          "20170513",
          "20170514",
          "20170515",
          "20170516",
          "20170517",
          "20170518",
          "20170519",
          "20170520",
          "20170521",
          "20170522",
          "20170523",
          "20170524",
          "20170525",
          "20170526",
          "20170527",
          "20170528",
          "20170529",
          "20170530",
          "20170531",
          "20170601",
          "20170602",
          "20170603",
          "20170604",
          "20170605",
          "20170606",
          "20170607",
          "20170608",
          "20170609",
          "20170610",
          "20170611",
          "20170612",
          "20170613",
          "20170614",
          "20170615",
          "20170616",
          "20170617",
          "20170618",
          "20170619",
          "20170620",
          "20170621",
          "20170622",
          "20170623",
          "20170625",
          "20170626",
          "20170627",
          "20170628",
          "20170629",
          "20170630",
          "20170702",
          "20170703",
          "20170704",
          "20170705",
          "20170706",
          "20170707",
          "20170708",
          "20170709",
          "20170710",
          "20170711",
          "20170712",
          "20170713",
          "20170714",
          "20170715",
          "20170716",
          "20170717",
          "20170718",
          "20170719",
          "20170720",
          "20170721",
          "20170722",
          "20170723",
          "20170724",
          "20170725",
          "20170726",
          "20170727",
          "20170728",
          "20170729",
          "20170730",
          "20170731",
          "20170801"
         ],
         "xaxis": "x3",
         "y": [
          316.80692728831707,
          271.4759106201122,
          368.32188080330707,
          264.8812635818271,
          262.54829852317965,
          280.78893723269107,
          328.5772463993916,
          304.1720665413583,
          294.68115003416335,
          279.96201310746716,
          268.5150770531823,
          312.8865061347667,
          254.08423245687464,
          321.5211881005855,
          313.8735298134253,
          267.4431933809786,
          284.5379632224978,
          303.4975453567831,
          271.06490283617643,
          327.75993191317343,
          299.4185744570497,
          295.88267034056554,
          303.6311365578372,
          296.4651532996237,
          254.40887825881308,
          284.3466233509128,
          258.92726490916596,
          305.8991602907976,
          285.6294676241185,
          305.3257505337923,
          275.0001726200256,
          317.0236053836122,
          266.49639323781395,
          297.0010118348467,
          276.42944062213246,
          333.66030300478536,
          286.2070698697428,
          272.6463100048404,
          331.9997123233701,
          288.1492251883863,
          290.7627314838587,
          276.0478126414701,
          276.5092635039745,
          310.28877967879055,
          346.51792603020385,
          277.5282535595718,
          298.12453661109294,
          270.66382654770564,
          334.48016702297053,
          341.62148925440835,
          287.9271448606881,
          306.442072915361,
          331.50158822386015,
          252.23320599409993,
          368.41957521297786,
          283.9028322717021,
          305.5306581354207,
          299.561686472876,
          316.8766444543743,
          310.63485836782684,
          333.4039983485842,
          313.93860829773246,
          289.7921663881943,
          310.0506545207104,
          307.1294934995491,
          294.15077659355114,
          297.4018684992334,
          310.46829812205317,
          317.03881264498557,
          294.1412473081266,
          343.1860028026524,
          321.6992175513611,
          342.8112694831879,
          329.28732424727144,
          268.68677455209735,
          272.3992449447101,
          299.35512378548657,
          291.54063260233136,
          361.9909341480306,
          321.8940686825249,
          291.2547678353915,
          294.4460149676334,
          301.37122988375006,
          274.23896030464533,
          348.6661144861399,
          308.43865259549517,
          369.3709834658609,
          310.3118144747784,
          420.97396355532635,
          309.19020317489225,
          364.16522845586087,
          280.86682249087914,
          289.2996928653795,
          333.38472309863636,
          335.85605055070187,
          294.5610576584333,
          297.2374709640016,
          301.95166302229165,
          301.65633717323766,
          299.80844239254066,
          337.86322396929626,
          348.17580726914395,
          276.8732439479589,
          276.9364581275427,
          307.72791068215497,
          267.57678402121047,
          271.142997017345,
          307.0661190812337,
          319.5356754041691,
          335.86383677177434,
          297.082911098063,
          325.1727672533609,
          355.98654010285765,
          289.5537614301765,
          311.0079771979649,
          306.73841888336335,
          300.25260304793704,
          291.7132562538651,
          290.0995753371466,
          298.44233312121116,
          326.78349504996714,
          292.6598865706143,
          301.13613986333945,
          317.4579842253959,
          325.4061222693307,
          304.21861376273347,
          299.06817463354673,
          270.9492443653318,
          283.2906054859869,
          314.72750641314246,
          314.40904266035704,
          275.1218345368057,
          301.2039866077869,
          296.00816566319475,
          295.5731846251228,
          307.1161493523966,
          308.30600702721944,
          296.45997734797226,
          272.2584774159288,
          304.9014161894065,
          324.4435138512457,
          287.63343887038474,
          325.9355397687969,
          288.63064516786494,
          323.05889302706424,
          301.3398022641311,
          317.439902663385,
          316.2620180523891,
          353.62021410402235,
          320.89086254251845,
          292.2577112508026,
          297.82772595631366,
          246.67999476628415,
          397.2846231499103,
          290.1527759708808,
          305.3353458522988,
          318.65895741185045,
          325.1903357161017,
          375.51764501691963,
          309.4188211752317,
          305.8030211664461,
          293.8822104434677,
          292.33846773360193,
          308.54186525011414,
          313.0372619127751,
          339.17722775721774,
          252.65624905861253,
          324.3582560497595,
          325.6405013976421,
          328.1563430457787,
          291.286755399471,
          316.13787825270083,
          253.94243091173507,
          361.3510416783917,
          298.94798355828567,
          371.03507502965203,
          282.24390738368476,
          314.6161181610054,
          335.1932412724504,
          360.9508110942543,
          285.0810101346615,
          308.7024886871848,
          311.0341466282431,
          378.0761915280388,
          294.85265971040894,
          284.350338794633,
          270.70423102577945,
          295.21878228677826,
          342.10699783086807,
          323.43723750725985,
          310.34844524678755,
          296.0411187276885,
          373.0949505329395,
          335.119214496551,
          313.8111914758258,
          318.0105285813913,
          335.82553012524517,
          301.96169271813136,
          349.12302616513614,
          303.7416722927373,
          269.8275981532866,
          290.2210721480095,
          332.2552435172745,
          329.72958761897263,
          303.7903491428141,
          265.58418064482385,
          361.10261283723787,
          295.53766685988336,
          326.3016871193515,
          338.0846400487561,
          301.73029138223643,
          302.8803319553119,
          301.69716293651584,
          289.51670424901806,
          278.20722065896854,
          326.31002816452326,
          313.6007995864275,
          294.5943825248443,
          325.81107603720136,
          343.5167794153359,
          292.088507191604,
          291.6043178899716,
          336.7938202108157,
          308.41311407250737,
          307.06306643068115,
          334.8398231165436,
          308.7172998801096,
          353.34067243279384,
          311.70311125302425,
          331.7096282889496,
          307.0778396701231,
          316.1338893828724,
          286.65158264235447,
          309.84298103226917,
          287.6593421125815,
          300.5487101515346,
          347.0650702631996,
          367.0795463811148,
          395.5828653595824,
          315.4699333284731,
          320.83396952136815,
          305.4280402499467,
          319.3856774342416,
          351.1388297766301,
          328.6385067519042,
          325.91462230413015,
          356.69517248753556,
          325.2883456391332,
          278.54488917730134,
          301.4467398919535,
          349.9471569109467,
          332.0231534574646,
          316.05359729342257,
          368.7817141105934,
          367.30477820075305,
          345.23396396716805,
          304.63294606322523,
          328.9712439057166,
          364.21173742501236,
          331.6575291511548,
          335.0020943237304,
          314.91133284532674,
          310.44492124545343,
          295.56872704557543,
          317.31278623409275,
          365.28677595399716,
          356.21219473096284,
          352.90081390249645,
          345.77063679589776,
          347.5257019925547,
          321.3900947509021,
          386.9453431281298,
          358.2895953530609,
          369.3326485107586,
          370.10620593587987,
          328.709203126778,
          384.36979793915464,
          257.11271741958103,
          337.6181436097983,
          346.9219714247054,
          358.2710886590861,
          342.63821987718933,
          356.39287243139904,
          325.07282818711565,
          252.665567765978,
          370.68069749315447,
          330.27218857285834,
          338.6865554566648,
          365.8773398827487,
          324.0824771385319,
          330.45552761488926,
          273.04511006823117,
          311.1487144452136,
          307.64657160541753,
          315.97251687690175,
          331.3305903986552,
          354.17298440060694,
          333.93629683268927,
          307.35917353427874,
          282.470361022395,
          326.16137520563217,
          308.7712282563205,
          332.4041033934023,
          353.9259117210967,
          355.4915190530105,
          315.1609520029799,
          341.1432887258927,
          324.9797962523129,
          308.92046553506594,
          392.09271321919954,
          335.9062850785947,
          351.71140760248016,
          390.5496850607963,
          333.56964277182556,
          345.77427712546574,
          340.85673866465635,
          349.5688350201749,
          329.86077171581775,
          366.33310174929346,
          303.8967393342571,
          331.3913164766404,
          323.1814867174965,
          328.49759492987675,
          308.659929739368,
          327.1755720058085,
          320.48192869199767,
          348.45119803998034,
          321.4967126932777,
          317.1636087422872,
          347.9894959176389,
          309.1553397011563,
          426.3942291805023,
          309.46213827003294,
          288.4431550338692,
          329.7463955813809,
          319.8864713379279,
          342.7313027948414,
          363.3450824876536,
          315.18956138497003,
          329.61646920326393,
          341.5761236706283,
          311.61411346406675,
          342.42507012920976,
          314.1113997858444,
          298.0551766475551,
          292.51651352245085,
          305.2358689377498,
          347.17744415761365,
          345.9542793288204,
          340.0359042831854,
          327.50032008591546,
          312.0586798236338,
          327.1112591507285,
          322.53979316228094,
          330.61190691654474,
          313.9867638874588,
          338.87556930006843,
          296.18302849592936,
          329.5385507779419,
          333.26376917804043,
          310.632316756752,
          304.9675392359906
         ],
         "yaxis": "y3"
        },
        {
         "hovertemplate": "source=mall.googleplex.com<br>medium=referral<br>metric=hits_efficiency<br>Date=%{x}<br>Metric Value=%{y}<extra></extra>",
         "legendgroup": "mall.googleplex.com, referral",
         "line": {
          "color": "#FFA15A",
          "dash": "dot"
         },
         "marker": {
          "symbol": "circle"
         },
         "mode": "lines",
         "name": "mall.googleplex.com, referral",
         "showlegend": false,
         "type": "scattergl",
         "x": [
          "20160801",
          "20160802",
          "20160804",
          "20160805",
          "20160806",
          "20160807",
          "20160808",
          "20160809",
          "20160810",
          "20160811",
          "20160812",
          "20160813",
          "20160814",
          "20160815",
          "20160816",
          "20160817",
          "20160818",
          "20160819",
          "20160820",
          "20160821",
          "20160822",
          "20160823",
          "20160824",
          "20160825",
          "20160826",
          "20160827",
          "20160828",
          "20160829",
          "20160830",
          "20160831",
          "20160901",
          "20160902",
          "20160903",
          "20160904",
          "20160905",
          "20160906",
          "20160907",
          "20160908",
          "20160909",
          "20160910",
          "20160911",
          "20160912",
          "20160913",
          "20160914",
          "20160915",
          "20160916",
          "20160917",
          "20160918",
          "20160919",
          "20160920",
          "20160921",
          "20160922",
          "20160923",
          "20160924",
          "20160925",
          "20160926",
          "20160927",
          "20160928",
          "20160929",
          "20160930",
          "20161001",
          "20161002",
          "20161003",
          "20161004",
          "20161005",
          "20161006",
          "20161007",
          "20161008",
          "20161009",
          "20161010",
          "20161011",
          "20161012",
          "20161013",
          "20161014",
          "20161015",
          "20161016",
          "20161017",
          "20161018",
          "20161019",
          "20161020",
          "20161021",
          "20161022",
          "20161023",
          "20161024",
          "20161025",
          "20161026",
          "20161027",
          "20161028",
          "20161029",
          "20161030",
          "20161031",
          "20161101",
          "20161102",
          "20161103",
          "20161104",
          "20161105",
          "20161106",
          "20161107",
          "20161108",
          "20161109",
          "20161110",
          "20161111",
          "20161112",
          "20161113",
          "20161114",
          "20161115",
          "20161116",
          "20161117",
          "20161118",
          "20161119",
          "20161120",
          "20161121",
          "20161122",
          "20161123",
          "20161124",
          "20161125",
          "20161126",
          "20161127",
          "20161128",
          "20161129",
          "20161130",
          "20161201",
          "20161202",
          "20161203",
          "20161204",
          "20161205",
          "20161206",
          "20161207",
          "20161208",
          "20161209",
          "20161210",
          "20161211",
          "20161212",
          "20161213",
          "20161214",
          "20161215",
          "20161216",
          "20161217",
          "20161218",
          "20161219",
          "20161220",
          "20161221",
          "20161222",
          "20161223",
          "20161224",
          "20161225",
          "20161226",
          "20161227",
          "20161228",
          "20161229",
          "20161230",
          "20161231",
          "20170101",
          "20170102",
          "20170103",
          "20170104",
          "20170105",
          "20170106",
          "20170107",
          "20170108",
          "20170109",
          "20170110",
          "20170111",
          "20170112",
          "20170113",
          "20170114",
          "20170116",
          "20170117",
          "20170118",
          "20170119",
          "20170120",
          "20170121",
          "20170122",
          "20170123",
          "20170124",
          "20170125",
          "20170126",
          "20170127",
          "20170128",
          "20170129",
          "20170130",
          "20170131",
          "20170201",
          "20170202",
          "20170203",
          "20170204",
          "20170205",
          "20170206",
          "20170207",
          "20170208",
          "20170209",
          "20170210",
          "20170211",
          "20170212",
          "20170213",
          "20170214",
          "20170215",
          "20170216",
          "20170217",
          "20170218",
          "20170219",
          "20170220",
          "20170221",
          "20170222",
          "20170223",
          "20170224",
          "20170225",
          "20170226",
          "20170227",
          "20170228",
          "20170301",
          "20170302",
          "20170303",
          "20170304",
          "20170305",
          "20170306",
          "20170307",
          "20170308",
          "20170309",
          "20170310",
          "20170311",
          "20170312",
          "20170313",
          "20170314",
          "20170315",
          "20170316",
          "20170317",
          "20170318",
          "20170319",
          "20170320",
          "20170321",
          "20170322",
          "20170323",
          "20170324",
          "20170325",
          "20170326",
          "20170327",
          "20170328",
          "20170329",
          "20170330",
          "20170331",
          "20170401",
          "20170402",
          "20170403",
          "20170404",
          "20170405",
          "20170406",
          "20170407",
          "20170408",
          "20170409",
          "20170410",
          "20170411",
          "20170412",
          "20170413",
          "20170414",
          "20170415",
          "20170416",
          "20170417",
          "20170418",
          "20170419",
          "20170420",
          "20170421",
          "20170422",
          "20170423",
          "20170424",
          "20170425",
          "20170426",
          "20170427",
          "20170428",
          "20170429",
          "20170430",
          "20170501",
          "20170502",
          "20170503",
          "20170504",
          "20170505",
          "20170506",
          "20170507",
          "20170508",
          "20170509",
          "20170510",
          "20170511",
          "20170512",
          "20170513",
          "20170514",
          "20170515",
          "20170516",
          "20170517",
          "20170518",
          "20170519",
          "20170520",
          "20170521",
          "20170522",
          "20170523",
          "20170524",
          "20170525",
          "20170526",
          "20170527",
          "20170528",
          "20170529",
          "20170530",
          "20170531",
          "20170601",
          "20170602",
          "20170603",
          "20170604",
          "20170605",
          "20170606",
          "20170607",
          "20170608",
          "20170609",
          "20170610",
          "20170611",
          "20170612",
          "20170613",
          "20170614",
          "20170615",
          "20170616",
          "20170617",
          "20170618",
          "20170619",
          "20170620",
          "20170621",
          "20170622",
          "20170623",
          "20170625",
          "20170626",
          "20170627",
          "20170628",
          "20170629",
          "20170630",
          "20170702",
          "20170703",
          "20170704",
          "20170705",
          "20170706",
          "20170707",
          "20170708",
          "20170709",
          "20170710",
          "20170711",
          "20170712",
          "20170713",
          "20170714",
          "20170715",
          "20170716",
          "20170717",
          "20170718",
          "20170719",
          "20170720",
          "20170721",
          "20170722",
          "20170723",
          "20170724",
          "20170725",
          "20170726",
          "20170727",
          "20170728",
          "20170729",
          "20170730",
          "20170731",
          "20170801"
         ],
         "xaxis": "x2",
         "y": [
          238.72071281584456,
          194.19935190399113,
          293.7805477835901,
          183.6361701302583,
          181.7642066698936,
          164.79088447426787,
          256.40760120809665,
          224.36115268534874,
          218.05902662374578,
          194.81313880004902,
          189.69775211944068,
          244.8677004532957,
          191.21803061187472,
          254.65210909391104,
          233.4055669577827,
          180.49586464428523,
          214.70978193083306,
          232.05815474357507,
          207.2462242558145,
          245.81994893488007,
          223.113259454914,
          223.07099017380884,
          241.32246684075662,
          232.17488804809545,
          181.95270986581778,
          210.04001446130144,
          193.33744228121816,
          232.88302906560725,
          211.11743259173977,
          217.42250942044737,
          196.32299318882542,
          243.81997286775996,
          183.4062630267845,
          216.62000404468176,
          173.26061805375824,
          261.6834148984019,
          227.7623829293749,
          211.09791149270063,
          258.3561397716407,
          236.43013348790672,
          198.68786651397014,
          209.00102397645642,
          202.26681854624778,
          239.06752469403892,
          275.264239941742,
          205.00086996267035,
          231.8746395864056,
          200.5222861313795,
          269.7864721666758,
          264.0514721989349,
          211.6462933126038,
          230.3290255841106,
          259.85838783848374,
          177.89957906206385,
          299.9987969591391,
          214.39646829519177,
          226.66624637844387,
          221.59357629500417,
          254.01656213984802,
          243.43629716988877,
          261.16646537305763,
          236.7548068101684,
          223.91300109889386,
          257.25565142894857,
          248.9215925743649,
          234.05997508944,
          251.09692268153574,
          258.72358176837764,
          257.17833753019806,
          227.69177923316437,
          274.68054350999245,
          250.2105025399475,
          274.2490155865503,
          253.03131231632437,
          239.1967627110135,
          211.7128308810785,
          229.00194800624763,
          228.28181609427833,
          295.0567614187721,
          250.80090013914514,
          241.4143797566079,
          211.79450199426262,
          223.27197823704654,
          206.28120819012835,
          306.1458566219765,
          241.65276252936317,
          292.68496613730844,
          233.14871622302866,
          365.25682132006256,
          237.652077734427,
          311.90833468640994,
          216.41986167126655,
          229.07812414646375,
          260.3646178181828,
          260.7417153375629,
          216.84299358568705,
          237.19943874941848,
          228.45902257303342,
          242.12367857346513,
          242.04718284902364,
          246.0979038788701,
          290.35599811975544,
          207.1965335504593,
          198.98397361756773,
          237.230243871334,
          208.06320859092372,
          209.8130334062789,
          248.5569976429458,
          252.91433767511455,
          276.83322303612914,
          250.17508302994776,
          259.86225388705645,
          291.2617146296108,
          233.84215163601596,
          234.51682604927623,
          250.41923377690975,
          230.9635408061054,
          240.0825914301722,
          226.61841323601715,
          233.0202453187782,
          261.0241880378588,
          227.70827303494244,
          238.59577511220493,
          266.1044867771701,
          234.00719151240713,
          241.48483485065623,
          244.4971690629633,
          206.6118755295484,
          211.72048549843214,
          247.48909090992385,
          243.24650214052315,
          213.79806049000683,
          228.2030203980643,
          232.98826815193223,
          228.83764365207156,
          242.9272229756524,
          242.86369421483798,
          246.09365861573613,
          208.41855857357308,
          235.33389163995193,
          263.07036063420566,
          214.608693659456,
          271.9462172304072,
          218.28599044102347,
          268.3031484462059,
          222.35425937992053,
          254.2328423985517,
          257.8532669706416,
          278.6098656577146,
          280.53931695333944,
          254.1371402180892,
          243.52764332339459,
          192.41039591770163,
          346.624167848915,
          225.26629020524078,
          235.97825788316104,
          240.56186051484954,
          256.6198495906617,
          305.9773403841567,
          233.0955119520079,
          248.31679431926537,
          246.26240782531326,
          182.78847350922058,
          232.77162842984276,
          250.2855527274953,
          286.9961157945688,
          211.71657907226327,
          238.17163372796628,
          274.71434369008136,
          264.6003714677425,
          225.0059368055794,
          266.49639323781395,
          192.64598207097146,
          296.107103597571,
          232.80144696636614,
          298.8492627670738,
          215.9779465196892,
          247.80874492187831,
          284.59803504264653,
          293.9702482107844,
          223.36244093025024,
          239.71215977603364,
          243.27313611280442,
          323.6332199480012,
          228.45454168401912,
          224.60357500120816,
          218.86725061658763,
          244.8819392240557,
          294.21201813454655,
          221.58891590922912,
          252.28325226513053,
          243.75862757623895,
          283.552162405034,
          273.5667057114702,
          264.60411115565194,
          284.03504475859313,
          293.84733885958957,
          237.7722310924208,
          290.7040337390974,
          259.902668044301,
          205.5829319263136,
          221.37793410359797,
          220.5487392312943,
          280.4712041027237,
          242.89065211185368,
          208.8921728533326,
          283.21773555861796,
          227.11268980365423,
          280.25104579202366,
          269.41119753885255,
          231.159854907938,
          259.3898227514722,
          239.1229365496829,
          231.0738912794958,
          222.94258088924116,
          256.86212129568884,
          246.13074804029424,
          236.70465670118494,
          277.704742662581,
          292.1497843625754,
          232.19654199458736,
          252.02944617633256,
          260.6981453514682,
          262.1955868916129,
          248.97005386271445,
          284.3845073044617,
          256.08159166300277,
          293.7657916156367,
          243.0012010176638,
          275.5242840836552,
          230.55844313994587,
          250.9911485403411,
          234.7124197323866,
          251.20735713174017,
          214.95423366654444,
          248.72996702195965,
          276.3666300243996,
          302.72144409351677,
          328.90147119874166,
          246.23784388760907,
          248.28357440347082,
          235.73305119962333,
          245.68129033403198,
          282.08994718266445,
          252.35766661577284,
          238.66756633333426,
          268.8137531790123,
          250.66337222780263,
          206.5347047593058,
          221.54519437842364,
          270.9073680224398,
          246.4800702522663,
          248.2268938504228,
          288.68432824041923,
          309.5361863241088,
          266.49639323781395,
          234.02266055188161,
          246.1053813309812,
          287.1158222036594,
          252.29929418496425,
          229.28151228862808,
          238.58081489621588,
          226.86359629475444,
          240.02561055378942,
          235.96932371218907,
          283.91100903355226,
          296.4554648959211,
          274.0371271943823,
          296.91174246604265,
          287.3396865636765,
          240.27246700227187,
          322.57919320739643,
          293.1460325615953,
          301.8584146482161,
          299.25464006402376,
          252.7868674964461,
          327.65949988255807,
          191.15186321246338,
          271.6369328028073,
          262.43174960171444,
          293.2141902069247,
          276.97290992529554,
          274.24557914047375,
          245.01757945446775,
          179.01865339472883,
          285.98215102294444,
          259.49957673581724,
          270.265029101783,
          300.20704810892204,
          256.10755078956015,
          236.03966258206378,
          225.35835845068095,
          252.68232533779764,
          224.54347265654803,
          248.7889916937731,
          263.7522719609097,
          287.86306441370914,
          237.14316731596773,
          214.436632698334,
          197.49483747831354,
          253.73814071115322,
          204.0748483846941,
          241.51235637176887,
          259.1919953075269,
          243.70173318728393,
          252.12876160238395,
          265.410868214442,
          244.1058286918058,
          247.03655967666822,
          327.2840002904062,
          257.4416895293476,
          282.383678219299,
          316.51183007296765,
          249.47645551842413,
          284.815552713717,
          274.6848299015457,
          281.480126190944,
          247.1304173948088,
          301.15727383070754,
          231.04028562777216,
          259.1776863190441,
          241.52000845044148,
          251.5059711181869,
          239.07269800006375,
          258.29650421511195,
          244.8271783122474,
          273.0839445313329,
          247.0356211975594,
          233.5477482556842,
          276.63355173244696,
          250.0723192249353,
          426.3942291805023,
          236.93194961299395,
          213.19711459025115,
          247.442544832405,
          254.09114841050564,
          253.94402688965604,
          259.0808414259791,
          238.60144366525768,
          252.75117460167976,
          274.2306734201101,
          232.06778039332826,
          248.79019219557273,
          246.24150992983675,
          206.55495524511414,
          227.9116393702531,
          243.95069447266553,
          278.9681891244401,
          261.105821440336,
          265.96867760764,
          265.4697618673954,
          237.39433311736556,
          234.96724248855145,
          252.1402407847552,
          255.61487699218677,
          232.92918796190204,
          276.47943273053204,
          217.26278579325225,
          281.16591947108805,
          268.34225570179876,
          232.56021886663154,
          219.64421108409297
         ],
         "yaxis": "y2"
        },
        {
         "hovertemplate": "source=mall.googleplex.com<br>medium=referral<br>metric=visits_efficiency<br>Date=%{x}<br>Metric Value=%{y}<extra></extra>",
         "legendgroup": "mall.googleplex.com, referral",
         "line": {
          "color": "#FFA15A",
          "dash": "dot"
         },
         "marker": {
          "symbol": "circle"
         },
         "mode": "lines",
         "name": "mall.googleplex.com, referral",
         "showlegend": false,
         "type": "scattergl",
         "x": [
          "20160801",
          "20160802",
          "20160804",
          "20160805",
          "20160806",
          "20160807",
          "20160808",
          "20160809",
          "20160810",
          "20160811",
          "20160812",
          "20160813",
          "20160814",
          "20160815",
          "20160816",
          "20160817",
          "20160818",
          "20160819",
          "20160820",
          "20160821",
          "20160822",
          "20160823",
          "20160824",
          "20160825",
          "20160826",
          "20160827",
          "20160828",
          "20160829",
          "20160830",
          "20160831",
          "20160901",
          "20160902",
          "20160903",
          "20160904",
          "20160905",
          "20160906",
          "20160907",
          "20160908",
          "20160909",
          "20160910",
          "20160911",
          "20160912",
          "20160913",
          "20160914",
          "20160915",
          "20160916",
          "20160917",
          "20160918",
          "20160919",
          "20160920",
          "20160921",
          "20160922",
          "20160923",
          "20160924",
          "20160925",
          "20160926",
          "20160927",
          "20160928",
          "20160929",
          "20160930",
          "20161001",
          "20161002",
          "20161003",
          "20161004",
          "20161005",
          "20161006",
          "20161007",
          "20161008",
          "20161009",
          "20161010",
          "20161011",
          "20161012",
          "20161013",
          "20161014",
          "20161015",
          "20161016",
          "20161017",
          "20161018",
          "20161019",
          "20161020",
          "20161021",
          "20161022",
          "20161023",
          "20161024",
          "20161025",
          "20161026",
          "20161027",
          "20161028",
          "20161029",
          "20161030",
          "20161031",
          "20161101",
          "20161102",
          "20161103",
          "20161104",
          "20161105",
          "20161106",
          "20161107",
          "20161108",
          "20161109",
          "20161110",
          "20161111",
          "20161112",
          "20161113",
          "20161114",
          "20161115",
          "20161116",
          "20161117",
          "20161118",
          "20161119",
          "20161120",
          "20161121",
          "20161122",
          "20161123",
          "20161124",
          "20161125",
          "20161126",
          "20161127",
          "20161128",
          "20161129",
          "20161130",
          "20161201",
          "20161202",
          "20161203",
          "20161204",
          "20161205",
          "20161206",
          "20161207",
          "20161208",
          "20161209",
          "20161210",
          "20161211",
          "20161212",
          "20161213",
          "20161214",
          "20161215",
          "20161216",
          "20161217",
          "20161218",
          "20161219",
          "20161220",
          "20161221",
          "20161222",
          "20161223",
          "20161224",
          "20161225",
          "20161226",
          "20161227",
          "20161228",
          "20161229",
          "20161230",
          "20161231",
          "20170101",
          "20170102",
          "20170103",
          "20170104",
          "20170105",
          "20170106",
          "20170107",
          "20170108",
          "20170109",
          "20170110",
          "20170111",
          "20170112",
          "20170113",
          "20170114",
          "20170116",
          "20170117",
          "20170118",
          "20170119",
          "20170120",
          "20170121",
          "20170122",
          "20170123",
          "20170124",
          "20170125",
          "20170126",
          "20170127",
          "20170128",
          "20170129",
          "20170130",
          "20170131",
          "20170201",
          "20170202",
          "20170203",
          "20170204",
          "20170205",
          "20170206",
          "20170207",
          "20170208",
          "20170209",
          "20170210",
          "20170211",
          "20170212",
          "20170213",
          "20170214",
          "20170215",
          "20170216",
          "20170217",
          "20170218",
          "20170219",
          "20170220",
          "20170221",
          "20170222",
          "20170223",
          "20170224",
          "20170225",
          "20170226",
          "20170227",
          "20170228",
          "20170301",
          "20170302",
          "20170303",
          "20170304",
          "20170305",
          "20170306",
          "20170307",
          "20170308",
          "20170309",
          "20170310",
          "20170311",
          "20170312",
          "20170313",
          "20170314",
          "20170315",
          "20170316",
          "20170317",
          "20170318",
          "20170319",
          "20170320",
          "20170321",
          "20170322",
          "20170323",
          "20170324",
          "20170325",
          "20170326",
          "20170327",
          "20170328",
          "20170329",
          "20170330",
          "20170331",
          "20170401",
          "20170402",
          "20170403",
          "20170404",
          "20170405",
          "20170406",
          "20170407",
          "20170408",
          "20170409",
          "20170410",
          "20170411",
          "20170412",
          "20170413",
          "20170414",
          "20170415",
          "20170416",
          "20170417",
          "20170418",
          "20170419",
          "20170420",
          "20170421",
          "20170422",
          "20170423",
          "20170424",
          "20170425",
          "20170426",
          "20170427",
          "20170428",
          "20170429",
          "20170430",
          "20170501",
          "20170502",
          "20170503",
          "20170504",
          "20170505",
          "20170506",
          "20170507",
          "20170508",
          "20170509",
          "20170510",
          "20170511",
          "20170512",
          "20170513",
          "20170514",
          "20170515",
          "20170516",
          "20170517",
          "20170518",
          "20170519",
          "20170520",
          "20170521",
          "20170522",
          "20170523",
          "20170524",
          "20170525",
          "20170526",
          "20170527",
          "20170528",
          "20170529",
          "20170530",
          "20170531",
          "20170601",
          "20170602",
          "20170603",
          "20170604",
          "20170605",
          "20170606",
          "20170607",
          "20170608",
          "20170609",
          "20170610",
          "20170611",
          "20170612",
          "20170613",
          "20170614",
          "20170615",
          "20170616",
          "20170617",
          "20170618",
          "20170619",
          "20170620",
          "20170621",
          "20170622",
          "20170623",
          "20170625",
          "20170626",
          "20170627",
          "20170628",
          "20170629",
          "20170630",
          "20170702",
          "20170703",
          "20170704",
          "20170705",
          "20170706",
          "20170707",
          "20170708",
          "20170709",
          "20170710",
          "20170711",
          "20170712",
          "20170713",
          "20170714",
          "20170715",
          "20170716",
          "20170717",
          "20170718",
          "20170719",
          "20170720",
          "20170721",
          "20170722",
          "20170723",
          "20170724",
          "20170725",
          "20170726",
          "20170727",
          "20170728",
          "20170729",
          "20170730",
          "20170731",
          "20170801"
         ],
         "xaxis": "x",
         "y": [
          8474.585304962482,
          11208.07688131606,
          7050.733146806163,
          12140.39124750041,
          12405.407105220238,
          12565.304941162925,
          7977.125370918563,
          9056.031981117712,
          9473.453267764955,
          10794.090949810123,
          11585.443202611696,
          8447.9356656387,
          12365.432646234565,
          8125.717299269343,
          8636.005977437959,
          12187.768384076024,
          9893.166105889923,
          8902.594663798971,
          10673.180549174447,
          8147.175450413168,
          9210.115350298849,
          9308.924013022408,
          8715.999684719092,
          9080.617843658845,
          12951.724711357756,
          10046.914025065586,
          11934.193028086103,
          8827.375768391588,
          9966.96510709424,
          9195.693192547156,
          10945.006870277019,
          8381.311567329249,
          12058.96179401108,
          9444.632176348125,
          12162.895387373828,
          7824.334105462217,
          9480.60918943523,
          10464.42504113816,
          7894.215381911245,
          9220.775206028362,
          10218.233135004179,
          10397.800942828706,
          10630.245019152799,
          8606.430888985402,
          7480.710520769695,
          10482.999032182006,
          9043.110943869819,
          10961.88497518208,
          7712.71914547085,
          7675.096125249041,
          9871.78782379502,
          8867.667484988258,
          7882.371097767341,
          13431.418219185822,
          6999.971929046579,
          9924.769844831586,
          8969.507178118422,
          9243.617754020173,
          8222.115037684554,
          8520.270400946107,
          7834.993961191729,
          8570.524006528096,
          9466.544102014346,
          8309.357541155037,
          8502.637556882253,
          9102.332364589332,
          8690.74349058871,
          8279.154616588085,
          8172.5560592929605,
          9246.266165381545,
          7532.029640458213,
          8188.707355852827,
          7541.8479286301335,
          8012.658223350271,
          9807.067271151553,
          10453.321024753252,
          9074.202189747562,
          9306.874040766732,
          7108.1856159976915,
          8176.109344536132,
          9028.897802897136,
          9657.829290938376,
          9154.151107718908,
          10571.911919744078,
          7172.560069429164,
          8599.995372368512,
          7048.829601140179,
          8719.761986741272,
          6209.365962441064,
          8657.325688896983,
          6955.555863506942,
          9970.772198426208,
          9354.02340264727,
          7845.653816921242,
          7802.19440510092,
          9510.11414725799,
          8954.278812790548,
          9019.164891144103,
          8748.033778023892,
          8794.380976847859,
          7973.572085675392,
          7311.691952652022,
          10428.892188706452,
          10745.134575348657,
          8698.442275282247,
          10800.372009583403,
          10574.576883676456,
          8510.118157394192,
          8188.101682231833,
          7612.913633493551,
          8714.432058876513,
          7987.939717310823,
          7208.727437082867,
          9236.76498962263,
          8677.12256382322,
          8486.429589106387,
          9007.578091438112,
          9043.110943869819,
          9389.556255078978,
          9010.11615232609,
          7944.923723402327,
          9288.10061063581,
          8828.043679151582,
          8042.268933710029,
          8390.82929565917,
          8699.20369354864,
          8766.969919257685,
          10702.495152430607,
          10030.258000488222,
          8366.50621214937,
          8444.128574306733,
          10271.215156040746,
          9044.046018933812,
          9075.177176552092,
          9179.6586196431,
          8606.564471137399,
          8581.183862257609,
          8802.580865870561,
          10577.241847608833,
          8801.487547334202,
          7957.878409184721,
          9791.52164821268,
          7822.452954451125,
          9653.091577280815,
          7914.942879163074,
          9177.16670531672,
          8208.088911724668,
          8177.632181068919,
          7355.300453363665,
          7808.344321867949,
          8767.731337524077,
          8815.700688306884,
          12827.359727846777,
          6455.8751261860425,
          9421.43131387801,
          8778.39119325359,
          8404.630001737556,
          8032.201292187712,
          6884.490158643526,
          8741.081698200296,
          8542.097724582729,
          8865.446681711277,
          10853.065614609972,
          8767.731337524077,
          8355.686914133305,
          7461.89901065879,
          11432.695269902217,
          8336.00718047882,
          7795.019502206058,
          7875.752233098689,
          9393.99786163294,
          8061.515895443871,
          12290.813656127979,
          7106.570486341704,
          9001.655949366157,
          6982.205502830725,
          9934.985539905703,
          8363.545141113393,
          7541.8479286301335,
          7128.778519111522,
          9629.40300899301,
          8629.63775193721,
          8514.559763948155,
          6742.358748916692,
          9208.47537249431,
          9620.519795885082,
          10286.760778979618,
          8856.563468603348,
          7355.300453363664,
          8678.899206444807,
          8379.408021663263,
          8856.563468603348,
          7088.80406012585,
          7659.867759921166,
          8130.562688237304,
          7819.317702765976,
          7444.132584442935,
          8823.991687207617,
          7296.671246851345,
          8403.519600099065,
          10793.103926131464,
          9519.251166454713,
          8527.884583610046,
          7666.2129121411135,
          8683.34081299877,
          10862.392988373296,
          7222.052256744758,
          9220.775206028362,
          7722.473261824653,
          7663.251841105139,
          8965.700086786454,
          8430.169239422847,
          8804.07175478378,
          9300.724123999706,
          9876.356333393383,
          8009.427964038297,
          8411.880271259468,
          9034.227730761892,
          7758.376248135857,
          7355.300453363663,
          9200.787976535525,
          8821.03061617164,
          7788.357092375112,
          8271.078968308151,
          8503.28491654194,
          7549.116012082074,
          8354.661928005466,
          7218.245165412788,
          8505.042035618233,
          7689.632292152922,
          8847.680255495423,
          8282.707901831256,
          9303.146818483687,
          8407.072885342237,
          9780.417631827771,
          8655.802852364195,
          7461.899010658791,
          6992.865358560237,
          6563.079357102163,
          8372.086692178707,
          8234.73855104845,
          8781.056157185969,
          8304.027613290282,
          7351.969248448192,
          8033.385720602102,
          8298.287690974392,
          7419.259587740739,
          8116.7187197574185,
          10385.745153610807,
          9194.12556670458,
          7482.203497762623,
          8063.419441109855,
          8328.012288681686,
          7088.804060125851,
          6940.127124951071,
          7595.147207277697,
          8834.355435833531,
          8121.477583922379,
          7151.794116709334,
          7983.470523138511,
          8303.266195023889,
          8516.297783904054,
          8847.680255495423,
          8940.953993128656,
          8514.559763948155,
          7168.7529780971945,
          7161.739915117252,
          7410.917091952426,
          7284.234748500246,
          7347.686270699727,
          8356.142463523454,
          6670.937715528958,
          7165.791907061219,
          6976.283360758773,
          6988.4760062010255,
          8025.983043012163,
          6662.4098309453475,
          12170.00195786017,
          7644.639394593291,
          7619.893300935494,
          7165.4217731817225,
          7515.198289306352,
          7365.45269691558,
          8208.08891172467,
          13307.053235674843,
          7092.3573453690215,
          7907.1047499501965,
          7644.639394593291,
          7024.8449257487755,
          8058.8509315114925,
          8261.388190372232,
          10000.277156248967,
          8356.565473671451,
          8965.700086786454,
          8320.609611091746,
          7834.993961191729,
          7260.546180212442,
          8181.439272400887,
          9220.775206028362,
          10576.945740505236,
          8056.185967579115,
          9479.27670746904,
          8135.1530567332675,
          7565.166363038442,
          7749.715115355629,
          8284.230738364044,
          7665.690370193589,
          8224.488689770073,
          8495.312802214314,
          6600.227339189859,
          7844.3997162471815,
          7341.975633701773,
          6678.399614539618,
          7992.841824878743,
          7394.249926221499,
          7564.397623442565,
          7377.742254899481,
          8090.269453661635,
          7012.662233486475,
          8914.304353804875,
          7893.138628807253,
          8300.66134305991,
          8048.1910757819805,
          8642.478032702305,
          7974.904567641582,
          8296.92104280394,
          7478.298788704193,
          8242.00663450039,
          8563.417436041755,
          7446.975212637472,
          8439.940773841567,
          5969.519208527032,
          8664.939871560922,
          9807.067271151553,
          8087.464228469657,
          8164.059072841899,
          7787.616824616119,
          7448.574190996899,
          8510.11815739419,
          8011.113316722806,
          7559.228128189122,
          8712.211255599532,
          7863.547146181495,
          8399.57150538443,
          9708.082896520365,
          9287.399304337814,
          8630.80732858465,
          7433.681745492433,
          7649.433509603918,
          7675.0961252490415,
          7875.602935399396,
          8598.950288473463,
          8341.337108343576,
          8144.1297773475935,
          7954.133525227458,
          8642.898816481102,
          7573.132287836313,
          9450.931182006474,
          7661.77130558715,
          7748.382633389439,
          8724.330496339635,
          9149.026177079719
         ],
         "yaxis": "y"
        },
        {
         "hovertemplate": "source=youtube.com<br>medium=referral<br>metric=pageviews_efficiency<br>Date=%{x}<br>Metric Value=%{y}<extra></extra>",
         "legendgroup": "youtube.com, referral",
         "line": {
          "color": "#19d3f3",
          "dash": "dot"
         },
         "marker": {
          "symbol": "circle"
         },
         "mode": "lines",
         "name": "youtube.com, referral",
         "showlegend": true,
         "type": "scattergl",
         "x": [
          "20160801",
          "20160920",
          "20170113",
          "20170118",
          "20170129",
          "20170131",
          "20170201",
          "20170307",
          "20170517",
          "20170608",
          "20170719"
         ],
         "xaxis": "x3",
         "y": [
          459.19378527131016,
          274.1105759017514,
          475.2519012741015,
          295.9028918019865,
          298.8566695595485,
          399.7445898567209,
          324.2372784393403,
          379.3654539032409,
          326.19158532308427,
          271.9629859196153,
          309.5458106069992
         ],
         "yaxis": "y3"
        },
        {
         "hovertemplate": "source=youtube.com<br>medium=referral<br>metric=hits_efficiency<br>Date=%{x}<br>Metric Value=%{y}<extra></extra>",
         "legendgroup": "youtube.com, referral",
         "line": {
          "color": "#19d3f3",
          "dash": "dot"
         },
         "marker": {
          "symbol": "circle"
         },
         "mode": "lines",
         "name": "youtube.com, referral",
         "showlegend": false,
         "type": "scattergl",
         "x": [
          "20160801",
          "20160920",
          "20170113",
          "20170118",
          "20170129",
          "20170131",
          "20170201",
          "20170307",
          "20170517",
          "20170608",
          "20170719"
         ],
         "xaxis": "x2",
         "y": [
          373.0949505329395,
          185.6878094818316,
          438.69406271455523,
          260.03587461386695,
          269.93505637636633,
          355.3285243170852,
          277.91766723372024,
          379.3654539032409,
          247.11483736597293,
          207.9716951149999,
          277.52383019937866
         ],
         "yaxis": "y2"
        },
        {
         "hovertemplate": "source=youtube.com<br>medium=referral<br>metric=visits_efficiency<br>Date=%{x}<br>Metric Value=%{y}<extra></extra>",
         "legendgroup": "youtube.com, referral",
         "line": {
          "color": "#19d3f3",
          "dash": "dot"
         },
         "marker": {
          "symbol": "circle"
         },
         "mode": "lines",
         "name": "youtube.com, referral",
         "showlegend": false,
         "type": "scattergl",
         "x": [
          "20160801",
          "20160920",
          "20170113",
          "20170118",
          "20170129",
          "20170131",
          "20170201",
          "20170307",
          "20170517",
          "20170608",
          "20170719"
         ],
         "xaxis": "x",
         "y": [
          5969.519208527032,
          11512.64418787356,
          5703.022815289218,
          8581.183862257609,
          8367.986747667357,
          6395.913437707534,
          7781.694682544166,
          6449.212716355096,
          8154.789633077106,
          10606.556450864995,
          8048.1910757819805
         ],
         "yaxis": "y"
        },
        {
         "hovertemplate": "source=dfa<br>medium=cpm<br>metric=pageviews_efficiency<br>Date=%{x}<br>Metric Value=%{y}<extra></extra>",
         "legendgroup": "dfa, cpm",
         "line": {
          "color": "#FF6692",
          "dash": "longdash"
         },
         "marker": {
          "symbol": "circle"
         },
         "mode": "lines",
         "name": "dfa, cpm",
         "showlegend": true,
         "type": "scattergl",
         "x": [
          "20160802",
          "20160809",
          "20160811",
          "20160812",
          "20160816",
          "20160817",
          "20160818",
          "20160823",
          "20160824",
          "20160826",
          "20160831",
          "20160901",
          "20160907",
          "20160909",
          "20160911",
          "20160913",
          "20160914",
          "20160915",
          "20160916",
          "20160922",
          "20160923",
          "20161003",
          "20161019",
          "20161026",
          "20161028",
          "20161103",
          "20161108",
          "20161111",
          "20161113",
          "20161116",
          "20161119",
          "20161123",
          "20161129",
          "20161130",
          "20161202",
          "20161206",
          "20161208",
          "20161209",
          "20161212",
          "20161213",
          "20161214",
          "20161215",
          "20161220",
          "20161222",
          "20161230",
          "20170105",
          "20170106",
          "20170109",
          "20170110",
          "20170111",
          "20170112",
          "20170113",
          "20170114",
          "20170117",
          "20170118",
          "20170119",
          "20170120",
          "20170123",
          "20170125",
          "20170126",
          "20170130",
          "20170131",
          "20170202",
          "20170209",
          "20170214",
          "20170215",
          "20170216",
          "20170219",
          "20170227",
          "20170228",
          "20170306",
          "20170309",
          "20170324",
          "20170330",
          "20170403",
          "20170405",
          "20170407",
          "20170413",
          "20170418",
          "20170419",
          "20170430",
          "20170502",
          "20170505",
          "20170509",
          "20170522",
          "20170526",
          "20170601",
          "20170602",
          "20170607",
          "20170608",
          "20170609",
          "20170614",
          "20170628",
          "20170630",
          "20170702",
          "20170717",
          "20170721",
          "20170722"
         ],
         "xaxis": "x3",
         "y": [
          279.4610826385724,
          532.9927864756279,
          323.743766600011,
          261.8327063561522,
          267.828875204003,
          328.3235564689868,
          265.1964108317758,
          388.77120895869325,
          391.90646064384396,
          632.928933939808,
          302.0292456695224,
          289.33894122962647,
          309.925435098791,
          363.52841333978716,
          324.2372784393403,
          257.42417559567554,
          437.8155031764086,
          305.9773403841568,
          287.4930787656417,
          228.12091261156874,
          331.38247159136864,
          244.87498774870824,
          297.95170522653956,
          348.30458837128236,
          330.45552761488926,
          244.1450828372231,
          328.3235564689868,
          312.8865061347667,
          270.5963377491649,
          319.7956718853767,
          367.17280846098805,
          379.01709260489093,
          298.36009242929174,
          342.63821987718933,
          272.41853530976533,
          259.8339834068686,
          388.77120895869325,
          281.3017484176924,
          293.95359738958865,
          307.35917353427874,
          316.66042020022593,
          455.09384075995916,
          283.7552072760723,
          253.70456636239888,
          415.7343734509897,
          313.6457551183502,
          249.77505091700988,
          351.52143298511646,
          314.5702524101254,
          463.2937297826611,
          276.1871711737344,
          335.1932412724504,
          255.27549246990597,
          278.679085500114,
          321.9276430312792,
          391.90646064384396,
          399.7445898567209,
          367.62835785113816,
          479.69350782806504,
          287.4930787656417,
          347.7143416531477,
          294.0649856417257,
          321.9276430312792,
          315.69572737402575,
          369.1468558183052,
          243.3665175983055,
          347.7143416531477,
          692.8906224183162,
          271.9629859196153,
          357.86658520506444,
          297.5876391155589,
          385.63595727354243,
          270.5963377491649,
          301.72811980145707,
          376.0560215689152,
          277.15624896732646,
          229.79329716314493,
          326.19158532308427,
          246.50916374497788,
          254.19655970376095,
          305.5825309126933,
          459.19378527131016,
          266.4963932378139,
          275.379606345741,
          302.0292456695225,
          293.14603256159535,
          335.3412948242492,
          450.99389624860817,
          408.627802964648,
          235.91483991544183,
          281.03256014169466,
          415.7343734509897,
          499.0750636999061,
          305.5825309126933,
          446.8939517372572,
          257.1690194744904,
          278.02056159404367,
          373.0949505329395
         ],
         "yaxis": "y3"
        },
        {
         "hovertemplate": "source=dfa<br>medium=cpm<br>metric=hits_efficiency<br>Date=%{x}<br>Metric Value=%{y}<extra></extra>",
         "legendgroup": "dfa, cpm",
         "line": {
          "color": "#FF6692",
          "dash": "longdash"
         },
         "marker": {
          "symbol": "circle"
         },
         "mode": "lines",
         "name": "dfa, cpm",
         "showlegend": false,
         "type": "scattergl",
         "x": [
          "20160802",
          "20160809",
          "20160811",
          "20160812",
          "20160816",
          "20160817",
          "20160818",
          "20160823",
          "20160824",
          "20160826",
          "20160831",
          "20160901",
          "20160907",
          "20160909",
          "20160911",
          "20160913",
          "20160914",
          "20160915",
          "20160916",
          "20160922",
          "20160923",
          "20161003",
          "20161019",
          "20161026",
          "20161028",
          "20161103",
          "20161108",
          "20161111",
          "20161113",
          "20161116",
          "20161119",
          "20161123",
          "20161129",
          "20161130",
          "20161202",
          "20161206",
          "20161208",
          "20161209",
          "20161212",
          "20161213",
          "20161214",
          "20161215",
          "20161220",
          "20161222",
          "20161230",
          "20170105",
          "20170106",
          "20170109",
          "20170110",
          "20170111",
          "20170112",
          "20170113",
          "20170114",
          "20170117",
          "20170118",
          "20170119",
          "20170120",
          "20170123",
          "20170125",
          "20170126",
          "20170130",
          "20170131",
          "20170202",
          "20170209",
          "20170214",
          "20170215",
          "20170216",
          "20170219",
          "20170227",
          "20170228",
          "20170306",
          "20170309",
          "20170324",
          "20170330",
          "20170403",
          "20170405",
          "20170407",
          "20170413",
          "20170418",
          "20170419",
          "20170430",
          "20170502",
          "20170505",
          "20170509",
          "20170522",
          "20170526",
          "20170601",
          "20170602",
          "20170607",
          "20170608",
          "20170609",
          "20170614",
          "20170628",
          "20170630",
          "20170702",
          "20170717",
          "20170721",
          "20170722"
         ],
         "xaxis": "x2",
         "y": [
          206.80120115254357,
          532.9927864756279,
          218.5270424550074,
          225.23243557518467,
          210.06186290510038,
          241.41437975660793,
          209.09717007890015,
          330.45552761488926,
          317.2576109973975,
          562.6034968353848,
          226.52193425214182,
          202.53725886073855,
          253.5753559899199,
          295.36683583857706,
          277.91766723372024,
          192.04660719042462,
          360.5539437923365,
          266.49639323781395,
          225.88741903014704,
          169.39671728581837,
          282.28877209635107,
          192.27221260268945,
          230.0639749217584,
          272.31085999936624,
          236.03966258206378,
          168.18883484342035,
          241.41437975660793,
          244.86770045329567,
          211.06514344434862,
          266.4963932378139,
          367.17280846098805,
          310.1048939494562,
          226.85230168177551,
          312.8435920617816,
          233.5016016940846,
          183.412223581319,
          330.45552761488926,
          210.97631131326932,
          210.87975464905273,
          214.436632698334,
          264.7488759051069,
          394.41466199196464,
          214.34745873372373,
          186.54747526646975,
          366.824447162638,
          263.0577300992615,
          190.1272775636941,
          278.56415444103567,
          271.9166588629898,
          354.28344042203497,
          202.53725886073855,
          284.59803504264653,
          194.00937427712856,
          226.83181377916256,
          259.61906696070906,
          317.2576109973975,
          355.3285243170852,
          281.12756776851745,
          411.1658638526272,
          225.88741903014704,
          292.0800469886441,
          266.4963932378139,
          259.61906696070906,
          256.50277849139593,
          355.96303953908,
          195.43068837439685,
          292.0800469886441,
          692.8906224183162,
          207.9716951149999,
          259.1447685967708,
          238.0701112924471,
          345.04269861316953,
          211.06514344434862,
          234.23630353007852,
          322.33373277335585,
          191.1422406671217,
          155.997888724574,
          247.11483736597293,
          179.27939181452936,
          178.62460952156175,
          218.27323636620952,
          373.0949505329395,
          163.75079584492178,
          225.31058701015175,
          281.19964251990024,
          223.3493581421679,
          243.8845780539994,
          418.7800465165647,
          408.627802964648,
          184.49750301079425,
          244.05459170199802,
          366.824447162638,
          499.0750636999061,
          218.27323636620952,
          446.8939517372572,
          239.2269948599911,
          209.9338934485636,
          283.552162405034
         ],
         "yaxis": "y2"
        },
        {
         "hovertemplate": "source=dfa<br>medium=cpm<br>metric=visits_efficiency<br>Date=%{x}<br>Metric Value=%{y}<extra></extra>",
         "legendgroup": "dfa, cpm",
         "line": {
          "color": "#FF6692",
          "dash": "longdash"
         },
         "marker": {
          "symbol": "circle"
         },
         "mode": "lines",
         "name": "dfa, cpm",
         "showlegend": false,
         "type": "scattergl",
         "x": [
          "20160802",
          "20160809",
          "20160811",
          "20160812",
          "20160816",
          "20160817",
          "20160818",
          "20160823",
          "20160824",
          "20160826",
          "20160831",
          "20160901",
          "20160907",
          "20160909",
          "20160911",
          "20160913",
          "20160914",
          "20160915",
          "20160916",
          "20160922",
          "20160923",
          "20161003",
          "20161019",
          "20161026",
          "20161028",
          "20161103",
          "20161108",
          "20161111",
          "20161113",
          "20161116",
          "20161119",
          "20161123",
          "20161129",
          "20161130",
          "20161202",
          "20161206",
          "20161208",
          "20161209",
          "20161212",
          "20161213",
          "20161214",
          "20161215",
          "20161220",
          "20161222",
          "20161230",
          "20170105",
          "20170106",
          "20170109",
          "20170110",
          "20170111",
          "20170112",
          "20170113",
          "20170114",
          "20170117",
          "20170118",
          "20170119",
          "20170120",
          "20170123",
          "20170125",
          "20170126",
          "20170130",
          "20170131",
          "20170202",
          "20170209",
          "20170214",
          "20170215",
          "20170216",
          "20170219",
          "20170227",
          "20170228",
          "20170306",
          "20170309",
          "20170324",
          "20170330",
          "20170403",
          "20170405",
          "20170407",
          "20170413",
          "20170418",
          "20170419",
          "20170430",
          "20170502",
          "20170505",
          "20170509",
          "20170522",
          "20170526",
          "20170601",
          "20170602",
          "20170607",
          "20170608",
          "20170609",
          "20170614",
          "20170628",
          "20170630",
          "20170702",
          "20170717",
          "20170721",
          "20170722"
         ],
         "xaxis": "x",
         "y": [
          10340.060057627179,
          5329.927864756279,
          8741.081698200296,
          10473.308254246087,
          10713.15500816012,
          8208.08891172467,
          10873.052844102807,
          6609.110552297785,
          6662.4098309453475,
          5063.431471518464,
          9060.877370085673,
          10126.862943036927,
          8367.986747667357,
          7088.80406012585,
          7781.694682544166,
          12098.936252996751,
          6129.41704446972,
          8261.388190372232,
          9487.271599266176,
          17109.068445867655,
          7621.796846601479,
          12978.374350681537,
          9087.527009409456,
          7488.548649982571,
          8261.388190372232,
          15136.995135907831,
          8208.08891172467,
          8447.9356656387,
          10553.25717221743,
          7994.891797134417,
          6609.110552297785,
          6822.307666888037,
          9149.709501164945,
          7195.402617420976,
          9807.067271151553,
          12472.031203529692,
          6609.110552297785,
          10126.862943036927,
          9700.468713856426,
          9220.775206028362,
          8074.840715105761,
          5916.219929879469,
          9931.432254662532,
          12685.228318119944,
          6236.015601764846,
          8154.789633077106,
          12738.527596767504,
          7381.950092687445,
          8021.541436458198,
          6022.818487174594,
          10633.206090188774,
          7541.8479286301335,
          12125.585892320534,
          9753.76799250399,
          8048.1910757819805,
          6662.4098309453475,
          6395.913437707534,
          7168.7529780971945,
          5756.32209393678,
          9487.271599266176,
          7302.001174716102,
          8527.884583610045,
          8048.1910757819805,
          8208.08891172467,
          6644.643404729493,
          12898.425432710192,
          7302.001174716102,
          4850.234356928213,
          10606.556450864995,
          7515.198289306353,
          8927.629173466767,
          6555.811273650222,
          10553.25717221743,
          8900.979534142984,
          6769.008388240473,
          11086.249958693059,
          19187.740313122602,
          8154.789633077106,
          13804.51316971876,
          13218.22110459557,
          9167.4759273808,
          5969.519208527032,
          13591.31605512851,
          9913.665828446678,
          8154.789633077106,
          9380.673041971051,
          8048.1910757819805,
          5862.920651231906,
          6129.41704446972,
          14390.805234841951,
          9274.074484675924,
          6236.015601764846,
          5489.825700698967,
          9167.4759273808,
          5809.621372584344,
          10286.760778979617,
          10286.760778979617,
          7088.80406012585
         ],
         "yaxis": "y"
        },
        {
         "hovertemplate": "source=sites.google.com<br>medium=referral<br>metric=pageviews_efficiency<br>Date=%{x}<br>Metric Value=%{y}<extra></extra>",
         "legendgroup": "sites.google.com, referral",
         "line": {
          "color": "#B6E880",
          "dash": "dot"
         },
         "marker": {
          "symbol": "circle"
         },
         "mode": "lines",
         "name": "sites.google.com, referral",
         "showlegend": true,
         "type": "scattergl",
         "x": [
          "20160805",
          "20160809",
          "20160811",
          "20160812",
          "20160829",
          "20160902",
          "20160903",
          "20160908",
          "20160920",
          "20160927",
          "20160930",
          "20161007",
          "20161011",
          "20161016",
          "20161017",
          "20161107",
          "20161109",
          "20161117",
          "20161125",
          "20161128",
          "20161212",
          "20161213",
          "20161215",
          "20170109",
          "20170131",
          "20170406",
          "20170509",
          "20170511",
          "20170528",
          "20170603",
          "20170621",
          "20170710",
          "20170711",
          "20170717",
          "20170719",
          "20170725",
          "20170726"
         ],
         "xaxis": "x3",
         "y": [
          331.38247159136864,
          336.3776696868407,
          338.33455141496376,
          543.6526422051404,
          231.19427361410348,
          351.7752390739144,
          289.33894122962647,
          430.201320512471,
          437.8155031764086,
          326.97057478024095,
          327.7338623222478,
          306.470852223486,
          543.6526422051404,
          330.8996882702856,
          543.6526422051404,
          455.09384075995916,
          399.7445898567209,
          455.09384075995916,
          422.8409439373315,
          399.7445898567209,
          201.3925763662943,
          344.02261672517795,
          338.33455141496376,
          419.73181934955693,
          391.90646064384396,
          277.4697741358416,
          455.09384075995916,
          538.3227143403841,
          374.4615987033898,
          403.0757947721935,
          434.00841184443976,
          365.4807678690019,
          329.66590867196237,
          337.56209810123096,
          257.2715180872742,
          391.90646064384396,
          273.6989984604575
         ],
         "yaxis": "y3"
        },
        {
         "hovertemplate": "source=sites.google.com<br>medium=referral<br>metric=hits_efficiency<br>Date=%{x}<br>Metric Value=%{y}<extra></extra>",
         "legendgroup": "sites.google.com, referral",
         "line": {
          "color": "#B6E880",
          "dash": "dot"
         },
         "marker": {
          "symbol": "circle"
         },
         "mode": "lines",
         "name": "sites.google.com, referral",
         "showlegend": false,
         "type": "scattergl",
         "x": [
          "20160805",
          "20160809",
          "20160811",
          "20160812",
          "20160829",
          "20160902",
          "20160903",
          "20160908",
          "20160920",
          "20160927",
          "20160930",
          "20161007",
          "20161011",
          "20161016",
          "20161017",
          "20161107",
          "20161109",
          "20161117",
          "20161125",
          "20161128",
          "20161212",
          "20161213",
          "20161215",
          "20170109",
          "20170131",
          "20170406",
          "20170509",
          "20170511",
          "20170528",
          "20170603",
          "20170621",
          "20170710",
          "20170711",
          "20170717",
          "20170719",
          "20170725",
          "20170726"
         ],
         "xaxis": "x2",
         "y": [
          282.28877209635107,
          280.3147247390339,
          259.3898227514722,
          453.04386850428364,
          161.83599152987242,
          319.79567188537675,
          202.53725886073855,
          401.5212324783063,
          360.5539437923365,
          226.6995985143004,
          280.06348234810264,
          245.17668177878883,
          453.04386850428364,
          256.1804038221566,
          453.04386850428364,
          394.41466199196464,
          355.3285243170852,
          394.41466199196464,
          333.8217978452617,
          355.3285243170852,
          153.88458399270692,
          147.43826431079057,
          259.3898227514722,
          279.8212128997046,
          317.2576109973975,
          241.89672616970805,
          394.41466199196464,
          489.3842857639856,
          260.78575623986075,
          339.4322482292156,
          379.7573603638848,
          239.84675391403252,
          206.99952404983682,
          238.27912807145714,
          173.7418044225748,
          317.2576109973975,
          220.14919441384626
         ],
         "yaxis": "y2"
        },
        {
         "hovertemplate": "source=sites.google.com<br>medium=referral<br>metric=visits_efficiency<br>Date=%{x}<br>Metric Value=%{y}<extra></extra>",
         "legendgroup": "sites.google.com, referral",
         "line": {
          "color": "#B6E880",
          "dash": "dot"
         },
         "marker": {
          "symbol": "circle"
         },
         "mode": "lines",
         "name": "sites.google.com, referral",
         "showlegend": false,
         "type": "scattergl",
         "x": [
          "20160805",
          "20160809",
          "20160811",
          "20160812",
          "20160829",
          "20160902",
          "20160903",
          "20160908",
          "20160920",
          "20160927",
          "20160930",
          "20161007",
          "20161011",
          "20161016",
          "20161017",
          "20161107",
          "20161109",
          "20161117",
          "20161125",
          "20161128",
          "20161212",
          "20161213",
          "20161215",
          "20170109",
          "20170131",
          "20170406",
          "20170509",
          "20170511",
          "20170528",
          "20170603",
          "20170621",
          "20170710",
          "20170711",
          "20170717",
          "20170719",
          "20170725",
          "20170726"
         ],
         "xaxis": "x",
         "y": [
          7621.796846601479,
          7568.497567953916,
          7781.694682544166,
          5436.526422051404,
          17801.959068285967,
          7035.504781478288,
          10126.862943036927,
          6022.818487174594,
          6129.41704446972,
          8501.234944286265,
          7701.745764572823,
          8581.183862257609,
          5436.526422051404,
          7941.592518486855,
          5436.526422051404,
          5916.219929879469,
          6395.913437707534,
          5916.219929879469,
          6342.614159059972,
          6395.913437707534,
          30007.49387857785,
          11352.746351930873,
          7781.694682544166,
          6715.709109592911,
          6662.4098309453475,
          9433.972320618614,
          5916.219929879469,
          5383.227143403841,
          7302.001174716102,
          6449.212716355096,
          6076.117765822157,
          7675.096125249041,
          8900.979534142984,
          8101.490354429543,
          13378.11894053826,
          6662.4098309453475,
          10126.862943036927
         ],
         "yaxis": "y"
        },
        {
         "hovertemplate": "source=mail.google.com<br>medium=referral<br>metric=pageviews_efficiency<br>Date=%{x}<br>Metric Value=%{y}<extra></extra>",
         "legendgroup": "mail.google.com, referral",
         "line": {
          "color": "#FF97FF",
          "dash": "dot"
         },
         "marker": {
          "symbol": "circle"
         },
         "mode": "lines",
         "name": "mail.google.com, referral",
         "showlegend": true,
         "type": "scattergl",
         "x": [
          "20160806",
          "20160811",
          "20160831",
          "20160908",
          "20160912",
          "20160923",
          "20160930",
          "20161004",
          "20161007",
          "20161012",
          "20161014",
          "20161017",
          "20161028",
          "20161031",
          "20161102",
          "20161117",
          "20161121",
          "20161123",
          "20161127",
          "20161129",
          "20161202",
          "20161206",
          "20161209",
          "20161214",
          "20161216",
          "20170113",
          "20170116",
          "20170118",
          "20170124",
          "20170130",
          "20170205",
          "20170208",
          "20170214",
          "20170215",
          "20170217",
          "20170221",
          "20170306",
          "20170316",
          "20170318",
          "20170322",
          "20170406",
          "20170410",
          "20170418",
          "20170502",
          "20170503",
          "20170510",
          "20170516",
          "20170614",
          "20170616",
          "20170619",
          "20170622",
          "20170713",
          "20170714",
          "20170719",
          "20170801"
         ],
         "xaxis": "x3",
         "y": [
          237.74283502004977,
          373.0949505329395,
          580.3699230512392,
          333.699831532567,
          263.7630968969132,
          543.6526422051404,
          249.53753184995304,
          367.48450014898555,
          296.477237477068,
          219.796072898997,
          626.2665241088628,
          234.33303543325016,
          317.8216245280596,
          331.38247159136864,
          259.18080597246217,
          323.743766600011,
          580.3699230512392,
          251.2680279099388,
          253.70456636239888,
          299.1636930540621,
          319.79567188537663,
          258.3856334436196,
          291.36938994000985,
          398.1769640141455,
          257.81976648123396,
          319.7956718853767,
          251.69103805793534,
          305.9773403841568,
          362.4350948034269,
          284.770431631264,
          580.3699230512392,
          434.00841184443976,
          317.7843783515064,
          370.87414725595767,
          462.637738660845,
          264.0173570216482,
          204.7814390143202,
          274.6962822605159,
          182.55002936790254,
          230.74687707176574,
          361.87404976503154,
          341.5999222411979,
          479.69350782806504,
          446.8939517372572,
          374.29268713176117,
          396.41338494124824,
          450.99389624860817,
          300.4141160135357,
          373.0949505329395,
          503.9204526678663,
          399.7445898567209,
          382.5007055883917,
          226.16180399100966,
          303.80588829110786,
          393.08218002577553
         ],
         "yaxis": "y3"
        },
        {
         "hovertemplate": "source=mail.google.com<br>medium=referral<br>metric=hits_efficiency<br>Date=%{x}<br>Metric Value=%{y}<extra></extra>",
         "legendgroup": "mail.google.com, referral",
         "line": {
          "color": "#FF97FF",
          "dash": "dot"
         },
         "marker": {
          "symbol": "circle"
         },
         "mode": "lines",
         "name": "mail.google.com, referral",
         "showlegend": false,
         "type": "scattergl",
         "x": [
          "20160806",
          "20160811",
          "20160831",
          "20160908",
          "20160912",
          "20160923",
          "20160930",
          "20161004",
          "20161007",
          "20161012",
          "20161014",
          "20161017",
          "20161028",
          "20161031",
          "20161102",
          "20161117",
          "20161121",
          "20161123",
          "20161127",
          "20161129",
          "20161202",
          "20161206",
          "20161209",
          "20161214",
          "20161216",
          "20170113",
          "20170116",
          "20170118",
          "20170124",
          "20170130",
          "20170205",
          "20170208",
          "20170214",
          "20170215",
          "20170217",
          "20170221",
          "20170306",
          "20170316",
          "20170318",
          "20170322",
          "20170406",
          "20170410",
          "20170418",
          "20170502",
          "20170503",
          "20170510",
          "20170516",
          "20170614",
          "20170616",
          "20170619",
          "20170622",
          "20170713",
          "20170714",
          "20170719",
          "20170801"
         ],
         "xaxis": "x2",
         "y": [
          154.43124326088704,
          283.552162405034,
          522.3329307461153,
          274.1105759017515,
          228.59468397732482,
          453.04386850428364,
          228.74273752912362,
          303.574152296988,
          215.61980907423128,
          150.8404421855862,
          626.2665241088628,
          196.97559500186244,
          231.92388816912455,
          282.28877209635107,
          173.9239619025733,
          218.5270424550074,
          522.3329307461153,
          195.43068837439685,
          186.54747526646975,
          220.81129725418867,
          244.5496314417586,
          194.84818259682788,
          257.09063818236166,
          294.3047125321945,
          213.19711459025115,
          227.2232405501361,
          176.51059811855205,
          266.49639323781395,
          278.7962267718668,
          212.06308738498382,
          522.3329307461153,
          379.7573603638848,
          240.60817218042627,
          181.65264355393845,
          428.36827653781944,
          199.1709886303662,
          185.27844482248017,
          202.13500015396454,
          146.040023494322,
          156.37391669326271,
          327.4098545493142,
          278.3406773817168,
          411.1658638526272,
          446.8939517372572,
          343.4231871621314,
          373.0949505329395,
          418.7800465165647,
          198.27331656893355,
          335.7854554796455,
          461.92708161221077,
          355.3285243170852,
          361.2506663890366,
          174.33305724306993,
          222.29699143251793,
          393.08218002577553
         ],
         "yaxis": "y2"
        },
        {
         "hovertemplate": "source=mail.google.com<br>medium=referral<br>metric=visits_efficiency<br>Date=%{x}<br>Metric Value=%{y}<extra></extra>",
         "legendgroup": "mail.google.com, referral",
         "line": {
          "color": "#FF97FF",
          "dash": "dot"
         },
         "marker": {
          "symbol": "circle"
         },
         "mode": "lines",
         "name": "mail.google.com, referral",
         "showlegend": false,
         "type": "scattergl",
         "x": [
          "20160806",
          "20160811",
          "20160831",
          "20160908",
          "20160912",
          "20160923",
          "20160930",
          "20161004",
          "20161007",
          "20161012",
          "20161014",
          "20161017",
          "20161028",
          "20161031",
          "20161102",
          "20161117",
          "20161121",
          "20161123",
          "20161127",
          "20161129",
          "20161202",
          "20161206",
          "20161209",
          "20161214",
          "20161216",
          "20170113",
          "20170116",
          "20170118",
          "20170124",
          "20170130",
          "20170205",
          "20170208",
          "20170214",
          "20170215",
          "20170217",
          "20170221",
          "20170306",
          "20170316",
          "20170318",
          "20170322",
          "20170406",
          "20170410",
          "20170418",
          "20170502",
          "20170503",
          "20170510",
          "20170516",
          "20170614",
          "20170616",
          "20170619",
          "20170622",
          "20170713",
          "20170714",
          "20170719",
          "20170801"
         ],
         "xaxis": "x",
         "y": [
          18068.455461523783,
          7088.80406012585,
          5223.329307461153,
          7675.096125249041,
          10286.760778979617,
          5436.526422051404,
          10979.651401397934,
          6982.205502830725,
          9487.271599266176,
          23078.587654394687,
          5010.132192870902,
          13591.31605512851,
          8581.183862257609,
          7621.796846601479,
          13218.22110459557,
          8741.081698200296,
          5223.329307461153,
          12312.133367587001,
          12685.228318119944,
          9274.074484675924,
          8314.687469019793,
          11885.739138406501,
          8741.081698200296,
          6769.008388240473,
          11086.249958693059,
          8634.483140905171,
          13591.31605512851,
          8261.388190372232,
          7248.701896068538,
          9966.96510709424,
          5223.329307461153,
          6076.117765822157,
          8421.28602631492,
          8900.979534142984,
          5782.971733260562,
          11352.746351930873,
          19454.236706360418,
          10713.15500816012,
          73020.01174716101,
          18921.24391988479,
          6875.606945535599,
          7515.198289306353,
          5756.32209393678,
          5809.621372584344,
          6662.409830945349,
          6342.614159059972,
          5862.920651231906,
          9913.665828446678,
          6715.709109592911,
          5543.1249793465295,
          6395.913437707534,
          6502.511995002659,
          16735.973495334714,
          9114.176648733235,
          6289.3148804124085
         ],
         "yaxis": "y"
        },
        {
         "hovertemplate": "source=Partners<br>medium=affiliate<br>metric=pageviews_efficiency<br>Date=%{x}<br>Metric Value=%{y}<extra></extra>",
         "legendgroup": "Partners, affiliate",
         "line": {
          "color": "#FECB52",
          "dash": "longdashdot"
         },
         "marker": {
          "symbol": "circle"
         },
         "mode": "lines",
         "name": "Partners, affiliate",
         "showlegend": true,
         "type": "scattergl",
         "x": [
          "20160810",
          "20160815",
          "20161011",
          "20170210",
          "20170305",
          "20170707",
          "20170712",
          "20170713",
          "20170719"
         ],
         "xaxis": "x3",
         "y": [
          353.71339466109845,
          310.2779435554548,
          315.69572737402575,
          385.63595727354243,
          251.7540395693391,
          353.71339466109845,
          299.57870412250804,
          281.724758565689,
          361.87404976503154
         ],
         "yaxis": "y3"
        },
        {
         "hovertemplate": "source=Partners<br>medium=affiliate<br>metric=hits_efficiency<br>Date=%{x}<br>Metric Value=%{y}<extra></extra>",
         "legendgroup": "Partners, affiliate",
         "line": {
          "color": "#FECB52",
          "dash": "longdashdot"
         },
         "marker": {
          "symbol": "circle"
         },
         "mode": "lines",
         "name": "Partners, affiliate",
         "showlegend": false,
         "type": "scattergl",
         "x": [
          "20160810",
          "20160815",
          "20161011",
          "20170210",
          "20170305",
          "20170707",
          "20170712",
          "20170713",
          "20170719"
         ],
         "xaxis": "x2",
         "y": [
          243.1779588295052,
          234.804930258182,
          256.50277849139593,
          345.04269861316953,
          204.00758378894722,
          243.1779588295052,
          248.22235484436382,
          174.00646852586675,
          327.4098545493142
         ],
         "yaxis": "y2"
        },
        {
         "hovertemplate": "source=Partners<br>medium=affiliate<br>metric=visits_efficiency<br>Date=%{x}<br>Metric Value=%{y}<extra></extra>",
         "legendgroup": "Partners, affiliate",
         "line": {
          "color": "#FECB52",
          "dash": "longdashdot"
         },
         "marker": {
          "symbol": "circle"
         },
         "mode": "lines",
         "name": "Partners, affiliate",
         "showlegend": false,
         "type": "scattergl",
         "x": [
          "20160810",
          "20160815",
          "20161011",
          "20170210",
          "20170305",
          "20170707",
          "20170712",
          "20170713",
          "20170719"
         ],
         "xaxis": "x",
         "y": [
          7781.694682544166,
          8687.782419552734,
          8208.08891172467,
          6555.811273650222,
          11832.439859758939,
          7781.694682544166,
          8687.782419552734,
          11832.439859758939,
          6875.606945535599
         ],
         "yaxis": "y"
        },
        {
         "hovertemplate": "source=l.facebook.com<br>medium=referral<br>metric=pageviews_efficiency<br>Date=%{x}<br>Metric Value=%{y}<extra></extra>",
         "legendgroup": "l.facebook.com, referral",
         "line": {
          "color": "#636efa",
          "dash": "dot"
         },
         "marker": {
          "symbol": "circle"
         },
         "mode": "lines",
         "name": "l.facebook.com, referral",
         "showlegend": true,
         "type": "scattergl",
         "x": [
          "20160812",
          "20161212",
          "20161219",
          "20170216",
          "20170304",
          "20170305",
          "20170314",
          "20170411",
          "20170413",
          "20170418",
          "20170419",
          "20170526",
          "20170613"
         ],
         "xaxis": "x3",
         "y": [
          262.1454317155639,
          455.09384075995916,
          309.5458106069992,
          450.99389624860817,
          196.7973365448472,
          213.73010737672678,
          188.4829239324427,
          278.3406773817168,
          446.8939517372572,
          261.16646537305763,
          286.48362273065,
          334.33183878925746,
          282.64768979768144
         ],
         "yaxis": "y3"
        },
        {
         "hovertemplate": "source=l.facebook.com<br>medium=referral<br>metric=hits_efficiency<br>Date=%{x}<br>Metric Value=%{y}<extra></extra>",
         "legendgroup": "l.facebook.com, referral",
         "line": {
          "color": "#636efa",
          "dash": "dot"
         },
         "marker": {
          "symbol": "circle"
         },
         "mode": "lines",
         "name": "l.facebook.com, referral",
         "showlegend": false,
         "type": "scattergl",
         "x": [
          "20160812",
          "20161212",
          "20161219",
          "20170216",
          "20170304",
          "20170305",
          "20170314",
          "20170411",
          "20170413",
          "20170418",
          "20170419",
          "20170526",
          "20170613"
         ],
         "xaxis": "x2",
         "y": [
          175.9606322474333,
          394.41466199196464,
          277.52383019937866,
          418.7800465165647,
          150.49208088723609,
          163.15275372269218,
          164.57777260442558,
          217.83183447264793,
          446.8939517372572,
          174.11097691537177,
          241.24936651002105,
          306.470852223486,
          239.16342982880735
         ],
         "yaxis": "y2"
        },
        {
         "hovertemplate": "source=l.facebook.com<br>medium=referral<br>metric=visits_efficiency<br>Date=%{x}<br>Metric Value=%{y}<extra></extra>",
         "legendgroup": "l.facebook.com, referral",
         "line": {
          "color": "#636efa",
          "dash": "dot"
         },
         "marker": {
          "symbol": "circle"
         },
         "mode": "lines",
         "name": "l.facebook.com, referral",
         "showlegend": false,
         "type": "scattergl",
         "x": [
          "20160812",
          "20161212",
          "20161219",
          "20170216",
          "20170304",
          "20170305",
          "20170314",
          "20170411",
          "20170413",
          "20170418",
          "20170419",
          "20170526",
          "20170613"
         ],
         "xaxis": "x",
         "y": [
          12845.126154062631,
          5916.219929879469,
          8048.1910757819805,
          5862.920651231906,
          35817.11525116219,
          21373.010737672677,
          33738.443383907244,
          10020.264385741804,
          5809.621372584344,
          13058.323268652883,
          9167.4759273808,
          7355.300453363664,
          9327.373763323487
         ],
         "yaxis": "y"
        },
        {
         "hovertemplate": "source=bing<br>medium=organic<br>metric=pageviews_efficiency<br>Date=%{x}<br>Metric Value=%{y}<extra></extra>",
         "legendgroup": "bing, organic",
         "line": {
          "color": "#EF553B",
          "dash": "dash"
         },
         "marker": {
          "symbol": "circle"
         },
         "mode": "lines",
         "name": "bing, organic",
         "showlegend": true,
         "type": "scattergl",
         "x": [
          "20160815",
          "20160828",
          "20161017",
          "20161127",
          "20161128",
          "20161217",
          "20161219",
          "20170102",
          "20170125",
          "20170207",
          "20170317",
          "20170320",
          "20170324",
          "20170406",
          "20170501",
          "20170515",
          "20170520",
          "20170524",
          "20170612",
          "20170713",
          "20170716"
         ],
         "xaxis": "x3",
         "y": [
          370.4299866005614,
          327.99556090807863,
          317.574868608395,
          543.6526422051404,
          276.580040549515,
          304.5673065575016,
          479.69350782806504,
          341.5999222411979,
          437.8155031764086,
          264.1790332966155,
          350.25240254112686,
          356.26359938107754,
          359.77013087104876,
          262.59644601969956,
          240.26976406202908,
          362.9427069810228,
          367.48450014898555,
          287.22389048964385,
          289.81482764612264,
          345.1762807651685,
          532.9927864756279
         ],
         "yaxis": "y3"
        },
        {
         "hovertemplate": "source=bing<br>medium=organic<br>metric=hits_efficiency<br>Date=%{x}<br>Metric Value=%{y}<extra></extra>",
         "legendgroup": "bing, organic",
         "line": {
          "color": "#EF553B",
          "dash": "dash"
         },
         "marker": {
          "symbol": "circle"
         },
         "mode": "lines",
         "name": "bing, organic",
         "showlegend": false,
         "type": "scattergl",
         "x": [
          "20160815",
          "20160828",
          "20161017",
          "20161127",
          "20161128",
          "20161217",
          "20161219",
          "20170102",
          "20170125",
          "20170207",
          "20170317",
          "20170320",
          "20170324",
          "20170406",
          "20170501",
          "20170515",
          "20170520",
          "20170524",
          "20170612",
          "20170713",
          "20170716"
         ],
         "xaxis": "x2",
         "y": [
          255.46895627624923,
          224.41801535815907,
          304.8718738640592,
          453.04386850428364,
          213.19711459025112,
          250.82013481206013,
          411.1658638526272,
          278.3406773817168,
          360.5539437923365,
          184.1247807824896,
          282.8961712832178,
          356.26359938107754,
          287.81610469683903,
          215.32908573615364,
          172.011308362589,
          245.86441440649932,
          303.574152296988,
          198.84730880052268,
          231.8518621168981,
          302.0292456695224,
          532.9927864756279
         ],
         "yaxis": "y2"
        },
        {
         "hovertemplate": "source=bing<br>medium=organic<br>metric=visits_efficiency<br>Date=%{x}<br>Metric Value=%{y}<extra></extra>",
         "legendgroup": "bing, organic",
         "line": {
          "color": "#EF553B",
          "dash": "dash"
         },
         "marker": {
          "symbol": "circle"
         },
         "mode": "lines",
         "name": "bing, organic",
         "showlegend": false,
         "type": "scattergl",
         "x": [
          "20160815",
          "20160828",
          "20161017",
          "20161127",
          "20161128",
          "20161217",
          "20161219",
          "20170102",
          "20170125",
          "20170207",
          "20170317",
          "20170320",
          "20170324",
          "20170406",
          "20170501",
          "20170515",
          "20170520",
          "20170524",
          "20170612",
          "20170713",
          "20170716"
         ],
         "xaxis": "x",
         "y": [
          7408.599732011227,
          8527.884583610045,
          7621.796846601479,
          5436.526422051404,
          10233.461500332054,
          8527.884583610045,
          5756.32209393678,
          7515.198289306353,
          6129.41704446972,
          12152.235531644314,
          7355.300453363664,
          6769.008388240473,
          7195.402617420976,
          10766.454286807682,
          15136.995135907831,
          7621.796846601479,
          6982.205502830725,
          10340.060057627179,
          9274.074484675924,
          7248.701896068538,
          5329.927864756279
         ],
         "yaxis": "y"
        },
        {
         "hovertemplate": "source=facebook.com<br>medium=referral<br>metric=pageviews_efficiency<br>Date=%{x}<br>Metric Value=%{y}<extra></extra>",
         "legendgroup": "facebook.com, referral",
         "line": {
          "color": "#00cc96",
          "dash": "dot"
         },
         "marker": {
          "symbol": "circle"
         },
         "mode": "lines",
         "name": "facebook.com, referral",
         "showlegend": true,
         "type": "scattergl",
         "x": [
          "20160817",
          "20160819",
          "20160826",
          "20160827",
          "20160901",
          "20160908",
          "20160919",
          "20160920",
          "20160922",
          "20161004",
          "20161012",
          "20161025",
          "20161101",
          "20161117",
          "20161204",
          "20170113",
          "20170219",
          "20170529"
         ],
         "xaxis": "x3",
         "y": [
          262.86235151184377,
          586.2920651231906,
          174.75173327069768,
          317.7456996297012,
          513.6112306037868,
          283.2475950984765,
          244.98966676599036,
          276.86014186372887,
          245.5947153368089,
          361.87404976503154,
          632.928933939808,
          415.7343734509897,
          313.39975844766917,
          450.99389624860817,
          334.33183878925746,
          342.63821987718933,
          297.5876391155589,
          430.201320512471
         ],
         "yaxis": "y3"
        },
        {
         "hovertemplate": "source=facebook.com<br>medium=referral<br>metric=hits_efficiency<br>Date=%{x}<br>Metric Value=%{y}<extra></extra>",
         "legendgroup": "facebook.com, referral",
         "line": {
          "color": "#00cc96",
          "dash": "dot"
         },
         "marker": {
          "symbol": "circle"
         },
         "mode": "lines",
         "name": "facebook.com, referral",
         "showlegend": false,
         "type": "scattergl",
         "x": [
          "20160817",
          "20160819",
          "20160826",
          "20160827",
          "20160901",
          "20160908",
          "20160919",
          "20160920",
          "20160922",
          "20161004",
          "20161012",
          "20161025",
          "20161101",
          "20161117",
          "20161204",
          "20170113",
          "20170219",
          "20170529"
         ],
         "xaxis": "x2",
         "y": [
          196.03294011052753,
          479.69350782806504,
          163.31255295910606,
          250.34509667794643,
          403.55168118868966,
          215.5144745314495,
          179.03091032899295,
          221.48811349098312,
          198.81476955836908,
          327.4098545493142,
          562.6034968353848,
          366.824447162638,
          290.1849615256196,
          418.7800465165647,
          306.470852223486,
          312.8435920617816,
          238.0701112924471,
          401.5212324783063
         ],
         "yaxis": "y2"
        },
        {
         "hovertemplate": "source=facebook.com<br>medium=referral<br>metric=visits_efficiency<br>Date=%{x}<br>Metric Value=%{y}<extra></extra>",
         "legendgroup": "facebook.com, referral",
         "line": {
          "color": "#00cc96",
          "dash": "dot"
         },
         "marker": {
          "symbol": "circle"
         },
         "mode": "lines",
         "name": "facebook.com, referral",
         "showlegend": false,
         "type": "scattergl",
         "x": [
          "20160817",
          "20160819",
          "20160826",
          "20160827",
          "20160901",
          "20160908",
          "20160919",
          "20160920",
          "20160922",
          "20161004",
          "20161012",
          "20161025",
          "20161101",
          "20161117",
          "20161204",
          "20170113",
          "20170219",
          "20170529"
         ],
         "xaxis": "x",
         "y": [
          11565.943466521125,
          5276.628586108715,
          58629.20651231907,
          8261.388190372232,
          5649.723536641655,
          9913.665828446678,
          13964.41100566145,
          9966.96510709424,
          12525.330482177253,
          6875.606945535599,
          5063.431471518464,
          6236.015601764846,
          7834.993961191729,
          5862.920651231906,
          7355.300453363664,
          7195.402617420976,
          8927.629173466767,
          6022.818487174594
         ],
         "yaxis": "y"
        },
        {
         "hovertemplate": "source=dealspotr.com<br>medium=referral<br>metric=pageviews_efficiency<br>Date=%{x}<br>Metric Value=%{y}<extra></extra>",
         "legendgroup": "dealspotr.com, referral",
         "line": {
          "color": "#ab63fa",
          "dash": "dot"
         },
         "marker": {
          "symbol": "circle"
         },
         "mode": "lines",
         "name": "dealspotr.com, referral",
         "showlegend": true,
         "type": "scattergl",
         "x": [
          "20160824",
          "20160828",
          "20160829",
          "20160906",
          "20160909",
          "20160914",
          "20160916",
          "20160918",
          "20160926",
          "20160927",
          "20161029",
          "20161030",
          "20161115",
          "20161118",
          "20161128",
          "20161130",
          "20161203",
          "20161204",
          "20161205",
          "20161215",
          "20161217",
          "20161218",
          "20161219",
          "20161220",
          "20161224",
          "20170105",
          "20170217",
          "20170225",
          "20170320",
          "20170328",
          "20170404",
          "20170425",
          "20170515",
          "20170531",
          "20170617"
         ],
         "xaxis": "x3",
         "y": [
          393.08218002577553,
          286.29326816405154,
          222.38664539155508,
          257.2269534730204,
          499.0750636999061,
          393.08218002577553,
          470.81029472013796,
          396.78351882074514,
          692.8906224183162,
          532.9927864756279,
          446.8939517372572,
          430.201320512471,
          316.46446696990404,
          307.49583835132375,
          499.0750636999061,
          437.8155031764086,
          359.06882457305454,
          515.2263602597735,
          458.3737963690399,
          334.33183878925746,
          317.574868608395,
          408.627802964648,
          242.26944839801263,
          278.3406773817168,
          470.81029472013796,
          259.5443134142188,
          574.4477809792877,
          271.34178220577417,
          253.1715735759232,
          347.7143416531477,
          446.8939517372572,
          373.0949505329395,
          470.81029472013796,
          338.33455141496376,
          305.9773403841568
         ],
         "yaxis": "y3"
        },
        {
         "hovertemplate": "source=dealspotr.com<br>medium=referral<br>metric=hits_efficiency<br>Date=%{x}<br>Metric Value=%{y}<extra></extra>",
         "legendgroup": "dealspotr.com, referral",
         "line": {
          "color": "#ab63fa",
          "dash": "dot"
         },
         "marker": {
          "symbol": "circle"
         },
         "mode": "lines",
         "name": "dealspotr.com, referral",
         "showlegend": false,
         "type": "scattergl",
         "x": [
          "20160824",
          "20160828",
          "20160829",
          "20160906",
          "20160909",
          "20160914",
          "20160916",
          "20160918",
          "20160926",
          "20160927",
          "20161029",
          "20161030",
          "20161115",
          "20161118",
          "20161128",
          "20161130",
          "20161203",
          "20161204",
          "20161205",
          "20161215",
          "20161217",
          "20161218",
          "20161219",
          "20161220",
          "20161224",
          "20170105",
          "20170217",
          "20170225",
          "20170320",
          "20170328",
          "20170404",
          "20170425",
          "20170515",
          "20170531",
          "20170617"
         ],
         "xaxis": "x2",
         "y": [
          393.08218002577553,
          208.75550803628758,
          162.58519452996043,
          197.20733099598232,
          499.0750636999061,
          393.08218002577553,
          470.81029472013796,
          255.07511924190757,
          692.8906224183162,
          532.9927864756279,
          446.8939517372572,
          401.5212324783063,
          241.1157843580221,
          285.53184989765776,
          499.0750636999061,
          360.5539437923365,
          341.11538334440183,
          515.2263602597735,
          458.3737963690399,
          306.470852223486,
          304.8718738640592,
          408.627802964648,
          190.3545665984385,
          217.83183447264793,
          470.81029472013796,
          192.56513575893652,
          574.4477809792877,
          213.19711459025115,
          196.00379889748893,
          292.0800469886441,
          446.8939517372572,
          335.7854554796455,
          470.81029472013796,
          259.3898227514722,
          266.49639323781395
         ],
         "yaxis": "y2"
        },
        {
         "hovertemplate": "source=dealspotr.com<br>medium=referral<br>metric=visits_efficiency<br>Date=%{x}<br>Metric Value=%{y}<extra></extra>",
         "legendgroup": "dealspotr.com, referral",
         "line": {
          "color": "#ab63fa",
          "dash": "dot"
         },
         "marker": {
          "symbol": "circle"
         },
         "mode": "lines",
         "name": "dealspotr.com, referral",
         "showlegend": false,
         "type": "scattergl",
         "x": [
          "20160824",
          "20160828",
          "20160829",
          "20160906",
          "20160909",
          "20160914",
          "20160916",
          "20160918",
          "20160926",
          "20160927",
          "20161029",
          "20161030",
          "20161115",
          "20161118",
          "20161128",
          "20161130",
          "20161203",
          "20161204",
          "20161205",
          "20161215",
          "20161217",
          "20161218",
          "20161219",
          "20161220",
          "20161224",
          "20170105",
          "20170217",
          "20170225",
          "20170320",
          "20170328",
          "20170404",
          "20170425",
          "20170515",
          "20170531",
          "20170617"
         ],
         "xaxis": "x",
         "y": [
          6289.3148804124085,
          10020.264385741804,
          19347.638149065293,
          11832.439859758939,
          5489.825700698967,
          6289.3148804124085,
          5649.723536641655,
          7142.103338773412,
          4850.234356928213,
          5329.927864756279,
          5809.621372584344,
          6022.818487174594,
          8439.052452530774,
          7994.891797134417,
          5489.825700698967,
          6129.41704446972,
          6822.307666888037,
          5409.876782727622,
          5729.672454612999,
          7355.300453363664,
          7621.796846601479,
          6129.41704446972,
          13324.819661890695,
          10020.264385741804,
          5649.723536641655,
          11939.038417054064,
          5170.0300288135895,
          10446.658614922306,
          12152.235531644314,
          7302.001174716102,
          5809.621372584344,
          6715.709109592911,
          5649.723536641655,
          7781.694682544166,
          8261.388190372232
         ],
         "yaxis": "y"
        },
        {
         "hovertemplate": "source=m.facebook.com<br>medium=referral<br>metric=pageviews_efficiency<br>Date=%{x}<br>Metric Value=%{y}<extra></extra>",
         "legendgroup": "m.facebook.com, referral",
         "line": {
          "color": "#FFA15A",
          "dash": "dot"
         },
         "marker": {
          "symbol": "circle"
         },
         "mode": "lines",
         "name": "m.facebook.com, referral",
         "showlegend": true,
         "type": "scattergl",
         "x": [
          "20160826",
          "20161116",
          "20170219",
          "20170520",
          "20170527",
          "20170708"
         ],
         "xaxis": "x3",
         "y": [
          178.02896885505578,
          586.2920651231906,
          329.06511165017025,
          334.33183878925746,
          382.5007055883917,
          532.9927864756279
         ],
         "yaxis": "y3"
        },
        {
         "hovertemplate": "source=m.facebook.com<br>medium=referral<br>metric=hits_efficiency<br>Date=%{x}<br>Metric Value=%{y}<extra></extra>",
         "legendgroup": "m.facebook.com, referral",
         "line": {
          "color": "#FFA15A",
          "dash": "dot"
         },
         "marker": {
          "symbol": "circle"
         },
         "mode": "lines",
         "name": "m.facebook.com, referral",
         "showlegend": false,
         "type": "scattergl",
         "x": [
          "20160826",
          "20161116",
          "20170219",
          "20170520",
          "20170527",
          "20170708"
         ],
         "xaxis": "x2",
         "y": [
          156.86790278959694,
          479.69350782806504,
          291.0960603059198,
          306.470852223486,
          361.2506663890366,
          532.9927864756279
         ],
         "yaxis": "y2"
        },
        {
         "hovertemplate": "source=m.facebook.com<br>medium=referral<br>metric=visits_efficiency<br>Date=%{x}<br>Metric Value=%{y}<extra></extra>",
         "legendgroup": "m.facebook.com, referral",
         "line": {
          "color": "#FFA15A",
          "dash": "dot"
         },
         "marker": {
          "symbol": "circle"
         },
         "mode": "lines",
         "name": "m.facebook.com, referral",
         "showlegend": false,
         "type": "scattergl",
         "x": [
          "20160826",
          "20161116",
          "20170219",
          "20170520",
          "20170527",
          "20170708"
         ],
         "xaxis": "x",
         "y": [
          60707.87837957402,
          5276.628586108715,
          7568.497567953916,
          7355.300453363664,
          6502.511995002659,
          5329.927864756279
         ],
         "yaxis": "y"
        },
        {
         "hovertemplate": "source=yahoo<br>medium=organic<br>metric=pageviews_efficiency<br>Date=%{x}<br>Metric Value=%{y}<extra></extra>",
         "legendgroup": "yahoo, organic",
         "line": {
          "color": "#19d3f3",
          "dash": "dash"
         },
         "marker": {
          "symbol": "circle"
         },
         "mode": "lines",
         "name": "yahoo, organic",
         "showlegend": true,
         "type": "scattergl",
         "x": [
          "20160826",
          "20161027",
          "20161120",
          "20161210",
          "20161211",
          "20161212",
          "20161225",
          "20170109",
          "20170213",
          "20170310",
          "20170314",
          "20170321",
          "20170414",
          "20170420",
          "20170425",
          "20170430",
          "20170508",
          "20170630",
          "20170712",
          "20170718",
          "20170720"
         ],
         "xaxis": "x3",
         "y": [
          403.0757947721935,
          381.9781636408666,
          293.14603256159535,
          391.90646064384396,
          306.470852223486,
          348.30458837128236,
          257.81976648123396,
          381.51062610887044,
          324.05961417718174,
          277.15624896732646,
          415.7343734509897,
          385.63595727354243,
          266.4963932378139,
          508.76584163582663,
          300.252603047937,
          1092.635212275037,
          313.7389356754264,
          396.41338494124824,
          518.4566195717471,
          370.28972534096255,
          434.00841184443976
         ],
         "yaxis": "y3"
        },
        {
         "hovertemplate": "source=yahoo<br>medium=organic<br>metric=hits_efficiency<br>Date=%{x}<br>Metric Value=%{y}<extra></extra>",
         "legendgroup": "yahoo, organic",
         "line": {
          "color": "#19d3f3",
          "dash": "dash"
         },
         "marker": {
          "symbol": "circle"
         },
         "mode": "lines",
         "name": "yahoo, organic",
         "showlegend": false,
         "type": "scattergl",
         "x": [
          "20160826",
          "20161027",
          "20161120",
          "20161210",
          "20161211",
          "20161212",
          "20161225",
          "20170109",
          "20170213",
          "20170310",
          "20170314",
          "20170321",
          "20170414",
          "20170420",
          "20170425",
          "20170430",
          "20170508",
          "20170630",
          "20170712",
          "20170718",
          "20170720"
         ],
         "xaxis": "x2",
         "y": [
          339.4322482292156,
          298.9394324145913,
          293.14603256159535,
          317.2576109973975,
          245.17668177878883,
          272.31085999936624,
          213.19711459025115,
          258.88221057387636,
          253.17157357592322,
          230.96354080610539,
          366.824447162638,
          345.04269861316953,
          194.22618490213557,
          430.4941736918533,
          230.96354080610539,
          1092.635212275037,
          136.67834821503723,
          373.0949505329395,
          380.2015210192812,
          293.14603256159535,
          379.7573603638848
         ],
         "yaxis": "y2"
        },
        {
         "hovertemplate": "source=yahoo<br>medium=organic<br>metric=visits_efficiency<br>Date=%{x}<br>Metric Value=%{y}<extra></extra>",
         "legendgroup": "yahoo, organic",
         "line": {
          "color": "#19d3f3",
          "dash": "dash"
         },
         "marker": {
          "symbol": "circle"
         },
         "mode": "lines",
         "name": "yahoo, organic",
         "showlegend": false,
         "type": "scattergl",
         "x": [
          "20160826",
          "20161027",
          "20161120",
          "20161210",
          "20161211",
          "20161212",
          "20161225",
          "20170109",
          "20170213",
          "20170310",
          "20170314",
          "20170321",
          "20170414",
          "20170420",
          "20170425",
          "20170430",
          "20170508",
          "20170630",
          "20170712",
          "20170718",
          "20170720"
         ],
         "xaxis": "x",
         "y": [
          6449.212716355096,
          6875.606945535599,
          8208.08891172467,
          6662.4098309453475,
          8581.183862257609,
          7488.548649982571,
          11086.249958693059,
          7248.701896068538,
          8101.490354429543,
          9700.468713856426,
          6236.015601764846,
          6555.811273650222,
          11459.344909225998,
          5596.424257994093,
          9007.57809143811,
          4370.540849100148,
          13804.51316971876,
          6342.614159059972,
          5703.022815289218,
          7035.504781478288,
          6076.117765822157
         ],
         "yaxis": "y"
        },
        {
         "hovertemplate": "source=trainup.withgoogle.com<br>medium=referral<br>metric=pageviews_efficiency<br>Date=%{x}<br>Metric Value=%{y}<extra></extra>",
         "legendgroup": "trainup.withgoogle.com, referral",
         "line": {
          "color": "#FF6692",
          "dash": "dot"
         },
         "marker": {
          "symbol": "circle"
         },
         "mode": "lines",
         "name": "trainup.withgoogle.com, referral",
         "showlegend": true,
         "type": "scattergl",
         "x": [
          "20160917",
          "20160925"
         ],
         "xaxis": "x3",
         "y": [
          319.7956718853767,
          283.74027750614306
         ],
         "yaxis": "y3"
        },
        {
         "hovertemplate": "source=trainup.withgoogle.com<br>medium=referral<br>metric=hits_efficiency<br>Date=%{x}<br>Metric Value=%{y}<extra></extra>",
         "legendgroup": "trainup.withgoogle.com, referral",
         "line": {
          "color": "#FF6692",
          "dash": "dot"
         },
         "marker": {
          "symbol": "circle"
         },
         "mode": "lines",
         "name": "trainup.withgoogle.com, referral",
         "showlegend": false,
         "type": "scattergl",
         "x": [
          "20160917",
          "20160925"
         ],
         "xaxis": "x2",
         "y": [
          295.1960048172708,
          224.35277756299683
         ],
         "yaxis": "y2"
        },
        {
         "hovertemplate": "source=trainup.withgoogle.com<br>medium=referral<br>metric=visits_efficiency<br>Date=%{x}<br>Metric Value=%{y}<extra></extra>",
         "legendgroup": "trainup.withgoogle.com, referral",
         "line": {
          "color": "#FF6692",
          "dash": "dot"
         },
         "marker": {
          "symbol": "circle"
         },
         "mode": "lines",
         "name": "trainup.withgoogle.com, referral",
         "showlegend": false,
         "type": "scattergl",
         "x": [
          "20160917",
          "20160925"
         ],
         "xaxis": "x",
         "y": [
          7675.096125249041,
          9647.169435208863
         ],
         "yaxis": "y"
        },
        {
         "hovertemplate": "source=groups.google.com<br>medium=referral<br>metric=pageviews_efficiency<br>Date=%{x}<br>Metric Value=%{y}<extra></extra>",
         "legendgroup": "groups.google.com, referral",
         "line": {
          "color": "#B6E880",
          "dash": "dot"
         },
         "marker": {
          "symbol": "circle"
         },
         "mode": "lines",
         "name": "groups.google.com, referral",
         "showlegend": true,
         "type": "scattergl",
         "x": [
          "20160919",
          "20161213",
          "20170131",
          "20170207",
          "20170216",
          "20170217",
          "20170428",
          "20170501",
          "20170502",
          "20170503",
          "20170504",
          "20170505",
          "20170508",
          "20170509",
          "20170510",
          "20170512",
          "20170531",
          "20170622",
          "20170629"
         ],
         "xaxis": "x3",
         "y": [
          508.76584163582663,
          403.0757947721935,
          313.87352981342525,
          253.49656917743278,
          419.28765869416054,
          349.54410647936527,
          355.3285243170853,
          399.7445898567209,
          340.1001589892101,
          460.05693148422614,
          424.93397497098,
          554.3124979346529,
          438.0940708348453,
          538.3227143403841,
          543.6526422051404,
          364.67927495700854,
          692.8906224183162,
          412.18108820781885,
          305.4458660956483
         ],
         "yaxis": "y3"
        },
        {
         "hovertemplate": "source=groups.google.com<br>medium=referral<br>metric=hits_efficiency<br>Date=%{x}<br>Metric Value=%{y}<extra></extra>",
         "legendgroup": "groups.google.com, referral",
         "line": {
          "color": "#B6E880",
          "dash": "dot"
         },
         "marker": {
          "symbol": "circle"
         },
         "mode": "lines",
         "name": "groups.google.com, referral",
         "showlegend": false,
         "type": "scattergl",
         "x": [
          "20160919",
          "20161213",
          "20170131",
          "20170207",
          "20170216",
          "20170217",
          "20170428",
          "20170501",
          "20170502",
          "20170503",
          "20170504",
          "20170505",
          "20170508",
          "20170509",
          "20170510",
          "20170512",
          "20170531",
          "20170622",
          "20170629"
         ],
         "xaxis": "x2",
         "y": [
          430.4941736918533,
          339.4322482292156,
          242.13100871321376,
          241.70603107615682,
          349.4063822451338,
          268.39993890379833,
          329.94791543729343,
          355.3285243170852,
          324.6410608533369,
          416.24198562858555,
          360.69976945211096,
          395.93749852475213,
          399.1523756495257,
          489.3842857639856,
          453.04386850428364,
          314.9502829174165,
          692.8906224183162,
          386.41977019483016,
          294.1330562402539
         ],
         "yaxis": "y2"
        },
        {
         "hovertemplate": "source=groups.google.com<br>medium=referral<br>metric=visits_efficiency<br>Date=%{x}<br>Metric Value=%{y}<extra></extra>",
         "legendgroup": "groups.google.com, referral",
         "line": {
          "color": "#B6E880",
          "dash": "dot"
         },
         "marker": {
          "symbol": "circle"
         },
         "mode": "lines",
         "name": "groups.google.com, referral",
         "showlegend": false,
         "type": "scattergl",
         "x": [
          "20160919",
          "20161213",
          "20170131",
          "20170207",
          "20170216",
          "20170217",
          "20170428",
          "20170501",
          "20170502",
          "20170503",
          "20170504",
          "20170505",
          "20170508",
          "20170509",
          "20170510",
          "20170512",
          "20170531",
          "20170622",
          "20170629"
         ],
         "xaxis": "x",
         "y": [
          5596.424257994093,
          6449.212716355096,
          8474.585304962482,
          10393.359336274743,
          6289.3148804124085,
          7515.198289306353,
          6928.9062241831625,
          6395.913437707534,
          7142.103338773412,
          5827.387798800198,
          6204.036034576308,
          5543.1249793465295,
          5987.285634742886,
          5383.227143403841,
          5436.526422051404,
          6928.9062241831625,
          4850.234356928213,
          6182.716323117283,
          7941.592518486855
         ],
         "yaxis": "y"
        },
        {
         "hovertemplate": "source=siliconvalley.about.com<br>medium=referral<br>metric=pageviews_efficiency<br>Date=%{x}<br>Metric Value=%{y}<extra></extra>",
         "legendgroup": "siliconvalley.about.com, referral",
         "line": {
          "color": "#FF97FF",
          "dash": "dot"
         },
         "marker": {
          "symbol": "circle"
         },
         "mode": "lines",
         "name": "siliconvalley.about.com, referral",
         "showlegend": true,
         "type": "scattergl",
         "x": [
          "20160919",
          "20161019",
          "20161211",
          "20170215",
          "20170404",
          "20170414"
         ],
         "xaxis": "x3",
         "y": [
          238.92780083390215,
          403.0757947721935,
          265.1964108317758,
          221.39700361295309,
          270.2149475620625,
          221.6127901661821
         ],
         "yaxis": "y3"
        },
        {
         "hovertemplate": "source=siliconvalley.about.com<br>medium=referral<br>metric=hits_efficiency<br>Date=%{x}<br>Metric Value=%{y}<extra></extra>",
         "legendgroup": "siliconvalley.about.com, referral",
         "line": {
          "color": "#FF97FF",
          "dash": "dot"
         },
         "marker": {
          "symbol": "circle"
         },
         "mode": "lines",
         "name": "siliconvalley.about.com, referral",
         "showlegend": false,
         "type": "scattergl",
         "x": [
          "20160919",
          "20161019",
          "20161211",
          "20170215",
          "20170404",
          "20170414"
         ],
         "xaxis": "x2",
         "y": [
          187.26773578873411,
          339.4322482292156,
          209.09717007890015,
          205.5829319263136,
          187.40714105110786,
          143.5446481758225
         ],
         "yaxis": "y2"
        },
        {
         "hovertemplate": "source=siliconvalley.about.com<br>medium=referral<br>metric=visits_efficiency<br>Date=%{x}<br>Metric Value=%{y}<extra></extra>",
         "legendgroup": "siliconvalley.about.com, referral",
         "line": {
          "color": "#FF97FF",
          "dash": "dot"
         },
         "marker": {
          "symbol": "circle"
         },
         "mode": "lines",
         "name": "siliconvalley.about.com, referral",
         "showlegend": false,
         "type": "scattergl",
         "x": [
          "20160919",
          "20161019",
          "20161211",
          "20170215",
          "20170404",
          "20170414"
         ],
         "xaxis": "x",
         "y": [
          13857.812448366325,
          6449.212716355096,
          10873.052844102807,
          14390.805234841951,
          11619.242745168687,
          25263.85807894476
         ],
         "yaxis": "y"
        },
        {
         "hovertemplate": "source=keep.google.com<br>medium=referral<br>metric=pageviews_efficiency<br>Date=%{x}<br>Metric Value=%{y}<extra></extra>",
         "legendgroup": "keep.google.com, referral",
         "line": {
          "color": "#FECB52",
          "dash": "dot"
         },
         "marker": {
          "symbol": "circle"
         },
         "mode": "lines",
         "name": "keep.google.com, referral",
         "showlegend": true,
         "type": "scattergl",
         "x": [
          "20161005",
          "20161107"
         ],
         "xaxis": "x3",
         "y": [
          434.00841184443976,
          632.928933939808
         ],
         "yaxis": "y3"
        },
        {
         "hovertemplate": "source=keep.google.com<br>medium=referral<br>metric=hits_efficiency<br>Date=%{x}<br>Metric Value=%{y}<extra></extra>",
         "legendgroup": "keep.google.com, referral",
         "line": {
          "color": "#FECB52",
          "dash": "dot"
         },
         "marker": {
          "symbol": "circle"
         },
         "mode": "lines",
         "name": "keep.google.com, referral",
         "showlegend": false,
         "type": "scattergl",
         "x": [
          "20161005",
          "20161107"
         ],
         "xaxis": "x2",
         "y": [
          379.7573603638848,
          562.6034968353848
         ],
         "yaxis": "y2"
        },
        {
         "hovertemplate": "source=keep.google.com<br>medium=referral<br>metric=visits_efficiency<br>Date=%{x}<br>Metric Value=%{y}<extra></extra>",
         "legendgroup": "keep.google.com, referral",
         "line": {
          "color": "#FECB52",
          "dash": "dot"
         },
         "marker": {
          "symbol": "circle"
         },
         "mode": "lines",
         "name": "keep.google.com, referral",
         "showlegend": false,
         "type": "scattergl",
         "x": [
          "20161005",
          "20161107"
         ],
         "xaxis": "x",
         "y": [
          6076.117765822157,
          5063.431471518464
         ],
         "yaxis": "y"
        },
        {
         "hovertemplate": "source=ask<br>medium=organic<br>metric=pageviews_efficiency<br>Date=%{x}<br>Metric Value=%{y}<extra></extra>",
         "legendgroup": "ask, organic",
         "line": {
          "color": "#636efa",
          "dash": "dash"
         },
         "marker": {
          "symbol": "circle"
         },
         "mode": "lines",
         "name": "ask, organic",
         "showlegend": true,
         "type": "scattergl",
         "x": [
          "20161006",
          "20161012",
          "20170118",
          "20170520"
         ],
         "xaxis": "x3",
         "y": [
          339.17722775721774,
          632.928933939808,
          285.4090404998523,
          484.13511438202863
         ],
         "yaxis": "y3"
        },
        {
         "hovertemplate": "source=ask<br>medium=organic<br>metric=hits_efficiency<br>Date=%{x}<br>Metric Value=%{y}<extra></extra>",
         "legendgroup": "ask, organic",
         "line": {
          "color": "#636efa",
          "dash": "dash"
         },
         "marker": {
          "symbol": "circle"
         },
         "mode": "lines",
         "name": "ask, organic",
         "showlegend": false,
         "type": "scattergl",
         "x": [
          "20161006",
          "20161012",
          "20170118",
          "20170520"
         ],
         "xaxis": "x2",
         "y": [
          286.9961157945688,
          562.6034968353848,
          260.2258898675124,
          387.3080915056229
         ],
         "yaxis": "y2"
        },
        {
         "hovertemplate": "source=ask<br>medium=organic<br>metric=visits_efficiency<br>Date=%{x}<br>Metric Value=%{y}<extra></extra>",
         "legendgroup": "ask, organic",
         "line": {
          "color": "#636efa",
          "dash": "dash"
         },
         "marker": {
          "symbol": "circle"
         },
         "mode": "lines",
         "name": "ask, organic",
         "showlegend": false,
         "type": "scattergl",
         "x": [
          "20161006",
          "20161012",
          "20170118",
          "20170520"
         ],
         "xaxis": "x",
         "y": [
          7461.89901065879,
          5063.431471518464,
          8847.680255495423,
          5809.621372584344
         ],
         "yaxis": "y"
        },
        {
         "hovertemplate": "source=phandroid.com<br>medium=referral<br>metric=pageviews_efficiency<br>Date=%{x}<br>Metric Value=%{y}<extra></extra>",
         "legendgroup": "phandroid.com, referral",
         "line": {
          "color": "#EF553B",
          "dash": "dot"
         },
         "marker": {
          "symbol": "circle"
         },
         "mode": "lines",
         "name": "phandroid.com, referral",
         "showlegend": true,
         "type": "scattergl",
         "x": [
          "20161008",
          "20161213",
          "20161216",
          "20161220",
          "20170124",
          "20170619"
         ],
         "xaxis": "x3",
         "y": [
          258.88221057387636,
          269.09635804989017,
          227.57945962213316,
          906.0877370085673,
          1092.635212275037,
          446.8939517372572
         ],
         "yaxis": "y3"
        },
        {
         "hovertemplate": "source=phandroid.com<br>medium=referral<br>metric=hits_efficiency<br>Date=%{x}<br>Metric Value=%{y}<extra></extra>",
         "legendgroup": "phandroid.com, referral",
         "line": {
          "color": "#EF553B",
          "dash": "dot"
         },
         "marker": {
          "symbol": "circle"
         },
         "mode": "lines",
         "name": "phandroid.com, referral",
         "showlegend": false,
         "type": "scattergl",
         "x": [
          "20161008",
          "20161213",
          "20161216",
          "20161220",
          "20170124",
          "20170619"
         ],
         "xaxis": "x2",
         "y": [
          217.46105688205614,
          200.59910327355448,
          196.40419118074504,
          906.0877370085673,
          1092.635212275037,
          446.8939517372572
         ],
         "yaxis": "y2"
        },
        {
         "hovertemplate": "source=phandroid.com<br>medium=referral<br>metric=visits_efficiency<br>Date=%{x}<br>Metric Value=%{y}<extra></extra>",
         "legendgroup": "phandroid.com, referral",
         "line": {
          "color": "#EF553B",
          "dash": "dot"
         },
         "marker": {
          "symbol": "circle"
         },
         "mode": "lines",
         "name": "phandroid.com, referral",
         "showlegend": false,
         "type": "scattergl",
         "x": [
          "20161008",
          "20161213",
          "20161216",
          "20161220",
          "20170124",
          "20170619"
         ],
         "xaxis": "x",
         "y": [
          10873.052844102807,
          11032.950680045496,
          14337.505956194389,
          4530.438685042836,
          4370.540849100148,
          5809.621372584344
         ],
         "yaxis": "y"
        },
        {
         "hovertemplate": "source=googleux.perksplus.com<br>medium=referral<br>metric=pageviews_efficiency<br>Date=%{x}<br>Metric Value=%{y}<extra></extra>",
         "legendgroup": "googleux.perksplus.com, referral",
         "line": {
          "color": "#00cc96",
          "dash": "dot"
         },
         "marker": {
          "symbol": "circle"
         },
         "mode": "lines",
         "name": "googleux.perksplus.com, referral",
         "showlegend": true,
         "type": "scattergl",
         "x": [
          "20161013",
          "20161105",
          "20161208",
          "20161209"
         ],
         "xaxis": "x3",
         "y": [
          236.71150222888178,
          253.75091356122283,
          272.1068436217679,
          412.18108820781885
         ],
         "yaxis": "y3"
        },
        {
         "hovertemplate": "source=googleux.perksplus.com<br>medium=referral<br>metric=hits_efficiency<br>Date=%{x}<br>Metric Value=%{y}<extra></extra>",
         "legendgroup": "googleux.perksplus.com, referral",
         "line": {
          "color": "#00cc96",
          "dash": "dot"
         },
         "marker": {
          "symbol": "circle"
         },
         "mode": "lines",
         "name": "googleux.perksplus.com, referral",
         "showlegend": false,
         "type": "scattergl",
         "x": [
          "20161013",
          "20161105",
          "20161208",
          "20161209"
         ],
         "xaxis": "x2",
         "y": [
          167.6706474121246,
          204.78143901432017,
          215.4179178672329,
          386.41977019483016
         ],
         "yaxis": "y2"
        },
        {
         "hovertemplate": "source=googleux.perksplus.com<br>medium=referral<br>metric=visits_efficiency<br>Date=%{x}<br>Metric Value=%{y}<extra></extra>",
         "legendgroup": "googleux.perksplus.com, referral",
         "line": {
          "color": "#00cc96",
          "dash": "dot"
         },
         "marker": {
          "symbol": "circle"
         },
         "mode": "lines",
         "name": "googleux.perksplus.com, referral",
         "showlegend": false,
         "type": "scattergl",
         "x": [
          "20161013",
          "20161105",
          "20161208",
          "20161209"
         ],
         "xaxis": "x",
         "y": [
          16096.382151563961,
          11672.54202381625,
          10340.060057627179,
          6182.716323117283
         ],
         "yaxis": "y"
        },
        {
         "hovertemplate": "source=google.com<br>medium=referral<br>metric=pageviews_efficiency<br>Date=%{x}<br>Metric Value=%{y}<extra></extra>",
         "legendgroup": "google.com, referral",
         "line": {
          "color": "#ab63fa",
          "dash": "dot"
         },
         "marker": {
          "symbol": "circle"
         },
         "mode": "lines",
         "name": "google.com, referral",
         "showlegend": true,
         "type": "scattergl",
         "x": [
          "20161028",
          "20170130",
          "20170310",
          "20170509",
          "20170619"
         ],
         "xaxis": "x3",
         "y": [
          296.6993178047661,
          351.7752390739144,
          209.90703566138927,
          328.6788849933038,
          370.13387949696374
         ],
         "yaxis": "y3"
        },
        {
         "hovertemplate": "source=google.com<br>medium=referral<br>metric=hits_efficiency<br>Date=%{x}<br>Metric Value=%{y}<extra></extra>",
         "legendgroup": "google.com, referral",
         "line": {
          "color": "#ab63fa",
          "dash": "dot"
         },
         "marker": {
          "symbol": "circle"
         },
         "mode": "lines",
         "name": "google.com, referral",
         "showlegend": false,
         "type": "scattergl",
         "x": [
          "20161028",
          "20170130",
          "20170310",
          "20170509",
          "20170619"
         ],
         "xaxis": "x2",
         "y": [
          240.56701443629686,
          319.79567188537675,
          195.4306883743969,
          262.94310799464307,
          350.65314899712354
         ],
         "yaxis": "y2"
        },
        {
         "hovertemplate": "source=google.com<br>medium=referral<br>metric=visits_efficiency<br>Date=%{x}<br>Metric Value=%{y}<extra></extra>",
         "legendgroup": "google.com, referral",
         "line": {
          "color": "#ab63fa",
          "dash": "dot"
         },
         "marker": {
          "symbol": "circle"
         },
         "mode": "lines",
         "name": "google.com, referral",
         "showlegend": false,
         "type": "scattergl",
         "x": [
          "20161028",
          "20170130",
          "20170310",
          "20170509",
          "20170619"
         ],
         "xaxis": "x",
         "y": [
          8900.979534142984,
          7035.504781478288,
          17002.46988857253,
          7888.293239839292,
          6662.4098309453475
         ],
         "yaxis": "y"
        },
        {
         "hovertemplate": "source=connect.googleforwork.com<br>medium=referral<br>metric=pageviews_efficiency<br>Date=%{x}<br>Metric Value=%{y}<extra></extra>",
         "legendgroup": "connect.googleforwork.com, referral",
         "line": {
          "color": "#FFA15A",
          "dash": "dot"
         },
         "marker": {
          "symbol": "circle"
         },
         "mode": "lines",
         "name": "connect.googleforwork.com, referral",
         "showlegend": true,
         "type": "scattergl",
         "x": [
          "20161115",
          "20161211",
          "20161213"
         ],
         "xaxis": "x3",
         "y": [
          317.8216245280596,
          357.1051669386706,
          408.627802964648
         ],
         "yaxis": "y3"
        },
        {
         "hovertemplate": "source=connect.googleforwork.com<br>medium=referral<br>metric=hits_efficiency<br>Date=%{x}<br>Metric Value=%{y}<extra></extra>",
         "legendgroup": "connect.googleforwork.com, referral",
         "line": {
          "color": "#FFA15A",
          "dash": "dot"
         },
         "marker": {
          "symbol": "circle"
         },
         "mode": "lines",
         "name": "connect.googleforwork.com, referral",
         "showlegend": false,
         "type": "scattergl",
         "x": [
          "20161115",
          "20161211",
          "20161213"
         ],
         "xaxis": "x2",
         "y": [
          231.92388816912455,
          297.58763911555883,
          408.627802964648
         ],
         "yaxis": "y2"
        },
        {
         "hovertemplate": "source=connect.googleforwork.com<br>medium=referral<br>metric=visits_efficiency<br>Date=%{x}<br>Metric Value=%{y}<extra></extra>",
         "legendgroup": "connect.googleforwork.com, referral",
         "line": {
          "color": "#FFA15A",
          "dash": "dot"
         },
         "marker": {
          "symbol": "circle"
         },
         "mode": "lines",
         "name": "connect.googleforwork.com, referral",
         "showlegend": false,
         "type": "scattergl",
         "x": [
          "20161115",
          "20161211",
          "20161213"
         ],
         "xaxis": "x",
         "y": [
          8581.183862257609,
          7142.103338773412,
          6129.41704446972
         ],
         "yaxis": "y"
        },
        {
         "hovertemplate": "source=pinterest.com<br>medium=referral<br>metric=pageviews_efficiency<br>Date=%{x}<br>Metric Value=%{y}<extra></extra>",
         "legendgroup": "pinterest.com, referral",
         "line": {
          "color": "#19d3f3",
          "dash": "dot"
         },
         "marker": {
          "symbol": "circle"
         },
         "mode": "lines",
         "name": "pinterest.com, referral",
         "showlegend": true,
         "type": "scattergl",
         "x": [
          "20161127",
          "20161209"
         ],
         "xaxis": "x3",
         "y": [
          364.67927495700854,
          441.62259450837735
         ],
         "yaxis": "y3"
        },
        {
         "hovertemplate": "source=pinterest.com<br>medium=referral<br>metric=hits_efficiency<br>Date=%{x}<br>Metric Value=%{y}<extra></extra>",
         "legendgroup": "pinterest.com, referral",
         "line": {
          "color": "#19d3f3",
          "dash": "dot"
         },
         "marker": {
          "symbol": "circle"
         },
         "mode": "lines",
         "name": "pinterest.com, referral",
         "showlegend": false,
         "type": "scattergl",
         "x": [
          "20161127",
          "20161209"
         ],
         "xaxis": "x2",
         "y": [
          314.9502829174165,
          343.48424017318234
         ],
         "yaxis": "y2"
        },
        {
         "hovertemplate": "source=pinterest.com<br>medium=referral<br>metric=visits_efficiency<br>Date=%{x}<br>Metric Value=%{y}<extra></extra>",
         "legendgroup": "pinterest.com, referral",
         "line": {
          "color": "#19d3f3",
          "dash": "dot"
         },
         "marker": {
          "symbol": "circle"
         },
         "mode": "lines",
         "name": "pinterest.com, referral",
         "showlegend": false,
         "type": "scattergl",
         "x": [
          "20161127",
          "20161209"
         ],
         "xaxis": "x",
         "y": [
          6928.9062241831625,
          6182.716323117283
         ],
         "yaxis": "y"
        },
        {
         "hovertemplate": "source=quora.com<br>medium=referral<br>metric=pageviews_efficiency<br>Date=%{x}<br>Metric Value=%{y}<extra></extra>",
         "legendgroup": "quora.com, referral",
         "line": {
          "color": "#FF6692",
          "dash": "dot"
         },
         "marker": {
          "symbol": "circle"
         },
         "mode": "lines",
         "name": "quora.com, referral",
         "showlegend": true,
         "type": "scattergl",
         "x": [
          "20161201"
         ],
         "xaxis": "x3",
         "y": [
          376.0560215689152
         ],
         "yaxis": "y3"
        },
        {
         "hovertemplate": "source=quora.com<br>medium=referral<br>metric=hits_efficiency<br>Date=%{x}<br>Metric Value=%{y}<extra></extra>",
         "legendgroup": "quora.com, referral",
         "line": {
          "color": "#FF6692",
          "dash": "dot"
         },
         "marker": {
          "symbol": "circle"
         },
         "mode": "lines",
         "name": "quora.com, referral",
         "showlegend": false,
         "type": "scattergl",
         "x": [
          "20161201"
         ],
         "xaxis": "x2",
         "y": [
          322.33373277335585
         ],
         "yaxis": "y2"
        },
        {
         "hovertemplate": "source=quora.com<br>medium=referral<br>metric=visits_efficiency<br>Date=%{x}<br>Metric Value=%{y}<extra></extra>",
         "legendgroup": "quora.com, referral",
         "line": {
          "color": "#FF6692",
          "dash": "dot"
         },
         "marker": {
          "symbol": "circle"
         },
         "mode": "lines",
         "name": "quora.com, referral",
         "showlegend": false,
         "type": "scattergl",
         "x": [
          "20161201"
         ],
         "xaxis": "x",
         "y": [
          6769.008388240473
         ],
         "yaxis": "y"
        },
        {
         "hovertemplate": "source=mg.mail.yahoo.com<br>medium=referral<br>metric=pageviews_efficiency<br>Date=%{x}<br>Metric Value=%{y}<extra></extra>",
         "legendgroup": "mg.mail.yahoo.com, referral",
         "line": {
          "color": "#B6E880",
          "dash": "dot"
         },
         "marker": {
          "symbol": "circle"
         },
         "mode": "lines",
         "name": "mg.mail.yahoo.com, referral",
         "showlegend": true,
         "type": "scattergl",
         "x": [
          "20161207",
          "20170123",
          "20170422",
          "20170525"
         ],
         "xaxis": "x3",
         "y": [
          347.7143416531477,
          317.8216245280596,
          313.6457551183502,
          415.7343734509897
         ],
         "yaxis": "y3"
        },
        {
         "hovertemplate": "source=mg.mail.yahoo.com<br>medium=referral<br>metric=hits_efficiency<br>Date=%{x}<br>Metric Value=%{y}<extra></extra>",
         "legendgroup": "mg.mail.yahoo.com, referral",
         "line": {
          "color": "#B6E880",
          "dash": "dot"
         },
         "marker": {
          "symbol": "circle"
         },
         "mode": "lines",
         "name": "mg.mail.yahoo.com, referral",
         "showlegend": false,
         "type": "scattergl",
         "x": [
          "20161207",
          "20170123",
          "20170422",
          "20170525"
         ],
         "xaxis": "x2",
         "y": [
          292.0800469886441,
          231.92388816912455,
          263.0577300992615,
          366.824447162638
         ],
         "yaxis": "y2"
        },
        {
         "hovertemplate": "source=mg.mail.yahoo.com<br>medium=referral<br>metric=visits_efficiency<br>Date=%{x}<br>Metric Value=%{y}<extra></extra>",
         "legendgroup": "mg.mail.yahoo.com, referral",
         "line": {
          "color": "#B6E880",
          "dash": "dot"
         },
         "marker": {
          "symbol": "circle"
         },
         "mode": "lines",
         "name": "mg.mail.yahoo.com, referral",
         "showlegend": false,
         "type": "scattergl",
         "x": [
          "20161207",
          "20170123",
          "20170422",
          "20170525"
         ],
         "xaxis": "x",
         "y": [
          7302.001174716102,
          8581.183862257609,
          8154.789633077106,
          6236.015601764846
         ],
         "yaxis": "y"
        },
        {
         "hovertemplate": "source=search.xfinity.com<br>medium=referral<br>metric=pageviews_efficiency<br>Date=%{x}<br>Metric Value=%{y}<extra></extra>",
         "legendgroup": "search.xfinity.com, referral",
         "line": {
          "color": "#FF97FF",
          "dash": "dot"
         },
         "marker": {
          "symbol": "circle"
         },
         "mode": "lines",
         "name": "search.xfinity.com, referral",
         "showlegend": true,
         "type": "scattergl",
         "x": [
          "20161216"
         ],
         "xaxis": "x3",
         "y": [
          287.4930787656417
         ],
         "yaxis": "y3"
        },
        {
         "hovertemplate": "source=search.xfinity.com<br>medium=referral<br>metric=hits_efficiency<br>Date=%{x}<br>Metric Value=%{y}<extra></extra>",
         "legendgroup": "search.xfinity.com, referral",
         "line": {
          "color": "#FF97FF",
          "dash": "dot"
         },
         "marker": {
          "symbol": "circle"
         },
         "mode": "lines",
         "name": "search.xfinity.com, referral",
         "showlegend": false,
         "type": "scattergl",
         "x": [
          "20161216"
         ],
         "xaxis": "x2",
         "y": [
          225.88741903014704
         ],
         "yaxis": "y2"
        },
        {
         "hovertemplate": "source=search.xfinity.com<br>medium=referral<br>metric=visits_efficiency<br>Date=%{x}<br>Metric Value=%{y}<extra></extra>",
         "legendgroup": "search.xfinity.com, referral",
         "line": {
          "color": "#FF97FF",
          "dash": "dot"
         },
         "marker": {
          "symbol": "circle"
         },
         "mode": "lines",
         "name": "search.xfinity.com, referral",
         "showlegend": false,
         "type": "scattergl",
         "x": [
          "20161216"
         ],
         "xaxis": "x",
         "y": [
          9487.271599266176
         ],
         "yaxis": "y"
        },
        {
         "hovertemplate": "source=t.co<br>medium=referral<br>metric=pageviews_efficiency<br>Date=%{x}<br>Metric Value=%{y}<extra></extra>",
         "legendgroup": "t.co, referral",
         "line": {
          "color": "#FECB52",
          "dash": "dot"
         },
         "marker": {
          "symbol": "circle"
         },
         "mode": "lines",
         "name": "t.co, referral",
         "showlegend": true,
         "type": "scattergl",
         "x": [
          "20161216",
          "20161219",
          "20170404",
          "20170414",
          "20170416",
          "20170504"
         ],
         "xaxis": "x3",
         "y": [
          336.7545332732376,
          432.1048661784554,
          503.9204526678663,
          450.99389624860817,
          632.928933939808,
          271.8263211025702
         ],
         "yaxis": "y3"
        },
        {
         "hovertemplate": "source=t.co<br>medium=referral<br>metric=hits_efficiency<br>Date=%{x}<br>Metric Value=%{y}<extra></extra>",
         "legendgroup": "t.co, referral",
         "line": {
          "color": "#FECB52",
          "dash": "dot"
         },
         "marker": {
          "symbol": "circle"
         },
         "mode": "lines",
         "name": "t.co, referral",
         "showlegend": false,
         "type": "scattergl",
         "x": [
          "20161216",
          "20161219",
          "20170404",
          "20170414",
          "20170416",
          "20170504"
         ],
         "xaxis": "x2",
         "y": [
          296.3439892804491,
          390.28826622570165,
          461.92708161221077,
          418.7800465165647,
          562.6034968353848,
          201.3528304463483
         ],
         "yaxis": "y2"
        },
        {
         "hovertemplate": "source=t.co<br>medium=referral<br>metric=visits_efficiency<br>Date=%{x}<br>Metric Value=%{y}<extra></extra>",
         "legendgroup": "t.co, referral",
         "line": {
          "color": "#FECB52",
          "dash": "dot"
         },
         "marker": {
          "symbol": "circle"
         },
         "mode": "lines",
         "name": "t.co, referral",
         "showlegend": false,
         "type": "scattergl",
         "x": [
          "20161216",
          "20161219",
          "20170404",
          "20170414",
          "20170416",
          "20170504"
         ],
         "xaxis": "x",
         "y": [
          7408.599732011227,
          6049.468126498376,
          5543.1249793465295,
          5862.920651231906,
          5063.431471518464,
          10873.052844102807
         ],
         "yaxis": "y"
        },
        {
         "hovertemplate": "source=moma.corp.google.com<br>medium=referral<br>metric=pageviews_efficiency<br>Date=%{x}<br>Metric Value=%{y}<extra></extra>",
         "legendgroup": "moma.corp.google.com, referral",
         "line": {
          "color": "#636efa",
          "dash": "dot"
         },
         "marker": {
          "symbol": "circle"
         },
         "mode": "lines",
         "name": "moma.corp.google.com, referral",
         "showlegend": true,
         "type": "scattergl",
         "x": [
          "20161220"
         ],
         "xaxis": "x3",
         "y": [
          455.09384075995916
         ],
         "yaxis": "y3"
        },
        {
         "hovertemplate": "source=moma.corp.google.com<br>medium=referral<br>metric=hits_efficiency<br>Date=%{x}<br>Metric Value=%{y}<extra></extra>",
         "legendgroup": "moma.corp.google.com, referral",
         "line": {
          "color": "#636efa",
          "dash": "dot"
         },
         "marker": {
          "symbol": "circle"
         },
         "mode": "lines",
         "name": "moma.corp.google.com, referral",
         "showlegend": false,
         "type": "scattergl",
         "x": [
          "20161220"
         ],
         "xaxis": "x2",
         "y": [
          394.41466199196464
         ],
         "yaxis": "y2"
        },
        {
         "hovertemplate": "source=moma.corp.google.com<br>medium=referral<br>metric=visits_efficiency<br>Date=%{x}<br>Metric Value=%{y}<extra></extra>",
         "legendgroup": "moma.corp.google.com, referral",
         "line": {
          "color": "#636efa",
          "dash": "dot"
         },
         "marker": {
          "symbol": "circle"
         },
         "mode": "lines",
         "name": "moma.corp.google.com, referral",
         "showlegend": false,
         "type": "scattergl",
         "x": [
          "20161220"
         ],
         "xaxis": "x",
         "y": [
          5916.219929879469
         ],
         "yaxis": "y"
        },
        {
         "hovertemplate": "source=us-mg5.mail.yahoo.com<br>medium=referral<br>metric=pageviews_efficiency<br>Date=%{x}<br>Metric Value=%{y}<extra></extra>",
         "legendgroup": "us-mg5.mail.yahoo.com, referral",
         "line": {
          "color": "#EF553B",
          "dash": "dot"
         },
         "marker": {
          "symbol": "circle"
         },
         "mode": "lines",
         "name": "us-mg5.mail.yahoo.com, referral",
         "showlegend": true,
         "type": "scattergl",
         "x": [
          "20161220"
         ],
         "xaxis": "x3",
         "y": [
          412.18108820781885
         ],
         "yaxis": "y3"
        },
        {
         "hovertemplate": "source=us-mg5.mail.yahoo.com<br>medium=referral<br>metric=hits_efficiency<br>Date=%{x}<br>Metric Value=%{y}<extra></extra>",
         "legendgroup": "us-mg5.mail.yahoo.com, referral",
         "line": {
          "color": "#EF553B",
          "dash": "dot"
         },
         "marker": {
          "symbol": "circle"
         },
         "mode": "lines",
         "name": "us-mg5.mail.yahoo.com, referral",
         "showlegend": false,
         "type": "scattergl",
         "x": [
          "20161220"
         ],
         "xaxis": "x2",
         "y": [
          386.41977019483016
         ],
         "yaxis": "y2"
        },
        {
         "hovertemplate": "source=us-mg5.mail.yahoo.com<br>medium=referral<br>metric=visits_efficiency<br>Date=%{x}<br>Metric Value=%{y}<extra></extra>",
         "legendgroup": "us-mg5.mail.yahoo.com, referral",
         "line": {
          "color": "#EF553B",
          "dash": "dot"
         },
         "marker": {
          "symbol": "circle"
         },
         "mode": "lines",
         "name": "us-mg5.mail.yahoo.com, referral",
         "showlegend": false,
         "type": "scattergl",
         "x": [
          "20161220"
         ],
         "xaxis": "x",
         "y": [
          6182.716323117283
         ],
         "yaxis": "y"
        },
        {
         "hovertemplate": "source=seroundtable.com<br>medium=referral<br>metric=pageviews_efficiency<br>Date=%{x}<br>Metric Value=%{y}<extra></extra>",
         "legendgroup": "seroundtable.com, referral",
         "line": {
          "color": "#00cc96",
          "dash": "dot"
         },
         "marker": {
          "symbol": "circle"
         },
         "mode": "lines",
         "name": "seroundtable.com, referral",
         "showlegend": true,
         "type": "scattergl",
         "x": [
          "20161224"
         ],
         "xaxis": "x3",
         "y": [
          626.2665241088628
         ],
         "yaxis": "y3"
        },
        {
         "hovertemplate": "source=seroundtable.com<br>medium=referral<br>metric=hits_efficiency<br>Date=%{x}<br>Metric Value=%{y}<extra></extra>",
         "legendgroup": "seroundtable.com, referral",
         "line": {
          "color": "#00cc96",
          "dash": "dot"
         },
         "marker": {
          "symbol": "circle"
         },
         "mode": "lines",
         "name": "seroundtable.com, referral",
         "showlegend": false,
         "type": "scattergl",
         "x": [
          "20161224"
         ],
         "xaxis": "x2",
         "y": [
          626.2665241088628
         ],
         "yaxis": "y2"
        },
        {
         "hovertemplate": "source=seroundtable.com<br>medium=referral<br>metric=visits_efficiency<br>Date=%{x}<br>Metric Value=%{y}<extra></extra>",
         "legendgroup": "seroundtable.com, referral",
         "line": {
          "color": "#00cc96",
          "dash": "dot"
         },
         "marker": {
          "symbol": "circle"
         },
         "mode": "lines",
         "name": "seroundtable.com, referral",
         "showlegend": false,
         "type": "scattergl",
         "x": [
          "20161224"
         ],
         "xaxis": "x",
         "y": [
          5010.132192870902
         ],
         "yaxis": "y"
        },
        {
         "hovertemplate": "source=plus.google.com<br>medium=referral<br>metric=pageviews_efficiency<br>Date=%{x}<br>Metric Value=%{y}<extra></extra>",
         "legendgroup": "plus.google.com, referral",
         "line": {
          "color": "#ab63fa",
          "dash": "dot"
         },
         "marker": {
          "symbol": "circle"
         },
         "mode": "lines",
         "name": "plus.google.com, referral",
         "showlegend": true,
         "type": "scattergl",
         "x": [
          "20170217",
          "20170502",
          "20170526"
         ],
         "xaxis": "x3",
         "y": [
          375.1062440668098,
          346.44531120915815,
          338.33455141496376
         ],
         "yaxis": "y3"
        },
        {
         "hovertemplate": "source=plus.google.com<br>medium=referral<br>metric=hits_efficiency<br>Date=%{x}<br>Metric Value=%{y}<extra></extra>",
         "legendgroup": "plus.google.com, referral",
         "line": {
          "color": "#ab63fa",
          "dash": "dot"
         },
         "marker": {
          "symbol": "circle"
         },
         "mode": "lines",
         "name": "plus.google.com, referral",
         "showlegend": false,
         "type": "scattergl",
         "x": [
          "20170217",
          "20170502",
          "20170526"
         ],
         "xaxis": "x2",
         "y": [
          348.7829988691389,
          262.8205809172924,
          259.3898227514722
         ],
         "yaxis": "y2"
        },
        {
         "hovertemplate": "source=plus.google.com<br>medium=referral<br>metric=visits_efficiency<br>Date=%{x}<br>Metric Value=%{y}<extra></extra>",
         "legendgroup": "plus.google.com, referral",
         "line": {
          "color": "#ab63fa",
          "dash": "dot"
         },
         "marker": {
          "symbol": "circle"
         },
         "mode": "lines",
         "name": "plus.google.com, referral",
         "showlegend": false,
         "type": "scattergl",
         "x": [
          "20170217",
          "20170502",
          "20170526"
         ],
         "xaxis": "x",
         "y": [
          6626.876978513639,
          7621.796846601479,
          7781.694682544166
         ],
         "yaxis": "y"
        },
        {
         "hovertemplate": "source=l.messenger.com<br>medium=referral<br>metric=pageviews_efficiency<br>Date=%{x}<br>Metric Value=%{y}<extra></extra>",
         "legendgroup": "l.messenger.com, referral",
         "line": {
          "color": "#FFA15A",
          "dash": "dot"
         },
         "marker": {
          "symbol": "circle"
         },
         "mode": "lines",
         "name": "l.messenger.com, referral",
         "showlegend": true,
         "type": "scattergl",
         "x": [
          "20170321"
         ],
         "xaxis": "x3",
         "y": [
          459.19378527131016
         ],
         "yaxis": "y3"
        },
        {
         "hovertemplate": "source=l.messenger.com<br>medium=referral<br>metric=hits_efficiency<br>Date=%{x}<br>Metric Value=%{y}<extra></extra>",
         "legendgroup": "l.messenger.com, referral",
         "line": {
          "color": "#FFA15A",
          "dash": "dot"
         },
         "marker": {
          "symbol": "circle"
         },
         "mode": "lines",
         "name": "l.messenger.com, referral",
         "showlegend": false,
         "type": "scattergl",
         "x": [
          "20170321"
         ],
         "xaxis": "x2",
         "y": [
          373.0949505329395
         ],
         "yaxis": "y2"
        },
        {
         "hovertemplate": "source=l.messenger.com<br>medium=referral<br>metric=visits_efficiency<br>Date=%{x}<br>Metric Value=%{y}<extra></extra>",
         "legendgroup": "l.messenger.com, referral",
         "line": {
          "color": "#FFA15A",
          "dash": "dot"
         },
         "marker": {
          "symbol": "circle"
         },
         "mode": "lines",
         "name": "l.messenger.com, referral",
         "showlegend": false,
         "type": "scattergl",
         "x": [
          "20170321"
         ],
         "xaxis": "x",
         "y": [
          5969.519208527032
         ],
         "yaxis": "y"
        },
        {
         "hovertemplate": "source=gdeals.googleplex.com<br>medium=referral<br>metric=pageviews_efficiency<br>Date=%{x}<br>Metric Value=%{y}<extra></extra>",
         "legendgroup": "gdeals.googleplex.com, referral",
         "line": {
          "color": "#19d3f3",
          "dash": "dot"
         },
         "marker": {
          "symbol": "circle"
         },
         "mode": "lines",
         "name": "gdeals.googleplex.com, referral",
         "showlegend": true,
         "type": "scattergl",
         "x": [
          "20170421",
          "20170428",
          "20170501",
          "20170504",
          "20170508",
          "20170511",
          "20170531",
          "20170602",
          "20170613",
          "20170618",
          "20170625",
          "20170704",
          "20170707",
          "20170714",
          "20170726",
          "20170730"
         ],
         "xaxis": "x3",
         "y": [
          488.57672093599217,
          503.9204526678663,
          391.90646064384396,
          412.18108820781885,
          337.1758714443646,
          376.0560215689152,
          508.76584163582663,
          434.00841184443976,
          317.574868608395,
          266.49639323781395,
          290.72333807761515,
          362.9427069810228,
          365.1000587358051,
          503.9204526678663,
          271.2341068953751,
          241.51235637176885
         ],
         "yaxis": "y3"
        },
        {
         "hovertemplate": "source=gdeals.googleplex.com<br>medium=referral<br>metric=hits_efficiency<br>Date=%{x}<br>Metric Value=%{y}<extra></extra>",
         "legendgroup": "gdeals.googleplex.com, referral",
         "line": {
          "color": "#19d3f3",
          "dash": "dot"
         },
         "marker": {
          "symbol": "circle"
         },
         "mode": "lines",
         "name": "gdeals.googleplex.com, referral",
         "showlegend": false,
         "type": "scattergl",
         "x": [
          "20170421",
          "20170428",
          "20170501",
          "20170504",
          "20170508",
          "20170511",
          "20170531",
          "20170602",
          "20170613",
          "20170618",
          "20170625",
          "20170704",
          "20170707",
          "20170714",
          "20170726",
          "20170730"
         ],
         "xaxis": "x2",
         "y": [
          366.4325407019941,
          461.92708161221077,
          317.2576109973975,
          386.41977019483016,
          262.88288282103,
          322.33373277335585,
          430.4941736918533,
          379.7573603638848,
          304.8718738640592,
          221.1353050271222,
          218.0425035582114,
          245.86441440649932,
          270.4444879524482,
          461.92708161221077,
          176.89180884480982,
          168.00859573688268
         ],
         "yaxis": "y2"
        },
        {
         "hovertemplate": "source=gdeals.googleplex.com<br>medium=referral<br>metric=visits_efficiency<br>Date=%{x}<br>Metric Value=%{y}<extra></extra>",
         "legendgroup": "gdeals.googleplex.com, referral",
         "line": {
          "color": "#19d3f3",
          "dash": "dot"
         },
         "marker": {
          "symbol": "circle"
         },
         "mode": "lines",
         "name": "gdeals.googleplex.com, referral",
         "showlegend": false,
         "type": "scattergl",
         "x": [
          "20170421",
          "20170428",
          "20170501",
          "20170504",
          "20170508",
          "20170511",
          "20170531",
          "20170602",
          "20170613",
          "20170618",
          "20170625",
          "20170704",
          "20170707",
          "20170714",
          "20170726",
          "20170730"
         ],
         "xaxis": "x",
         "y": [
          5862.920651231906,
          5543.1249793465295,
          6662.4098309453475,
          6182.716323117283,
          7755.045043220385,
          6769.008388240473,
          5596.424257994093,
          6076.117765822157,
          7621.796846601479,
          10393.359336274743,
          9593.870156561301,
          7621.796846601479,
          7302.001174716102,
          5543.1249793465295,
          12205.534810291878,
          15456.790807793206
         ],
         "yaxis": "y"
        },
        {
         "hovertemplate": "source=docs.google.com<br>medium=referral<br>metric=pageviews_efficiency<br>Date=%{x}<br>Metric Value=%{y}<extra></extra>",
         "legendgroup": "docs.google.com, referral",
         "line": {
          "color": "#FF6692",
          "dash": "dot"
         },
         "marker": {
          "symbol": "circle"
         },
         "mode": "lines",
         "name": "docs.google.com, referral",
         "showlegend": true,
         "type": "scattergl",
         "x": [
          "20170502"
         ],
         "xaxis": "x3",
         "y": [
          379.3654539032409
         ],
         "yaxis": "y3"
        },
        {
         "hovertemplate": "source=docs.google.com<br>medium=referral<br>metric=hits_efficiency<br>Date=%{x}<br>Metric Value=%{y}<extra></extra>",
         "legendgroup": "docs.google.com, referral",
         "line": {
          "color": "#FF6692",
          "dash": "dot"
         },
         "marker": {
          "symbol": "circle"
         },
         "mode": "lines",
         "name": "docs.google.com, referral",
         "showlegend": false,
         "type": "scattergl",
         "x": [
          "20170502"
         ],
         "xaxis": "x2",
         "y": [
          379.3654539032409
         ],
         "yaxis": "y2"
        },
        {
         "hovertemplate": "source=docs.google.com<br>medium=referral<br>metric=visits_efficiency<br>Date=%{x}<br>Metric Value=%{y}<extra></extra>",
         "legendgroup": "docs.google.com, referral",
         "line": {
          "color": "#FF6692",
          "dash": "dot"
         },
         "marker": {
          "symbol": "circle"
         },
         "mode": "lines",
         "name": "docs.google.com, referral",
         "showlegend": false,
         "type": "scattergl",
         "x": [
          "20170502"
         ],
         "xaxis": "x",
         "y": [
          6449.212716355096
         ],
         "yaxis": "y"
        },
        {
         "hovertemplate": "source=reddit.com<br>medium=referral<br>metric=pageviews_efficiency<br>Date=%{x}<br>Metric Value=%{y}<extra></extra>",
         "legendgroup": "reddit.com, referral",
         "line": {
          "color": "#B6E880",
          "dash": "dot"
         },
         "marker": {
          "symbol": "circle"
         },
         "mode": "lines",
         "name": "reddit.com, referral",
         "showlegend": true,
         "type": "scattergl",
         "x": [
          "20170515"
         ],
         "xaxis": "x3",
         "y": [
          398.1769640141455
         ],
         "yaxis": "y3"
        },
        {
         "hovertemplate": "source=reddit.com<br>medium=referral<br>metric=hits_efficiency<br>Date=%{x}<br>Metric Value=%{y}<extra></extra>",
         "legendgroup": "reddit.com, referral",
         "line": {
          "color": "#B6E880",
          "dash": "dot"
         },
         "marker": {
          "symbol": "circle"
         },
         "mode": "lines",
         "name": "reddit.com, referral",
         "showlegend": false,
         "type": "scattergl",
         "x": [
          "20170515"
         ],
         "xaxis": "x2",
         "y": [
          294.3047125321945
         ],
         "yaxis": "y2"
        },
        {
         "hovertemplate": "source=reddit.com<br>medium=referral<br>metric=visits_efficiency<br>Date=%{x}<br>Metric Value=%{y}<extra></extra>",
         "legendgroup": "reddit.com, referral",
         "line": {
          "color": "#B6E880",
          "dash": "dot"
         },
         "marker": {
          "symbol": "circle"
         },
         "mode": "lines",
         "name": "reddit.com, referral",
         "showlegend": false,
         "type": "scattergl",
         "x": [
          "20170515"
         ],
         "xaxis": "x",
         "y": [
          6769.008388240473
         ],
         "yaxis": "y"
        },
        {
         "hovertemplate": "source=duckduckgo.com<br>medium=referral<br>metric=pageviews_efficiency<br>Date=%{x}<br>Metric Value=%{y}<extra></extra>",
         "legendgroup": "duckduckgo.com, referral",
         "line": {
          "color": "#FF97FF",
          "dash": "dot"
         },
         "marker": {
          "symbol": "circle"
         },
         "mode": "lines",
         "name": "duckduckgo.com, referral",
         "showlegend": true,
         "type": "scattergl",
         "x": [
          "20170519"
         ],
         "xaxis": "x3",
         "y": [
          289.81482764612264
         ],
         "yaxis": "y3"
        },
        {
         "hovertemplate": "source=duckduckgo.com<br>medium=referral<br>metric=hits_efficiency<br>Date=%{x}<br>Metric Value=%{y}<extra></extra>",
         "legendgroup": "duckduckgo.com, referral",
         "line": {
          "color": "#FF97FF",
          "dash": "dot"
         },
         "marker": {
          "symbol": "circle"
         },
         "mode": "lines",
         "name": "duckduckgo.com, referral",
         "showlegend": false,
         "type": "scattergl",
         "x": [
          "20170519"
         ],
         "xaxis": "x2",
         "y": [
          231.8518621168981
         ],
         "yaxis": "y2"
        },
        {
         "hovertemplate": "source=duckduckgo.com<br>medium=referral<br>metric=visits_efficiency<br>Date=%{x}<br>Metric Value=%{y}<extra></extra>",
         "legendgroup": "duckduckgo.com, referral",
         "line": {
          "color": "#FF97FF",
          "dash": "dot"
         },
         "marker": {
          "symbol": "circle"
         },
         "mode": "lines",
         "name": "duckduckgo.com, referral",
         "showlegend": false,
         "type": "scattergl",
         "x": [
          "20170519"
         ],
         "xaxis": "x",
         "y": [
          9274.074484675924
         ],
         "yaxis": "y"
        },
        {
         "hovertemplate": "source=chat.google.com<br>medium=referral<br>metric=pageviews_efficiency<br>Date=%{x}<br>Metric Value=%{y}<extra></extra>",
         "legendgroup": "chat.google.com, referral",
         "line": {
          "color": "#FECB52",
          "dash": "dot"
         },
         "marker": {
          "symbol": "circle"
         },
         "mode": "lines",
         "name": "chat.google.com, referral",
         "showlegend": true,
         "type": "scattergl",
         "x": [
          "20170605"
         ],
         "xaxis": "x3",
         "y": [
          297.74079796224726
         ],
         "yaxis": "y3"
        },
        {
         "hovertemplate": "source=chat.google.com<br>medium=referral<br>metric=hits_efficiency<br>Date=%{x}<br>Metric Value=%{y}<extra></extra>",
         "legendgroup": "chat.google.com, referral",
         "line": {
          "color": "#FECB52",
          "dash": "dot"
         },
         "marker": {
          "symbol": "circle"
         },
         "mode": "lines",
         "name": "chat.google.com, referral",
         "showlegend": false,
         "type": "scattergl",
         "x": [
          "20170605"
         ],
         "xaxis": "x2",
         "y": [
          253.95538649721092
         ],
         "yaxis": "y2"
        },
        {
         "hovertemplate": "source=chat.google.com<br>medium=referral<br>metric=visits_efficiency<br>Date=%{x}<br>Metric Value=%{y}<extra></extra>",
         "legendgroup": "chat.google.com, referral",
         "line": {
          "color": "#FECB52",
          "dash": "dot"
         },
         "marker": {
          "symbol": "circle"
         },
         "mode": "lines",
         "name": "chat.google.com, referral",
         "showlegend": false,
         "type": "scattergl",
         "x": [
          "20170605"
         ],
         "xaxis": "x",
         "y": [
          8634.483140905171
         ],
         "yaxis": "y"
        },
        {
         "hovertemplate": "source=search.myway.com<br>medium=referral<br>metric=pageviews_efficiency<br>Date=%{x}<br>Metric Value=%{y}<extra></extra>",
         "legendgroup": "search.myway.com, referral",
         "line": {
          "color": "#636efa",
          "dash": "dot"
         },
         "marker": {
          "symbol": "circle"
         },
         "mode": "lines",
         "name": "search.myway.com, referral",
         "showlegend": true,
         "type": "scattergl",
         "x": [
          "20170605"
         ],
         "xaxis": "x3",
         "y": [
          351.2907001771183
         ],
         "yaxis": "y3"
        },
        {
         "hovertemplate": "source=search.myway.com<br>medium=referral<br>metric=hits_efficiency<br>Date=%{x}<br>Metric Value=%{y}<extra></extra>",
         "legendgroup": "search.myway.com, referral",
         "line": {
          "color": "#636efa",
          "dash": "dot"
         },
         "marker": {
          "symbol": "circle"
         },
         "mode": "lines",
         "name": "search.myway.com, referral",
         "showlegend": false,
         "type": "scattergl",
         "x": [
          "20170605"
         ],
         "xaxis": "x2",
         "y": [
          249.3030775450517
         ],
         "yaxis": "y2"
        },
        {
         "hovertemplate": "source=search.myway.com<br>medium=referral<br>metric=visits_efficiency<br>Date=%{x}<br>Metric Value=%{y}<extra></extra>",
         "legendgroup": "search.myway.com, referral",
         "line": {
          "color": "#636efa",
          "dash": "dot"
         },
         "marker": {
          "symbol": "circle"
         },
         "mode": "lines",
         "name": "search.myway.com, referral",
         "showlegend": false,
         "type": "scattergl",
         "x": [
          "20170605"
         ],
         "xaxis": "x",
         "y": [
          7728.395403896603
         ],
         "yaxis": "y"
        },
        {
         "hovertemplate": "source=mail.aol.com<br>medium=referral<br>metric=pageviews_efficiency<br>Date=%{x}<br>Metric Value=%{y}<extra></extra>",
         "legendgroup": "mail.aol.com, referral",
         "line": {
          "color": "#EF553B",
          "dash": "dot"
         },
         "marker": {
          "symbol": "circle"
         },
         "mode": "lines",
         "name": "mail.aol.com, referral",
         "showlegend": true,
         "type": "scattergl",
         "x": [
          "20170621"
         ],
         "xaxis": "x3",
         "y": [
          292.2863667769572
         ],
         "yaxis": "y3"
        },
        {
         "hovertemplate": "source=mail.aol.com<br>medium=referral<br>metric=hits_efficiency<br>Date=%{x}<br>Metric Value=%{y}<extra></extra>",
         "legendgroup": "mail.aol.com, referral",
         "line": {
          "color": "#EF553B",
          "dash": "dot"
         },
         "marker": {
          "symbol": "circle"
         },
         "mode": "lines",
         "name": "mail.aol.com, referral",
         "showlegend": false,
         "type": "scattergl",
         "x": [
          "20170621"
         ],
         "xaxis": "x2",
         "y": [
          238.44414131804402
         ],
         "yaxis": "y2"
        },
        {
         "hovertemplate": "source=mail.aol.com<br>medium=referral<br>metric=visits_efficiency<br>Date=%{x}<br>Metric Value=%{y}<extra></extra>",
         "legendgroup": "mail.aol.com, referral",
         "line": {
          "color": "#EF553B",
          "dash": "dot"
         },
         "marker": {
          "symbol": "circle"
         },
         "mode": "lines",
         "name": "mail.aol.com, referral",
         "showlegend": false,
         "type": "scattergl",
         "x": [
          "20170621"
         ],
         "xaxis": "x",
         "y": [
          9060.877370085673
         ],
         "yaxis": "y"
        },
        {
         "hovertemplate": "source=outlook.live.com<br>medium=referral<br>metric=pageviews_efficiency<br>Date=%{x}<br>Metric Value=%{y}<extra></extra>",
         "legendgroup": "outlook.live.com, referral",
         "line": {
          "color": "#00cc96",
          "dash": "dot"
         },
         "marker": {
          "symbol": "circle"
         },
         "mode": "lines",
         "name": "outlook.live.com, referral",
         "showlegend": true,
         "type": "scattergl",
         "x": [
          "20170705"
         ],
         "xaxis": "x3",
         "y": [
          379.01709260489093
         ],
         "yaxis": "y3"
        },
        {
         "hovertemplate": "source=outlook.live.com<br>medium=referral<br>metric=hits_efficiency<br>Date=%{x}<br>Metric Value=%{y}<extra></extra>",
         "legendgroup": "outlook.live.com, referral",
         "line": {
          "color": "#00cc96",
          "dash": "dot"
         },
         "marker": {
          "symbol": "circle"
         },
         "mode": "lines",
         "name": "outlook.live.com, referral",
         "showlegend": false,
         "type": "scattergl",
         "x": [
          "20170705"
         ],
         "xaxis": "x2",
         "y": [
          310.1048939494562
         ],
         "yaxis": "y2"
        },
        {
         "hovertemplate": "source=outlook.live.com<br>medium=referral<br>metric=visits_efficiency<br>Date=%{x}<br>Metric Value=%{y}<extra></extra>",
         "legendgroup": "outlook.live.com, referral",
         "line": {
          "color": "#00cc96",
          "dash": "dot"
         },
         "marker": {
          "symbol": "circle"
         },
         "mode": "lines",
         "name": "outlook.live.com, referral",
         "showlegend": false,
         "type": "scattergl",
         "x": [
          "20170705"
         ],
         "xaxis": "x",
         "y": [
          6822.307666888037
         ],
         "yaxis": "y"
        },
        {
         "hovertemplate": "source=calendar.google.com<br>medium=referral<br>metric=pageviews_efficiency<br>Date=%{x}<br>Metric Value=%{y}<extra></extra>",
         "legendgroup": "calendar.google.com, referral",
         "line": {
          "color": "#ab63fa",
          "dash": "dot"
         },
         "marker": {
          "symbol": "circle"
         },
         "mode": "lines",
         "name": "calendar.google.com, referral",
         "showlegend": true,
         "type": "scattergl",
         "x": [
          "20170707"
         ],
         "xaxis": "x3",
         "y": [
          274.2962876740426
         ],
         "yaxis": "y3"
        },
        {
         "hovertemplate": "source=calendar.google.com<br>medium=referral<br>metric=hits_efficiency<br>Date=%{x}<br>Metric Value=%{y}<extra></extra>",
         "legendgroup": "calendar.google.com, referral",
         "line": {
          "color": "#ab63fa",
          "dash": "dot"
         },
         "marker": {
          "symbol": "circle"
         },
         "mode": "lines",
         "name": "calendar.google.com, referral",
         "showlegend": false,
         "type": "scattergl",
         "x": [
          "20170707"
         ],
         "xaxis": "x2",
         "y": [
          190.61267448535168
         ],
         "yaxis": "y2"
        },
        {
         "hovertemplate": "source=calendar.google.com<br>medium=referral<br>metric=visits_efficiency<br>Date=%{x}<br>Metric Value=%{y}<extra></extra>",
         "legendgroup": "calendar.google.com, referral",
         "line": {
          "color": "#ab63fa",
          "dash": "dot"
         },
         "marker": {
          "symbol": "circle"
         },
         "mode": "lines",
         "name": "calendar.google.com, referral",
         "showlegend": false,
         "type": "scattergl",
         "x": [
          "20170707"
         ],
         "xaxis": "x",
         "y": [
          11246.147794635748
         ],
         "yaxis": "y"
        }
       ],
       "layout": {
        "annotations": [
         {
          "font": {},
          "showarrow": false,
          "text": "metric=visits_efficiency",
          "textangle": 90,
          "x": 0.98,
          "xanchor": "left",
          "xref": "paper",
          "y": 0.15666666666666665,
          "yanchor": "middle",
          "yref": "paper"
         },
         {
          "font": {},
          "showarrow": false,
          "text": "metric=hits_efficiency",
          "textangle": 90,
          "x": 0.98,
          "xanchor": "left",
          "xref": "paper",
          "y": 0.4999999999999999,
          "yanchor": "middle",
          "yref": "paper"
         },
         {
          "font": {},
          "showarrow": false,
          "text": "metric=pageviews_efficiency",
          "textangle": 90,
          "x": 0.98,
          "xanchor": "left",
          "xref": "paper",
          "y": 0.8433333333333332,
          "yanchor": "middle",
          "yref": "paper"
         }
        ],
        "height": 900,
        "legend": {
         "title": {
          "text": "Source"
         },
         "tracegroupgap": 0
        },
        "margin": {
         "t": 60
        },
        "template": {
         "data": {
          "bar": [
           {
            "error_x": {
             "color": "#2a3f5f"
            },
            "error_y": {
             "color": "#2a3f5f"
            },
            "marker": {
             "line": {
              "color": "#E5ECF6",
              "width": 0.5
             },
             "pattern": {
              "fillmode": "overlay",
              "size": 10,
              "solidity": 0.2
             }
            },
            "type": "bar"
           }
          ],
          "barpolar": [
           {
            "marker": {
             "line": {
              "color": "#E5ECF6",
              "width": 0.5
             },
             "pattern": {
              "fillmode": "overlay",
              "size": 10,
              "solidity": 0.2
             }
            },
            "type": "barpolar"
           }
          ],
          "carpet": [
           {
            "aaxis": {
             "endlinecolor": "#2a3f5f",
             "gridcolor": "white",
             "linecolor": "white",
             "minorgridcolor": "white",
             "startlinecolor": "#2a3f5f"
            },
            "baxis": {
             "endlinecolor": "#2a3f5f",
             "gridcolor": "white",
             "linecolor": "white",
             "minorgridcolor": "white",
             "startlinecolor": "#2a3f5f"
            },
            "type": "carpet"
           }
          ],
          "choropleth": [
           {
            "colorbar": {
             "outlinewidth": 0,
             "ticks": ""
            },
            "type": "choropleth"
           }
          ],
          "contour": [
           {
            "colorbar": {
             "outlinewidth": 0,
             "ticks": ""
            },
            "colorscale": [
             [
              0,
              "#0d0887"
             ],
             [
              0.1111111111111111,
              "#46039f"
             ],
             [
              0.2222222222222222,
              "#7201a8"
             ],
             [
              0.3333333333333333,
              "#9c179e"
             ],
             [
              0.4444444444444444,
              "#bd3786"
             ],
             [
              0.5555555555555556,
              "#d8576b"
             ],
             [
              0.6666666666666666,
              "#ed7953"
             ],
             [
              0.7777777777777778,
              "#fb9f3a"
             ],
             [
              0.8888888888888888,
              "#fdca26"
             ],
             [
              1,
              "#f0f921"
             ]
            ],
            "type": "contour"
           }
          ],
          "contourcarpet": [
           {
            "colorbar": {
             "outlinewidth": 0,
             "ticks": ""
            },
            "type": "contourcarpet"
           }
          ],
          "heatmap": [
           {
            "colorbar": {
             "outlinewidth": 0,
             "ticks": ""
            },
            "colorscale": [
             [
              0,
              "#0d0887"
             ],
             [
              0.1111111111111111,
              "#46039f"
             ],
             [
              0.2222222222222222,
              "#7201a8"
             ],
             [
              0.3333333333333333,
              "#9c179e"
             ],
             [
              0.4444444444444444,
              "#bd3786"
             ],
             [
              0.5555555555555556,
              "#d8576b"
             ],
             [
              0.6666666666666666,
              "#ed7953"
             ],
             [
              0.7777777777777778,
              "#fb9f3a"
             ],
             [
              0.8888888888888888,
              "#fdca26"
             ],
             [
              1,
              "#f0f921"
             ]
            ],
            "type": "heatmap"
           }
          ],
          "heatmapgl": [
           {
            "colorbar": {
             "outlinewidth": 0,
             "ticks": ""
            },
            "colorscale": [
             [
              0,
              "#0d0887"
             ],
             [
              0.1111111111111111,
              "#46039f"
             ],
             [
              0.2222222222222222,
              "#7201a8"
             ],
             [
              0.3333333333333333,
              "#9c179e"
             ],
             [
              0.4444444444444444,
              "#bd3786"
             ],
             [
              0.5555555555555556,
              "#d8576b"
             ],
             [
              0.6666666666666666,
              "#ed7953"
             ],
             [
              0.7777777777777778,
              "#fb9f3a"
             ],
             [
              0.8888888888888888,
              "#fdca26"
             ],
             [
              1,
              "#f0f921"
             ]
            ],
            "type": "heatmapgl"
           }
          ],
          "histogram": [
           {
            "marker": {
             "pattern": {
              "fillmode": "overlay",
              "size": 10,
              "solidity": 0.2
             }
            },
            "type": "histogram"
           }
          ],
          "histogram2d": [
           {
            "colorbar": {
             "outlinewidth": 0,
             "ticks": ""
            },
            "colorscale": [
             [
              0,
              "#0d0887"
             ],
             [
              0.1111111111111111,
              "#46039f"
             ],
             [
              0.2222222222222222,
              "#7201a8"
             ],
             [
              0.3333333333333333,
              "#9c179e"
             ],
             [
              0.4444444444444444,
              "#bd3786"
             ],
             [
              0.5555555555555556,
              "#d8576b"
             ],
             [
              0.6666666666666666,
              "#ed7953"
             ],
             [
              0.7777777777777778,
              "#fb9f3a"
             ],
             [
              0.8888888888888888,
              "#fdca26"
             ],
             [
              1,
              "#f0f921"
             ]
            ],
            "type": "histogram2d"
           }
          ],
          "histogram2dcontour": [
           {
            "colorbar": {
             "outlinewidth": 0,
             "ticks": ""
            },
            "colorscale": [
             [
              0,
              "#0d0887"
             ],
             [
              0.1111111111111111,
              "#46039f"
             ],
             [
              0.2222222222222222,
              "#7201a8"
             ],
             [
              0.3333333333333333,
              "#9c179e"
             ],
             [
              0.4444444444444444,
              "#bd3786"
             ],
             [
              0.5555555555555556,
              "#d8576b"
             ],
             [
              0.6666666666666666,
              "#ed7953"
             ],
             [
              0.7777777777777778,
              "#fb9f3a"
             ],
             [
              0.8888888888888888,
              "#fdca26"
             ],
             [
              1,
              "#f0f921"
             ]
            ],
            "type": "histogram2dcontour"
           }
          ],
          "mesh3d": [
           {
            "colorbar": {
             "outlinewidth": 0,
             "ticks": ""
            },
            "type": "mesh3d"
           }
          ],
          "parcoords": [
           {
            "line": {
             "colorbar": {
              "outlinewidth": 0,
              "ticks": ""
             }
            },
            "type": "parcoords"
           }
          ],
          "pie": [
           {
            "automargin": true,
            "type": "pie"
           }
          ],
          "scatter": [
           {
            "fillpattern": {
             "fillmode": "overlay",
             "size": 10,
             "solidity": 0.2
            },
            "type": "scatter"
           }
          ],
          "scatter3d": [
           {
            "line": {
             "colorbar": {
              "outlinewidth": 0,
              "ticks": ""
             }
            },
            "marker": {
             "colorbar": {
              "outlinewidth": 0,
              "ticks": ""
             }
            },
            "type": "scatter3d"
           }
          ],
          "scattercarpet": [
           {
            "marker": {
             "colorbar": {
              "outlinewidth": 0,
              "ticks": ""
             }
            },
            "type": "scattercarpet"
           }
          ],
          "scattergeo": [
           {
            "marker": {
             "colorbar": {
              "outlinewidth": 0,
              "ticks": ""
             }
            },
            "type": "scattergeo"
           }
          ],
          "scattergl": [
           {
            "marker": {
             "colorbar": {
              "outlinewidth": 0,
              "ticks": ""
             }
            },
            "type": "scattergl"
           }
          ],
          "scattermapbox": [
           {
            "marker": {
             "colorbar": {
              "outlinewidth": 0,
              "ticks": ""
             }
            },
            "type": "scattermapbox"
           }
          ],
          "scatterpolar": [
           {
            "marker": {
             "colorbar": {
              "outlinewidth": 0,
              "ticks": ""
             }
            },
            "type": "scatterpolar"
           }
          ],
          "scatterpolargl": [
           {
            "marker": {
             "colorbar": {
              "outlinewidth": 0,
              "ticks": ""
             }
            },
            "type": "scatterpolargl"
           }
          ],
          "scatterternary": [
           {
            "marker": {
             "colorbar": {
              "outlinewidth": 0,
              "ticks": ""
             }
            },
            "type": "scatterternary"
           }
          ],
          "surface": [
           {
            "colorbar": {
             "outlinewidth": 0,
             "ticks": ""
            },
            "colorscale": [
             [
              0,
              "#0d0887"
             ],
             [
              0.1111111111111111,
              "#46039f"
             ],
             [
              0.2222222222222222,
              "#7201a8"
             ],
             [
              0.3333333333333333,
              "#9c179e"
             ],
             [
              0.4444444444444444,
              "#bd3786"
             ],
             [
              0.5555555555555556,
              "#d8576b"
             ],
             [
              0.6666666666666666,
              "#ed7953"
             ],
             [
              0.7777777777777778,
              "#fb9f3a"
             ],
             [
              0.8888888888888888,
              "#fdca26"
             ],
             [
              1,
              "#f0f921"
             ]
            ],
            "type": "surface"
           }
          ],
          "table": [
           {
            "cells": {
             "fill": {
              "color": "#EBF0F8"
             },
             "line": {
              "color": "white"
             }
            },
            "header": {
             "fill": {
              "color": "#C8D4E3"
             },
             "line": {
              "color": "white"
             }
            },
            "type": "table"
           }
          ]
         },
         "layout": {
          "annotationdefaults": {
           "arrowcolor": "#2a3f5f",
           "arrowhead": 0,
           "arrowwidth": 1
          },
          "autotypenumbers": "strict",
          "coloraxis": {
           "colorbar": {
            "outlinewidth": 0,
            "ticks": ""
           }
          },
          "colorscale": {
           "diverging": [
            [
             0,
             "#8e0152"
            ],
            [
             0.1,
             "#c51b7d"
            ],
            [
             0.2,
             "#de77ae"
            ],
            [
             0.3,
             "#f1b6da"
            ],
            [
             0.4,
             "#fde0ef"
            ],
            [
             0.5,
             "#f7f7f7"
            ],
            [
             0.6,
             "#e6f5d0"
            ],
            [
             0.7,
             "#b8e186"
            ],
            [
             0.8,
             "#7fbc41"
            ],
            [
             0.9,
             "#4d9221"
            ],
            [
             1,
             "#276419"
            ]
           ],
           "sequential": [
            [
             0,
             "#0d0887"
            ],
            [
             0.1111111111111111,
             "#46039f"
            ],
            [
             0.2222222222222222,
             "#7201a8"
            ],
            [
             0.3333333333333333,
             "#9c179e"
            ],
            [
             0.4444444444444444,
             "#bd3786"
            ],
            [
             0.5555555555555556,
             "#d8576b"
            ],
            [
             0.6666666666666666,
             "#ed7953"
            ],
            [
             0.7777777777777778,
             "#fb9f3a"
            ],
            [
             0.8888888888888888,
             "#fdca26"
            ],
            [
             1,
             "#f0f921"
            ]
           ],
           "sequentialminus": [
            [
             0,
             "#0d0887"
            ],
            [
             0.1111111111111111,
             "#46039f"
            ],
            [
             0.2222222222222222,
             "#7201a8"
            ],
            [
             0.3333333333333333,
             "#9c179e"
            ],
            [
             0.4444444444444444,
             "#bd3786"
            ],
            [
             0.5555555555555556,
             "#d8576b"
            ],
            [
             0.6666666666666666,
             "#ed7953"
            ],
            [
             0.7777777777777778,
             "#fb9f3a"
            ],
            [
             0.8888888888888888,
             "#fdca26"
            ],
            [
             1,
             "#f0f921"
            ]
           ]
          },
          "colorway": [
           "#636efa",
           "#EF553B",
           "#00cc96",
           "#ab63fa",
           "#FFA15A",
           "#19d3f3",
           "#FF6692",
           "#B6E880",
           "#FF97FF",
           "#FECB52"
          ],
          "font": {
           "color": "#2a3f5f"
          },
          "geo": {
           "bgcolor": "white",
           "lakecolor": "white",
           "landcolor": "#E5ECF6",
           "showlakes": true,
           "showland": true,
           "subunitcolor": "white"
          },
          "hoverlabel": {
           "align": "left"
          },
          "hovermode": "closest",
          "mapbox": {
           "style": "light"
          },
          "paper_bgcolor": "white",
          "plot_bgcolor": "#E5ECF6",
          "polar": {
           "angularaxis": {
            "gridcolor": "white",
            "linecolor": "white",
            "ticks": ""
           },
           "bgcolor": "#E5ECF6",
           "radialaxis": {
            "gridcolor": "white",
            "linecolor": "white",
            "ticks": ""
           }
          },
          "scene": {
           "xaxis": {
            "backgroundcolor": "#E5ECF6",
            "gridcolor": "white",
            "gridwidth": 2,
            "linecolor": "white",
            "showbackground": true,
            "ticks": "",
            "zerolinecolor": "white"
           },
           "yaxis": {
            "backgroundcolor": "#E5ECF6",
            "gridcolor": "white",
            "gridwidth": 2,
            "linecolor": "white",
            "showbackground": true,
            "ticks": "",
            "zerolinecolor": "white"
           },
           "zaxis": {
            "backgroundcolor": "#E5ECF6",
            "gridcolor": "white",
            "gridwidth": 2,
            "linecolor": "white",
            "showbackground": true,
            "ticks": "",
            "zerolinecolor": "white"
           }
          },
          "shapedefaults": {
           "line": {
            "color": "#2a3f5f"
           }
          },
          "ternary": {
           "aaxis": {
            "gridcolor": "white",
            "linecolor": "white",
            "ticks": ""
           },
           "baxis": {
            "gridcolor": "white",
            "linecolor": "white",
            "ticks": ""
           },
           "bgcolor": "#E5ECF6",
           "caxis": {
            "gridcolor": "white",
            "linecolor": "white",
            "ticks": ""
           }
          },
          "title": {
           "x": 0.05
          },
          "xaxis": {
           "automargin": true,
           "gridcolor": "white",
           "linecolor": "white",
           "ticks": "",
           "title": {
            "standoff": 15
           },
           "zerolinecolor": "white",
           "zerolinewidth": 2
          },
          "yaxis": {
           "automargin": true,
           "gridcolor": "white",
           "linecolor": "white",
           "ticks": "",
           "title": {
            "standoff": 15
           },
           "zerolinecolor": "white",
           "zerolinewidth": 2
          }
         }
        },
        "xaxis": {
         "anchor": "y",
         "domain": [
          0,
          0.98
         ],
         "tickangle": 45,
         "title": {
          "text": "Date"
         }
        },
        "xaxis2": {
         "anchor": "y2",
         "domain": [
          0,
          0.98
         ],
         "matches": "x",
         "showticklabels": false
        },
        "xaxis3": {
         "anchor": "y3",
         "domain": [
          0,
          0.98
         ],
         "matches": "x",
         "showticklabels": false
        },
        "yaxis": {
         "anchor": "x",
         "domain": [
          0,
          0.3133333333333333
         ],
         "title": {
          "text": "Metric Value"
         }
        },
        "yaxis2": {
         "anchor": "x2",
         "domain": [
          0.34333333333333327,
          0.6566666666666665
         ],
         "matches": "y",
         "title": {
          "text": "Metric Value"
         }
        },
        "yaxis3": {
         "anchor": "x3",
         "domain": [
          0.6866666666666665,
          0.9999999999999998
         ],
         "matches": "y",
         "title": {
          "text": "Metric Value"
         }
        }
       }
      }
     },
     "metadata": {},
     "output_type": "display_data"
    }
   ],
   "source": [
    "import plotly.express as px\n",
    "\n",
    "fig = px.line(melted_agg_df,\n",
    "        x='date',\n",
    "        y='value',\n",
    "        color = 'source',\n",
    "        line_dash = 'medium',\n",
    "        facet_row = 'metric',\n",
    "        labels = {'value':'Metric Value', 'date':'Date'})\n",
    "fig.update_layout(\n",
    "    height = 900,\n",
    "    legend_title_text = 'Source',\n",
    "    xaxis = dict(tickangle=45))\n",
    "fig.show()"
   ]
  },
  {
   "cell_type": "code",
   "execution_count": 124,
   "id": "a07259fd",
   "metadata": {},
   "outputs": [
    {
     "data": {
      "application/vnd.plotly.v1+json": {
       "config": {
        "plotlyServerURL": "https://plot.ly"
       },
       "data": [
        {
         "branchvalues": "total",
         "customdata": [
          [
           336.8607381318656
          ],
          [
           328.8734780571446
          ],
          [
           477.4123420235537
          ],
          [
           257.7944701933139
          ],
          [
           372.15214397084844
          ],
          [
           274.2962876740426
          ],
          [
           297.74079796224726
          ],
          [
           365.0128647511482
          ],
          [
           417.81160116061426
          ],
          [
           351.37701432305556
          ],
          [
           379.36545390324085
          ],
          [
           289.81482764612264
          ],
          [
           399.9851188365143
          ],
          [
           441.62259450837735
          ],
          [
           399.48159705496545
          ],
          [
           396.41338494124824
          ],
          [
           343.42538994832125
          ],
          [
           466.5799493007145
          ],
          [
           312.46557264435137
          ],
          [
           321.6465327928435
          ],
          [
           310.1571716755495
          ],
          [
           450.2265215366026
          ],
          [
           552.0121113925395
          ],
          [
           331.29092000352694
          ],
          [
           459.1937852713101
          ],
          [
           437.8104306925715
          ],
          [
           292.2863667769572
          ],
          [
           377.63368817066936
          ],
          [
           318.96277428980864
          ],
          [
           353.51558365205426
          ],
          [
           455.09384075995916
          ],
          [
           379.01709260489093
          ],
          [
           751.5322376400875
          ],
          [
           406.8221865601937
          ],
          [
           353.99965553779487
          ],
          [
           376.0560215689152
          ],
          [
           398.1769640141455
          ],
          [
           351.2907001771183
          ],
          [
           287.4930787656417
          ],
          [
           626.2665241088628
          ],
          [
           284.5122596112536
          ],
          [
           395.47622587272394
          ],
          [
           468.6796800756433
          ],
          [
           302.8449540083863
          ],
          [
           412.18108820781885
          ],
          [
           471.11974582290514
          ],
          [
           360.1546765473399
          ],
          [
           336.8607381318656
          ],
          [
           396.41338494124824
          ],
          [
           328.8734780571446
          ],
          [
           343.42538994832125
          ],
          [
           368.6693323613288
          ],
          [
           328.2446907999331
          ],
          [
           359.6760052173344
          ]
         ],
         "domain": {
          "x": [
           0,
           1
          ],
          "y": [
           0,
           1
          ]
         },
         "hovertemplate": "labels=%{label}<br>pageviews_efficiency_sum=%{value}<br>parent=%{parent}<br>id=%{id}<br>pageviews_efficiency=%{color}<extra></extra>",
         "ids": [
          "(none)/(direct)",
          "affiliate/Partners",
          "organic/ask",
          "referral/basecamp.com",
          "organic/bing",
          "referral/calendar.google.com",
          "referral/chat.google.com",
          "referral/connect.googleforwork.com",
          "referral/dealspotr.com",
          "cpm/dfa",
          "referral/docs.google.com",
          "referral/duckduckgo.com",
          "referral/facebook.com",
          "referral/gatewaycdi.com",
          "referral/gdeals.googleplex.com",
          "(not set)/google",
          "cpc/google",
          "cpm/google",
          "organic/google",
          "referral/google.com",
          "referral/googleux.perksplus.com",
          "referral/groups.google.com",
          "referral/keep.google.com",
          "referral/l.facebook.com",
          "referral/l.messenger.com",
          "referral/m.facebook.com",
          "referral/mail.aol.com",
          "referral/mail.google.com",
          "referral/mall.googleplex.com",
          "referral/mg.mail.yahoo.com",
          "referral/moma.corp.google.com",
          "referral/outlook.live.com",
          "referral/phandroid.com",
          "referral/pinterest.com",
          "referral/plus.google.com",
          "referral/quora.com",
          "referral/reddit.com",
          "referral/search.myway.com",
          "referral/search.xfinity.com",
          "referral/seroundtable.com",
          "referral/siliconvalley.about.com",
          "referral/sites.google.com",
          "referral/t.co",
          "referral/trainup.withgoogle.com",
          "referral/us-mg5.mail.yahoo.com",
          "organic/yahoo",
          "referral/youtube.com",
          "(none)",
          "(not set)",
          "affiliate",
          "cpc",
          "cpm",
          "organic",
          "referral"
         ],
         "labels": [
          "(direct)",
          "Partners",
          "ask",
          "basecamp.com",
          "bing",
          "calendar.google.com",
          "chat.google.com",
          "connect.googleforwork.com",
          "dealspotr.com",
          "dfa",
          "docs.google.com",
          "duckduckgo.com",
          "facebook.com",
          "gatewaycdi.com",
          "gdeals.googleplex.com",
          "google",
          "google",
          "google",
          "google",
          "google.com",
          "googleux.perksplus.com",
          "groups.google.com",
          "keep.google.com",
          "l.facebook.com",
          "l.messenger.com",
          "m.facebook.com",
          "mail.aol.com",
          "mail.google.com",
          "mall.googleplex.com",
          "mg.mail.yahoo.com",
          "moma.corp.google.com",
          "outlook.live.com",
          "phandroid.com",
          "pinterest.com",
          "plus.google.com",
          "quora.com",
          "reddit.com",
          "search.myway.com",
          "search.xfinity.com",
          "seroundtable.com",
          "siliconvalley.about.com",
          "sites.google.com",
          "t.co",
          "trainup.withgoogle.com",
          "us-mg5.mail.yahoo.com",
          "yahoo",
          "youtube.com",
          "(none)",
          "(not set)",
          "affiliate",
          "cpc",
          "cpm",
          "organic",
          "referral"
         ],
         "marker": {
          "coloraxis": "coloraxis",
          "colors": [
           336.8607381318656,
           328.8734780571446,
           477.4123420235537,
           257.7944701933139,
           372.15214397084844,
           274.2962876740426,
           297.74079796224726,
           365.0128647511482,
           417.81160116061426,
           351.37701432305556,
           379.36545390324085,
           289.81482764612264,
           399.9851188365143,
           441.62259450837735,
           399.48159705496545,
           396.41338494124824,
           343.42538994832125,
           466.5799493007145,
           312.46557264435137,
           321.6465327928435,
           310.1571716755495,
           450.2265215366026,
           552.0121113925395,
           331.29092000352694,
           459.1937852713101,
           437.8104306925715,
           292.2863667769572,
           377.63368817066936,
           318.96277428980864,
           353.51558365205426,
           455.09384075995916,
           379.01709260489093,
           751.5322376400875,
           406.8221865601937,
           353.99965553779487,
           376.0560215689152,
           398.1769640141455,
           351.2907001771183,
           287.4930787656417,
           626.2665241088628,
           284.5122596112536,
           395.47622587272394,
           468.6796800756433,
           302.8449540083863,
           412.18108820781885,
           471.11974582290514,
           360.1546765473399,
           336.8607381318656,
           396.41338494124824,
           328.8734780571446,
           343.42538994832125,
           368.6693323613288,
           328.2446907999331,
           359.6760052173344
          ]
         },
         "name": "",
         "parents": [
          "(none)",
          "affiliate",
          "organic",
          "referral",
          "organic",
          "referral",
          "referral",
          "referral",
          "referral",
          "cpm",
          "referral",
          "referral",
          "referral",
          "referral",
          "referral",
          "(not set)",
          "cpc",
          "cpm",
          "organic",
          "referral",
          "referral",
          "referral",
          "referral",
          "referral",
          "referral",
          "referral",
          "referral",
          "referral",
          "referral",
          "referral",
          "referral",
          "referral",
          "referral",
          "referral",
          "referral",
          "referral",
          "referral",
          "referral",
          "referral",
          "referral",
          "referral",
          "referral",
          "referral",
          "referral",
          "referral",
          "organic",
          "referral",
          "",
          "",
          "",
          "",
          "",
          "",
          ""
         ],
         "type": "sunburst",
         "values": [
          114749.48455295636,
          2913.9679695477876,
          1741.6503165789065,
          257.7944701933139,
          7418.875707353032,
          274.2962876740426,
          297.74079796224726,
          1083.5545944313783,
          13608.524450344024,
          32527.012242320852,
          379.3654539032409,
          289.81482764612264,
          6485.645229350808,
          441.62259450837735,
          6072.095150524729,
          396.41338494124824,
          80498.23374355817,
          5744.703262131734,
          112877.00854274858,
          1557.1943570303374,
          1174.7503476196914,
          8077.786457184441,
          1066.9373457842478,
          3966.6535929947677,
          459.19378527131016,
          2343.211476481694,
          292.2863667769572,
          19050.02273351271,
          114441.56028897005,
          1394.9160947505472,
          455.09384075995916,
          379.01709260489093,
          3201.1749292667614,
          806.3018694653858,
          1059.8861066909317,
          376.0560215689152,
          398.1769640141455,
          351.2907001771183,
          287.4930787656417,
          626.2665241088628,
          1620.424747779069,
          13935.376590571886,
          2628.5290034105456,
          603.5359493915198,
          412.18108820781885,
          8367.85560624285,
          3814.363527857699,
          114749.48455295636,
          396.41338494124824,
          2913.9679695477876,
          80498.23374355817,
          38271.715504452586,
          130405.39017292336,
          213970.1347375562
         ]
        }
       ],
       "layout": {
        "coloraxis": {
         "colorbar": {
          "title": {
           "text": "pageviews_efficiency"
          }
         },
         "colorscale": [
          [
           0,
           "rgb(247,251,255)"
          ],
          [
           0.125,
           "rgb(222,235,247)"
          ],
          [
           0.25,
           "rgb(198,219,239)"
          ],
          [
           0.375,
           "rgb(158,202,225)"
          ],
          [
           0.5,
           "rgb(107,174,214)"
          ],
          [
           0.625,
           "rgb(66,146,198)"
          ],
          [
           0.75,
           "rgb(33,113,181)"
          ],
          [
           0.875,
           "rgb(8,81,156)"
          ],
          [
           1,
           "rgb(8,48,107)"
          ]
         ]
        },
        "height": 800,
        "legend": {
         "title": {
          "text": "Source"
         },
         "tracegroupgap": 0
        },
        "margin": {
         "t": 60
        },
        "template": {
         "data": {
          "bar": [
           {
            "error_x": {
             "color": "#2a3f5f"
            },
            "error_y": {
             "color": "#2a3f5f"
            },
            "marker": {
             "line": {
              "color": "#E5ECF6",
              "width": 0.5
             },
             "pattern": {
              "fillmode": "overlay",
              "size": 10,
              "solidity": 0.2
             }
            },
            "type": "bar"
           }
          ],
          "barpolar": [
           {
            "marker": {
             "line": {
              "color": "#E5ECF6",
              "width": 0.5
             },
             "pattern": {
              "fillmode": "overlay",
              "size": 10,
              "solidity": 0.2
             }
            },
            "type": "barpolar"
           }
          ],
          "carpet": [
           {
            "aaxis": {
             "endlinecolor": "#2a3f5f",
             "gridcolor": "white",
             "linecolor": "white",
             "minorgridcolor": "white",
             "startlinecolor": "#2a3f5f"
            },
            "baxis": {
             "endlinecolor": "#2a3f5f",
             "gridcolor": "white",
             "linecolor": "white",
             "minorgridcolor": "white",
             "startlinecolor": "#2a3f5f"
            },
            "type": "carpet"
           }
          ],
          "choropleth": [
           {
            "colorbar": {
             "outlinewidth": 0,
             "ticks": ""
            },
            "type": "choropleth"
           }
          ],
          "contour": [
           {
            "colorbar": {
             "outlinewidth": 0,
             "ticks": ""
            },
            "colorscale": [
             [
              0,
              "#0d0887"
             ],
             [
              0.1111111111111111,
              "#46039f"
             ],
             [
              0.2222222222222222,
              "#7201a8"
             ],
             [
              0.3333333333333333,
              "#9c179e"
             ],
             [
              0.4444444444444444,
              "#bd3786"
             ],
             [
              0.5555555555555556,
              "#d8576b"
             ],
             [
              0.6666666666666666,
              "#ed7953"
             ],
             [
              0.7777777777777778,
              "#fb9f3a"
             ],
             [
              0.8888888888888888,
              "#fdca26"
             ],
             [
              1,
              "#f0f921"
             ]
            ],
            "type": "contour"
           }
          ],
          "contourcarpet": [
           {
            "colorbar": {
             "outlinewidth": 0,
             "ticks": ""
            },
            "type": "contourcarpet"
           }
          ],
          "heatmap": [
           {
            "colorbar": {
             "outlinewidth": 0,
             "ticks": ""
            },
            "colorscale": [
             [
              0,
              "#0d0887"
             ],
             [
              0.1111111111111111,
              "#46039f"
             ],
             [
              0.2222222222222222,
              "#7201a8"
             ],
             [
              0.3333333333333333,
              "#9c179e"
             ],
             [
              0.4444444444444444,
              "#bd3786"
             ],
             [
              0.5555555555555556,
              "#d8576b"
             ],
             [
              0.6666666666666666,
              "#ed7953"
             ],
             [
              0.7777777777777778,
              "#fb9f3a"
             ],
             [
              0.8888888888888888,
              "#fdca26"
             ],
             [
              1,
              "#f0f921"
             ]
            ],
            "type": "heatmap"
           }
          ],
          "heatmapgl": [
           {
            "colorbar": {
             "outlinewidth": 0,
             "ticks": ""
            },
            "colorscale": [
             [
              0,
              "#0d0887"
             ],
             [
              0.1111111111111111,
              "#46039f"
             ],
             [
              0.2222222222222222,
              "#7201a8"
             ],
             [
              0.3333333333333333,
              "#9c179e"
             ],
             [
              0.4444444444444444,
              "#bd3786"
             ],
             [
              0.5555555555555556,
              "#d8576b"
             ],
             [
              0.6666666666666666,
              "#ed7953"
             ],
             [
              0.7777777777777778,
              "#fb9f3a"
             ],
             [
              0.8888888888888888,
              "#fdca26"
             ],
             [
              1,
              "#f0f921"
             ]
            ],
            "type": "heatmapgl"
           }
          ],
          "histogram": [
           {
            "marker": {
             "pattern": {
              "fillmode": "overlay",
              "size": 10,
              "solidity": 0.2
             }
            },
            "type": "histogram"
           }
          ],
          "histogram2d": [
           {
            "colorbar": {
             "outlinewidth": 0,
             "ticks": ""
            },
            "colorscale": [
             [
              0,
              "#0d0887"
             ],
             [
              0.1111111111111111,
              "#46039f"
             ],
             [
              0.2222222222222222,
              "#7201a8"
             ],
             [
              0.3333333333333333,
              "#9c179e"
             ],
             [
              0.4444444444444444,
              "#bd3786"
             ],
             [
              0.5555555555555556,
              "#d8576b"
             ],
             [
              0.6666666666666666,
              "#ed7953"
             ],
             [
              0.7777777777777778,
              "#fb9f3a"
             ],
             [
              0.8888888888888888,
              "#fdca26"
             ],
             [
              1,
              "#f0f921"
             ]
            ],
            "type": "histogram2d"
           }
          ],
          "histogram2dcontour": [
           {
            "colorbar": {
             "outlinewidth": 0,
             "ticks": ""
            },
            "colorscale": [
             [
              0,
              "#0d0887"
             ],
             [
              0.1111111111111111,
              "#46039f"
             ],
             [
              0.2222222222222222,
              "#7201a8"
             ],
             [
              0.3333333333333333,
              "#9c179e"
             ],
             [
              0.4444444444444444,
              "#bd3786"
             ],
             [
              0.5555555555555556,
              "#d8576b"
             ],
             [
              0.6666666666666666,
              "#ed7953"
             ],
             [
              0.7777777777777778,
              "#fb9f3a"
             ],
             [
              0.8888888888888888,
              "#fdca26"
             ],
             [
              1,
              "#f0f921"
             ]
            ],
            "type": "histogram2dcontour"
           }
          ],
          "mesh3d": [
           {
            "colorbar": {
             "outlinewidth": 0,
             "ticks": ""
            },
            "type": "mesh3d"
           }
          ],
          "parcoords": [
           {
            "line": {
             "colorbar": {
              "outlinewidth": 0,
              "ticks": ""
             }
            },
            "type": "parcoords"
           }
          ],
          "pie": [
           {
            "automargin": true,
            "type": "pie"
           }
          ],
          "scatter": [
           {
            "fillpattern": {
             "fillmode": "overlay",
             "size": 10,
             "solidity": 0.2
            },
            "type": "scatter"
           }
          ],
          "scatter3d": [
           {
            "line": {
             "colorbar": {
              "outlinewidth": 0,
              "ticks": ""
             }
            },
            "marker": {
             "colorbar": {
              "outlinewidth": 0,
              "ticks": ""
             }
            },
            "type": "scatter3d"
           }
          ],
          "scattercarpet": [
           {
            "marker": {
             "colorbar": {
              "outlinewidth": 0,
              "ticks": ""
             }
            },
            "type": "scattercarpet"
           }
          ],
          "scattergeo": [
           {
            "marker": {
             "colorbar": {
              "outlinewidth": 0,
              "ticks": ""
             }
            },
            "type": "scattergeo"
           }
          ],
          "scattergl": [
           {
            "marker": {
             "colorbar": {
              "outlinewidth": 0,
              "ticks": ""
             }
            },
            "type": "scattergl"
           }
          ],
          "scattermapbox": [
           {
            "marker": {
             "colorbar": {
              "outlinewidth": 0,
              "ticks": ""
             }
            },
            "type": "scattermapbox"
           }
          ],
          "scatterpolar": [
           {
            "marker": {
             "colorbar": {
              "outlinewidth": 0,
              "ticks": ""
             }
            },
            "type": "scatterpolar"
           }
          ],
          "scatterpolargl": [
           {
            "marker": {
             "colorbar": {
              "outlinewidth": 0,
              "ticks": ""
             }
            },
            "type": "scatterpolargl"
           }
          ],
          "scatterternary": [
           {
            "marker": {
             "colorbar": {
              "outlinewidth": 0,
              "ticks": ""
             }
            },
            "type": "scatterternary"
           }
          ],
          "surface": [
           {
            "colorbar": {
             "outlinewidth": 0,
             "ticks": ""
            },
            "colorscale": [
             [
              0,
              "#0d0887"
             ],
             [
              0.1111111111111111,
              "#46039f"
             ],
             [
              0.2222222222222222,
              "#7201a8"
             ],
             [
              0.3333333333333333,
              "#9c179e"
             ],
             [
              0.4444444444444444,
              "#bd3786"
             ],
             [
              0.5555555555555556,
              "#d8576b"
             ],
             [
              0.6666666666666666,
              "#ed7953"
             ],
             [
              0.7777777777777778,
              "#fb9f3a"
             ],
             [
              0.8888888888888888,
              "#fdca26"
             ],
             [
              1,
              "#f0f921"
             ]
            ],
            "type": "surface"
           }
          ],
          "table": [
           {
            "cells": {
             "fill": {
              "color": "#EBF0F8"
             },
             "line": {
              "color": "white"
             }
            },
            "header": {
             "fill": {
              "color": "#C8D4E3"
             },
             "line": {
              "color": "white"
             }
            },
            "type": "table"
           }
          ]
         },
         "layout": {
          "annotationdefaults": {
           "arrowcolor": "#2a3f5f",
           "arrowhead": 0,
           "arrowwidth": 1
          },
          "autotypenumbers": "strict",
          "coloraxis": {
           "colorbar": {
            "outlinewidth": 0,
            "ticks": ""
           }
          },
          "colorscale": {
           "diverging": [
            [
             0,
             "#8e0152"
            ],
            [
             0.1,
             "#c51b7d"
            ],
            [
             0.2,
             "#de77ae"
            ],
            [
             0.3,
             "#f1b6da"
            ],
            [
             0.4,
             "#fde0ef"
            ],
            [
             0.5,
             "#f7f7f7"
            ],
            [
             0.6,
             "#e6f5d0"
            ],
            [
             0.7,
             "#b8e186"
            ],
            [
             0.8,
             "#7fbc41"
            ],
            [
             0.9,
             "#4d9221"
            ],
            [
             1,
             "#276419"
            ]
           ],
           "sequential": [
            [
             0,
             "#0d0887"
            ],
            [
             0.1111111111111111,
             "#46039f"
            ],
            [
             0.2222222222222222,
             "#7201a8"
            ],
            [
             0.3333333333333333,
             "#9c179e"
            ],
            [
             0.4444444444444444,
             "#bd3786"
            ],
            [
             0.5555555555555556,
             "#d8576b"
            ],
            [
             0.6666666666666666,
             "#ed7953"
            ],
            [
             0.7777777777777778,
             "#fb9f3a"
            ],
            [
             0.8888888888888888,
             "#fdca26"
            ],
            [
             1,
             "#f0f921"
            ]
           ],
           "sequentialminus": [
            [
             0,
             "#0d0887"
            ],
            [
             0.1111111111111111,
             "#46039f"
            ],
            [
             0.2222222222222222,
             "#7201a8"
            ],
            [
             0.3333333333333333,
             "#9c179e"
            ],
            [
             0.4444444444444444,
             "#bd3786"
            ],
            [
             0.5555555555555556,
             "#d8576b"
            ],
            [
             0.6666666666666666,
             "#ed7953"
            ],
            [
             0.7777777777777778,
             "#fb9f3a"
            ],
            [
             0.8888888888888888,
             "#fdca26"
            ],
            [
             1,
             "#f0f921"
            ]
           ]
          },
          "colorway": [
           "#636efa",
           "#EF553B",
           "#00cc96",
           "#ab63fa",
           "#FFA15A",
           "#19d3f3",
           "#FF6692",
           "#B6E880",
           "#FF97FF",
           "#FECB52"
          ],
          "font": {
           "color": "#2a3f5f"
          },
          "geo": {
           "bgcolor": "white",
           "lakecolor": "white",
           "landcolor": "#E5ECF6",
           "showlakes": true,
           "showland": true,
           "subunitcolor": "white"
          },
          "hoverlabel": {
           "align": "left"
          },
          "hovermode": "closest",
          "mapbox": {
           "style": "light"
          },
          "paper_bgcolor": "white",
          "plot_bgcolor": "#E5ECF6",
          "polar": {
           "angularaxis": {
            "gridcolor": "white",
            "linecolor": "white",
            "ticks": ""
           },
           "bgcolor": "#E5ECF6",
           "radialaxis": {
            "gridcolor": "white",
            "linecolor": "white",
            "ticks": ""
           }
          },
          "scene": {
           "xaxis": {
            "backgroundcolor": "#E5ECF6",
            "gridcolor": "white",
            "gridwidth": 2,
            "linecolor": "white",
            "showbackground": true,
            "ticks": "",
            "zerolinecolor": "white"
           },
           "yaxis": {
            "backgroundcolor": "#E5ECF6",
            "gridcolor": "white",
            "gridwidth": 2,
            "linecolor": "white",
            "showbackground": true,
            "ticks": "",
            "zerolinecolor": "white"
           },
           "zaxis": {
            "backgroundcolor": "#E5ECF6",
            "gridcolor": "white",
            "gridwidth": 2,
            "linecolor": "white",
            "showbackground": true,
            "ticks": "",
            "zerolinecolor": "white"
           }
          },
          "shapedefaults": {
           "line": {
            "color": "#2a3f5f"
           }
          },
          "ternary": {
           "aaxis": {
            "gridcolor": "white",
            "linecolor": "white",
            "ticks": ""
           },
           "baxis": {
            "gridcolor": "white",
            "linecolor": "white",
            "ticks": ""
           },
           "bgcolor": "#E5ECF6",
           "caxis": {
            "gridcolor": "white",
            "linecolor": "white",
            "ticks": ""
           }
          },
          "title": {
           "x": 0.05
          },
          "xaxis": {
           "automargin": true,
           "gridcolor": "white",
           "linecolor": "white",
           "ticks": "",
           "title": {
            "standoff": 15
           },
           "zerolinecolor": "white",
           "zerolinewidth": 2
          },
          "yaxis": {
           "automargin": true,
           "gridcolor": "white",
           "linecolor": "white",
           "ticks": "",
           "title": {
            "standoff": 15
           },
           "zerolinecolor": "white",
           "zerolinewidth": 2
          }
         }
        },
        "xaxis": {
         "tickangle": 45
        }
       }
      }
     },
     "metadata": {},
     "output_type": "display_data"
    }
   ],
   "source": [
    "fig = px.sunburst(\n",
    "    agg_df_sm,\n",
    "    path = ['medium','source'],\n",
    "    values = 'pageviews_efficiency',\n",
    "    color = 'pageviews_efficiency',\n",
    "    color_continuous_scale = 'Blues')\n",
    "fig.update_layout(\n",
    "    height = 800,\n",
    "    legend_title_text ='Source',\n",
    "    xaxis = dict(tickangle=45))\n",
    "fig.show()\n",
    "\n",
    "# Pageview 측면에 있어, basecamp 는 비용효율이 가장 높고, phandroid는 비용효율이 가장 낮음"
   ]
  },
  {
   "cell_type": "code",
   "execution_count": 125,
   "id": "c82a9add",
   "metadata": {},
   "outputs": [
    {
     "data": {
      "application/vnd.plotly.v1+json": {
       "config": {
        "plotlyServerURL": "https://plot.ly"
       },
       "data": [
        {
         "branchvalues": "total",
         "customdata": [
          [
           275.44010752016226
          ],
          [
           263.12331093122225
          ],
          [
           411.8634029090973
          ],
          [
           183.0714353546722
          ],
          [
           316.4746188049974
          ],
          [
           190.61267448535165
          ],
          [
           253.95538649721092
          ],
          [
           329.72050551527593
          ],
          [
           404.5393804766929
          ],
          [
           301.59405159936205
          ],
          [
           379.36545390324085
          ],
          [
           231.85186211689808
          ],
          [
           346.20408282278146
          ],
          [
           343.48424017318234
          ],
          [
           339.5692141967647
          ],
          [
           373.0949505329395
          ],
          [
           287.10678693387393
          ],
          [
           420.19731244575024
          ],
          [
           250.44875917518516
          ],
          [
           285.11361124602627
          ],
          [
           272.787428199772
          ],
          [
           399.6913897146208
          ],
          [
           488.9192328841834
          ],
          [
           297.297673365781
          ],
          [
           373.0949505329395
          ],
          [
           398.40692492020764
          ],
          [
           238.44414131804402
          ],
          [
           331.3154167034781
          ],
          [
           251.61877202320431
          ],
          [
           297.13416641661274
          ],
          [
           394.41466199196464
          ],
          [
           310.1048939494562
          ],
          [
           764.9028320292801
          ],
          [
           329.83553617103763
          ],
          [
           296.2218972601978
          ],
          [
           322.33373277335585
          ],
          [
           294.3047125321945
          ],
          [
           249.3030775450517
          ],
          [
           225.88741903014704
          ],
          [
           626.2665241088628
          ],
          [
           229.49666879899365
          ],
          [
           327.2456053174821
          ],
          [
           422.92519957315307
          ],
          [
           264.6043157496792
          ],
          [
           386.41977019483016
          ],
          [
           433.6289015944316
          ],
          [
           316.3680218801152
          ],
          [
           275.44010752016226
          ],
          [
           373.0949505329395
          ],
          [
           263.12331093122225
          ],
          [
           287.10678693387393
          ],
          [
           319.31669978400765
          ],
          [
           268.7946433161601
          ],
          [
           306.8776361837063
          ]
         ],
         "domain": {
          "x": [
           0,
           1
          ],
          "y": [
           0,
           1
          ]
         },
         "hovertemplate": "labels=%{label}<br>hits_efficiency_sum=%{value}<br>parent=%{parent}<br>id=%{id}<br>hits_efficiency=%{color}<extra></extra>",
         "ids": [
          "(none)/(direct)",
          "affiliate/Partners",
          "organic/ask",
          "referral/basecamp.com",
          "organic/bing",
          "referral/calendar.google.com",
          "referral/chat.google.com",
          "referral/connect.googleforwork.com",
          "referral/dealspotr.com",
          "cpm/dfa",
          "referral/docs.google.com",
          "referral/duckduckgo.com",
          "referral/facebook.com",
          "referral/gatewaycdi.com",
          "referral/gdeals.googleplex.com",
          "(not set)/google",
          "cpc/google",
          "cpm/google",
          "organic/google",
          "referral/google.com",
          "referral/googleux.perksplus.com",
          "referral/groups.google.com",
          "referral/keep.google.com",
          "referral/l.facebook.com",
          "referral/l.messenger.com",
          "referral/m.facebook.com",
          "referral/mail.aol.com",
          "referral/mail.google.com",
          "referral/mall.googleplex.com",
          "referral/mg.mail.yahoo.com",
          "referral/moma.corp.google.com",
          "referral/outlook.live.com",
          "referral/phandroid.com",
          "referral/pinterest.com",
          "referral/plus.google.com",
          "referral/quora.com",
          "referral/reddit.com",
          "referral/search.myway.com",
          "referral/search.xfinity.com",
          "referral/seroundtable.com",
          "referral/siliconvalley.about.com",
          "referral/sites.google.com",
          "referral/t.co",
          "referral/trainup.withgoogle.com",
          "referral/us-mg5.mail.yahoo.com",
          "organic/yahoo",
          "referral/youtube.com",
          "(none)",
          "(not set)",
          "affiliate",
          "cpc",
          "cpm",
          "organic",
          "referral"
         ],
         "labels": [
          "(direct)",
          "Partners",
          "ask",
          "basecamp.com",
          "bing",
          "calendar.google.com",
          "chat.google.com",
          "connect.googleforwork.com",
          "dealspotr.com",
          "dfa",
          "docs.google.com",
          "duckduckgo.com",
          "facebook.com",
          "gatewaycdi.com",
          "gdeals.googleplex.com",
          "google",
          "google",
          "google",
          "google",
          "google.com",
          "googleux.perksplus.com",
          "groups.google.com",
          "keep.google.com",
          "l.facebook.com",
          "l.messenger.com",
          "m.facebook.com",
          "mail.aol.com",
          "mail.google.com",
          "mall.googleplex.com",
          "mg.mail.yahoo.com",
          "moma.corp.google.com",
          "outlook.live.com",
          "phandroid.com",
          "pinterest.com",
          "plus.google.com",
          "quora.com",
          "reddit.com",
          "search.myway.com",
          "search.xfinity.com",
          "seroundtable.com",
          "siliconvalley.about.com",
          "sites.google.com",
          "t.co",
          "trainup.withgoogle.com",
          "us-mg5.mail.yahoo.com",
          "yahoo",
          "youtube.com",
          "(none)",
          "(not set)",
          "affiliate",
          "cpc",
          "cpm",
          "organic",
          "referral"
         ],
         "marker": {
          "coloraxis": "coloraxis",
          "colors": [
           275.44010752016226,
           263.12331093122225,
           411.8634029090973,
           183.0714353546722,
           316.4746188049974,
           190.61267448535165,
           253.95538649721092,
           329.72050551527593,
           404.5393804766929,
           301.59405159936205,
           379.36545390324085,
           231.85186211689808,
           346.20408282278146,
           343.48424017318234,
           339.5692141967647,
           373.0949505329395,
           287.10678693387393,
           420.19731244575024,
           250.44875917518516,
           285.11361124602627,
           272.787428199772,
           399.6913897146208,
           488.9192328841834,
           297.297673365781,
           373.0949505329395,
           398.40692492020764,
           238.44414131804402,
           331.3154167034781,
           251.61877202320431,
           297.13416641661274,
           394.41466199196464,
           310.1048939494562,
           764.9028320292801,
           329.83553617103763,
           296.2218972601978,
           322.33373277335585,
           294.3047125321945,
           249.3030775450517,
           225.88741903014704,
           626.2665241088628,
           229.49666879899365,
           327.2456053174821,
           422.92519957315307,
           264.6043157496792,
           386.41977019483016,
           433.6289015944316,
           316.3680218801152,
           275.44010752016226,
           373.0949505329395,
           263.12331093122225,
           287.10678693387393,
           319.31669978400765,
           268.7946433161601,
           306.8776361837063
          ]
         },
         "name": "",
         "parents": [
          "(none)",
          "affiliate",
          "organic",
          "referral",
          "organic",
          "referral",
          "referral",
          "referral",
          "referral",
          "cpm",
          "referral",
          "referral",
          "referral",
          "referral",
          "referral",
          "(not set)",
          "cpc",
          "cpm",
          "organic",
          "referral",
          "referral",
          "referral",
          "referral",
          "referral",
          "referral",
          "referral",
          "referral",
          "referral",
          "referral",
          "referral",
          "referral",
          "referral",
          "referral",
          "referral",
          "referral",
          "referral",
          "referral",
          "referral",
          "referral",
          "referral",
          "referral",
          "referral",
          "referral",
          "referral",
          "referral",
          "organic",
          "referral",
          "",
          "",
          "",
          "",
          "",
          "",
          ""
         ],
         "type": "sunburst",
         "values": [
          91748.97612627846,
          2276.3525867302496,
          1497.133594003089,
          183.07143535467216,
          6065.481268440168,
          190.61267448535168,
          253.95538649721092,
          938.1393302493314,
          12501.600666090731,
          26643.27089033785,
          379.3654539032409,
          231.8518621168981,
          5532.492641319672,
          343.48424017318234,
          4994.6912241588,
          373.0949505329395,
          65865.13902512315,
          4680.674552016626,
          89843.49070962849,
          1369.3896316878372,
          974.2897744885079,
          7084.340798761147,
          942.3608571992696,
          3370.6221898572867,
          373.0949505329395,
          2128.3717760117324,
          238.44414131804402,
          15778.05416864043,
          89562.5320932952,
          1153.8861124196683,
          394.41466199196464,
          310.1048939494562,
          3060.081252357217,
          658.4345230905988,
          870.9934025379034,
          322.33373277335585,
          294.3047125321945,
          249.3030775450517,
          225.88741903014704,
          626.2665241088628,
          1272.3318752500938,
          11128.533910152884,
          2331.295710916659,
          519.5487823802677,
          386.41977019483016,
          6945.5417756707875,
          3272.6697618539574,
          91748.97612627846,
          373.0949505329395,
          2276.3525867302496,
          65865.13902512315,
          31323.945442354478,
          104351.64734774253,
          174447.5754192266
         ]
        }
       ],
       "layout": {
        "coloraxis": {
         "colorbar": {
          "title": {
           "text": "hits_efficiency"
          }
         },
         "colorscale": [
          [
           0,
           "rgb(247,251,255)"
          ],
          [
           0.125,
           "rgb(222,235,247)"
          ],
          [
           0.25,
           "rgb(198,219,239)"
          ],
          [
           0.375,
           "rgb(158,202,225)"
          ],
          [
           0.5,
           "rgb(107,174,214)"
          ],
          [
           0.625,
           "rgb(66,146,198)"
          ],
          [
           0.75,
           "rgb(33,113,181)"
          ],
          [
           0.875,
           "rgb(8,81,156)"
          ],
          [
           1,
           "rgb(8,48,107)"
          ]
         ]
        },
        "height": 800,
        "legend": {
         "title": {
          "text": "Source"
         },
         "tracegroupgap": 0
        },
        "margin": {
         "t": 60
        },
        "template": {
         "data": {
          "bar": [
           {
            "error_x": {
             "color": "#2a3f5f"
            },
            "error_y": {
             "color": "#2a3f5f"
            },
            "marker": {
             "line": {
              "color": "#E5ECF6",
              "width": 0.5
             },
             "pattern": {
              "fillmode": "overlay",
              "size": 10,
              "solidity": 0.2
             }
            },
            "type": "bar"
           }
          ],
          "barpolar": [
           {
            "marker": {
             "line": {
              "color": "#E5ECF6",
              "width": 0.5
             },
             "pattern": {
              "fillmode": "overlay",
              "size": 10,
              "solidity": 0.2
             }
            },
            "type": "barpolar"
           }
          ],
          "carpet": [
           {
            "aaxis": {
             "endlinecolor": "#2a3f5f",
             "gridcolor": "white",
             "linecolor": "white",
             "minorgridcolor": "white",
             "startlinecolor": "#2a3f5f"
            },
            "baxis": {
             "endlinecolor": "#2a3f5f",
             "gridcolor": "white",
             "linecolor": "white",
             "minorgridcolor": "white",
             "startlinecolor": "#2a3f5f"
            },
            "type": "carpet"
           }
          ],
          "choropleth": [
           {
            "colorbar": {
             "outlinewidth": 0,
             "ticks": ""
            },
            "type": "choropleth"
           }
          ],
          "contour": [
           {
            "colorbar": {
             "outlinewidth": 0,
             "ticks": ""
            },
            "colorscale": [
             [
              0,
              "#0d0887"
             ],
             [
              0.1111111111111111,
              "#46039f"
             ],
             [
              0.2222222222222222,
              "#7201a8"
             ],
             [
              0.3333333333333333,
              "#9c179e"
             ],
             [
              0.4444444444444444,
              "#bd3786"
             ],
             [
              0.5555555555555556,
              "#d8576b"
             ],
             [
              0.6666666666666666,
              "#ed7953"
             ],
             [
              0.7777777777777778,
              "#fb9f3a"
             ],
             [
              0.8888888888888888,
              "#fdca26"
             ],
             [
              1,
              "#f0f921"
             ]
            ],
            "type": "contour"
           }
          ],
          "contourcarpet": [
           {
            "colorbar": {
             "outlinewidth": 0,
             "ticks": ""
            },
            "type": "contourcarpet"
           }
          ],
          "heatmap": [
           {
            "colorbar": {
             "outlinewidth": 0,
             "ticks": ""
            },
            "colorscale": [
             [
              0,
              "#0d0887"
             ],
             [
              0.1111111111111111,
              "#46039f"
             ],
             [
              0.2222222222222222,
              "#7201a8"
             ],
             [
              0.3333333333333333,
              "#9c179e"
             ],
             [
              0.4444444444444444,
              "#bd3786"
             ],
             [
              0.5555555555555556,
              "#d8576b"
             ],
             [
              0.6666666666666666,
              "#ed7953"
             ],
             [
              0.7777777777777778,
              "#fb9f3a"
             ],
             [
              0.8888888888888888,
              "#fdca26"
             ],
             [
              1,
              "#f0f921"
             ]
            ],
            "type": "heatmap"
           }
          ],
          "heatmapgl": [
           {
            "colorbar": {
             "outlinewidth": 0,
             "ticks": ""
            },
            "colorscale": [
             [
              0,
              "#0d0887"
             ],
             [
              0.1111111111111111,
              "#46039f"
             ],
             [
              0.2222222222222222,
              "#7201a8"
             ],
             [
              0.3333333333333333,
              "#9c179e"
             ],
             [
              0.4444444444444444,
              "#bd3786"
             ],
             [
              0.5555555555555556,
              "#d8576b"
             ],
             [
              0.6666666666666666,
              "#ed7953"
             ],
             [
              0.7777777777777778,
              "#fb9f3a"
             ],
             [
              0.8888888888888888,
              "#fdca26"
             ],
             [
              1,
              "#f0f921"
             ]
            ],
            "type": "heatmapgl"
           }
          ],
          "histogram": [
           {
            "marker": {
             "pattern": {
              "fillmode": "overlay",
              "size": 10,
              "solidity": 0.2
             }
            },
            "type": "histogram"
           }
          ],
          "histogram2d": [
           {
            "colorbar": {
             "outlinewidth": 0,
             "ticks": ""
            },
            "colorscale": [
             [
              0,
              "#0d0887"
             ],
             [
              0.1111111111111111,
              "#46039f"
             ],
             [
              0.2222222222222222,
              "#7201a8"
             ],
             [
              0.3333333333333333,
              "#9c179e"
             ],
             [
              0.4444444444444444,
              "#bd3786"
             ],
             [
              0.5555555555555556,
              "#d8576b"
             ],
             [
              0.6666666666666666,
              "#ed7953"
             ],
             [
              0.7777777777777778,
              "#fb9f3a"
             ],
             [
              0.8888888888888888,
              "#fdca26"
             ],
             [
              1,
              "#f0f921"
             ]
            ],
            "type": "histogram2d"
           }
          ],
          "histogram2dcontour": [
           {
            "colorbar": {
             "outlinewidth": 0,
             "ticks": ""
            },
            "colorscale": [
             [
              0,
              "#0d0887"
             ],
             [
              0.1111111111111111,
              "#46039f"
             ],
             [
              0.2222222222222222,
              "#7201a8"
             ],
             [
              0.3333333333333333,
              "#9c179e"
             ],
             [
              0.4444444444444444,
              "#bd3786"
             ],
             [
              0.5555555555555556,
              "#d8576b"
             ],
             [
              0.6666666666666666,
              "#ed7953"
             ],
             [
              0.7777777777777778,
              "#fb9f3a"
             ],
             [
              0.8888888888888888,
              "#fdca26"
             ],
             [
              1,
              "#f0f921"
             ]
            ],
            "type": "histogram2dcontour"
           }
          ],
          "mesh3d": [
           {
            "colorbar": {
             "outlinewidth": 0,
             "ticks": ""
            },
            "type": "mesh3d"
           }
          ],
          "parcoords": [
           {
            "line": {
             "colorbar": {
              "outlinewidth": 0,
              "ticks": ""
             }
            },
            "type": "parcoords"
           }
          ],
          "pie": [
           {
            "automargin": true,
            "type": "pie"
           }
          ],
          "scatter": [
           {
            "fillpattern": {
             "fillmode": "overlay",
             "size": 10,
             "solidity": 0.2
            },
            "type": "scatter"
           }
          ],
          "scatter3d": [
           {
            "line": {
             "colorbar": {
              "outlinewidth": 0,
              "ticks": ""
             }
            },
            "marker": {
             "colorbar": {
              "outlinewidth": 0,
              "ticks": ""
             }
            },
            "type": "scatter3d"
           }
          ],
          "scattercarpet": [
           {
            "marker": {
             "colorbar": {
              "outlinewidth": 0,
              "ticks": ""
             }
            },
            "type": "scattercarpet"
           }
          ],
          "scattergeo": [
           {
            "marker": {
             "colorbar": {
              "outlinewidth": 0,
              "ticks": ""
             }
            },
            "type": "scattergeo"
           }
          ],
          "scattergl": [
           {
            "marker": {
             "colorbar": {
              "outlinewidth": 0,
              "ticks": ""
             }
            },
            "type": "scattergl"
           }
          ],
          "scattermapbox": [
           {
            "marker": {
             "colorbar": {
              "outlinewidth": 0,
              "ticks": ""
             }
            },
            "type": "scattermapbox"
           }
          ],
          "scatterpolar": [
           {
            "marker": {
             "colorbar": {
              "outlinewidth": 0,
              "ticks": ""
             }
            },
            "type": "scatterpolar"
           }
          ],
          "scatterpolargl": [
           {
            "marker": {
             "colorbar": {
              "outlinewidth": 0,
              "ticks": ""
             }
            },
            "type": "scatterpolargl"
           }
          ],
          "scatterternary": [
           {
            "marker": {
             "colorbar": {
              "outlinewidth": 0,
              "ticks": ""
             }
            },
            "type": "scatterternary"
           }
          ],
          "surface": [
           {
            "colorbar": {
             "outlinewidth": 0,
             "ticks": ""
            },
            "colorscale": [
             [
              0,
              "#0d0887"
             ],
             [
              0.1111111111111111,
              "#46039f"
             ],
             [
              0.2222222222222222,
              "#7201a8"
             ],
             [
              0.3333333333333333,
              "#9c179e"
             ],
             [
              0.4444444444444444,
              "#bd3786"
             ],
             [
              0.5555555555555556,
              "#d8576b"
             ],
             [
              0.6666666666666666,
              "#ed7953"
             ],
             [
              0.7777777777777778,
              "#fb9f3a"
             ],
             [
              0.8888888888888888,
              "#fdca26"
             ],
             [
              1,
              "#f0f921"
             ]
            ],
            "type": "surface"
           }
          ],
          "table": [
           {
            "cells": {
             "fill": {
              "color": "#EBF0F8"
             },
             "line": {
              "color": "white"
             }
            },
            "header": {
             "fill": {
              "color": "#C8D4E3"
             },
             "line": {
              "color": "white"
             }
            },
            "type": "table"
           }
          ]
         },
         "layout": {
          "annotationdefaults": {
           "arrowcolor": "#2a3f5f",
           "arrowhead": 0,
           "arrowwidth": 1
          },
          "autotypenumbers": "strict",
          "coloraxis": {
           "colorbar": {
            "outlinewidth": 0,
            "ticks": ""
           }
          },
          "colorscale": {
           "diverging": [
            [
             0,
             "#8e0152"
            ],
            [
             0.1,
             "#c51b7d"
            ],
            [
             0.2,
             "#de77ae"
            ],
            [
             0.3,
             "#f1b6da"
            ],
            [
             0.4,
             "#fde0ef"
            ],
            [
             0.5,
             "#f7f7f7"
            ],
            [
             0.6,
             "#e6f5d0"
            ],
            [
             0.7,
             "#b8e186"
            ],
            [
             0.8,
             "#7fbc41"
            ],
            [
             0.9,
             "#4d9221"
            ],
            [
             1,
             "#276419"
            ]
           ],
           "sequential": [
            [
             0,
             "#0d0887"
            ],
            [
             0.1111111111111111,
             "#46039f"
            ],
            [
             0.2222222222222222,
             "#7201a8"
            ],
            [
             0.3333333333333333,
             "#9c179e"
            ],
            [
             0.4444444444444444,
             "#bd3786"
            ],
            [
             0.5555555555555556,
             "#d8576b"
            ],
            [
             0.6666666666666666,
             "#ed7953"
            ],
            [
             0.7777777777777778,
             "#fb9f3a"
            ],
            [
             0.8888888888888888,
             "#fdca26"
            ],
            [
             1,
             "#f0f921"
            ]
           ],
           "sequentialminus": [
            [
             0,
             "#0d0887"
            ],
            [
             0.1111111111111111,
             "#46039f"
            ],
            [
             0.2222222222222222,
             "#7201a8"
            ],
            [
             0.3333333333333333,
             "#9c179e"
            ],
            [
             0.4444444444444444,
             "#bd3786"
            ],
            [
             0.5555555555555556,
             "#d8576b"
            ],
            [
             0.6666666666666666,
             "#ed7953"
            ],
            [
             0.7777777777777778,
             "#fb9f3a"
            ],
            [
             0.8888888888888888,
             "#fdca26"
            ],
            [
             1,
             "#f0f921"
            ]
           ]
          },
          "colorway": [
           "#636efa",
           "#EF553B",
           "#00cc96",
           "#ab63fa",
           "#FFA15A",
           "#19d3f3",
           "#FF6692",
           "#B6E880",
           "#FF97FF",
           "#FECB52"
          ],
          "font": {
           "color": "#2a3f5f"
          },
          "geo": {
           "bgcolor": "white",
           "lakecolor": "white",
           "landcolor": "#E5ECF6",
           "showlakes": true,
           "showland": true,
           "subunitcolor": "white"
          },
          "hoverlabel": {
           "align": "left"
          },
          "hovermode": "closest",
          "mapbox": {
           "style": "light"
          },
          "paper_bgcolor": "white",
          "plot_bgcolor": "#E5ECF6",
          "polar": {
           "angularaxis": {
            "gridcolor": "white",
            "linecolor": "white",
            "ticks": ""
           },
           "bgcolor": "#E5ECF6",
           "radialaxis": {
            "gridcolor": "white",
            "linecolor": "white",
            "ticks": ""
           }
          },
          "scene": {
           "xaxis": {
            "backgroundcolor": "#E5ECF6",
            "gridcolor": "white",
            "gridwidth": 2,
            "linecolor": "white",
            "showbackground": true,
            "ticks": "",
            "zerolinecolor": "white"
           },
           "yaxis": {
            "backgroundcolor": "#E5ECF6",
            "gridcolor": "white",
            "gridwidth": 2,
            "linecolor": "white",
            "showbackground": true,
            "ticks": "",
            "zerolinecolor": "white"
           },
           "zaxis": {
            "backgroundcolor": "#E5ECF6",
            "gridcolor": "white",
            "gridwidth": 2,
            "linecolor": "white",
            "showbackground": true,
            "ticks": "",
            "zerolinecolor": "white"
           }
          },
          "shapedefaults": {
           "line": {
            "color": "#2a3f5f"
           }
          },
          "ternary": {
           "aaxis": {
            "gridcolor": "white",
            "linecolor": "white",
            "ticks": ""
           },
           "baxis": {
            "gridcolor": "white",
            "linecolor": "white",
            "ticks": ""
           },
           "bgcolor": "#E5ECF6",
           "caxis": {
            "gridcolor": "white",
            "linecolor": "white",
            "ticks": ""
           }
          },
          "title": {
           "x": 0.05
          },
          "xaxis": {
           "automargin": true,
           "gridcolor": "white",
           "linecolor": "white",
           "ticks": "",
           "title": {
            "standoff": 15
           },
           "zerolinecolor": "white",
           "zerolinewidth": 2
          },
          "yaxis": {
           "automargin": true,
           "gridcolor": "white",
           "linecolor": "white",
           "ticks": "",
           "title": {
            "standoff": 15
           },
           "zerolinecolor": "white",
           "zerolinewidth": 2
          }
         }
        },
        "xaxis": {
         "tickangle": 45
        }
       }
      }
     },
     "metadata": {},
     "output_type": "display_data"
    }
   ],
   "source": [
    "fig = px.sunburst(\n",
    "    agg_df_sm,\n",
    "    path = ['medium','source'],\n",
    "    values = 'hits_efficiency',\n",
    "    color = 'hits_efficiency',\n",
    "    color_continuous_scale = 'Blues')\n",
    "fig.update_layout(\n",
    "    height = 800,\n",
    "    legend_title_text ='Source',\n",
    "    xaxis = dict(tickangle=45))\n",
    "fig.show()\n",
    "\n",
    "# Hits 측면에 있어, basecamp 는 비용효율이 가장 높고, phandroid는 비용효율이 가장 낮음 "
   ]
  },
  {
   "cell_type": "code",
   "execution_count": 126,
   "id": "084b03df",
   "metadata": {},
   "outputs": [
    {
     "data": {
      "application/vnd.plotly.v1+json": {
       "config": {
        "plotlyServerURL": "https://plot.ly"
       },
       "data": [
        {
         "branchvalues": "total",
         "customdata": [
          [
           10022.13525174452
          ],
          [
           9070.46252646371
          ],
          [
           7113.050006491017
          ],
          [
           12631.92903947238
          ],
          [
           8913.829052734525
          ],
          [
           11246.147794635748
          ],
          [
           8634.483140905171
          ],
          [
           7423.159534958855
          ],
          [
           8912.380539537182
          ],
          [
           9686.650011199396
          ],
          [
           6449.212716355097
          ],
          [
           9274.074484675924
          ],
          [
           23731.303864470232
          ],
          [
           6182.716323117283
          ],
          [
           8797.2795120647
          ],
          [
           6342.614159059972
          ],
          [
           10468.852735411727
          ],
          [
           7736.047143536297
          ],
          [
           9204.000318386563
          ],
          [
           11042.88073644897
          ],
          [
           12202.84098393424
          ],
          [
           6847.054274468842
          ],
          [
           5615.8058138659335
          ],
          [
           20785.762917403386
          ],
          [
           5969.519208527032
          ],
          [
           42002.710960597215
          ],
          [
           9060.877370085673
          ],
          [
           18876.13778411716
          ],
          [
           8812.169026335474
          ],
          [
           7674.720778216312
          ],
          [
           5916.2199298794685
          ],
          [
           6822.307666888037
          ],
          [
           10183.507364695846
          ],
          [
           6577.044319615512
          ],
          [
           7378.998573493521
          ],
          [
           6769.008388240473
          ],
          [
           6769.008388240473
          ],
          [
           7728.395403896603
          ],
          [
           9487.271599266176
          ],
          [
           5010.132192870902
          ],
          [
           16157.123346299357
          ],
          [
           10589.092843991977
          ],
          [
           7363.7426970423285
          ],
          [
           8773.389260949742
          ],
          [
           6182.716323117283
          ],
          [
           8364.627696259391
          ],
          [
           8349.690464552796
          ],
          [
           10022.13525174452
          ],
          [
           6342.614159059972
          ],
          [
           9070.46252646371
          ],
          [
           10468.852735411727
          ],
          [
           9481.638990483669
          ],
          [
           9136.465807667808
          ],
          [
           11472.46233424844
          ]
         ],
         "domain": {
          "x": [
           0,
           1
          ],
          "y": [
           0,
           1
          ]
         },
         "hovertemplate": "labels=%{label}<br>visits_efficiency_sum=%{value}<br>parent=%{parent}<br>id=%{id}<br>visits_efficiency=%{color}<extra></extra>",
         "ids": [
          "(none)/(direct)",
          "affiliate/Partners",
          "organic/ask",
          "referral/basecamp.com",
          "organic/bing",
          "referral/calendar.google.com",
          "referral/chat.google.com",
          "referral/connect.googleforwork.com",
          "referral/dealspotr.com",
          "cpm/dfa",
          "referral/docs.google.com",
          "referral/duckduckgo.com",
          "referral/facebook.com",
          "referral/gatewaycdi.com",
          "referral/gdeals.googleplex.com",
          "(not set)/google",
          "cpc/google",
          "cpm/google",
          "organic/google",
          "referral/google.com",
          "referral/googleux.perksplus.com",
          "referral/groups.google.com",
          "referral/keep.google.com",
          "referral/l.facebook.com",
          "referral/l.messenger.com",
          "referral/m.facebook.com",
          "referral/mail.aol.com",
          "referral/mail.google.com",
          "referral/mall.googleplex.com",
          "referral/mg.mail.yahoo.com",
          "referral/moma.corp.google.com",
          "referral/outlook.live.com",
          "referral/phandroid.com",
          "referral/pinterest.com",
          "referral/plus.google.com",
          "referral/quora.com",
          "referral/reddit.com",
          "referral/search.myway.com",
          "referral/search.xfinity.com",
          "referral/seroundtable.com",
          "referral/siliconvalley.about.com",
          "referral/sites.google.com",
          "referral/t.co",
          "referral/trainup.withgoogle.com",
          "referral/us-mg5.mail.yahoo.com",
          "organic/yahoo",
          "referral/youtube.com",
          "(none)",
          "(not set)",
          "affiliate",
          "cpc",
          "cpm",
          "organic",
          "referral"
         ],
         "labels": [
          "(direct)",
          "Partners",
          "ask",
          "basecamp.com",
          "bing",
          "calendar.google.com",
          "chat.google.com",
          "connect.googleforwork.com",
          "dealspotr.com",
          "dfa",
          "docs.google.com",
          "duckduckgo.com",
          "facebook.com",
          "gatewaycdi.com",
          "gdeals.googleplex.com",
          "google",
          "google",
          "google",
          "google",
          "google.com",
          "googleux.perksplus.com",
          "groups.google.com",
          "keep.google.com",
          "l.facebook.com",
          "l.messenger.com",
          "m.facebook.com",
          "mail.aol.com",
          "mail.google.com",
          "mall.googleplex.com",
          "mg.mail.yahoo.com",
          "moma.corp.google.com",
          "outlook.live.com",
          "phandroid.com",
          "pinterest.com",
          "plus.google.com",
          "quora.com",
          "reddit.com",
          "search.myway.com",
          "search.xfinity.com",
          "seroundtable.com",
          "siliconvalley.about.com",
          "sites.google.com",
          "t.co",
          "trainup.withgoogle.com",
          "us-mg5.mail.yahoo.com",
          "yahoo",
          "youtube.com",
          "(none)",
          "(not set)",
          "affiliate",
          "cpc",
          "cpm",
          "organic",
          "referral"
         ],
         "marker": {
          "coloraxis": "coloraxis",
          "colors": [
           10022.13525174452,
           9070.46252646371,
           7113.050006491017,
           12631.92903947238,
           8913.829052734525,
           11246.147794635748,
           8634.483140905171,
           7423.159534958855,
           8912.380539537182,
           9686.650011199396,
           6449.212716355097,
           9274.074484675924,
           23731.303864470232,
           6182.716323117283,
           8797.2795120647,
           6342.614159059972,
           10468.852735411727,
           7736.047143536297,
           9204.000318386563,
           11042.88073644897,
           12202.84098393424,
           6847.054274468842,
           5615.8058138659335,
           20785.762917403386,
           5969.519208527032,
           42002.710960597215,
           9060.877370085673,
           18876.13778411716,
           8812.169026335474,
           7674.720778216312,
           5916.2199298794685,
           6822.307666888037,
           10183.507364695846,
           6577.044319615512,
           7378.998573493521,
           6769.008388240473,
           6769.008388240473,
           7728.395403896603,
           9487.271599266176,
           5010.132192870902,
           16157.123346299357,
           10589.092843991977,
           7363.7426970423285,
           8773.389260949742,
           6182.716323117283,
           8364.627696259391,
           8349.690464552796,
           10022.13525174452,
           6342.614159059972,
           9070.46252646371,
           10468.852735411727,
           9481.638990483669,
           9136.465807667808,
           11472.46233424844
          ]
         },
         "name": "",
         "parents": [
          "(none)",
          "affiliate",
          "organic",
          "referral",
          "organic",
          "referral",
          "referral",
          "referral",
          "referral",
          "cpm",
          "referral",
          "referral",
          "referral",
          "referral",
          "referral",
          "(not set)",
          "cpc",
          "cpm",
          "organic",
          "referral",
          "referral",
          "referral",
          "referral",
          "referral",
          "referral",
          "referral",
          "referral",
          "referral",
          "referral",
          "referral",
          "referral",
          "referral",
          "referral",
          "referral",
          "referral",
          "referral",
          "referral",
          "referral",
          "referral",
          "referral",
          "referral",
          "referral",
          "referral",
          "referral",
          "referral",
          "organic",
          "referral",
          "",
          "",
          "",
          "",
          "",
          "",
          ""
         ],
         "type": "sunburst",
         "values": [
          3088205.616083567,
          78243.34105462217,
          27182.632110257022,
          12631.92903947238,
          173329.25416187418,
          11246.147794635748,
          8634.483140905171,
          21852.70424550074,
          271417.69329960557,
          874063.75375449,
          6449.212716355096,
          9274.074484675924,
          197127.38207801097,
          6182.716323117283,
          126186.04219810489,
          6342.614159059972,
          2153345.9332828056,
          102654.41067520592,
          3244029.7757033696,
          47489.65727497845,
          44291.70055612467,
          125470.05522160596,
          11139.54923734062,
          178339.38635474507,
          5969.519208527032,
          92740.74484675925,
          9060.877370085673,
          574965.9684105836,
          3123255.1512474916,
          30273.990271815663,
          5916.219929879469,
          6822.307666888037,
          50954.11038707002,
          13111.622547300445,
          22030.368507659285,
          6769.008388240473,
          6769.008388240473,
          7728.395403896603,
          9487.271599266176,
          5010.132192870902,
          82453.98406777962,
          308016.5313042653,
          40800.59780470931,
          17322.265560457905,
          6182.716323117283,
          162589.44951439026,
          87570.71481794566,
          3088205.616083567,
          6342.614159059972,
          78243.34105462217,
          2153345.9332828056,
          976718.1644296959,
          3607131.111489891,
          5590944.240210028
         ]
        }
       ],
       "layout": {
        "coloraxis": {
         "colorbar": {
          "title": {
           "text": "visits_efficiency"
          }
         },
         "colorscale": [
          [
           0,
           "rgb(247,251,255)"
          ],
          [
           0.125,
           "rgb(222,235,247)"
          ],
          [
           0.25,
           "rgb(198,219,239)"
          ],
          [
           0.375,
           "rgb(158,202,225)"
          ],
          [
           0.5,
           "rgb(107,174,214)"
          ],
          [
           0.625,
           "rgb(66,146,198)"
          ],
          [
           0.75,
           "rgb(33,113,181)"
          ],
          [
           0.875,
           "rgb(8,81,156)"
          ],
          [
           1,
           "rgb(8,48,107)"
          ]
         ]
        },
        "height": 800,
        "legend": {
         "title": {
          "text": "Source"
         },
         "tracegroupgap": 0
        },
        "margin": {
         "t": 60
        },
        "template": {
         "data": {
          "bar": [
           {
            "error_x": {
             "color": "#2a3f5f"
            },
            "error_y": {
             "color": "#2a3f5f"
            },
            "marker": {
             "line": {
              "color": "#E5ECF6",
              "width": 0.5
             },
             "pattern": {
              "fillmode": "overlay",
              "size": 10,
              "solidity": 0.2
             }
            },
            "type": "bar"
           }
          ],
          "barpolar": [
           {
            "marker": {
             "line": {
              "color": "#E5ECF6",
              "width": 0.5
             },
             "pattern": {
              "fillmode": "overlay",
              "size": 10,
              "solidity": 0.2
             }
            },
            "type": "barpolar"
           }
          ],
          "carpet": [
           {
            "aaxis": {
             "endlinecolor": "#2a3f5f",
             "gridcolor": "white",
             "linecolor": "white",
             "minorgridcolor": "white",
             "startlinecolor": "#2a3f5f"
            },
            "baxis": {
             "endlinecolor": "#2a3f5f",
             "gridcolor": "white",
             "linecolor": "white",
             "minorgridcolor": "white",
             "startlinecolor": "#2a3f5f"
            },
            "type": "carpet"
           }
          ],
          "choropleth": [
           {
            "colorbar": {
             "outlinewidth": 0,
             "ticks": ""
            },
            "type": "choropleth"
           }
          ],
          "contour": [
           {
            "colorbar": {
             "outlinewidth": 0,
             "ticks": ""
            },
            "colorscale": [
             [
              0,
              "#0d0887"
             ],
             [
              0.1111111111111111,
              "#46039f"
             ],
             [
              0.2222222222222222,
              "#7201a8"
             ],
             [
              0.3333333333333333,
              "#9c179e"
             ],
             [
              0.4444444444444444,
              "#bd3786"
             ],
             [
              0.5555555555555556,
              "#d8576b"
             ],
             [
              0.6666666666666666,
              "#ed7953"
             ],
             [
              0.7777777777777778,
              "#fb9f3a"
             ],
             [
              0.8888888888888888,
              "#fdca26"
             ],
             [
              1,
              "#f0f921"
             ]
            ],
            "type": "contour"
           }
          ],
          "contourcarpet": [
           {
            "colorbar": {
             "outlinewidth": 0,
             "ticks": ""
            },
            "type": "contourcarpet"
           }
          ],
          "heatmap": [
           {
            "colorbar": {
             "outlinewidth": 0,
             "ticks": ""
            },
            "colorscale": [
             [
              0,
              "#0d0887"
             ],
             [
              0.1111111111111111,
              "#46039f"
             ],
             [
              0.2222222222222222,
              "#7201a8"
             ],
             [
              0.3333333333333333,
              "#9c179e"
             ],
             [
              0.4444444444444444,
              "#bd3786"
             ],
             [
              0.5555555555555556,
              "#d8576b"
             ],
             [
              0.6666666666666666,
              "#ed7953"
             ],
             [
              0.7777777777777778,
              "#fb9f3a"
             ],
             [
              0.8888888888888888,
              "#fdca26"
             ],
             [
              1,
              "#f0f921"
             ]
            ],
            "type": "heatmap"
           }
          ],
          "heatmapgl": [
           {
            "colorbar": {
             "outlinewidth": 0,
             "ticks": ""
            },
            "colorscale": [
             [
              0,
              "#0d0887"
             ],
             [
              0.1111111111111111,
              "#46039f"
             ],
             [
              0.2222222222222222,
              "#7201a8"
             ],
             [
              0.3333333333333333,
              "#9c179e"
             ],
             [
              0.4444444444444444,
              "#bd3786"
             ],
             [
              0.5555555555555556,
              "#d8576b"
             ],
             [
              0.6666666666666666,
              "#ed7953"
             ],
             [
              0.7777777777777778,
              "#fb9f3a"
             ],
             [
              0.8888888888888888,
              "#fdca26"
             ],
             [
              1,
              "#f0f921"
             ]
            ],
            "type": "heatmapgl"
           }
          ],
          "histogram": [
           {
            "marker": {
             "pattern": {
              "fillmode": "overlay",
              "size": 10,
              "solidity": 0.2
             }
            },
            "type": "histogram"
           }
          ],
          "histogram2d": [
           {
            "colorbar": {
             "outlinewidth": 0,
             "ticks": ""
            },
            "colorscale": [
             [
              0,
              "#0d0887"
             ],
             [
              0.1111111111111111,
              "#46039f"
             ],
             [
              0.2222222222222222,
              "#7201a8"
             ],
             [
              0.3333333333333333,
              "#9c179e"
             ],
             [
              0.4444444444444444,
              "#bd3786"
             ],
             [
              0.5555555555555556,
              "#d8576b"
             ],
             [
              0.6666666666666666,
              "#ed7953"
             ],
             [
              0.7777777777777778,
              "#fb9f3a"
             ],
             [
              0.8888888888888888,
              "#fdca26"
             ],
             [
              1,
              "#f0f921"
             ]
            ],
            "type": "histogram2d"
           }
          ],
          "histogram2dcontour": [
           {
            "colorbar": {
             "outlinewidth": 0,
             "ticks": ""
            },
            "colorscale": [
             [
              0,
              "#0d0887"
             ],
             [
              0.1111111111111111,
              "#46039f"
             ],
             [
              0.2222222222222222,
              "#7201a8"
             ],
             [
              0.3333333333333333,
              "#9c179e"
             ],
             [
              0.4444444444444444,
              "#bd3786"
             ],
             [
              0.5555555555555556,
              "#d8576b"
             ],
             [
              0.6666666666666666,
              "#ed7953"
             ],
             [
              0.7777777777777778,
              "#fb9f3a"
             ],
             [
              0.8888888888888888,
              "#fdca26"
             ],
             [
              1,
              "#f0f921"
             ]
            ],
            "type": "histogram2dcontour"
           }
          ],
          "mesh3d": [
           {
            "colorbar": {
             "outlinewidth": 0,
             "ticks": ""
            },
            "type": "mesh3d"
           }
          ],
          "parcoords": [
           {
            "line": {
             "colorbar": {
              "outlinewidth": 0,
              "ticks": ""
             }
            },
            "type": "parcoords"
           }
          ],
          "pie": [
           {
            "automargin": true,
            "type": "pie"
           }
          ],
          "scatter": [
           {
            "fillpattern": {
             "fillmode": "overlay",
             "size": 10,
             "solidity": 0.2
            },
            "type": "scatter"
           }
          ],
          "scatter3d": [
           {
            "line": {
             "colorbar": {
              "outlinewidth": 0,
              "ticks": ""
             }
            },
            "marker": {
             "colorbar": {
              "outlinewidth": 0,
              "ticks": ""
             }
            },
            "type": "scatter3d"
           }
          ],
          "scattercarpet": [
           {
            "marker": {
             "colorbar": {
              "outlinewidth": 0,
              "ticks": ""
             }
            },
            "type": "scattercarpet"
           }
          ],
          "scattergeo": [
           {
            "marker": {
             "colorbar": {
              "outlinewidth": 0,
              "ticks": ""
             }
            },
            "type": "scattergeo"
           }
          ],
          "scattergl": [
           {
            "marker": {
             "colorbar": {
              "outlinewidth": 0,
              "ticks": ""
             }
            },
            "type": "scattergl"
           }
          ],
          "scattermapbox": [
           {
            "marker": {
             "colorbar": {
              "outlinewidth": 0,
              "ticks": ""
             }
            },
            "type": "scattermapbox"
           }
          ],
          "scatterpolar": [
           {
            "marker": {
             "colorbar": {
              "outlinewidth": 0,
              "ticks": ""
             }
            },
            "type": "scatterpolar"
           }
          ],
          "scatterpolargl": [
           {
            "marker": {
             "colorbar": {
              "outlinewidth": 0,
              "ticks": ""
             }
            },
            "type": "scatterpolargl"
           }
          ],
          "scatterternary": [
           {
            "marker": {
             "colorbar": {
              "outlinewidth": 0,
              "ticks": ""
             }
            },
            "type": "scatterternary"
           }
          ],
          "surface": [
           {
            "colorbar": {
             "outlinewidth": 0,
             "ticks": ""
            },
            "colorscale": [
             [
              0,
              "#0d0887"
             ],
             [
              0.1111111111111111,
              "#46039f"
             ],
             [
              0.2222222222222222,
              "#7201a8"
             ],
             [
              0.3333333333333333,
              "#9c179e"
             ],
             [
              0.4444444444444444,
              "#bd3786"
             ],
             [
              0.5555555555555556,
              "#d8576b"
             ],
             [
              0.6666666666666666,
              "#ed7953"
             ],
             [
              0.7777777777777778,
              "#fb9f3a"
             ],
             [
              0.8888888888888888,
              "#fdca26"
             ],
             [
              1,
              "#f0f921"
             ]
            ],
            "type": "surface"
           }
          ],
          "table": [
           {
            "cells": {
             "fill": {
              "color": "#EBF0F8"
             },
             "line": {
              "color": "white"
             }
            },
            "header": {
             "fill": {
              "color": "#C8D4E3"
             },
             "line": {
              "color": "white"
             }
            },
            "type": "table"
           }
          ]
         },
         "layout": {
          "annotationdefaults": {
           "arrowcolor": "#2a3f5f",
           "arrowhead": 0,
           "arrowwidth": 1
          },
          "autotypenumbers": "strict",
          "coloraxis": {
           "colorbar": {
            "outlinewidth": 0,
            "ticks": ""
           }
          },
          "colorscale": {
           "diverging": [
            [
             0,
             "#8e0152"
            ],
            [
             0.1,
             "#c51b7d"
            ],
            [
             0.2,
             "#de77ae"
            ],
            [
             0.3,
             "#f1b6da"
            ],
            [
             0.4,
             "#fde0ef"
            ],
            [
             0.5,
             "#f7f7f7"
            ],
            [
             0.6,
             "#e6f5d0"
            ],
            [
             0.7,
             "#b8e186"
            ],
            [
             0.8,
             "#7fbc41"
            ],
            [
             0.9,
             "#4d9221"
            ],
            [
             1,
             "#276419"
            ]
           ],
           "sequential": [
            [
             0,
             "#0d0887"
            ],
            [
             0.1111111111111111,
             "#46039f"
            ],
            [
             0.2222222222222222,
             "#7201a8"
            ],
            [
             0.3333333333333333,
             "#9c179e"
            ],
            [
             0.4444444444444444,
             "#bd3786"
            ],
            [
             0.5555555555555556,
             "#d8576b"
            ],
            [
             0.6666666666666666,
             "#ed7953"
            ],
            [
             0.7777777777777778,
             "#fb9f3a"
            ],
            [
             0.8888888888888888,
             "#fdca26"
            ],
            [
             1,
             "#f0f921"
            ]
           ],
           "sequentialminus": [
            [
             0,
             "#0d0887"
            ],
            [
             0.1111111111111111,
             "#46039f"
            ],
            [
             0.2222222222222222,
             "#7201a8"
            ],
            [
             0.3333333333333333,
             "#9c179e"
            ],
            [
             0.4444444444444444,
             "#bd3786"
            ],
            [
             0.5555555555555556,
             "#d8576b"
            ],
            [
             0.6666666666666666,
             "#ed7953"
            ],
            [
             0.7777777777777778,
             "#fb9f3a"
            ],
            [
             0.8888888888888888,
             "#fdca26"
            ],
            [
             1,
             "#f0f921"
            ]
           ]
          },
          "colorway": [
           "#636efa",
           "#EF553B",
           "#00cc96",
           "#ab63fa",
           "#FFA15A",
           "#19d3f3",
           "#FF6692",
           "#B6E880",
           "#FF97FF",
           "#FECB52"
          ],
          "font": {
           "color": "#2a3f5f"
          },
          "geo": {
           "bgcolor": "white",
           "lakecolor": "white",
           "landcolor": "#E5ECF6",
           "showlakes": true,
           "showland": true,
           "subunitcolor": "white"
          },
          "hoverlabel": {
           "align": "left"
          },
          "hovermode": "closest",
          "mapbox": {
           "style": "light"
          },
          "paper_bgcolor": "white",
          "plot_bgcolor": "#E5ECF6",
          "polar": {
           "angularaxis": {
            "gridcolor": "white",
            "linecolor": "white",
            "ticks": ""
           },
           "bgcolor": "#E5ECF6",
           "radialaxis": {
            "gridcolor": "white",
            "linecolor": "white",
            "ticks": ""
           }
          },
          "scene": {
           "xaxis": {
            "backgroundcolor": "#E5ECF6",
            "gridcolor": "white",
            "gridwidth": 2,
            "linecolor": "white",
            "showbackground": true,
            "ticks": "",
            "zerolinecolor": "white"
           },
           "yaxis": {
            "backgroundcolor": "#E5ECF6",
            "gridcolor": "white",
            "gridwidth": 2,
            "linecolor": "white",
            "showbackground": true,
            "ticks": "",
            "zerolinecolor": "white"
           },
           "zaxis": {
            "backgroundcolor": "#E5ECF6",
            "gridcolor": "white",
            "gridwidth": 2,
            "linecolor": "white",
            "showbackground": true,
            "ticks": "",
            "zerolinecolor": "white"
           }
          },
          "shapedefaults": {
           "line": {
            "color": "#2a3f5f"
           }
          },
          "ternary": {
           "aaxis": {
            "gridcolor": "white",
            "linecolor": "white",
            "ticks": ""
           },
           "baxis": {
            "gridcolor": "white",
            "linecolor": "white",
            "ticks": ""
           },
           "bgcolor": "#E5ECF6",
           "caxis": {
            "gridcolor": "white",
            "linecolor": "white",
            "ticks": ""
           }
          },
          "title": {
           "x": 0.05
          },
          "xaxis": {
           "automargin": true,
           "gridcolor": "white",
           "linecolor": "white",
           "ticks": "",
           "title": {
            "standoff": 15
           },
           "zerolinecolor": "white",
           "zerolinewidth": 2
          },
          "yaxis": {
           "automargin": true,
           "gridcolor": "white",
           "linecolor": "white",
           "ticks": "",
           "title": {
            "standoff": 15
           },
           "zerolinecolor": "white",
           "zerolinewidth": 2
          }
         }
        },
        "xaxis": {
         "tickangle": 45
        }
       }
      }
     },
     "metadata": {},
     "output_type": "display_data"
    }
   ],
   "source": [
    "fig = px.sunburst(\n",
    "    agg_df_sm,\n",
    "    path = ['medium','source'],\n",
    "    values = 'visits_efficiency',\n",
    "    color = 'visits_efficiency',\n",
    "    color_continuous_scale = 'Blues')\n",
    "fig.update_layout(\n",
    "    height = 800,\n",
    "    legend_title_text ='Source',\n",
    "    xaxis = dict(tickangle=45))\n",
    "fig.show()\n",
    "\n",
    "# Visits 측면에 있어, seroundtable은 비용효율이 가장 높고, facebook은 비용효율이 가장 낮음 "
   ]
  }
 ],
 "metadata": {
  "kernelspec": {
   "display_name": "base",
   "language": "python",
   "name": "python3"
  },
  "language_info": {
   "codemirror_mode": {
    "name": "ipython",
    "version": 3
   },
   "file_extension": ".py",
   "mimetype": "text/x-python",
   "name": "python",
   "nbconvert_exporter": "python",
   "pygments_lexer": "ipython3",
   "version": "3.12.3"
  }
 },
 "nbformat": 4,
 "nbformat_minor": 5
}
